{
 "cells": [
  {
   "cell_type": "markdown",
   "metadata": {
    "deletable": false,
    "editable": false
   },
   "source": [
    "# <img style=\"float: left; padding-right: 10px; width: 45px\" src=\"https://raw.githubusercontent.com/Harvard-IACS/2018-CS109A/master/content/styles/iacs.png\"> CS109B Data Science 2: Advanced Topics in Data Science \n",
    "## Homework 1 - Smoothers and Generalized Additive Models\n",
    "\n",
    "\n",
    "\n",
    "**Harvard University**<br/>\n",
    "**Spring 2021**<br/>\n",
    "**Instructors**: Mark Glickman, Pavlos Protopapas, and Chris Tanner \n",
    "\n",
    "\n",
    "<hr style=\"height:2pt\">"
   ]
  },
  {
   "cell_type": "code",
   "execution_count": 1,
   "metadata": {
    "deletable": false,
    "editable": false
   },
   "outputs": [
    {
     "data": {
      "text/html": [
       "<style>\n",
       "blockquote { background: #AEDE94; }\n",
       "h1 { \n",
       "    padding-top: 25px;\n",
       "    padding-bottom: 25px;\n",
       "    text-align: left; \n",
       "    padding-left: 10px;\n",
       "    background-color: #DDDDDD; \n",
       "    color: black;\n",
       "}\n",
       "h2 { \n",
       "    padding-top: 10px;\n",
       "    padding-bottom: 10px;\n",
       "    text-align: left; \n",
       "    padding-left: 5px;\n",
       "    background-color: #EEEEEE; \n",
       "    color: black;\n",
       "}\n",
       "\n",
       "div.exercise {\n",
       "\tbackground-color: #ffcccc;\n",
       "\tborder-color: #E9967A; \t\n",
       "\tborder-left: 5px solid #800080; \n",
       "\tpadding: 0.5em;\n",
       "}\n",
       "\n",
       "div.exercise-r {\n",
       "\tbackground-color: #fce8e8;\n",
       "\tborder-color: #E9967A; \t\n",
       "\tborder-left: 5px solid #800080; \n",
       "\tpadding: 0.5em;\n",
       "}\n",
       "\n",
       "\n",
       "span.sub-q {\n",
       "\tfont-weight: bold;\n",
       "}\n",
       "div.theme {\n",
       "\tbackground-color: #DDDDDD;\n",
       "\tborder-color: #E9967A; \t\n",
       "\tborder-left: 5px solid #800080; \n",
       "\tpadding: 0.5em;\n",
       "\tfont-size: 18pt;\n",
       "}\n",
       "div.gc { \n",
       "\tbackground-color: #AEDE94;\n",
       "\tborder-color: #E9967A; \t \n",
       "\tborder-left: 5px solid #800080; \n",
       "\tpadding: 0.5em;\n",
       "\tfont-size: 12pt;\n",
       "}\n",
       "p.q1 { \n",
       "    padding-top: 5px;\n",
       "    padding-bottom: 5px;\n",
       "    text-align: left; \n",
       "    padding-left: 5px;\n",
       "    background-color: #EEEEEE; \n",
       "    color: black;\n",
       "}\n",
       "header {\n",
       "   padding-top: 35px;\n",
       "    padding-bottom: 35px;\n",
       "    text-align: left; \n",
       "    padding-left: 10px;\n",
       "    background-color: #DDDDDD; \n",
       "    color: black;\n",
       "}\n",
       "</style>\n",
       "\n"
      ],
      "text/plain": [
       "<IPython.core.display.HTML object>"
      ]
     },
     "execution_count": 1,
     "metadata": {},
     "output_type": "execute_result"
    }
   ],
   "source": [
    "#PLEASE RUN THIS CELL \n",
    "import requests\n",
    "from IPython.core.display import HTML\n",
    "styles = requests.get(\"https://raw.githubusercontent.com/Harvard-IACS/2018-CS109A/master/content/styles/cs109.css\").text\n",
    "HTML(styles)"
   ]
  },
  {
   "cell_type": "markdown",
   "metadata": {
    "deletable": false,
    "editable": false
   },
   "source": [
    "### INSTRUCTIONS\n",
    "\n",
    "- To submit your assignment, please follow the instructions on Canvas.\n",
    "- Please restart the kernel and run the entire notebook again before you submit.\n",
    "\n",
    "<hr style=\"height:2pt\">"
   ]
  },
  {
   "cell_type": "markdown",
   "metadata": {
    "deletable": false,
    "editable": false
   },
   "source": [
    "### Please use the libraries below:"
   ]
  },
  {
   "cell_type": "code",
   "execution_count": 2,
   "metadata": {
    "deletable": false,
    "editable": false
   },
   "outputs": [],
   "source": [
    "import pandas as pd\n",
    "import numpy as np\n",
    "import datetime\n",
    "import matplotlib.pyplot as plt\n",
    "%matplotlib inline\n",
    "import statsmodels.formula.api as sm\n",
    "from sklearn.preprocessing import PolynomialFeatures\n",
    "from sklearn.metrics import r2_score\n",
    "from sklearn.model_selection import KFold\n",
    "from pygam import LinearGAM, s, f\n",
    "from sklearn.preprocessing import LabelEncoder\n",
    "\n",
    "# Seaborn visualization library\n",
    "import seaborn as sns"
   ]
  },
  {
   "cell_type": "code",
   "execution_count": 3,
   "metadata": {},
   "outputs": [],
   "source": [
    "from sklearn.linear_model import LinearRegression"
   ]
  },
  {
   "cell_type": "code",
   "execution_count": 4,
   "metadata": {},
   "outputs": [],
   "source": [
    "pd.options.mode.chained_assignment = None  # default='warn'"
   ]
  },
  {
   "cell_type": "markdown",
   "metadata": {
    "deletable": false,
    "editable": false
   },
   "source": [
    "\n",
    "<hr style=\"height:2pt\">"
   ]
  },
  {
   "cell_type": "markdown",
   "metadata": {
    "deletable": false,
    "editable": false
   },
   "source": [
    "<div class='exercise'><b> Question 1 [50 pts]: Modeling seasonality of Airbnb prices </b></div>\n",
    "\n",
    "In this problem, the task is to build a regression model to predict the price of an Airbnb rental for a given date. The data are provided in `calendar_train.csv` and `calendar_test.csv`, which contain availability and price data for a sample of Airbnb units in the Boston area from 2017 to 2018, about 4 observations per day in each set.\n",
    "\n",
    "**1.1** Start by loading the data using pandas.  \n",
    "*Hint*: You likely want to have pandas parse the `date` column as a datetime object via the `parse_dates` argument of `pd.read_csv`\n",
    "\n",
    "\n",
    "**1.2** Visualize the average price by month and day of the week (i.e., Monday, Tuesday, etc.) for the training set. Point out any trends you notice and explain whether or not they make sense.\n",
    "\n",
    "\n",
    "**1.3** Explore different regression models. Fit a regression model that uses the date as a predictor and predicts the price of an Airbnb rental on that date. In this section, you should ignore all other predictors besides the date. Fit the following models on the training set, and compare the $R^2$ of the fitted models on the test set. Include plots of the fitted models for each method. Make sure to fit your model on *all training set observations*. Do not average or otherwise combine the data before fitting.\n",
    "\n",
    "\n",
    "*Important*: Convert the `date` column into a numerical variable by taking the difference in days between each date and the earliest date in the column.\n",
    "\n",
    "* **1.3.1** Fit simple polynomial models of degree 2, 3, 5, and 8 via the `statsmodels` library to the training data. Provide train and test R^2 scores and provide plot(s) of a) the daily averages and b) each model's predictions.\n",
    "\n",
    "* **1.3.2** You should see that the degree 8 polynomial's predictions are awful- either nonsensically near zero [or far too large] at many input values. This isn't just simple overfitting. What is going wrong in this model, and how might it be addressed?\n",
    "\n",
    "* **1.3.3** Fit a penalized B-spline using `pygam` with the smoothness parameter chosen by cross-validation on the training set.  Again, provide the train and test scores of the best-performing model and plot its predictions.\n",
    "\n",
    "* **1.3.4** Of the models, which performs the best? What is the effect of the tuning parameters (degree and smoothness penalty)?\n",
    "\n",
    "\n",
    "**1.4** It is possible/likely that prices on weekends (Friday nights and Saturday nights) are systematically higher than prices on weekdays, and that including this aspect of the data-generating process in our model will produce a better fit. Create a binary indicator of weekend versus non-weekend, and include it in your additive model based on `pygam`.  How does it impact the model's performance?  \n",
    "\n",
    "*Hint*: include a categorical variable in a GAM by importing and using `pygam.f` in the same way you've used `pygam.s` for continuous variables.\n",
    "\n",
    "\n",
    "**1.5** You may have noticed from your scatterplots of average price versus day on the training set that there are a few days with abnormally high average prices. Sort the training data in decreasing order of average price, extracting the 10 most expensive dates. Why are the prices on these days so high? Is it something about the days themselves, noise, an artifact of data collection, or something else?\n"
   ]
  },
  {
   "cell_type": "markdown",
   "metadata": {
    "autograde": "1.1",
    "deletable": false,
    "editable": false
   },
   "source": [
    "**1.1** Start by loading the data using pandas.\n",
    "*Hint*: You likely want to have pandas parse the `date` column as a datetime object via the `parse_dates` argument of `pd.read_csv`\n",
    "\n"
   ]
  },
  {
   "cell_type": "code",
   "execution_count": 5,
   "metadata": {
    "deletable": false
   },
   "outputs": [],
   "source": [
    "# your code here\n",
    "training_data = pd.read_csv('data/calendar_train.csv', parse_dates= [1])\n",
    "testing_data = pd.read_csv('data/calendar_test.csv', parse_dates=[1])"
   ]
  },
  {
   "cell_type": "code",
   "execution_count": 6,
   "metadata": {},
   "outputs": [
    {
     "data": {
      "text/html": [
       "<div>\n",
       "<style scoped>\n",
       "    .dataframe tbody tr th:only-of-type {\n",
       "        vertical-align: middle;\n",
       "    }\n",
       "\n",
       "    .dataframe tbody tr th {\n",
       "        vertical-align: top;\n",
       "    }\n",
       "\n",
       "    .dataframe thead th {\n",
       "        text-align: right;\n",
       "    }\n",
       "</style>\n",
       "<table border=\"1\" class=\"dataframe\">\n",
       "  <thead>\n",
       "    <tr style=\"text-align: right;\">\n",
       "      <th></th>\n",
       "      <th>listing_id</th>\n",
       "      <th>date</th>\n",
       "      <th>available</th>\n",
       "      <th>price</th>\n",
       "    </tr>\n",
       "  </thead>\n",
       "  <tbody>\n",
       "    <tr>\n",
       "      <th>0</th>\n",
       "      <td>20872145</td>\n",
       "      <td>2018-09-21</td>\n",
       "      <td>f</td>\n",
       "      <td>NaN</td>\n",
       "    </tr>\n",
       "    <tr>\n",
       "      <th>1</th>\n",
       "      <td>20872145</td>\n",
       "      <td>2018-09-19</td>\n",
       "      <td>f</td>\n",
       "      <td>NaN</td>\n",
       "    </tr>\n",
       "    <tr>\n",
       "      <th>2</th>\n",
       "      <td>20872145</td>\n",
       "      <td>2018-09-18</td>\n",
       "      <td>f</td>\n",
       "      <td>NaN</td>\n",
       "    </tr>\n",
       "    <tr>\n",
       "      <th>3</th>\n",
       "      <td>20872145</td>\n",
       "      <td>2018-09-17</td>\n",
       "      <td>f</td>\n",
       "      <td>NaN</td>\n",
       "    </tr>\n",
       "    <tr>\n",
       "      <th>4</th>\n",
       "      <td>20872145</td>\n",
       "      <td>2018-09-16</td>\n",
       "      <td>f</td>\n",
       "      <td>NaN</td>\n",
       "    </tr>\n",
       "  </tbody>\n",
       "</table>\n",
       "</div>"
      ],
      "text/plain": [
       "   listing_id       date available  price\n",
       "0    20872145 2018-09-21         f    NaN\n",
       "1    20872145 2018-09-19         f    NaN\n",
       "2    20872145 2018-09-18         f    NaN\n",
       "3    20872145 2018-09-17         f    NaN\n",
       "4    20872145 2018-09-16         f    NaN"
      ]
     },
     "execution_count": 6,
     "metadata": {},
     "output_type": "execute_result"
    }
   ],
   "source": [
    "training_data.head()"
   ]
  },
  {
   "cell_type": "code",
   "execution_count": 7,
   "metadata": {},
   "outputs": [
    {
     "data": {
      "text/plain": [
       "0.57862842522442"
      ]
     },
     "execution_count": 7,
     "metadata": {},
     "output_type": "execute_result"
    }
   ],
   "source": [
    "training_data['price'].isna().mean()"
   ]
  },
  {
   "cell_type": "code",
   "execution_count": 8,
   "metadata": {},
   "outputs": [
    {
     "data": {
      "text/plain": [
       "0.5768854189184034"
      ]
     },
     "execution_count": 8,
     "metadata": {},
     "output_type": "execute_result"
    }
   ],
   "source": [
    "testing_data['price'].isna().mean()"
   ]
  },
  {
   "cell_type": "markdown",
   "metadata": {},
   "source": [
    "Therefore, we can see that both for training and testing, a lot of the data for price is missing (which is our target variable). For now, let's drop them into separate training and testing frames."
   ]
  },
  {
   "cell_type": "code",
   "execution_count": 9,
   "metadata": {},
   "outputs": [],
   "source": [
    "training_data_complete = training_data.dropna()\n",
    "testing_data_complete = testing_data.dropna()"
   ]
  },
  {
   "cell_type": "markdown",
   "metadata": {
    "autograde": "1.2",
    "deletable": false,
    "editable": false
   },
   "source": [
    "**1.2** Visualize the average price by month and day of the week (i.e., Monday, Tuesday, etc.) for the training set. Point out any trends you notice and explain whether or not they make sense.\n",
    "\n"
   ]
  },
  {
   "cell_type": "code",
   "execution_count": 10,
   "metadata": {
    "deletable": false
   },
   "outputs": [],
   "source": [
    "# your code here\n",
    "training_data_complete['month'] = training_data_complete['date'].apply(lambda x: pd.Timestamp.month_name(x))\n",
    "testing_data_complete['month'] = testing_data_complete['date'].apply(lambda x: pd.Timestamp.month_name(x))\n",
    "training_data_complete['day_of_week'] = training_data_complete['date'].apply(lambda x: pd.Timestamp.day_name(x))\n",
    "testing_data_complete['day_of_week'] = testing_data_complete['date'].apply(lambda x: pd.Timestamp.day_name(x))"
   ]
  },
  {
   "cell_type": "code",
   "execution_count": 11,
   "metadata": {},
   "outputs": [
    {
     "data": {
      "text/html": [
       "<div>\n",
       "<style scoped>\n",
       "    .dataframe tbody tr th:only-of-type {\n",
       "        vertical-align: middle;\n",
       "    }\n",
       "\n",
       "    .dataframe tbody tr th {\n",
       "        vertical-align: top;\n",
       "    }\n",
       "\n",
       "    .dataframe thead th {\n",
       "        text-align: right;\n",
       "    }\n",
       "</style>\n",
       "<table border=\"1\" class=\"dataframe\">\n",
       "  <thead>\n",
       "    <tr style=\"text-align: right;\">\n",
       "      <th></th>\n",
       "      <th>listing_id</th>\n",
       "      <th>date</th>\n",
       "      <th>available</th>\n",
       "      <th>price</th>\n",
       "      <th>month</th>\n",
       "      <th>day_of_week</th>\n",
       "    </tr>\n",
       "  </thead>\n",
       "  <tbody>\n",
       "    <tr>\n",
       "      <th>123</th>\n",
       "      <td>20872145</td>\n",
       "      <td>2018-04-02</td>\n",
       "      <td>t</td>\n",
       "      <td>62.0</td>\n",
       "      <td>April</td>\n",
       "      <td>Monday</td>\n",
       "    </tr>\n",
       "    <tr>\n",
       "      <th>124</th>\n",
       "      <td>20872145</td>\n",
       "      <td>2018-04-01</td>\n",
       "      <td>t</td>\n",
       "      <td>59.0</td>\n",
       "      <td>April</td>\n",
       "      <td>Sunday</td>\n",
       "    </tr>\n",
       "    <tr>\n",
       "      <th>125</th>\n",
       "      <td>20872145</td>\n",
       "      <td>2018-03-31</td>\n",
       "      <td>t</td>\n",
       "      <td>75.0</td>\n",
       "      <td>March</td>\n",
       "      <td>Saturday</td>\n",
       "    </tr>\n",
       "    <tr>\n",
       "      <th>126</th>\n",
       "      <td>20872145</td>\n",
       "      <td>2018-03-30</td>\n",
       "      <td>t</td>\n",
       "      <td>71.0</td>\n",
       "      <td>March</td>\n",
       "      <td>Friday</td>\n",
       "    </tr>\n",
       "    <tr>\n",
       "      <th>127</th>\n",
       "      <td>20872145</td>\n",
       "      <td>2018-03-28</td>\n",
       "      <td>t</td>\n",
       "      <td>51.0</td>\n",
       "      <td>March</td>\n",
       "      <td>Wednesday</td>\n",
       "    </tr>\n",
       "  </tbody>\n",
       "</table>\n",
       "</div>"
      ],
      "text/plain": [
       "     listing_id       date available  price  month day_of_week\n",
       "123    20872145 2018-04-02         t   62.0  April      Monday\n",
       "124    20872145 2018-04-01         t   59.0  April      Sunday\n",
       "125    20872145 2018-03-31         t   75.0  March    Saturday\n",
       "126    20872145 2018-03-30         t   71.0  March      Friday\n",
       "127    20872145 2018-03-28         t   51.0  March   Wednesday"
      ]
     },
     "execution_count": 11,
     "metadata": {},
     "output_type": "execute_result"
    }
   ],
   "source": [
    "training_data_complete.head()"
   ]
  },
  {
   "cell_type": "code",
   "execution_count": 12,
   "metadata": {},
   "outputs": [],
   "source": [
    "monthly_data = training_data_complete.groupby(by='month').mean()['price']\n",
    "daily_data = training_data_complete.groupby(by='day_of_week').mean()['price']"
   ]
  },
  {
   "cell_type": "code",
   "execution_count": 13,
   "metadata": {},
   "outputs": [
    {
     "data": {
      "image/png": "[encoded data removed]",
      "text/plain": [
       "<Figure size 1440x720 with 1 Axes>"
      ]
     },
     "metadata": {
      "needs_background": "light"
     },
     "output_type": "display_data"
    }
   ],
   "source": [
    "fig, ax = plt.subplots(1, figsize = (20, 10))\n",
    "sns.barplot(x=monthly_data.index, y=monthly_data.values, ax=ax, palette='coolwarm')\n",
    "plt.title('Average Price of Air BnBs, per month')\n",
    "plt.show(fig)"
   ]
  },
  {
   "cell_type": "markdown",
   "metadata": {},
   "source": [
    "Regarding the monthly trends, I was expecting hot weather months to be more expensive than cold weather months. This is being corroborated by this bar plot, where we can see significant difference in prices for months November - March (cold weather) and April - October (hot weather)."
   ]
  },
  {
   "cell_type": "code",
   "execution_count": 14,
   "metadata": {},
   "outputs": [
    {
     "data": {
      "image/png": "[encoded data removed]",
      "text/plain": [
       "<Figure size 1440x720 with 1 Axes>"
      ]
     },
     "metadata": {
      "needs_background": "light"
     },
     "output_type": "display_data"
    }
   ],
   "source": [
    "fig, ax = plt.subplots(1, figsize=(20, 10))\n",
    "sns.barplot(x=daily_data.index, y=daily_data.values, ax=ax, palette='coolwarm')\n",
    "plt.title('Average Price of Air BnBs, per day')\n",
    "plt.show(fig)"
   ]
  },
  {
   "cell_type": "markdown",
   "metadata": {
    "deletable": false
   },
   "source": [
    "Regarding the daily trends, I was expecting the week-end to be more expensive. \n",
    "\n",
    "From the barplot above, we can see that renting the Friday night and Saturday night are slightly more expensive than the rest of the week, but not significantly. We might want to explore statistical testing models in order to confirm this trend."
   ]
  },
  {
   "cell_type": "markdown",
   "metadata": {
    "autograde": "1.3",
    "deletable": false,
    "editable": false
   },
   "source": [
    "**1.3** Explore different regression models. Fit a regression model that uses the date as a predictor and predicts the price of an Airbnb rental on that date. In this section, you should ignore all other predictors besides the date. Fit the following models on the training set, and compare the $R^2$ of the fitted models on the test set. Include plots of the fitted models for each method. Make sure to fit your model on *all training set observations*. Do not average or otherwise combine the data before fitting.\n",
    "\n",
    "\n",
    "*Important*: Convert the `date` column into a numerical variable by taking the difference in days between each date and the earliest date in the column.\n",
    "\n",
    "**1.3.1** Fit simple polynomial models of degree 2, 3, 5, and 8 via the `statsmodels` library to the training data. Provide train and test R^2 scores and provide plot(s) of a) the daily averages and b) each model's predictions.\n",
    "\n"
   ]
  },
  {
   "cell_type": "code",
   "execution_count": 15,
   "metadata": {
    "deletable": false
   },
   "outputs": [],
   "source": [
    "# your code here\n",
    "predictor_date_train = training_data_complete['date'] - training_data_complete['date'].min()\n",
    "predictor_date_train = predictor_date_train.apply(lambda x: x.days).values\n",
    "training_data_complete['predictor_date'] = predictor_date_train\n",
    "predictor_date_test = testing_data_complete['date'] - testing_data_complete['date'].min()\n",
    "predictor_date_test = predictor_date_test.apply(lambda x: x.days).values\n",
    "testing_data_complete['predictor_date'] = predictor_date_test"
   ]
  },
  {
   "cell_type": "code",
   "execution_count": 16,
   "metadata": {},
   "outputs": [
    {
     "data": {
      "text/html": [
       "<div>\n",
       "<style scoped>\n",
       "    .dataframe tbody tr th:only-of-type {\n",
       "        vertical-align: middle;\n",
       "    }\n",
       "\n",
       "    .dataframe tbody tr th {\n",
       "        vertical-align: top;\n",
       "    }\n",
       "\n",
       "    .dataframe thead th {\n",
       "        text-align: right;\n",
       "    }\n",
       "</style>\n",
       "<table border=\"1\" class=\"dataframe\">\n",
       "  <thead>\n",
       "    <tr style=\"text-align: right;\">\n",
       "      <th></th>\n",
       "      <th>listing_id</th>\n",
       "      <th>date</th>\n",
       "      <th>available</th>\n",
       "      <th>price</th>\n",
       "      <th>month</th>\n",
       "      <th>day_of_week</th>\n",
       "      <th>predictor_date</th>\n",
       "    </tr>\n",
       "  </thead>\n",
       "  <tbody>\n",
       "    <tr>\n",
       "      <th>123</th>\n",
       "      <td>20872145</td>\n",
       "      <td>2018-04-02</td>\n",
       "      <td>t</td>\n",
       "      <td>62.0</td>\n",
       "      <td>April</td>\n",
       "      <td>Monday</td>\n",
       "      <td>178</td>\n",
       "    </tr>\n",
       "    <tr>\n",
       "      <th>124</th>\n",
       "      <td>20872145</td>\n",
       "      <td>2018-04-01</td>\n",
       "      <td>t</td>\n",
       "      <td>59.0</td>\n",
       "      <td>April</td>\n",
       "      <td>Sunday</td>\n",
       "      <td>177</td>\n",
       "    </tr>\n",
       "    <tr>\n",
       "      <th>125</th>\n",
       "      <td>20872145</td>\n",
       "      <td>2018-03-31</td>\n",
       "      <td>t</td>\n",
       "      <td>75.0</td>\n",
       "      <td>March</td>\n",
       "      <td>Saturday</td>\n",
       "      <td>176</td>\n",
       "    </tr>\n",
       "    <tr>\n",
       "      <th>126</th>\n",
       "      <td>20872145</td>\n",
       "      <td>2018-03-30</td>\n",
       "      <td>t</td>\n",
       "      <td>71.0</td>\n",
       "      <td>March</td>\n",
       "      <td>Friday</td>\n",
       "      <td>175</td>\n",
       "    </tr>\n",
       "    <tr>\n",
       "      <th>127</th>\n",
       "      <td>20872145</td>\n",
       "      <td>2018-03-28</td>\n",
       "      <td>t</td>\n",
       "      <td>51.0</td>\n",
       "      <td>March</td>\n",
       "      <td>Wednesday</td>\n",
       "      <td>173</td>\n",
       "    </tr>\n",
       "  </tbody>\n",
       "</table>\n",
       "</div>"
      ],
      "text/plain": [
       "     listing_id       date available  price  month day_of_week  predictor_date\n",
       "123    20872145 2018-04-02         t   62.0  April      Monday             178\n",
       "124    20872145 2018-04-01         t   59.0  April      Sunday             177\n",
       "125    20872145 2018-03-31         t   75.0  March    Saturday             176\n",
       "126    20872145 2018-03-30         t   71.0  March      Friday             175\n",
       "127    20872145 2018-03-28         t   51.0  March   Wednesday             173"
      ]
     },
     "execution_count": 16,
     "metadata": {},
     "output_type": "execute_result"
    }
   ],
   "source": [
    "training_data_complete.head(5)"
   ]
  },
  {
   "cell_type": "code",
   "execution_count": 17,
   "metadata": {},
   "outputs": [
    {
     "data": {
      "image/png": "[encoded data removed]",
      "text/plain": [
       "<Figure size 1440x720 with 1 Axes>"
      ]
     },
     "metadata": {
      "needs_background": "light"
     },
     "output_type": "display_data"
    }
   ],
   "source": [
    "fig, ax = plt.subplots(1, figsize = (20, 10))\n",
    "ax.scatter(training_data_complete['predictor_date'], training_data_complete['price'], label='Price of the rental of an AirBnB, training data', s=3, color='lightblue')\n",
    "ax.scatter(testing_data_complete['predictor_date'], testing_data_complete['price'], label='Price of the rental of an AirBnB, testing data', s=3, color='lightpink')\n",
    "plt.title('Price of renting an AirBnB depending on the date')\n",
    "ax.set_xlabel('Date')\n",
    "ax.set_ylabel('Renting Price for a night')\n",
    "ax.legend()\n",
    "plt.show(fig)"
   ]
  },
  {
   "cell_type": "markdown",
   "metadata": {},
   "source": [
    "Therefore, as we can see, the training and testing distributions are fairly similar: there should be no great issue with the generalization properties of our model. **However**, there is going to be an issue with fitting our training sample. Indeed, no obvious linear (or polynomial, or of any kind) relationship can be distinguished from the above scatterplot. Therefore, I expect difficulties when trying to predict prices *solely based on the numeric predictor we defined for date*. One more clever way to fit a model would indeed be to aggregate the training and testing data **per date**. Indeed, since the end-objective of our model is to predict the price of an AirBnB given a day, the training set should reflect this pattern.  "
   ]
  },
  {
   "cell_type": "markdown",
   "metadata": {},
   "source": [
    "#### Fitting different global polynomial regression models to the data, leveraging statsmodel"
   ]
  },
  {
   "cell_type": "code",
   "execution_count": 18,
   "metadata": {},
   "outputs": [],
   "source": [
    "formula_d2 = \"price ~ np.vander(predictor_date, 3, increasing=True)-1\" # degree 2\n",
    "fit2_lm = sm.ols(formula_d2, data = training_data_complete).fit()\n",
    "formula_d3 = \"price ~ np.vander(predictor_date, 4, increasing=True)-1\" # degree 3\n",
    "fit3_lm = sm.ols(formula_d3, data = training_data_complete).fit()\n",
    "formula_d5 = \"price ~ np.vander(predictor_date, 6, increasing=True)-1\" # degree 5\n",
    "fit5_lm = sm.ols(formula_d5, data = training_data_complete).fit()\n",
    "formula_d8 = \"price ~ np.vander(predictor_date, 9, increasing=True)-1\" # degree 8\n",
    "fit8_lm = sm.ols(formula_d8, data = training_data_complete).fit()"
   ]
  },
  {
   "cell_type": "markdown",
   "metadata": {},
   "source": [
    "#### Performances of our fit "
   ]
  },
  {
   "cell_type": "markdown",
   "metadata": {},
   "source": [
    "##### R2 on the training set"
   ]
  },
  {
   "cell_type": "code",
   "execution_count": 19,
   "metadata": {},
   "outputs": [],
   "source": [
    "training_feature = training_data_complete['predictor_date']\n",
    "training_labels = training_data_complete['price'].values\n",
    "poly_predictions_2 = fit2_lm.get_prediction(training_feature).summary_frame()['mean']\n",
    "poly_predictions_3 = fit3_lm.get_prediction(training_feature).summary_frame()['mean']\n",
    "poly_predictions_5 = fit5_lm.get_prediction(training_feature).summary_frame()['mean']\n",
    "poly_predictions_8 = fit8_lm.get_prediction(training_feature).summary_frame()['mean']\n",
    "training_predictions = [poly_predictions_2, poly_predictions_3, poly_predictions_5, poly_predictions_8]"
   ]
  },
  {
   "cell_type": "code",
   "execution_count": 20,
   "metadata": {},
   "outputs": [
    {
     "data": {
      "text/plain": [
       "[0.018, 0.039, 0.042, -0.17]"
      ]
     },
     "execution_count": 20,
     "metadata": {},
     "output_type": "execute_result"
    }
   ],
   "source": [
    "r2_train_score = [np.round(r2_score(training_labels, prediction), 3) for prediction in  training_predictions]\n",
    "r2_train_score"
   ]
  },
  {
   "cell_type": "markdown",
   "metadata": {},
   "source": [
    "As we predicted, we can see that we have a poor fit on the training set. Let visualize the functions that have been created by these fits. "
   ]
  },
  {
   "cell_type": "code",
   "execution_count": 21,
   "metadata": {},
   "outputs": [
    {
     "data": {
      "image/png": "[encoded data removed]",
      "text/plain": [
       "<Figure size 1440x720 with 1 Axes>"
      ]
     },
     "metadata": {
      "needs_background": "light"
     },
     "output_type": "display_data"
    }
   ],
   "source": [
    "days = np.arange(0, 366)\n",
    "predict_df = pd.DataFrame({'predictor_date': days})\n",
    "artificial_pred2 = fit2_lm.get_prediction(predict_df).summary_frame()['mean']\n",
    "artificial_pred3 = fit3_lm.get_prediction(predict_df).summary_frame()['mean']\n",
    "artificial_pred5 = fit5_lm.get_prediction(predict_df).summary_frame()['mean']\n",
    "artificial_pred8 = fit8_lm.get_prediction(predict_df).summary_frame()['mean']\n",
    "fig, ax = plt.subplots(1, figsize = (20, 10))\n",
    "ax.scatter(training_data_complete['predictor_date'], training_data_complete['price'], label='Price of the rental of an AirBnB, training data', s=3, color='lightblue')\n",
    "ax.scatter(testing_data_complete['predictor_date'], testing_data_complete['price'], label='Price of the rental of an AirBnB, testing data', s=3, color='lightpink')\n",
    "ax.plot(days, artificial_pred2, label='Predictions for degree 2 polynomial')\n",
    "ax.plot(days, artificial_pred3, label='Predictions for degree 3 polynomial')\n",
    "ax.plot(days, artificial_pred5, label='Predictions for degree 5 polynomial')\n",
    "ax.plot(days, artificial_pred8, label='Predictions for degree 8 polynomial')\n",
    "ax.set_ylim(0, 10000)\n",
    "plt.title('Price of renting an AirBnB depending on the date')\n",
    "ax.set_xlabel('Date')\n",
    "ax.set_ylabel('Renting Price for a night')\n",
    "ax.legend()\n",
    "plt.show(fig)"
   ]
  },
  {
   "cell_type": "markdown",
   "metadata": {},
   "source": [
    "This explains why we have such a poor fit: both degree 2 and 3 polynomials seem like they are only predicting the average price, whereas degree 5 and 8 polynomials have an unexpected behavior due to their large degrees. "
   ]
  },
  {
   "cell_type": "code",
   "execution_count": 22,
   "metadata": {},
   "outputs": [
    {
     "data": {
      "text/html": [
       "<div>\n",
       "<style scoped>\n",
       "    .dataframe tbody tr th:only-of-type {\n",
       "        vertical-align: middle;\n",
       "    }\n",
       "\n",
       "    .dataframe tbody tr th {\n",
       "        vertical-align: top;\n",
       "    }\n",
       "\n",
       "    .dataframe thead th {\n",
       "        text-align: right;\n",
       "    }\n",
       "</style>\n",
       "<table border=\"1\" class=\"dataframe\">\n",
       "  <thead>\n",
       "    <tr style=\"text-align: right;\">\n",
       "      <th></th>\n",
       "      <th>Degree 2</th>\n",
       "      <th>Degree 3</th>\n",
       "      <th>Degree 5</th>\n",
       "      <th>Degree 8</th>\n",
       "    </tr>\n",
       "  </thead>\n",
       "  <tbody>\n",
       "    <tr>\n",
       "      <th>$b_0$</th>\n",
       "      <td>206.093239</td>\n",
       "      <td>297.346254</td>\n",
       "      <td>3.180890e+02</td>\n",
       "      <td>6.821044e-09</td>\n",
       "    </tr>\n",
       "    <tr>\n",
       "      <th>$b_1$</th>\n",
       "      <td>0.079469</td>\n",
       "      <td>-2.543320</td>\n",
       "      <td>-3.059293e+00</td>\n",
       "      <td>7.850599e-07</td>\n",
       "    </tr>\n",
       "    <tr>\n",
       "      <th>$b_2$</th>\n",
       "      <td>0.000463</td>\n",
       "      <td>0.017967</td>\n",
       "      <td>1.546802e-02</td>\n",
       "      <td>2.781495e-05</td>\n",
       "    </tr>\n",
       "    <tr>\n",
       "      <th>$b_3$</th>\n",
       "      <td>0.000000</td>\n",
       "      <td>-0.000032</td>\n",
       "      <td>5.116189e-05</td>\n",
       "      <td>1.084522e-03</td>\n",
       "    </tr>\n",
       "    <tr>\n",
       "      <th>$b_4$</th>\n",
       "      <td>0.000000</td>\n",
       "      <td>0.000000</td>\n",
       "      <td>-4.095473e-07</td>\n",
       "      <td>-1.522053e-05</td>\n",
       "    </tr>\n",
       "    <tr>\n",
       "      <th>$b_5$</th>\n",
       "      <td>0.000000</td>\n",
       "      <td>0.000000</td>\n",
       "      <td>5.842773e-10</td>\n",
       "      <td>8.210779e-08</td>\n",
       "    </tr>\n",
       "    <tr>\n",
       "      <th>$b_6$</th>\n",
       "      <td>0.000000</td>\n",
       "      <td>0.000000</td>\n",
       "      <td>0.000000e+00</td>\n",
       "      <td>-1.972745e-10</td>\n",
       "    </tr>\n",
       "    <tr>\n",
       "      <th>$b_7$</th>\n",
       "      <td>0.000000</td>\n",
       "      <td>0.000000</td>\n",
       "      <td>0.000000e+00</td>\n",
       "      <td>1.764656e-13</td>\n",
       "    </tr>\n",
       "    <tr>\n",
       "      <th>$b_8$</th>\n",
       "      <td>0.000000</td>\n",
       "      <td>0.000000</td>\n",
       "      <td>0.000000e+00</td>\n",
       "      <td>1.620903e-18</td>\n",
       "    </tr>\n",
       "  </tbody>\n",
       "</table>\n",
       "</div>"
      ],
      "text/plain": [
       "         Degree 2    Degree 3      Degree 5      Degree 8\n",
       "$b_0$  206.093239  297.346254  3.180890e+02  6.821044e-09\n",
       "$b_1$    0.079469   -2.543320 -3.059293e+00  7.850599e-07\n",
       "$b_2$    0.000463    0.017967  1.546802e-02  2.781495e-05\n",
       "$b_3$    0.000000   -0.000032  5.116189e-05  1.084522e-03\n",
       "$b_4$    0.000000    0.000000 -4.095473e-07 -1.522053e-05\n",
       "$b_5$    0.000000    0.000000  5.842773e-10  8.210779e-08\n",
       "$b_6$    0.000000    0.000000  0.000000e+00 -1.972745e-10\n",
       "$b_7$    0.000000    0.000000  0.000000e+00  1.764656e-13\n",
       "$b_8$    0.000000    0.000000  0.000000e+00  1.620903e-18"
      ]
     },
     "execution_count": 22,
     "metadata": {},
     "output_type": "execute_result"
    }
   ],
   "source": [
    "df = pd.DataFrame({'Degree 2': np.append(fit2_lm.params.values, np.zeros(6)), 'Degree 3': np.append(fit3_lm.params.values, np.zeros(5)), 'Degree 5': np.append(fit5_lm.params.values, np.zeros(3)), 'Degree 8': fit8_lm.params.values}, index=['$b_0$', '$b_1$','$b_2$','$b_3$','$b_4$','$b_5$','$b_6$','$b_7$','$b_8$'])\n",
    "df"
   ]
  },
  {
   "cell_type": "markdown",
   "metadata": {},
   "source": [
    "Therefore, it is well corroborated that in the models, the significant terms are the low-degree terms. We can also see that the reason why the movement becomes uncontrollable for the degree 8 is that: $350^7*1.7*10^{-17} \\approx 113000$."
   ]
  },
  {
   "cell_type": "markdown",
   "metadata": {},
   "source": [
    "##### R2 on the testing set"
   ]
  },
  {
   "cell_type": "code",
   "execution_count": 23,
   "metadata": {},
   "outputs": [],
   "source": [
    "testing_feature = testing_data_complete['predictor_date']\n",
    "testing_labels = testing_data_complete['price']\n",
    "poly_predictions_2 = fit2_lm.get_prediction(testing_feature).summary_frame()['mean']\n",
    "poly_predictions_3 = fit3_lm.get_prediction(testing_feature).summary_frame()['mean']\n",
    "poly_predictions_5 = fit5_lm.get_prediction(testing_feature).summary_frame()['mean']\n",
    "poly_predictions_8 = fit8_lm.get_prediction(testing_feature).summary_frame()['mean']"
   ]
  },
  {
   "cell_type": "code",
   "execution_count": 24,
   "metadata": {},
   "outputs": [
    {
     "data": {
      "text/plain": [
       "[0.019, 0.039, 0.042, -0.158]"
      ]
     },
     "execution_count": 24,
     "metadata": {},
     "output_type": "execute_result"
    }
   ],
   "source": [
    "r2_test_score = [np.round(r2_score(testing_labels, prediction), 3) for prediction in  [poly_predictions_2, poly_predictions_3, poly_predictions_5, poly_predictions_8]]\n",
    "r2_test_score"
   ]
  },
  {
   "cell_type": "markdown",
   "metadata": {},
   "source": [
    "We can see that the same behavior occurs in the testing set: this was expected since both training and testing sets have the same distribution. "
   ]
  },
  {
   "cell_type": "markdown",
   "metadata": {
    "deletable": false
   },
   "source": [
    "Now that we have observed the behavior of our predictions against **all** of the training and testing data, let us see if our models capture well the **average** daily price in the training data (which I expect it should for low degrees, since **all** observations have the same weight in linear regression). "
   ]
  },
  {
   "cell_type": "code",
   "execution_count": 25,
   "metadata": {},
   "outputs": [
    {
     "data": {
      "text/html": [
       "<div>\n",
       "<style scoped>\n",
       "    .dataframe tbody tr th:only-of-type {\n",
       "        vertical-align: middle;\n",
       "    }\n",
       "\n",
       "    .dataframe tbody tr th {\n",
       "        vertical-align: top;\n",
       "    }\n",
       "\n",
       "    .dataframe thead th {\n",
       "        text-align: right;\n",
       "    }\n",
       "</style>\n",
       "<table border=\"1\" class=\"dataframe\">\n",
       "  <thead>\n",
       "    <tr style=\"text-align: right;\">\n",
       "      <th></th>\n",
       "      <th>listing_id</th>\n",
       "      <th>price</th>\n",
       "    </tr>\n",
       "    <tr>\n",
       "      <th>predictor_date</th>\n",
       "      <th></th>\n",
       "      <th></th>\n",
       "    </tr>\n",
       "  </thead>\n",
       "  <tbody>\n",
       "    <tr>\n",
       "      <th>0</th>\n",
       "      <td>1.322575e+07</td>\n",
       "      <td>370.173410</td>\n",
       "    </tr>\n",
       "    <tr>\n",
       "      <th>1</th>\n",
       "      <td>1.258238e+07</td>\n",
       "      <td>409.298701</td>\n",
       "    </tr>\n",
       "    <tr>\n",
       "      <th>2</th>\n",
       "      <td>1.217451e+07</td>\n",
       "      <td>299.128713</td>\n",
       "    </tr>\n",
       "    <tr>\n",
       "      <th>3</th>\n",
       "      <td>1.232258e+07</td>\n",
       "      <td>282.768908</td>\n",
       "    </tr>\n",
       "    <tr>\n",
       "      <th>4</th>\n",
       "      <td>1.227489e+07</td>\n",
       "      <td>275.933202</td>\n",
       "    </tr>\n",
       "    <tr>\n",
       "      <th>...</th>\n",
       "      <td>...</td>\n",
       "      <td>...</td>\n",
       "    </tr>\n",
       "    <tr>\n",
       "      <th>360</th>\n",
       "      <td>1.039771e+07</td>\n",
       "      <td>239.277273</td>\n",
       "    </tr>\n",
       "    <tr>\n",
       "      <th>361</th>\n",
       "      <td>1.060764e+07</td>\n",
       "      <td>231.923318</td>\n",
       "    </tr>\n",
       "    <tr>\n",
       "      <th>362</th>\n",
       "      <td>1.063275e+07</td>\n",
       "      <td>236.257967</td>\n",
       "    </tr>\n",
       "    <tr>\n",
       "      <th>363</th>\n",
       "      <td>1.037944e+07</td>\n",
       "      <td>236.434191</td>\n",
       "    </tr>\n",
       "    <tr>\n",
       "      <th>364</th>\n",
       "      <td>1.065616e+07</td>\n",
       "      <td>256.160229</td>\n",
       "    </tr>\n",
       "  </tbody>\n",
       "</table>\n",
       "<p>365 rows × 2 columns</p>\n",
       "</div>"
      ],
      "text/plain": [
       "                  listing_id       price\n",
       "predictor_date                          \n",
       "0               1.322575e+07  370.173410\n",
       "1               1.258238e+07  409.298701\n",
       "2               1.217451e+07  299.128713\n",
       "3               1.232258e+07  282.768908\n",
       "4               1.227489e+07  275.933202\n",
       "...                      ...         ...\n",
       "360             1.039771e+07  239.277273\n",
       "361             1.060764e+07  231.923318\n",
       "362             1.063275e+07  236.257967\n",
       "363             1.037944e+07  236.434191\n",
       "364             1.065616e+07  256.160229\n",
       "\n",
       "[365 rows x 2 columns]"
      ]
     },
     "execution_count": 25,
     "metadata": {},
     "output_type": "execute_result"
    }
   ],
   "source": [
    "training_data_complete.groupby('predictor_date').mean()"
   ]
  },
  {
   "cell_type": "code",
   "execution_count": 26,
   "metadata": {},
   "outputs": [
    {
     "data": {
      "image/png": "[encoded data removed]",
      "text/plain": [
       "<Figure size 1440x720 with 1 Axes>"
      ]
     },
     "metadata": {
      "needs_background": "light"
     },
     "output_type": "display_data"
    }
   ],
   "source": [
    "days = np.arange(0, 366)\n",
    "predict_df = pd.DataFrame({'predictor_date': days})\n",
    "artificial_pred2 = fit2_lm.get_prediction(predict_df).summary_frame()['mean']\n",
    "artificial_pred3 = fit3_lm.get_prediction(predict_df).summary_frame()['mean']\n",
    "artificial_pred5 = fit5_lm.get_prediction(predict_df).summary_frame()['mean']\n",
    "artificial_pred8 = fit8_lm.get_prediction(predict_df).summary_frame()['mean']\n",
    "aggregated_data = training_data_complete.groupby('predictor_date').mean()\n",
    "fig, ax = plt.subplots(1, figsize = (20, 10))\n",
    "ax.scatter(aggregated_data.index.values, aggregated_data['price'].values, label='Mean price of the rental of an AirBnB, training data', s=3, color='lightblue')\n",
    "ax.plot(days, artificial_pred2, label='Predictions for degree 2 polynomial')\n",
    "ax.plot(days, artificial_pred3, label='Predictions for degree 3 polynomial')\n",
    "ax.plot(days, artificial_pred5, label='Predictions for degree 5 polynomial')\n",
    "ax.plot(days, artificial_pred8, label='Predictions for degree 8 polynomial')\n",
    "ax.set_ylim(0, 750)\n",
    "plt.title('Mean Price of renting an AirBnB depending on the date')\n",
    "ax.set_xlabel('Date')\n",
    "ax.set_ylabel('Renting Price for a night')\n",
    "ax.legend()\n",
    "plt.show(fig)"
   ]
  },
  {
   "cell_type": "markdown",
   "metadata": {},
   "source": [
    "We can see that the fit of our models of degree 2 and 3 are way better when comparing to the mean price per day, as expected. However, the high degree polynomials keep on behaving in an anarchic way, which was also expected."
   ]
  },
  {
   "cell_type": "markdown",
   "metadata": {
    "autograde": "1.3",
    "deletable": false,
    "editable": false
   },
   "source": [
    "**1.3.2** You should see that the degree 8 polynomial's predictions are awful- either nonsensically near zero [or far too large] at many input values. This isn't just simple overfitting. What is going wrong in this model, and how might it be addressed?\n"
   ]
  },
  {
   "cell_type": "code",
   "execution_count": 27,
   "metadata": {},
   "outputs": [
    {
     "data": {
      "text/plain": [
       "1.974424125230613e+19"
      ]
     },
     "execution_count": 27,
     "metadata": {},
     "output_type": "execute_result"
    }
   ],
   "source": [
    "np.linalg.cond(np.vander(training_data_complete['predictor_date'], 9, increasing=True))"
   ]
  },
  {
   "cell_type": "code",
   "execution_count": 28,
   "metadata": {},
   "outputs": [
    {
     "data": {
      "text/plain": [
       "4"
      ]
     },
     "execution_count": 28,
     "metadata": {},
     "output_type": "execute_result"
    }
   ],
   "source": [
    "np.linalg.matrix_rank(np.vander(training_data_complete['predictor_date'], 9, increasing=True))"
   ]
  },
  {
   "cell_type": "markdown",
   "metadata": {
    "deletable": false
   },
   "source": [
    "Several things are going wrong with this model:\n",
    "- Runge's phemonenon: ill-conditioning of the Vandermonde matrix of degree 8. This leads to numerical instability: the coefficients are very sensitive to small variations in the data (this is directly related to the conditioning number of the Vandermonde matrix). We can see here that the conditioning number of the Vandermonde matrix is $O(10^{19})$.\n",
    "- The coefficients of the model for high degrees are not completely zero. This leads to the fact that we are going to have very large variations for large input values. As we said, for degree 8 $\\quad 350^7∗1.7∗10^{−17}≈113000$.\n",
    "\n",
    "In order to deal with the problem of ill-conditioning, we could leverage orthogonal polynomials, but this won't solve the problem of having non-zero (although very small) coefficients for large degree values. \n",
    "\n",
    "Therefore, in order to understand how to apprehend this problem, we should ask ourselves the question of why we would want in the first place to leverage such high-degree polynomial. The problem when dealing with Linear Regression is *flexibility* of our model: we impose a linear relationship between X and $\\mathbb{E}[Y|X]$. Dealing with larger order polynomials allow us to reduce this flexibility, and allow for more basis functions to be considered when approaching our target function. However, we have seen that allowing **too much** flexibility **globally** might come with additional issues we have not foreseen (due, in part to the ill-conditioning of the problem). \n",
    "\n",
    "Therefore, one way to allow for more flexibility is to enhance our function basis with additional polynomial functions, but to approach them **locally**, meaning that we are going to use less flexible functions (cubic functions) that have a local impact on the target function: this is what happens with penalized B-splines, being a generalization of cubic splines but leveraging Bessel functions that have significant importance in a local area. Therefore, what we are doing right here is **adding flexibility** that is not encoded in the degree of our polynomial, but rather in the number of knots for the penalized B-spline we are fitting for our *univariate* data (formultivariate data, we don't know how to fit those univariate splines, we use GAM)."
   ]
  },
  {
   "cell_type": "markdown",
   "metadata": {
    "autograde": "1.3",
    "deletable": false,
    "editable": false
   },
   "source": [
    "**1.3.3** Fit a penalized B-spline using `pygam` with the smoothness parameter chosen by cross-validation on the training set.  Again, provide the train and test scores of the best-performing model and plot its predictions.\n"
   ]
  },
  {
   "cell_type": "markdown",
   "metadata": {},
   "source": [
    "#### Without Cross Validation for the smoothness parameter"
   ]
  },
  {
   "cell_type": "code",
   "execution_count": 29,
   "metadata": {
    "deletable": false
   },
   "outputs": [
    {
     "name": "stdout",
     "output_type": "stream",
     "text": [
      "LinearGAM                                                                                                 \n",
      "=============================================== ==========================================================\n",
      "Distribution:                        NormalDist Effective DoF:                                     19.7388\n",
      "Link Function:                     IdentityLink Log Likelihood:                              -3510882.8282\n",
      "Number of Samples:                       309288 AIC:                                           7021807.134\n",
      "                                                AICc:                                         7021807.1369\n",
      "                                                GCV:                                            33950.6043\n",
      "                                                Scale:                                          33946.7042\n",
      "                                                Pseudo R-Squared:                                    0.045\n",
      "==========================================================================================================\n",
      "Feature Function                  Lambda               Rank         EDoF         P > x        Sig. Code   \n",
      "================================= ==================== ============ ============ ============ ============\n",
      "s(0)                              [0.6]                20           19.7         1.11e-16     ***         \n",
      "intercept                                              1            0.0          1.11e-16     ***         \n",
      "==========================================================================================================\n",
      "Significance codes:  0 '***' 0.001 '**' 0.01 '*' 0.05 '.' 0.1 ' ' 1\n",
      "\n",
      "WARNING: Fitting splines and a linear function to a feature introduces a model identifiability problem\n",
      "         which can cause p-values to appear significant when they are not.\n",
      "\n",
      "WARNING: p-values calculated in this manner behave correctly for un-penalized models or models with\n",
      "         known smoothing parameters, but when smoothing parameters have been estimated, the p-values\n",
      "         are typically lower than they should be, meaning that the tests reject the null too readily.\n"
     ]
    },
    {
     "name": "stderr",
     "output_type": "stream",
     "text": [
      "<ipython-input-29-3ca7cde2e652>:5: UserWarning: KNOWN BUG: p-values computed in this summary are likely much smaller than they should be. \n",
      " \n",
      "Please do not make inferences based on these values! \n",
      "\n",
      "Collaborate on a solution, and stay up to date at: \n",
      "github.com/dswah/pyGAM/issues/163 \n",
      "\n",
      "  gam.summary()\n"
     ]
    }
   ],
   "source": [
    "# your code here\n",
    "gam = LinearGAM(s(0))  # by default, the spline fitted is a penalized B - spline, with lambda = 0.6\n",
    "X, y = training_data_complete['predictor_date'], training_data_complete['price']\n",
    "gam.fit(X, y)\n",
    "gam.summary()"
   ]
  },
  {
   "cell_type": "markdown",
   "metadata": {},
   "source": [
    "Here, we can see that the default smoothing parameter has been set to $\\lambda = 0.6$. The resulting $R^2 = 0.045$ is better than any of our previous fits in terms of **training $R^2$**. Moreover, we have access to the **GCV = Generalization Cross Validation Error**."
   ]
  },
  {
   "cell_type": "markdown",
   "metadata": {},
   "source": [
    "#### With Cross-Validation on the smoothing parameter"
   ]
  },
  {
   "cell_type": "code",
   "execution_count": 30,
   "metadata": {},
   "outputs": [
    {
     "name": "stdout",
     "output_type": "stream",
     "text": [
      "LinearGAM                                                                                                 \n",
      "=============================================== ==========================================================\n",
      "Distribution:                        NormalDist Effective DoF:                                        20.0\n",
      "Link Function:                     IdentityLink Log Likelihood:                              -3510882.8876\n",
      "Number of Samples:                       309288 AIC:                                          7021807.7752\n",
      "                                                AICc:                                         7021807.7782\n",
      "                                                GCV:                                            33950.6624\n",
      "                                                Scale:                                          33946.7107\n",
      "                                                Pseudo R-Squared:                                    0.045\n",
      "==========================================================================================================\n",
      "Feature Function                  Lambda               Rank         EDoF         P > x        Sig. Code   \n",
      "================================= ==================== ============ ============ ============ ============\n",
      "s(0)                              [0]                  20           20.0         1.11e-16     ***         \n",
      "intercept                                              1            0.0          1.11e-16     ***         \n",
      "==========================================================================================================\n",
      "Significance codes:  0 '***' 0.001 '**' 0.01 '*' 0.05 '.' 0.1 ' ' 1\n",
      "\n",
      "WARNING: Fitting splines and a linear function to a feature introduces a model identifiability problem\n",
      "         which can cause p-values to appear significant when they are not.\n",
      "\n",
      "WARNING: p-values calculated in this manner behave correctly for un-penalized models or models with\n",
      "         known smoothing parameters, but when smoothing parameters have been estimated, the p-values\n",
      "         are typically lower than they should be, meaning that the tests reject the null too readily.\n"
     ]
    },
    {
     "name": "stderr",
     "output_type": "stream",
     "text": [
      "<ipython-input-30-bd8c1f62fd46>:18: UserWarning: KNOWN BUG: p-values computed in this summary are likely much smaller than they should be. \n",
      " \n",
      "Please do not make inferences based on these values! \n",
      "\n",
      "Collaborate on a solution, and stay up to date at: \n",
      "github.com/dswah/pyGAM/issues/163 \n",
      "\n",
      "  gam.fit(X, y).summary()\n"
     ]
    }
   ],
   "source": [
    "lams = np.logspace(-3, 5, 9)\n",
    "best_r2 = 0\n",
    "best_lam = 0\n",
    "for lam in lams:\n",
    "    gam = LinearGAM(s(0), lam=lam)\n",
    "    kf = KFold(n_splits=5)\n",
    "    kf.get_n_splits(X.values)\n",
    "    r2_scores = []\n",
    "    for train_index, test_index in kf.split(X.values):\n",
    "        X_train, X_test = X.values[train_index], X.values[test_index]\n",
    "        y_train, y_test = y.values[train_index], y.values[test_index]\n",
    "        gam.fit(X_train, y_train)\n",
    "        r2_scores.append(r2_score(y_test, gam.predict(X_test))) \n",
    "        if np.mean(r2_scores) > best_r2:\n",
    "            best_r2 = np.mean(r2_scores)\n",
    "            best_lam = lam\n",
    "gam = LinearGAM(s(0), lam=best_lam)\n",
    "gam.fit(X, y).summary()"
   ]
  },
  {
   "cell_type": "markdown",
   "metadata": {},
   "source": [
    "We can see that, after having performed Cross Validation based on the smoothing parameter, we get similar results in terms of performances on the training set: $R^2_{train} = 0.045$. Let us now explore the *test* performances of this model. "
   ]
  },
  {
   "cell_type": "code",
   "execution_count": 31,
   "metadata": {},
   "outputs": [
    {
     "data": {
      "text/plain": [
       "0.044802610441945"
      ]
     },
     "execution_count": 31,
     "metadata": {},
     "output_type": "execute_result"
    }
   ],
   "source": [
    "test_r2 = r2_score(testing_data_complete['price'], gam.predict(testing_data_complete['predictor_date']))\n",
    "test_r2"
   ]
  },
  {
   "cell_type": "markdown",
   "metadata": {},
   "source": [
    "We can therefore see that this model, with penalized B-splines perform better than the other polynomial models in terms of explaining the variance contained in the test data."
   ]
  },
  {
   "cell_type": "markdown",
   "metadata": {},
   "source": [
    "#### Visualizing the predictions of the B-splines-model"
   ]
  },
  {
   "cell_type": "code",
   "execution_count": 32,
   "metadata": {},
   "outputs": [
    {
     "data": {
      "image/png": "[encoded data removed]",
      "text/plain": [
       "<Figure size 1440x720 with 1 Axes>"
      ]
     },
     "metadata": {
      "needs_background": "light"
     },
     "output_type": "display_data"
    }
   ],
   "source": [
    "days = np.arange(0, 366)\n",
    "artificial_pred = gam.predict(days)\n",
    "aggregated_data = training_data_complete.groupby('predictor_date').mean()\n",
    "fig, ax = plt.subplots(1, figsize = (20, 10))\n",
    "ax.scatter(aggregated_data.index.values, aggregated_data['price'].values, label='Mean price of the rental of an AirBnB, training data', s=3, color='lightblue')\n",
    "ax.plot(days, artificial_pred, label='Predictions for degree 2 polynomial')\n",
    "ax.set_ylim(0, 2000)\n",
    "plt.title('Mean Price of renting an AirBnB depending on the date')\n",
    "ax.set_xlabel('Date')\n",
    "ax.set_ylabel('Renting Price for a night')\n",
    "ax.legend()\n",
    "plt.show(fig)"
   ]
  },
  {
   "cell_type": "markdown",
   "metadata": {
    "autograde": "1.3",
    "deletable": false,
    "editable": false
   },
   "source": [
    "**1.3.4** Of the models, which performs the best? What is the effect of the tuning parameters (degree and smoothness penalty)?\n"
   ]
  },
  {
   "cell_type": "markdown",
   "metadata": {
    "deletable": false
   },
   "source": [
    "It depends on the metrics we would like to use in order to discriminate between models:\n",
    "- **$R^2$ on the entire set**: whether we use training or testing $R^2$, the best models are going to be the penalized B splines\n",
    "- **$R^2$ on the aggregated testing set**: From the visualization we have made earlier, we can see that only degree 3 and penalized B-splines models seem to fit in the right way the aggregated train/test set. Let us see how well this models explain the variability of the *aggregated* test set."
   ]
  },
  {
   "cell_type": "markdown",
   "metadata": {},
   "source": [
    "THe effect of tuning parameters is:\n",
    "- for the degree of the different polynomials that are fitted, it is crucial to select the appropriate degree of polynomials in order not to get uncoherent results for extreme values of X. \n",
    "- For the penalized B-spline, the effect of the smoothness penalty is to limit the wiggliness of the resulting B-spline function. We should select it carefully, as an over-penalized model would result in a global cubic polynomial regression."
   ]
  },
  {
   "cell_type": "code",
   "execution_count": 33,
   "metadata": {},
   "outputs": [],
   "source": [
    "aggregated_test_data = testing_data_complete.groupby('predictor_date').mean()\n",
    "X, y = aggregated_test_data.index, aggregated_test_data['price']"
   ]
  },
  {
   "cell_type": "code",
   "execution_count": 34,
   "metadata": {},
   "outputs": [
    {
     "name": "stdout",
     "output_type": "stream",
     "text": [
      "0.7480592043266275\n"
     ]
    }
   ],
   "source": [
    "r2_pygam = r2_score(y, gam.predict(X))\n",
    "print(r2_pygam)"
   ]
  },
  {
   "cell_type": "markdown",
   "metadata": {},
   "source": [
    "**We can see that the pygam model performs relatively well in explaining the variance in the aggregated test set.**"
   ]
  },
  {
   "cell_type": "markdown",
   "metadata": {
    "autograde": "1.4",
    "deletable": false,
    "editable": false
   },
   "source": [
    "**1.4** It is possible/likely that prices on weekends (Friday nights and Saturday nights) are systematically higher than prices on weekdays, and that including this aspect of the data-generating process in our model will produce a better fit. Create a binary indicator of weekend versus non-weekend, and include it in your additive model based on `pygam`.  How does it impact the model's performance?\n",
    "\n",
    "*Hint*: include a categorical variable in a GAM by importing and using `pygam.f` in the same way you've used `pygam.s` for continuous variables.\n",
    "\n"
   ]
  },
  {
   "cell_type": "code",
   "execution_count": 35,
   "metadata": {
    "deletable": false
   },
   "outputs": [
    {
     "name": "stderr",
     "output_type": "stream",
     "text": [
      "100% (100 of 100) |######################| Elapsed Time: 0:10:00 Time:  0:10:00\n"
     ]
    },
    {
     "name": "stdout",
     "output_type": "stream",
     "text": [
      "LinearGAM                                                                                                 \n",
      "=============================================== ==========================================================\n",
      "Distribution:                        NormalDist Effective DoF:                                     20.6159\n",
      "Link Function:                     IdentityLink Log Likelihood:                              -3510509.8699\n",
      "Number of Samples:                       309288 AIC:                                          7021062.9715\n",
      "                                                AICc:                                         7021062.9747\n",
      "                                                GCV:                                            33909.8741\n",
      "                                                Scale:                                          33905.8056\n",
      "                                                Pseudo R-Squared:                                   0.0461\n",
      "==========================================================================================================\n",
      "Feature Function                  Lambda               Rank         EDoF         P > x        Sig. Code   \n",
      "================================= ==================== ============ ============ ============ ============\n",
      "s(0)                              [0.935]              20           19.6         1.11e-16     ***         \n",
      "f(1)                              [0.0319]             2            1.0          1.11e-16     ***         \n",
      "intercept                                              1            0.0          1.11e-16     ***         \n",
      "==========================================================================================================\n",
      "Significance codes:  0 '***' 0.001 '**' 0.01 '*' 0.05 '.' 0.1 ' ' 1\n",
      "\n",
      "WARNING: Fitting splines and a linear function to a feature introduces a model identifiability problem\n",
      "         which can cause p-values to appear significant when they are not.\n",
      "\n",
      "WARNING: p-values calculated in this manner behave correctly for un-penalized models or models with\n",
      "         known smoothing parameters, but when smoothing parameters have been estimated, the p-values\n",
      "         are typically lower than they should be, meaning that the tests reject the null too readily.\n"
     ]
    },
    {
     "name": "stderr",
     "output_type": "stream",
     "text": [
      "<ipython-input-35-c361753f9cad>:10: UserWarning: KNOWN BUG: p-values computed in this summary are likely much smaller than they should be. \n",
      " \n",
      "Please do not make inferences based on these values! \n",
      "\n",
      "Collaborate on a solution, and stay up to date at: \n",
      "github.com/dswah/pyGAM/issues/163 \n",
      "\n",
      "  gam.summary()\n"
     ]
    }
   ],
   "source": [
    "# your code here\n",
    "training_data_complete['week-end'] = 1*(training_data_complete['day_of_week'] == 'Friday') + 1*(training_data_complete['day_of_week'] == 'Saturday')\n",
    "testing_data_complete['week-end'] = 1*(testing_data_complete['day_of_week'] == 'Friday') + 1*(testing_data_complete['day_of_week'] == 'Saturday')\n",
    "X, y = training_data_complete[['predictor_date', 'week-end']].values, training_data_complete['price'].values\n",
    "gam = LinearGAM(s(0) + f(1))\n",
    "lams = np.random.rand(100, 2) # random points on [0, 1], with shape (100, 3)\n",
    "lams = lams * 6 - 3 # shift values to -3, 3\n",
    "lams = 10 ** lams # transforms values to 1e-3, 1e3\n",
    "gam.gridsearch(X, y, lam=lams)\n",
    "gam.summary()"
   ]
  },
  {
   "cell_type": "markdown",
   "metadata": {
    "deletable": false
   },
   "source": [
    "We can see that the pseudo $R^2$ on the training set is not that significantly changed by the addition of the binary indicator of week-ends. Let us see how it impacts the predictions for **average prices** on the testing set."
   ]
  },
  {
   "cell_type": "code",
   "execution_count": 36,
   "metadata": {},
   "outputs": [
    {
     "name": "stdout",
     "output_type": "stream",
     "text": [
      "0.7793680020167685\n"
     ]
    }
   ],
   "source": [
    "aggregated_test_data = testing_data_complete.groupby('predictor_date').mean()\n",
    "X, y = np.vstack((aggregated_test_data.index, aggregated_test_data['week-end'])).T, aggregated_test_data['price']\n",
    "r2_pygam = r2_score(y, gam.predict(X))\n",
    "print(r2_pygam)"
   ]
  },
  {
   "cell_type": "markdown",
   "metadata": {},
   "source": [
    "Therefore, we can see that the performances are significantly (3%) better when using the binary indicator for week-ends or not. One thing to note is that, thanks to B-splines, we have been able to create a pretty reliable model solely based on one predictor, which is pretty impressive."
   ]
  },
  {
   "cell_type": "markdown",
   "metadata": {
    "autograde": "1.5",
    "deletable": false,
    "editable": false
   },
   "source": [
    "**1.5** You may have noticed from your scatterplots of average price versus day on the training set that there are a few days with abnormally high average prices. Sort the training data in decreasing order of average price, extracting the 10 most expensive dates. Why are the prices on these days so high? Is it something about the days themselves, noise, an artifact of data collection, or something else?"
   ]
  },
  {
   "cell_type": "code",
   "execution_count": 37,
   "metadata": {
    "deletable": false
   },
   "outputs": [
    {
     "data": {
      "text/plain": [
       "[Timestamp('2018-04-14 00:00:00'),\n",
       " Timestamp('2018-04-16 00:00:00'),\n",
       " Timestamp('2018-04-15 00:00:00'),\n",
       " Timestamp('2017-10-07 00:00:00'),\n",
       " Timestamp('2018-04-13 00:00:00'),\n",
       " Timestamp('2017-10-21 00:00:00'),\n",
       " Timestamp('2017-10-20 00:00:00'),\n",
       " Timestamp('2017-10-06 00:00:00'),\n",
       " Timestamp('2018-04-17 00:00:00'),\n",
       " Timestamp('2017-10-13 00:00:00')]"
      ]
     },
     "execution_count": 37,
     "metadata": {},
     "output_type": "execute_result"
    }
   ],
   "source": [
    "# your code here\n",
    "aggregated_prices = training_data_complete.groupby('predictor_date').mean()['price'].sort_values(ascending=False)\n",
    "date_highest_prices = aggregated_prices.head(10).index\n",
    "reference_date = training_data_complete['date'].min() \n",
    "dates_highest_prices =  [datetime.timedelta(day) + reference_date  for day in date_highest_prices] \n",
    "dates_highest_prices"
   ]
  },
  {
   "cell_type": "markdown",
   "metadata": {
    "deletable": false
   },
   "source": [
    "We see two groups of dates here: \n",
    "- The dates arount April 15th 2018: Boston Marathon\n",
    "- Dates arount October 2017: I don't know what is going on in Boston in October \n",
    "\n",
    "Although, I don't think these dates are artifacts, they seem to follow a clear pattern."
   ]
  },
  {
   "cell_type": "markdown",
   "metadata": {
    "deletable": false,
    "editable": false
   },
   "source": [
    "<div class='exercise'><b> Question 2 [50 pts]: Predicting Airbnb Rental Price Through Listing Features </b></div>\n",
    "\n",
    "In this problem, we'll continue our exploration of Airbnb data by predicting price based on listing features. The data can be found in `listings_train.csv` and `listings_test.csv`.\n",
    "\n",
    "**2.1** First, visualize the relationship between each of the predictors and the response variable. Does it appear that some of the predictors have a nonlinear relationship with the response variable?\n",
    "\n",
    "\n",
    "**2.2** Fit the following models on the training set and compare the $R^2$ score of the fitted models on the test set:\n",
    "* Linear regression\n",
    "* Regression with polynomial basis functions of degree 3 (i.e. basis functions $x, x^2, x^3$ for each predictor $x$) for quantitative predictors.\n",
    "\n",
    "**2.3** Do you expect any advantage in fitting an additive model to these data, compared to the above models?\n",
    "\n",
    "**2.4** Fit an additive model using the `pygam` library to the training set, and compare the test $R^2$ of the fitted model to the above models. You may use a penalized B-spline basis function on each predictor, tuned using cross-validation on the training set.\n",
    "\n",
    "**2.5** Plot and examine the smooth of each predictor for the fitted additive model. What are some useful insights conveyed by these plots?\n",
    "\n",
    "**2.6** Using the outputs and insights from part 1), discuss the most important variables in the driving prices, and give advide to a frugal traveller hoping to visit Boston."
   ]
  },
  {
   "cell_type": "markdown",
   "metadata": {
    "autograde": "2.1",
    "deletable": false,
    "editable": false
   },
   "source": [
    "**2.1** First, visualize the relationship between each of the predictors and the response variable. Does it appear that some of the predictors have a nonlinear relationship with the response variable?\n",
    "\n"
   ]
  },
  {
   "cell_type": "code",
   "execution_count": 38,
   "metadata": {
    "deletable": false
   },
   "outputs": [],
   "source": [
    "# your code here\n",
    "train_listing = pd.read_csv('data/listings_train.csv')\n",
    "test_listing = pd.read_csv('data/listings_test.csv')\n",
    "X, y = train_listing.drop('price', axis=1),  train_listing['price']\n",
    "encoder = LabelEncoder()\n",
    "encoder.fit(X['room_type'])\n",
    "X['room_type'] = encoder.transform(X['room_type'])\n",
    "train_listing['room_type'] = encoder.transform(train_listing['room_type'])\n",
    "X_test, y_test = test_listing.drop('price', axis=1),  test_listing['price']\n",
    "X_test['room_type'] = encoder.transform(X_test['room_type'])\n",
    "test_listing['room_type'] = encoder.transform(test_listing['room_type'])"
   ]
  },
  {
   "cell_type": "code",
   "execution_count": null,
   "metadata": {},
   "outputs": [],
   "source": [
    "sns.pairplot(train_listing, palette='tab10', height=2, dropna=True)"
   ]
  },
  {
   "cell_type": "markdown",
   "metadata": {
    "deletable": false
   },
   "source": [
    "Based on the pairplot above, I can't see any predictors that have a linear or non-linear relationship with the response variable."
   ]
  },
  {
   "cell_type": "markdown",
   "metadata": {
    "autograde": "2.2",
    "deletable": false,
    "editable": false
   },
   "source": [
    "**2.2** Fit the following models on the training set and compare the $R^2$ score of the fitted models on the test set:\n",
    "* Linear regression\n",
    "* Regression with polynomial basis functions of degree 3 (i.e. basis functions $x, x^2, x^3$ for each predictor $x$) for quantitative predictors.\n"
   ]
  },
  {
   "cell_type": "markdown",
   "metadata": {},
   "source": [
    "#### Linear Regression"
   ]
  },
  {
   "cell_type": "code",
   "execution_count": null,
   "metadata": {
    "deletable": false
   },
   "outputs": [],
   "source": [
    "# your code here\n",
    "lm = LinearRegression().fit(X, y)\n",
    "r2_train = lm.score(X, y)\n",
    "r2_test = lm.score(X_test, y_test)\n",
    "print('Linear Regression:\\n')\n",
    "print('The R2 training score is ', r2_train)\n",
    "print('The R2 testing score is ', r2_test)"
   ]
  },
  {
   "cell_type": "markdown",
   "metadata": {},
   "source": [
    "#### Regression with polynomial basis functions of degree 3"
   ]
  },
  {
   "cell_type": "code",
   "execution_count": null,
   "metadata": {},
   "outputs": [],
   "source": [
    "formula = 'price ~ np.vander(host_total_listings_count, 4) - 1 + room_type + np.vander(host_total_listings_count, 4) - 1 + np.vander(host_total_listings_count, 4) - 1 + np.vander(latitude, 4) - 1 + np.vander(longitude, 4) - 1 + np.vander(bathrooms, 4) - 1 + np.vander(bedrooms, 4) - 1 + np.vander(beds, 4) - 1 + np.vander(security_deposit, 4) - 1 + np.vander(cleaning_fee, 4) - 1 + np.vander(availability_365, 4) - 1 + np.vander(number_of_reviews, 4) - 1'\n",
    "lm_d3_train = sm.ols(formula, data = train_listing).fit()\n",
    "lm_d3_test = sm.ols(formula, data = test_listing).fit()\n",
    "print('Polynomial Regression:\\n')\n",
    "print('The R2 training score is ',lm_d3_train.rsquared)\n",
    "print('The R2 testing score is ',lm_d3_test.rsquared)"
   ]
  },
  {
   "cell_type": "markdown",
   "metadata": {
    "deletable": false
   },
   "source": [
    "The Polynomial Regression created with Vandermonde matrices yield better results on the training and the testing sets than the Linear Regression. Interestingly, the testing scores are better than the training scores, this must be due to the fact that we had a lucky split."
   ]
  },
  {
   "cell_type": "markdown",
   "metadata": {
    "autograde": "2.3",
    "deletable": false,
    "editable": false
   },
   "source": [
    "**2.3** Do you expect any advantage in fitting an additive model to these data, compared to the above models?\n"
   ]
  },
  {
   "cell_type": "markdown",
   "metadata": {
    "deletable": false
   },
   "source": [
    "- Yes indeed, in the above models, we only considered **independent** relations between predictors and the target variables. An additive model would allow us to consider and take into account interactions between different variables instead of viewing them only separately.\n",
    "- Moreover, in the previous models, we made some really strong assumptions: for the linear model, we imposed a hard parametric form on the expected answer. For the polynomial regression, we imposed a **global** polynomial structure on the expected answer. What we do with fitting additive models is that for every feature, we are fitting penalized B splines. The advantages of these penalized B splines is that they allow for more flexibility in the function. However, the flexibility in the function is not encoded in the degree of these functions (since we are working with **fixed** degree 3 functions) but rather in the number of knots. Also, the smoothness parameter allow us to reduce the effective number of degrees of freedom: this more general framework will allow to benefit from both the flexibility of local cubic polynomials and the smoothness imposed on the penalization"
   ]
  },
  {
   "cell_type": "markdown",
   "metadata": {
    "autograde": "2.4",
    "deletable": false,
    "editable": false
   },
   "source": [
    "**2.4** Fit an additive model using the `pygam` library to the training set, and compare the test $R^2$ of the fitted model to the above models. You may use a penalized B-spline basis function on each predictor, tuned using cross-validation on the training set.\n"
   ]
  },
  {
   "cell_type": "code",
   "execution_count": null,
   "metadata": {
    "deletable": false
   },
   "outputs": [],
   "source": [
    "# This model will fit spline terms on features 0,2,3,7,8,9,10\n",
    "# and factor terms on features 1,2,4,5,6\n",
    "gam = LinearGAM(s(0) + f(1) + s(2) + s(3) + f(4) + f(5) + f(6) + s(7) + s(8) + s(9) + s(10))\n",
    "gam.gridsearch(X.values, y.values, lam=lams)\n",
    "gam.summary()"
   ]
  },
  {
   "cell_type": "code",
   "execution_count": null,
   "metadata": {},
   "outputs": [],
   "source": [
    "train_r2 = r2_score(y, gam.predict(X))\n",
    "test_r2= r2_score(y_test, gam.predict(X_test))\n",
    "print('Additive model 1:\\n')\n",
    "print('The R2 training score is ', train_r2)\n",
    "print('The R2 testing score is ', test_r2)\n"
   ]
  },
  {
   "cell_type": "markdown",
   "metadata": {},
   "source": [
    "The additive model yields the best $R^2$ out of the Linear Regression and the Polynomial Regression."
   ]
  },
  {
   "cell_type": "markdown",
   "metadata": {
    "autograde": "2.5",
    "deletable": false,
    "editable": false
   },
   "source": [
    "**2.5** Plot and examine the smooth of each predictor for the fitted additive model. What are some useful insights conveyed by these plots?\n"
   ]
  },
  {
   "cell_type": "code",
   "execution_count": null,
   "metadata": {
    "deletable": false
   },
   "outputs": [],
   "source": [
    "# your code here\n",
    "res = gam.deviance_residuals(X,y)\n",
    "for i, term in enumerate(gam.terms):\n",
    "    if term.isintercept:\n",
    "        continue\n",
    "    XX = gam.generate_X_grid(term=i)\n",
    "    pdep, confi = gam.partial_dependence(term=i, X=XX, width=0.95)\n",
    "    pdep2, _ = gam.partial_dependence(term=i, X=X, width=0.95)\n",
    "    plt.figure()\n",
    "    plt.scatter(X.iloc[:,term.feature], pdep2 + res)\n",
    "    plt.plot(XX[:, term.feature], pdep, c='black')\n",
    "    plt.plot(XX[:, term.feature], confi, c='r', ls='--')\n",
    "    plt.title(X.columns.values[term.feature])\n",
    "    plt.show()"
   ]
  },
  {
   "cell_type": "markdown",
   "metadata": {
    "deletable": false
   },
   "source": [
    "These plots depict the partial dependance of each predictor on the price, we are to examine each of their effects. As a reminder, spline terms were fitted on:\n",
    "- host_total_listings_count\t\n",
    "- latitude\t\n",
    "- longitude\t\t\n",
    "- security_deposit\t\n",
    "- cleaning_fee\t\n",
    "- availability_365\t\n",
    "- number_of_reviews <br>\n",
    "And factor terms on:\n",
    "- room_type\t\n",
    "- bathrooms\t\n",
    "- bedrooms\t\n",
    "- beds\n",
    "\n",
    "From these we can see a number of insightful trends:\n",
    "* The number of beds, bathrooms and bedrooms do not weigh a lot on the trend, their numbers do not seem to influence the price\n",
    "* Models fitted on the predictors latitude and longitude as well have an unpredictable behavior\n",
    "* We can see that large security deposits the trend of the model suggests that the price increases\n",
    "* Surprinsigly, the more reviews there is the lower the price is going to be\n",
    "* The availability of the rental does not influence the price\n",
    "* The most coveted types of rentals are entire appartment and shared room, compared to private rooms\n",
    "* We also see that prediction intervals are extremely narrow for the features of the rental, namely, number of beds, bathhrooms and bedrooms"
   ]
  },
  {
   "cell_type": "markdown",
   "metadata": {
    "autograde": "2.6",
    "deletable": false,
    "editable": false
   },
   "source": [
    "**2.6** Using the outputs and insights from part 1), discuss the most important variables in the driving prices, and give advide to a frugal traveller hoping to visit Boston."
   ]
  },
  {
   "cell_type": "markdown",
   "metadata": {
    "deletable": false
   },
   "source": [
    "*Your answer here*"
   ]
  },
  {
   "cell_type": "code",
   "execution_count": null,
   "metadata": {
    "deletable": false,
    "editable": false
   },
   "outputs": [],
   "source": []
  },
  {
   "cell_type": "markdown",
   "metadata": {},
   "source": [
    "From part 1) we have seen that the timeframe of the booking of a listing is heavily linked to its price. Bookings on weekends are more expensive and the season is also important: during Spring and Summer prices tend to be higher due to the hot weather. \n",
    "\n",
    "In part 2) we have just seen that the most 'influent' predictors were the number of reviews of the rental, its type, the number of reviews it has and the number of listings of the host.\n",
    "\n",
    "\n",
    "In order to save money, one should consider coming to Boston during the week and preferably during Fall or Winter. It is also recommended to choose a private room, from a host with many listings and with many reviews"
   ]
  }
 ],
 "metadata": {
  "kernelspec": {
   "display_name": "Python 3",
   "language": "python",
   "name": "python3"
  },
  "language_info": {
   "codemirror_mode": {
    "name": "ipython",
    "version": 3
   },
   "file_extension": ".py",
   "mimetype": "text/x-python",
   "name": "python",
   "nbconvert_exporter": "python",
   "pygments_lexer": "ipython3",
   "version": "3.8.6"
  }
 },
 "nbformat": 4,
 "nbformat_minor": 4
}
