{
 "cells": [
  {
   "cell_type": "markdown",
   "metadata": {
    "id": "5a-ez4gTtO4G"
   },
   "source": [
    "# <img style=\"float: left; padding-right: 10px; width: 45px\" src=\"https://raw.githubusercontent.com/Harvard-IACS/2018-CS109A/master/content/styles/iacs.png\"> CS109B Data Science 2: Advanced Topics in Data Science \n",
    "\n",
    "## Homework 5 - Recurrent Neural Networks\n",
    "\n",
    "\n",
    "\n",
    "**Harvard University**<br/>\n",
    "**Spring 2021**<br/>\n",
    "**Instructors**: Mark Glickman, Pavlos Protopapas, and Chris Tanner\n",
    "\n",
    "\n",
    "<hr style=\"height:2pt\">"
   ]
  },
  {
   "cell_type": "code",
   "execution_count": 1,
   "metadata": {
    "colab": {
     "base_uri": "https://localhost:8080/",
     "height": 17
    },
    "id": "FEd5FB3-tO4S",
    "outputId": "a696fe58-aa81-411a-b104-ba93cf36bc54"
   },
   "outputs": [
    {
     "data": {
      "text/html": [
       "<style>\n",
       "blockquote { background: #AEDE94; }\n",
       "h1 { \n",
       "    padding-top: 25px;\n",
       "    padding-bottom: 25px;\n",
       "    text-align: left; \n",
       "    padding-left: 10px;\n",
       "    background-color: #DDDDDD; \n",
       "    color: black;\n",
       "}\n",
       "h2 { \n",
       "    padding-top: 10px;\n",
       "    padding-bottom: 10px;\n",
       "    text-align: left; \n",
       "    padding-left: 5px;\n",
       "    background-color: #EEEEEE; \n",
       "    color: black;\n",
       "}\n",
       "\n",
       "div.exercise {\n",
       "\tbackground-color: #ffcccc;\n",
       "\tborder-color: #E9967A; \t\n",
       "\tborder-left: 5px solid #800080; \n",
       "\tpadding: 0.5em;\n",
       "}\n",
       "\n",
       "div.exercise-r {\n",
       "\tbackground-color: #fce8e8;\n",
       "\tborder-color: #E9967A; \t\n",
       "\tborder-left: 5px solid #800080; \n",
       "\tpadding: 0.5em;\n",
       "}\n",
       "\n",
       "\n",
       "span.sub-q {\n",
       "\tfont-weight: bold;\n",
       "}\n",
       "div.theme {\n",
       "\tbackground-color: #DDDDDD;\n",
       "\tborder-color: #E9967A; \t\n",
       "\tborder-left: 5px solid #800080; \n",
       "\tpadding: 0.5em;\n",
       "\tfont-size: 18pt;\n",
       "}\n",
       "div.gc { \n",
       "\tbackground-color: #AEDE94;\n",
       "\tborder-color: #E9967A; \t \n",
       "\tborder-left: 5px solid #800080; \n",
       "\tpadding: 0.5em;\n",
       "\tfont-size: 12pt;\n",
       "}\n",
       "p.q1 { \n",
       "    padding-top: 5px;\n",
       "    padding-bottom: 5px;\n",
       "    text-align: left; \n",
       "    padding-left: 5px;\n",
       "    background-color: #EEEEEE; \n",
       "    color: black;\n",
       "}\n",
       "header {\n",
       "   padding-top: 35px;\n",
       "    padding-bottom: 35px;\n",
       "    text-align: left; \n",
       "    padding-left: 10px;\n",
       "    background-color: #DDDDDD; \n",
       "    color: black;\n",
       "}\n",
       "</style>\n",
       "\n"
      ],
      "text/plain": [
       "<IPython.core.display.HTML object>"
      ]
     },
     "execution_count": 1,
     "metadata": {},
     "output_type": "execute_result"
    }
   ],
   "source": [
    "#RUN THIS \n",
    "import requests\n",
    "from IPython.core.display import HTML\n",
    "styles = requests.get(\n",
    "    \"https://raw.githubusercontent.com/Harvard-IACS/2018-CS109A/master/\"\n",
    "    \"content/styles/cs109.css\"\n",
    ").text\n",
    "HTML(styles)"
   ]
  },
  {
   "cell_type": "markdown",
   "metadata": {
    "id": "7nu_B30xtO4U"
   },
   "source": [
    "<hr style=\"height:2pt\">\n",
    "\n",
    "### INSTRUCTIONS\n",
    "\n",
    "- To submit your assignment follow the instructions given in Canvas.\n",
    "\n",
    "- Please restart the kernel and run the entire notebook again before you submit.\n",
    "\n",
    "- Running cells out of order is a common pitfall in Jupyter Notebooks. To make sure your code works restart the kernel and run the whole notebook again before you submit. \n",
    "\n",
    "- We have tried to include all the libraries you may need to do the assignment in the imports cell provided below. **Please use only the libraries provided in those imports.**\n",
    "\n",
    "- Please use .head() when viewing data. Do not submit a notebook that is **excessively long**. \n",
    "\n",
    "- In questions that require code to answer, such as \"calculate the $R^2$\", do not just output the value from a cell. Write a `print()` function that clearly labels the output, includes a reference to the calculated value, and rounds it to a reasonable number of digits. **Do not hard code values in your printed output**. For example, this is an appropriate print statement:\n",
    "```python\n",
    "print(f\"The R^2 is {R:.4f}\")\n",
    "```\n",
    "- Your plots should be clearly labeled, including clear labels for the $x$ and $y$ axes as well as a descriptive title (\"MSE plot\" is NOT a descriptive title; \"95% confidence interval of coefficients of polynomial degree 5\" on the other hand is descriptive).\n",
    "\n",
    "<hr style=\"height:2pt\">"
   ]
  },
  {
   "cell_type": "code",
   "execution_count": 2,
   "metadata": {
    "colab": {
     "base_uri": "https://localhost:8080/"
    },
    "id": "bguOP1aCtO4a",
    "outputId": "495f94e1-b64f-44ab-8427-f6b4c309f5b9"
   },
   "outputs": [
    {
     "name": "stdout",
     "output_type": "stream",
     "text": [
      "Using TensorFlow version: 2.4.1\n",
      "Using TensorFlow Keras version: 2.4.0\n"
     ]
    }
   ],
   "source": [
    "import json\n",
    "import os\n",
    "import pickle\n",
    "\n",
    "import matplotlib.pyplot as plt\n",
    "import numpy as np\n",
    "import pandas as pd\n",
    "from sklearn.decomposition import PCA\n",
    "from sklearn.metrics import f1_score, confusion_matrix\n",
    "from sklearn.model_selection import train_test_split\n",
    "import tensorflow as tf\n",
    "from tensorflow.keras import backend\n",
    "from tensorflow.keras import Model, Sequential\n",
    "from tensorflow.keras.layers import Input, SimpleRNN, Embedding, Dense, \\\n",
    "                            TimeDistributed, GRU, Dropout, Bidirectional, \\\n",
    "                            Conv1D, BatchNormalization\n",
    "from tensorflow.keras.models import model_from_json\n",
    "from tensorflow.keras.preprocessing.sequence import pad_sequences\n",
    "from tensorflow.keras.utils import to_categorical\n",
    "\n",
    "plt.style.use(\"tableau-colorblind10\")\n",
    "\n",
    "print(f\"Using TensorFlow version: {tf.__version__}\")\n",
    "print(f\"Using TensorFlow Keras version: {tf.keras.__version__}\")"
   ]
  },
  {
   "cell_type": "code",
   "execution_count": 3,
   "metadata": {
    "colab": {
     "base_uri": "https://localhost:8080/"
    },
    "id": "9p5dQ-YO4x54",
    "outputId": "2c76af8a-4d9a-4caa-a2d8-08457d7cd08b"
   },
   "outputs": [
    {
     "name": "stdout",
     "output_type": "stream",
     "text": [
      "Devices: [PhysicalDevice(name='/physical_device:CPU:0', device_type='CPU'), PhysicalDevice(name='/physical_device:GPU:0', device_type='GPU')]\n",
      "\n",
      "Logical Devices: [LogicalDevice(name='/device:GPU:0', device_type='GPU')]\n",
      "\n",
      "GPU Available: [PhysicalDevice(name='/physical_device:GPU:0', device_type='GPU')]\n",
      "\n",
      "All Pysical Devices: [PhysicalDevice(name='/physical_device:CPU:0', device_type='CPU'), PhysicalDevice(name='/physical_device:GPU:0', device_type='GPU')]\n"
     ]
    }
   ],
   "source": [
    "devices = tf.config.experimental.get_visible_devices()\n",
    "print(f\"Devices: {devices}\\n\")\n",
    "print(\n",
    "    f\"Logical Devices: {tf.config.experimental.list_logical_devices('GPU')}\\n\"\n",
    ")\n",
    "\n",
    "print(f\"GPU Available: {tf.config.list_physical_devices('GPU')}\\n\")\n",
    "print(f\"All Pysical Devices: {tf.config.list_physical_devices()}\")\n",
    "\n",
    "# Set seed for repeatable results\n",
    "np.random.seed(123)\n",
    "tf.random.set_seed(456)"
   ]
  },
  {
   "cell_type": "markdown",
   "metadata": {
    "id": "dqmE4CjktO4f"
   },
   "source": [
    "<a id=\"contents\"></a>\n",
    "\n",
    "## Notebook Contents\n",
    "\n",
    "- [**PART 1 [ 22 pts ]: Data**](#part1)\n",
    "  - [Overview](#part1intro)\n",
    "  - [Questions](#part1questions)\n",
    "  - [Solutions](#part1solutions)\n",
    "\n",
    "\n",
    "- [**PART 2 [ 38 pts ]: Modelling**](#part2)\n",
    "  - [Overview](#part2intro)\n",
    "  - [Questions](#part2questions)\n",
    "  - [Solutions](#part2solutions)\n",
    "\n",
    "\n",
    "- [**PART 3 [ 40 pts ]: Analysis**](#part3)\n",
    "  - [Overview](#part3intro)\n",
    "  - [Questions](#part3questions)\n",
    "  - [Solutions](#part3solutions)\n"
   ]
  },
  {
   "cell_type": "markdown",
   "metadata": {
    "id": "unXusMi5tO4i"
   },
   "source": [
    "## About this Homework\n",
    "\n",
    "### The named entity recognition challenge!\n",
    "\n",
    "[**Named entity recognition (NER)**](https://en.wikipedia.org/wiki/Named-entity_recognition) seeks to locate and classify named entities present in unstructured text into predefined categories such as organizations, locations, expressions of times, names of persons, etc. This technique is often used in real use cases such as classifying content for news providers, efficient search algorithms over large corpora, and content-based recommendation systems. \n",
    "\n",
    "NER represents an interesting \"many-to-many\" problem, and in this homework, it allows us to experiment with recurrent architectures and compare their performances against other models."
   ]
  },
  {
   "cell_type": "markdown",
   "metadata": {
    "id": "quPL0bhWtO4i"
   },
   "source": [
    "<a id=\"part1\"></a>\n",
    "    \n",
    "<!-- <div class=\"alert alert-block alert-danger\" style=\"color:black;background-color:#E7F4FA\"> -->\n",
    "\n",
    "# PART 1 [ 22 pts ]: Data\n",
    "\n",
    "[Return to contents](#contents)\n"
   ]
  },
  {
   "cell_type": "markdown",
   "metadata": {
    "id": "6ePZfwJmtO4k"
   },
   "source": [
    "<a id=\"part1intro\"></a>\n",
    "\n",
    "## Overview\n",
    "\n",
    "[Return to contents](#contents)\n",
    "\n",
    "**First, we will read `data/HW5_data.csv` into a pandas dataframe using the code provided below:**"
   ]
  },
  {
   "cell_type": "code",
   "execution_count": 4,
   "metadata": {
    "colab": {
     "base_uri": "https://localhost:8080/",
     "height": 520
    },
    "id": "--u4YXOotO4l",
    "outputId": "d370ceff-44e3-40f4-c1c8-643cfc9b6401"
   },
   "outputs": [
    {
     "data": {
      "text/html": [
       "<div>\n",
       "<style scoped>\n",
       "    .dataframe tbody tr th:only-of-type {\n",
       "        vertical-align: middle;\n",
       "    }\n",
       "\n",
       "    .dataframe tbody tr th {\n",
       "        vertical-align: top;\n",
       "    }\n",
       "\n",
       "    .dataframe thead th {\n",
       "        text-align: right;\n",
       "    }\n",
       "</style>\n",
       "<table border=\"1\" class=\"dataframe\">\n",
       "  <thead>\n",
       "    <tr style=\"text-align: right;\">\n",
       "      <th></th>\n",
       "      <th>Sentence #</th>\n",
       "      <th>Word</th>\n",
       "      <th>POS</th>\n",
       "      <th>Tag</th>\n",
       "    </tr>\n",
       "  </thead>\n",
       "  <tbody>\n",
       "    <tr>\n",
       "      <th>0</th>\n",
       "      <td>Sentence: 1</td>\n",
       "      <td>Thousands</td>\n",
       "      <td>NNS</td>\n",
       "      <td>O</td>\n",
       "    </tr>\n",
       "    <tr>\n",
       "      <th>1</th>\n",
       "      <td>Sentence: 1</td>\n",
       "      <td>of</td>\n",
       "      <td>IN</td>\n",
       "      <td>O</td>\n",
       "    </tr>\n",
       "    <tr>\n",
       "      <th>2</th>\n",
       "      <td>Sentence: 1</td>\n",
       "      <td>demonstrators</td>\n",
       "      <td>NNS</td>\n",
       "      <td>O</td>\n",
       "    </tr>\n",
       "    <tr>\n",
       "      <th>3</th>\n",
       "      <td>Sentence: 1</td>\n",
       "      <td>have</td>\n",
       "      <td>VBP</td>\n",
       "      <td>O</td>\n",
       "    </tr>\n",
       "    <tr>\n",
       "      <th>4</th>\n",
       "      <td>Sentence: 1</td>\n",
       "      <td>marched</td>\n",
       "      <td>VBN</td>\n",
       "      <td>O</td>\n",
       "    </tr>\n",
       "    <tr>\n",
       "      <th>5</th>\n",
       "      <td>Sentence: 1</td>\n",
       "      <td>through</td>\n",
       "      <td>IN</td>\n",
       "      <td>O</td>\n",
       "    </tr>\n",
       "    <tr>\n",
       "      <th>6</th>\n",
       "      <td>Sentence: 1</td>\n",
       "      <td>London</td>\n",
       "      <td>NNP</td>\n",
       "      <td>B-geo</td>\n",
       "    </tr>\n",
       "    <tr>\n",
       "      <th>7</th>\n",
       "      <td>Sentence: 1</td>\n",
       "      <td>to</td>\n",
       "      <td>TO</td>\n",
       "      <td>O</td>\n",
       "    </tr>\n",
       "    <tr>\n",
       "      <th>8</th>\n",
       "      <td>Sentence: 1</td>\n",
       "      <td>protest</td>\n",
       "      <td>VB</td>\n",
       "      <td>O</td>\n",
       "    </tr>\n",
       "    <tr>\n",
       "      <th>9</th>\n",
       "      <td>Sentence: 1</td>\n",
       "      <td>the</td>\n",
       "      <td>DT</td>\n",
       "      <td>O</td>\n",
       "    </tr>\n",
       "    <tr>\n",
       "      <th>10</th>\n",
       "      <td>Sentence: 1</td>\n",
       "      <td>war</td>\n",
       "      <td>NN</td>\n",
       "      <td>O</td>\n",
       "    </tr>\n",
       "    <tr>\n",
       "      <th>11</th>\n",
       "      <td>Sentence: 1</td>\n",
       "      <td>in</td>\n",
       "      <td>IN</td>\n",
       "      <td>O</td>\n",
       "    </tr>\n",
       "    <tr>\n",
       "      <th>12</th>\n",
       "      <td>Sentence: 1</td>\n",
       "      <td>Iraq</td>\n",
       "      <td>NNP</td>\n",
       "      <td>B-geo</td>\n",
       "    </tr>\n",
       "    <tr>\n",
       "      <th>13</th>\n",
       "      <td>Sentence: 1</td>\n",
       "      <td>and</td>\n",
       "      <td>CC</td>\n",
       "      <td>O</td>\n",
       "    </tr>\n",
       "    <tr>\n",
       "      <th>14</th>\n",
       "      <td>Sentence: 1</td>\n",
       "      <td>demand</td>\n",
       "      <td>VB</td>\n",
       "      <td>O</td>\n",
       "    </tr>\n",
       "  </tbody>\n",
       "</table>\n",
       "</div>"
      ],
      "text/plain": [
       "     Sentence #           Word  POS    Tag\n",
       "0   Sentence: 1      Thousands  NNS      O\n",
       "1   Sentence: 1             of   IN      O\n",
       "2   Sentence: 1  demonstrators  NNS      O\n",
       "3   Sentence: 1           have  VBP      O\n",
       "4   Sentence: 1        marched  VBN      O\n",
       "5   Sentence: 1        through   IN      O\n",
       "6   Sentence: 1         London  NNP  B-geo\n",
       "7   Sentence: 1             to   TO      O\n",
       "8   Sentence: 1        protest   VB      O\n",
       "9   Sentence: 1            the   DT      O\n",
       "10  Sentence: 1            war   NN      O\n",
       "11  Sentence: 1             in   IN      O\n",
       "12  Sentence: 1           Iraq  NNP  B-geo\n",
       "13  Sentence: 1            and   CC      O\n",
       "14  Sentence: 1         demand   VB      O"
      ]
     },
     "execution_count": 4,
     "metadata": {},
     "output_type": "execute_result"
    }
   ],
   "source": [
    "# RUN THIS CELL\n",
    "datapath = \"./data/HW5_data.csv\"\n",
    "data = pd.read_csv(datapath, encoding=\"latin1\")\n",
    "data = data.fillna(method=\"ffill\")\n",
    "data.head(15)"
   ]
  },
  {
   "cell_type": "markdown",
   "metadata": {
    "id": "RqhTwPo5tO4p"
   },
   "source": [
    "**As you can see above,** we have a dataset with sentences (as indicated by the `Sentence #` column), each composed of words (shown in the `Word` column) with part-of-speech tagging (shown in the `POS` tagging column) and inside–outside–beginning (IOB) named entity tags attached (shown in the `Tag` column). **`POS` will NOT be used for this homework. We will predict `Tag` using only the words themselves.**\n",
    "\n",
    "**Essential info about entities:**\n",
    "\n",
    "* geo = Geographical Entity\n",
    "* org = Organization\n",
    "* per = Person\n",
    "* gpe = Geopolitical Entity\n",
    "* tim = Time indicator\n",
    "* art = Artifact\n",
    "* eve = Event\n",
    "* nat = Natural Phenomenon\n",
    "\n",
    "**IOB prefix:**\n",
    "\n",
    "* B: beginning of named entity\n",
    "* I: inside of named entity\n",
    "* O: outside of named entity\n"
   ]
  },
  {
   "cell_type": "markdown",
   "metadata": {
    "id": "-gZQLtQAtO4t"
   },
   "source": [
    "<a id=\"part1questions\"></a>\n",
    "\n",
    "### <div class='exercise'>PART 1: Questions</div> \n",
    "\n",
    "[Return to contents](#contents)\n",
    "\n",
    "<a id=\"q11\"></a>\n",
    "\n",
    "**[1.1:](#s11)** Create a list of unique words found in the `Word` column and sort it in alphabetic order (do not modify the word capitalization, nor remove any numeric or special characters). Then append the special word `\"ENDPAD\"` to the end of the list, and assign it to the variable `words`. Store the length of this list as `n_words`. **Print your results for `n_words`**\n",
    "\n",
    "<a id=\"q12\"></a>\n",
    "\n",
    "**[1.2:](#s12)** Create a list of unique tags and sort it in alphabetic order. Then append the special word `\"PAD\"` to the end of the list, and assign it to the variable `tags`. Store the length of this list as `n_tags`. **Print your results for `n_tags`**\n",
    "\n",
    "<a id=\"q13\"></a>\n",
    "\n",
    "**[1.3:](#s13)** Create a list of lists where each sentence in the data is a list of `(word, tag)` tuples. Here is an example of how the first sentence in the list should look:\n",
    "\n",
    "```\n",
    "[('Thousands', 'O'), ('of', 'O'), ('demonstrators', 'O'), ('have', 'O'),\n",
    "('marched', 'O'), ('through', 'O'), ('London', 'B-geo'), ('to', 'O'),\n",
    "('protest', 'O'), ('the', 'O'), ('war', 'O'), ('in', 'O'),\n",
    "('Iraq', 'B-geo'), ('and', 'O'), ('demand', 'O'), ('the', 'O'), \n",
    "('withdrawal', 'O'), ('of', 'O'), ('British', 'B-gpe'), ('troops', 'O'),\n",
    "('from', 'O'), ('that', 'O'), ('country', 'O'), ('.', 'O')]\n",
    "```\n",
    "\n",
    "<a id=\"q14\"></a>\n",
    "\n",
    "**[1.4:](#s14)**  Find out the number of words in the longest sentence, and store it to variable `max_len`. **Print your results for `max_len`.**\n",
    "\n",
    "<a id=\"q15\"></a>\n",
    "\n",
    "**[1.5:](#s15)** It is now time to convert the sentences data in a suitable format for our RNN training and evaluation procedures. Create a `word2idx` dictionary that maps distinct words from the dataset into distinct integers. Also create an `idx2word` dictionary.\n",
    "\n",
    "<a id=\"q16\"></a>\n",
    "\n",
    "**[1.6:](#s16)** Prepare the predictors matrix `X` as a list of lists, where each inner list is a sequence of words mapped into integers according to the `word2idx` dictionary. \n",
    "\n",
    "<a id=\"q17\"></a>\n",
    "\n",
    "**[1.7:](#s17)** Apply the Keras `pad_sequences` function to create standard length observations. You should retrieve a matrix with all padded sentences and length equal to the `max_len` previously computed. The dimensionality of your resulting `X` matrix should therefore be equal to `(# of sentences, max_len)`. Run the provided cell to print your results. Your `X[i]` now should be something similar to this:\n",
    "\n",
    "```\n",
    " [ 8193 27727 31033 33289 22577 33464 23723 16665 33464 31142 31319 28267\n",
    " 27700 33246 28646 16052    21 16915 17349  7924 32879 32985 18238 23555\n",
    "    24 35178 35178 35178 35178 35178 35178 35178 35178 35178 35178 35178\n",
    " 35178 35178 35178 35178 35178 35178 35178 35178 35178 35178 35178 35178\n",
    " 35178 35178 35178 35178 35178 35178 35178 35178 35178 35178 35178 35178\n",
    " 35178 35178 35178 35178 35178 35178 35178 35178 35178 35178 35178 35178\n",
    " 35178 35178 35178 35178 35178 35178 35178 35178 35178 35178 35178 35178\n",
    " 35178 35178 35178 35178 35178 35178 35178 35178 35178 35178 35178 35178\n",
    " 35178 35178 35178 35178 35178 35178 35178 35178]\n",
    "```\n",
    " \n",
    "<a id=\"q18\"></a>\n",
    "\n",
    "**[1.8:](#s18)** Create a `tag2idx` dictionary mapping distinct named entity tags from the dataset into distinct integers. Also create a `idx2tag` dictionary.\n",
    "\n",
    "<a id=\"q19\"></a>\n",
    "\n",
    "**[1.9:](#s19)** Prepare the targets matrix `Y` as a list of lists, where each inner list is a sequence of tags mapped into integers according to the `tag2idx` dictionary.\n",
    "\n",
    "<a id=\"q110\"></a>\n",
    "\n",
    "**[1.10:](#s110)** Apply the Keras `pad_sequences` function to standardize the targets. Inject the `PAD` tag integer value for the padding words. Your result should be a `Y` matrix with all padded sentences' tags and length equal to the `max_len` previously computed. \n",
    "\n",
    "<a id=\"q111\"></a>\n",
    "\n",
    "**[1.11:](#s111)** Use the Keras `to_categorical` function to one-hot-encode the tags. The dimensionality of your resulting `Y` matrix should be equal to `(# of sentences, max_len, n_tags)`. Run the provided cell to print your results.\n",
    "\n",
    "<a id=\"q112\"></a>\n",
    "\n",
    "**[1.12:](#s112)** Split the dataset into train and test sets with a 10% test split using `109` for your random state. Assign your training data to the variables `X_tr` and `y_tr` and your test data to the variables `X_te` and `y_te`."
   ]
  },
  {
   "cell_type": "markdown",
   "metadata": {
    "id": "hBtmANNuuS6h"
   },
   "source": [
    "<a id=\"part1solutions\"></a>\n",
    "\n",
    "## PART 1: Solutions\n",
    "\n",
    "[Return to contents](#contents)"
   ]
  },
  {
   "cell_type": "markdown",
   "metadata": {
    "id": "ZjRcvLV-tO4v"
   },
   "source": [
    "<a id=\"s11\"></a>\n",
    "<div class='exercise-r'>  \n",
    "\n",
    "**[1.1:](#q11)** Create a list of unique words found in the `Word` column and sort it in alphabetic order (do not modify the word capitalization, nor remove any numeric or special characters). Then append the special word `\"ENDPAD\"` to the end of the list, and assign it to the variable `words`. Store the length of this list as `n_words`. **Print your results for `n_words`**\n",
    "\n",
    "</div>"
   ]
  },
  {
   "cell_type": "code",
   "execution_count": 5,
   "metadata": {
    "colab": {
     "base_uri": "https://localhost:8080/"
    },
    "id": "NbLiCEgEtO4w",
    "outputId": "915e6e6a-06ab-44c4-91c4-5cd650def731"
   },
   "outputs": [],
   "source": [
    "# your code here\n",
    "words = sorted(np.unique(data['Word']))\n",
    "words.append('ENDPAD')\n",
    "n_words = len(words)"
   ]
  },
  {
   "cell_type": "code",
   "execution_count": 6,
   "metadata": {
    "colab": {
     "base_uri": "https://localhost:8080/"
    },
    "id": "KHAhH-sXtO4z",
    "outputId": "a4b56e80-7729-4235-a93e-603e47f408b1"
   },
   "outputs": [
    {
     "name": "stdout",
     "output_type": "stream",
     "text": [
      "There are 35,179 unique words found in our dataset.\n"
     ]
    }
   ],
   "source": [
    "# Run this cell to show your results for n_words\n",
    "print(\"There are {:,} unique words found in our dataset.\".format(n_words))"
   ]
  },
  {
   "cell_type": "markdown",
   "metadata": {
    "id": "khIqw5BLtO41"
   },
   "source": [
    "<a id=\"s12\"></a>\n",
    "<div class='exercise-r'>  \n",
    "\n",
    "**[1.2:](#q12)** Create a list of unique tags and sort it in alphabetic order. Then append the special word `\"PAD\"` to the end of the list, and assign it to the variable `tags`. Store the length of this list as `n_tags`. **Print your results for `n_tags`**\n",
    "\n",
    "</div>"
   ]
  },
  {
   "cell_type": "code",
   "execution_count": 7,
   "metadata": {
    "id": "nTEvzpwGtO42"
   },
   "outputs": [],
   "source": [
    "# your code here\n",
    "tags = list(sorted(np.unique(data['Tag'])))\n",
    "tags.append(\"PAD\")\n",
    "n_tags = len(tags)"
   ]
  },
  {
   "cell_type": "code",
   "execution_count": 8,
   "metadata": {
    "colab": {
     "base_uri": "https://localhost:8080/"
    },
    "id": "Idh1V7CytO43",
    "outputId": "3ef8c837-e2a6-483f-bfdc-bf3f367e6ca2"
   },
   "outputs": [
    {
     "name": "stdout",
     "output_type": "stream",
     "text": [
      "There are 18 unique tags found in our dataset.\n"
     ]
    }
   ],
   "source": [
    "# Run this cell to show your results for n_tags\n",
    "print(\"There are {} unique tags found in our dataset.\".format(n_tags))"
   ]
  },
  {
   "cell_type": "markdown",
   "metadata": {
    "id": "qkkSbILitO44"
   },
   "source": [
    "<a id=\"s13\"></a>\n",
    "<div class='exercise-r'>  \n",
    "\n",
    "**[1.3:](#q13)** Create a list of lists where each sentence in the data is a list of `(word, tag)` tuples. Here is an example of how the first sentence in the list should look:\n",
    "\n",
    "```\n",
    "[('Thousands', 'O'), ('of', 'O'), ('demonstrators', 'O'), ('have', 'O'),\n",
    "('marched', 'O'), ('through', 'O'), ('London', 'B-geo'), ('to', 'O'),\n",
    "('protest', 'O'), ('the', 'O'), ('war', 'O'), ('in', 'O'),\n",
    "('Iraq', 'B-geo'), ('and', 'O'), ('demand', 'O'), ('the', 'O'), \n",
    "('withdrawal', 'O'), ('of', 'O'), ('British', 'B-gpe'), ('troops', 'O'),\n",
    "('from', 'O'), ('that', 'O'), ('country', 'O'), ('.', 'O')]\n",
    "```\n",
    "\n",
    "</div>"
   ]
  },
  {
   "cell_type": "code",
   "execution_count": 9,
   "metadata": {
    "colab": {
     "base_uri": "https://localhost:8080/"
    },
    "id": "0bXJ13E8tO45",
    "outputId": "9aa119ef-52bb-4025-deb1-5872df4aed31"
   },
   "outputs": [],
   "source": [
    "# your code here\n",
    "sentences = []\n",
    "data['Sentence number'] = data['Sentence #'].apply(lambda x: int(x.split(':')[1]))\n",
    "grouping = data.groupby('Sentence number')\n",
    "grouped_word = grouping['Word']\n",
    "grouped_tag = grouping['Tag']\n",
    "for word, tag in zip(grouped_word, grouped_tag):\n",
    "    sentences.append([(w, t) for (w, t) in zip(word[1].values, tag[1].values)])"
   ]
  },
  {
   "cell_type": "markdown",
   "metadata": {
    "id": "s0XTS_EutO47"
   },
   "source": [
    "<a id=\"s14\"></a>\n",
    "<div class='exercise-r'>  \n",
    "\n",
    "**[1.4:](#q14)** Find out the number of words in the longest sentence, and store it to variable `max_len`. **Print your results for `max_len`.**\n",
    "\n",
    "</div>"
   ]
  },
  {
   "cell_type": "code",
   "execution_count": 10,
   "metadata": {
    "id": "m2XHfkKWtO4-"
   },
   "outputs": [],
   "source": [
    "# your code here\n",
    "counts = data.groupby('Sentence #').count()['Word']\n",
    "max_len = counts.max()"
   ]
  },
  {
   "cell_type": "code",
   "execution_count": 11,
   "metadata": {
    "colab": {
     "base_uri": "https://localhost:8080/"
    },
    "id": "E77nyGbXtO4_",
    "outputId": "62bd1fd0-4268-437d-ee47-cfc379d0a2e5"
   },
   "outputs": [
    {
     "name": "stdout",
     "output_type": "stream",
     "text": [
      "The number of words in our longest sentence is: 104\n"
     ]
    }
   ],
   "source": [
    "# Run this cell to show your results for max_len\n",
    "print(\"The number of words in our longest sentence is: {}\".format(max_len))"
   ]
  },
  {
   "cell_type": "markdown",
   "metadata": {
    "id": "GO-shDtvtO5B"
   },
   "source": [
    "<a id=\"s15\"></a>\n",
    "<div class='exercise-r'>  \n",
    "\n",
    "**[1.5:](#q15)** It is now time to convert the sentences data in a suitable format for our RNN training and evaluation procedures. Create a `word2idx` dictionary that maps distinct words from the dataset into distinct integers. Also create an `idx2word` dictionary.\n",
    "\n",
    "</div>"
   ]
  },
  {
   "cell_type": "code",
   "execution_count": 12,
   "metadata": {
    "id": "k7YpPc3ftO5C"
   },
   "outputs": [],
   "source": [
    "# your code here\n",
    "word2idx = {word:i for i, word in enumerate(words)}\n",
    "idx2word = {i:word for i, word in enumerate(words)}"
   ]
  },
  {
   "cell_type": "markdown",
   "metadata": {
    "id": "lDOa_vbqtO5C"
   },
   "source": [
    "<a id=\"s16\"></a>\n",
    "<div class='exercise-r'>  \n",
    "\n",
    "**[1.6:](#q16)** Prepare the predictors matrix `X` as a list of lists, where each inner list is a sequence of words mapped into integers according to the `word2idx` dictionary.\n",
    "\n",
    "</div>"
   ]
  },
  {
   "cell_type": "code",
   "execution_count": 13,
   "metadata": {
    "id": "Zk3cNnGUtO5D"
   },
   "outputs": [],
   "source": [
    "# your code here\n",
    "X = []\n",
    "for sentence in sentences:\n",
    "    X.append([word2idx[word[0]] for word in sentence])"
   ]
  },
  {
   "cell_type": "markdown",
   "metadata": {
    "id": "3qLvSnV4tO5F"
   },
   "source": [
    "<a id=\"s17\"></a>\n",
    "<div class='exercise-r'>  \n",
    "\n",
    "**[1.7:](#q17)** Apply the Keras `pad_sequences` function to create standard length observations. You should retrieve a matrix with all padded sentences and length equal to the `max_len` previously computed. The dimensionality of your resulting `X` matrix should therefore be equal to `(# of sentences, max_len)`. Run the provided cell to print your results. Your `X[i]` now should be something similar to this:\n",
    "\n",
    "```\n",
    " [ 8193 27727 31033 33289 22577 33464 23723 16665 33464 31142 31319 28267\n",
    " 27700 33246 28646 16052    21 16915 17349  7924 32879 32985 18238 23555\n",
    "    24 35178 35178 35178 35178 35178 35178 35178 35178 35178 35178 35178\n",
    " 35178 35178 35178 35178 35178 35178 35178 35178 35178 35178 35178 35178\n",
    " 35178 35178 35178 35178 35178 35178 35178 35178 35178 35178 35178 35178\n",
    " 35178 35178 35178 35178 35178 35178 35178 35178 35178 35178 35178 35178\n",
    " 35178 35178 35178 35178 35178 35178 35178 35178 35178 35178 35178 35178\n",
    " 35178 35178 35178 35178 35178 35178 35178 35178 35178 35178 35178 35178\n",
    " 35178 35178 35178 35178 35178 35178 35178 35178]\n",
    "```\n",
    "\n",
    "</div>"
   ]
  },
  {
   "cell_type": "code",
   "execution_count": 14,
   "metadata": {
    "id": "pJYw3VTWtO5F"
   },
   "outputs": [],
   "source": [
    "# your code here\n",
    "X = pad_sequences(X, maxlen=max_len, value=word2idx['ENDPAD'], padding='post')"
   ]
  },
  {
   "cell_type": "code",
   "execution_count": 15,
   "metadata": {
    "colab": {
     "base_uri": "https://localhost:8080/"
    },
    "id": "MxDMT030tO5G",
    "outputId": "f0de4686-eabd-4b57-c248-353139023ae0"
   },
   "outputs": [
    {
     "name": "stdout",
     "output_type": "stream",
     "text": [
      "The index of word 'Harvard' is: 7506\n",
      "\n",
      "Sentence 1: [ 6283 27700 31967 25619 24853 33246 19981 25517 33246 29399 34878 19044\n",
      " 18095 34971 32712 31830 17742     1  4114 11464 11631 14985     1 17364\n",
      "     1 14484 33246  3881    24     1 35178 35178 35178 35178 35178 35178\n",
      " 35178 35178 35178 35178 35178 35178 35178 35178 35178 35178 35178 35178\n",
      " 35178 35178 35178 35178 35178 35178 35178 35178 35178 35178 35178 35178\n",
      " 35178 35178 35178 35178 35178 35178 35178 35178 35178 35178 35178 35178\n",
      " 35178 35178 35178 35178 35178 35178 35178 35178 35178 35178 35178 35178\n",
      " 35178 35178 35178 35178 35178 35178 35178 35178 35178 35178 35178 35178\n",
      " 35178 35178 35178 35178 35178 35178 35178 35178]\n",
      "\n",
      "The shape of the X array is: (47959, 104)\n"
     ]
    }
   ],
   "source": [
    "# Run this cell to show your results\n",
    "print(\"The index of word 'Harvard' is: {}\\n\".format(word2idx[\"Harvard\"]))\n",
    "print(\"Sentence 1: {}\\n\".format(X[1]))\n",
    "print(\"The shape of the X array is: {}\".format(X.shape))"
   ]
  },
  {
   "cell_type": "markdown",
   "metadata": {
    "id": "X5U-dY8htO5I"
   },
   "source": [
    "<a id=\"s18\"></a>\n",
    "<div class='exercise-r'>  \n",
    "\n",
    "**[1.8:](#q18)** Create a `tag2idx` dictionary mapping distinct named entity tags from the dataset into distinct integers. Also create a `idx2tag` dictionary.\n",
    "\n",
    "</div>"
   ]
  },
  {
   "cell_type": "code",
   "execution_count": 16,
   "metadata": {
    "id": "HFYq42y8tO5J"
   },
   "outputs": [],
   "source": [
    "# your code here\n",
    "tag2idx = {tag:i for i, tag in enumerate(tags)}\n",
    "idx2tag = {i:tag for i, tag in enumerate(tags)}"
   ]
  },
  {
   "cell_type": "markdown",
   "metadata": {
    "id": "j5Zvo7xMtO5L"
   },
   "source": [
    "<a id=\"s19\"></a>\n",
    "<div class='exercise-r'>  \n",
    "\n",
    "**[1.9:](#q19)** Prepare the targets matrix `Y` as a list of lists, where each inner list is a sequence of tags mapped into integers according to the `tag2idx` dictionary.\n",
    "\n",
    "</div>"
   ]
  },
  {
   "cell_type": "code",
   "execution_count": 18,
   "metadata": {
    "id": "M9TRw2fdtO5M"
   },
   "outputs": [],
   "source": [
    "# your code here\n",
    "Y = []\n",
    "for sentence in sentences:\n",
    "    Y.append([tag2idx[word[1]] for word in sentence])"
   ]
  },
  {
   "cell_type": "markdown",
   "metadata": {
    "id": "mcIyIavCtO5N"
   },
   "source": [
    "<a id=\"s110\"></a>\n",
    "<div class='exercise-r'>  \n",
    "\n",
    "**[1.10:](#q110)** Apply the Keras `pad_sequences` function to standardize the targets. Inject the `PAD` tag integer value for the padding words. Your result should be a `Y` matrix with all padded sentences' tags and length equal to the `max_len` previously computed.\n",
    "\n",
    "</div>"
   ]
  },
  {
   "cell_type": "code",
   "execution_count": 19,
   "metadata": {
    "id": "DYvFmiYetO5N"
   },
   "outputs": [],
   "source": [
    "# your code here\n",
    "Y = pad_sequences(Y, max_len, value = tag2idx['PAD'], padding='post')"
   ]
  },
  {
   "cell_type": "code",
   "execution_count": 20,
   "metadata": {},
   "outputs": [
    {
     "name": "stdout",
     "output_type": "stream",
     "text": [
      "The shape of the Y array is: (47959, 104)\n"
     ]
    }
   ],
   "source": [
    "print(\"The shape of the Y array is: {}\".format(Y.shape))"
   ]
  },
  {
   "cell_type": "markdown",
   "metadata": {
    "id": "SzZWq9N_tO5Q"
   },
   "source": [
    "<a id=\"s111\"></a>\n",
    "<div class='exercise-r'>  \n",
    "\n",
    "**[1.11:](#q111)** Use the Keras `to_categorical` function to one-hot-encode the tags. The dimensionality of your resulting `Y` matrix should be equal to `(# of sentences, max_len, n_tags)`. Run the provided cell to print your results.\n",
    "\n",
    "</div>"
   ]
  },
  {
   "cell_type": "code",
   "execution_count": 21,
   "metadata": {
    "id": "K-z0JuoWtO5S"
   },
   "outputs": [],
   "source": [
    "# your code here\n",
    "Y = to_categorical(Y)"
   ]
  },
  {
   "cell_type": "code",
   "execution_count": 22,
   "metadata": {
    "colab": {
     "base_uri": "https://localhost:8080/"
    },
    "id": "LzwnXzK7tO5T",
    "outputId": "b7472ce7-e1f1-448f-ce37-20d7ad68fe8a"
   },
   "outputs": [
    {
     "name": "stdout",
     "output_type": "stream",
     "text": [
      "The index of tag 'B-gpe' is: 3\n",
      "\n",
      "The tag of the last word in Sentence 1: [0. 0. 0. 0. 0. 0. 0. 0. 0. 0. 0. 0. 0. 0. 0. 0. 0. 1.]\n",
      "\n",
      "The shape of the Y array is: (47959, 104, 18)\n"
     ]
    }
   ],
   "source": [
    "# Run this cell to show your results\n",
    "print(\"The index of tag 'B-gpe' is: {}\\n\".format(tag2idx[\"B-gpe\"]))\n",
    "print(\"The tag of the last word in Sentence 1: {}\\n\".format(Y[0][-1]))\n",
    "print(\"The shape of the Y array is: {}\".format(Y.shape))"
   ]
  },
  {
   "cell_type": "markdown",
   "metadata": {
    "id": "jJl5Jw_VtO5X"
   },
   "source": [
    "<a id=\"s112\"></a>\n",
    "<div class='exercise-r'>  \n",
    "\n",
    "**[1.12:](#q112)** Split the dataset into train and test sets with a 10% test split using `109` for your random state. Assign your training data to the variables `X_tr` and `y_tr` and your test data to the variables `X_te` and `y_te`.\n",
    "\n",
    "</div>"
   ]
  },
  {
   "cell_type": "code",
   "execution_count": 23,
   "metadata": {
    "colab": {
     "base_uri": "https://localhost:8080/"
    },
    "id": "I2RpQsTOtO5Y",
    "outputId": "b3cc3816-0bcb-4fcb-de5d-0bbceebb8a68"
   },
   "outputs": [],
   "source": [
    "# your code here\n",
    "X_tr, X_te, y_tr, y_te = train_test_split(X, Y, test_size=0.1, random_state=109)"
   ]
  },
  {
   "cell_type": "code",
   "execution_count": 24,
   "metadata": {},
   "outputs": [
    {
     "name": "stdout",
     "output_type": "stream",
     "text": [
      "The shapes of the resulting train-test splits are:\n",
      "\n",
      "\tX_train\t(43163, 104)\n",
      "\ty_train\t(43163, 104, 18)\n",
      "\n",
      "\tX_test\t(4796, 104)\n",
      "\ty_test\t(4796, 104, 18)\n",
      "\n"
     ]
    }
   ],
   "source": [
    "# Run this cell to show your results\n",
    "print(\n",
    "    \"The shapes of the resulting train-test splits are:\\n\\n\"\n",
    "    \"\\tX_train\\t{}\\n\\ty_train\\t{}\\n\\n\\tX_test\\t{}\\n\\ty_test\\t{}\\n\"\n",
    "    \"\".format(X_tr.shape, y_tr.shape, X_te.shape, y_te.shape)\n",
    ")"
   ]
  },
  {
   "cell_type": "markdown",
   "metadata": {
    "id": "RzdNQLIPtO5a"
   },
   "source": [
    "<a id=\"part2\"></a>\n",
    "    \n",
    "<!-- <div class=\"alert alert-block alert-danger\" style=\"color:black;background-color:#E7F4FA\"> -->\n",
    "\n",
    "# PART 2 [ 38 pts ]: Modelling\n",
    "\n",
    "[Return to contents](#contents)\n"
   ]
  },
  {
   "cell_type": "markdown",
   "metadata": {
    "id": "pk6vsCNKtO5a"
   },
   "source": [
    "<a id=\"part2intro\"></a>\n",
    "\n",
    "## Overview\n",
    "\n",
    "[Return to contents](#contents)"
   ]
  },
  {
   "cell_type": "markdown",
   "metadata": {
    "id": "iTEEKe9XtO5b"
   },
   "source": [
    "**After preparing the train and test sets, we are ready to build five models:**\n",
    "\n",
    "1. Frequency-based (Baseline) \n",
    "2. Feed forward neural network (FNN)\n",
    "3. Recurrent neural network (RNN)\n",
    "4. Gated recurrent neural network (GRU)\n",
    "5. Bidirectional gated recurrent neural network (Bidirectional GRU)\n",
    "\n",
    "More details are given about the desired architectures in each model's section in [PART 2: Questions](#part2questions) below. The input and output dimensions (i.e. the shapes of the inputs and outputs) will be the same for all models:\n",
    "\n",
    "- input: `[# of sentences, max_len]`\n",
    "- output: `[# of sentences, max_len, n_tags]`\n",
    "\n",
    "Follow the information in each model's section to set up the architecture of the model. And, after training each model, use the given `store_keras_model` function to store the weights and architectures in the `./models` path for later testing. A `load_keras_model` function is also provided to you.\n",
    "\n",
    "A further `plot_training_history` helper function is given to illustrate the training history.\n",
    "\n",
    "**Here are the provided helper functions described above:**"
   ]
  },
  {
   "cell_type": "code",
   "execution_count": 25,
   "metadata": {
    "id": "JkVtPGkmtO5b"
   },
   "outputs": [],
   "source": [
    "# RUN THIS CELL\n",
    "\n",
    "# Store model\n",
    "def store_keras_model(model, model_name):\n",
    "    \"\"\"Save model and weights as model_name in models folder\n",
    "    \n",
    "    :param model: trained Keras model object\n",
    "    :param model_name: str, name under which to save the model\n",
    "    \"\"\"\n",
    "    # serialize model to JSON\n",
    "    model_json = model.to_json()\n",
    "    if not os.path.exists(\"models\"):\n",
    "        os.mkdir(\"models\")\n",
    "    with open(\"./models/{}.json\".format(model_name), \"w\") as json_file:\n",
    "        json_file.write(model_json)\n",
    "    # serialize weights to HDF5\n",
    "    model.save_weights(\"./models/{}.h5\".format(model_name))\n",
    "    print(\"Saved model to disk\")\n",
    "\n",
    "\n",
    "# Load model \n",
    "def load_keras_model(model_name):\n",
    "    \"\"\"Load model_name from models folder in working directory\n",
    "    \n",
    "    :param model_name: str, name of saved model\n",
    "    :return: Keras model object loaded from disk\n",
    "    \"\"\"\n",
    "    # Load json and create model\n",
    "    json_file = open(\"./models/{}.json\".format(model_name), \"r\")\n",
    "    loaded_model_json = json_file.read()\n",
    "    json_file.close()\n",
    "    model = tf.keras.models.model_from_json(loaded_model_json)\n",
    "    # Load weights into new model\n",
    "    model.load_weights(\"./models/{}.h5\".format(model_name))\n",
    "    return model\n",
    "\n",
    "\n",
    "# Plot history\n",
    "def plot_training_history(\n",
    "    history, model_title, loss_name=\"Categorical Cross-entropy\"\n",
    "):\n",
    "    \"\"\"Plot training and validation loss over all trained epochs\n",
    "    \n",
    "    :param history: Keras model training history object\n",
    "    :param model_title: str, descriptive model name for use in plot title\n",
    "    :param loss_name: str, name of loss type used in model for labeling\n",
    "                      y-axis (default=\"Categorical Cross-entropy\")\n",
    "    \"\"\"\n",
    "    loss = history.history[\"loss\"]\n",
    "    val_loss = history.history[\"val_loss\"]\n",
    "    epochs = range(1,len(loss)+1)\n",
    "\n",
    "    fig, ax = plt.subplots(figsize=(7,4))\n",
    "    plt.plot(epochs, loss, \"k--\", label=\"Training loss\")\n",
    "    plt.plot(epochs, val_loss, \"ko-\", label=\"Validation loss\")\n",
    "    plt.title(\n",
    "        \"{}\\nTraining and Validation Loss\".format(model_title), fontsize=14\n",
    "    )\n",
    "    plt.xlabel(\"Epoch\", fontsize=12)\n",
    "    plt.ylabel(\"{}\".format(loss_name), fontsize=12)\n",
    "    if len(loss)<31:\n",
    "        plt.xticks(range(1,len(loss)+1))\n",
    "    plt.grid(\":\", alpha=0.4)\n",
    "    plt.legend(fontsize=11)\n",
    "    plt.tight_layout()\n",
    "    plt.show();"
   ]
  },
  {
   "cell_type": "markdown",
   "metadata": {
    "id": "2V-uadsxtO5b"
   },
   "source": [
    "<a id=\"part2questions\"></a>\n",
    "\n",
    "### <div class='exercise'>PART 2: Questions</div> \n",
    "Predict the named entity tag of a word to be its most frequently-seen tag in the training set.\n",
    "[Return to contents](#contents)\n",
    "\n",
    "<a id=\"q21\"></a>\n",
    "\n",
    "**[2.1:](#s21)** **MODEL 1: Baseline**\n",
    "\n",
    "Predict the named entity tag of a word to be its most frequently-seen tag in the training set.\n",
    "\n",
    "- For example, let's say the word \"Apple\" appears 10 times in the training set and 7 times it was tagged as \"Corporate\" and 3 times it was tagged as \"Fruit\". If we encounter the word \"Apple\" in the test set, our Baseline model should predict it as \"Corporate\".\n",
    "\n",
    "**Create an np.array `baseline` of length [n_words]** where the $i$-th element `baseline[i]` is the index of the most commonly seen named entity tag of word $i$ summarized from the training set (e.g. `[16, 16, 16, ..., 0, 16, 16]`). For words that aren't present in the training set, use the default tag `\"O\"`.\n",
    "\n",
    "\n",
    "<a id=\"q22\"></a>\n",
    "\n",
    "**[2.2:](#s22)** **MODEL 2: Feed Forward Neural Network**\n",
    "\n",
    "This model is provided for you. Please pay attention to the architecture of this neural network, especially the input and output dimensionalities and the Embedding layer.\n",
    "\n",
    "<a id=\"q22a\"></a>\n",
    "\n",
    "- **[2.2.a:](#s22a)** Explain what the Embedding layer is and why we need it here.\n",
    "\n",
    "<a id=\"q22b\"></a>\n",
    "\n",
    "- **[2.2.b:](#s22b)** Explain why the Param # of the Embedding layer is 1,758,950 (as shown in `print(model.summary())`).\n",
    "\n",
    "<a id=\"q22c\"></a>\n",
    "\n",
    "- **[2.2.c:](#s22c)** In addition to our models' final results, we often want to inspect intermediate results. For this, we can get outputs from a hidden layer and reduce the dimensionality of those outputs using PCA so that we can visualize them in 2-dimensional space.\n",
    "  - Using the code provided to you in this question, visualize outputs from the Embedding layer in your feed-forward neural network, with one subplot for **B-tags** and one subplot for **I-tags**. (Please note that you should be able to generate these plots by simply running the code provided to you.)\n",
    "  - Comment on the patterns you observe in the plotted output.\n",
    "\n",
    "<a id=\"q23\"></a>\n",
    "\n",
    "**[2.3:](#s23)** **MODEL 3: RNN**\n",
    "\n",
    "Set up a simple RNN model by stacking the following layers in sequence:\n",
    "\n",
    "  - an Input \"layer\"\n",
    "  - a simple Embedding layer transforming integer words into vectors\n",
    "  - a Dropout layer to regularize the model\n",
    "  - a SimpleRNN layer\n",
    "  - a TimeDistributed layer with an inner Dense layer which output dimensionality is equal to `n_tag`\n",
    "    \n",
    "For hyperparameters in this model as well as the subsequent models in 2.4 and 2.5, please use those provided to you in MODEL 2.\n",
    "\n",
    "\n",
    "<a id=\"q23a\"></a>\n",
    "\n",
    "- **[2.3.a:](#s23a)** Define, compile, and train an RNN model. Use the provided code to save the model and plot the training history.\n",
    "\n",
    "\n",
    "<a id=\"q23b\"></a>\n",
    "\n",
    "- **[2.3.b:](#s23b)** Using the functions provided to you [in 2.2.c](#s22c), visualize outputs from the SimpleRNN layer, one subplot for **B-tags** and one subplot for **I-tags**. Comment on the patterns you observed.\n",
    "\n",
    "\n",
    "<a id=\"q24\"></a>\n",
    "\n",
    "**[2.4:](#s24)** **MODEL 4: GRU**\n",
    "\n",
    "\n",
    "<a id=\"q24\"></a>\n",
    "\n",
    "- **[2.4.a:](#s24a)** Briefly explain what a GRU is and how it is different from a simple RNN.\n",
    "\n",
    "\n",
    "<a id=\"q24b\"></a>\n",
    "\n",
    "- **[2.4.b:](#s24b)** Define, compile, and train a GRU architecture by replacing the SimpleRNN cell with a GRU one. Use the provided code to save the model and plot the training history.\n",
    "\n",
    "\n",
    "<a id=\"q24c\"></a>\n",
    "\n",
    "- **[2.4.c:](#s24c)** Using the functions provided to you [in 2.2.c](#s22c), visualize outputs from the GRU layer, one subplot for **B-tags** and one subplot for **I-tags**. Comment on the patterns you observed.\n",
    "\n",
    "\n",
    "<a id=\"q25\"></a>\n",
    "\n",
    "**[2.5:](#s25)** **MODEL 5: Bidirectional GRU**\n",
    "\n",
    "<a id=\"q25a\"></a>\n",
    "\n",
    "- **[2.5.a:](#s25a)** Explain how a Bidirectional GRU differs from the GRU model above.\n",
    "\n",
    "\n",
    "<a id=\"q25b\"></a>\n",
    "\n",
    "- **[2.5.b:](#s25b)** Define, compile, and train a Bidirectional GRU by wrapping your GRU layer in a Bidirectional one. Use the provided code to save the model and plot the training history.\n",
    "\n",
    "\n",
    "<a id=\"q25c\"></a>\n",
    "\n",
    "- **[2.5.c:](#s25c)**  Using the functions provided to you [in 2.2.c](#s22c), visualize outputs from the Bidirectional GRU layer, one subplot for **B-tags** and one subplot for **I-tags**. Comment on the patterns you observed."
   ]
  },
  {
   "cell_type": "markdown",
   "metadata": {
    "id": "sAd7ouT7tO5c"
   },
   "source": [
    "<a id=\"part2solutions\"></a>\n",
    "\n",
    "## PART 2: Solutions\n",
    "\n",
    "[Return to contents](#contents)"
   ]
  },
  {
   "cell_type": "markdown",
   "metadata": {
    "id": "XsGLSaSLtO5c"
   },
   "source": [
    "<a id=\"s21\"></a>\n",
    "<div class='exercise-r'>  \n",
    "\n",
    "**[2.1:](#q21)** **MODEL 1: Baseline**\n",
    "\n",
    "Predict the named entity tag of a word to be its most frequently-seen tag in the training set.\n",
    "\n",
    "- For example, let's say the word \"Apple\" appears 10 times in the training set and 7 times it was tagged as \"Corporate\" and 3 times it was tagged as \"Fruit\". If we encounter the word \"Apple\" in the test set, our Baseline model should predict it as \"Corporate\".\n",
    "\n",
    "**Create an np.array `baseline` of length [n_words]** where the $i$-th element `baseline[i]` is the index of the most commonly seen named entity tag of word $i$ summarized from the training set (e.g. `[16, 16, 16, ..., 0, 16, 16]`). For words that aren't present in the training set, use the default tag `\"O\"`.\n",
    "\n",
    "</div>"
   ]
  },
  {
   "cell_type": "code",
   "execution_count": 36,
   "metadata": {
    "id": "xBD5oL7stO5d"
   },
   "outputs": [],
   "source": [
    "# your code here\n",
    "from collections import Counter\n",
    "\n",
    "words_to_tags = {}\n",
    "for sentence in sentences:\n",
    "    for word in sentence:\n",
    "        if words_to_tags.get(word[0]) is None:\n",
    "            words_to_tags[word[0]] = [word[1]]\n",
    "        else:\n",
    "            words_to_tags[word[0]].append(word[1])\n",
    "\n",
    "for word in words_to_tags:\n",
    "    counter = Counter(words_to_tags[word])\n",
    "    most_frequent_tag = list(counter.keys())[0]\n",
    "    words_to_tags[word] = most_frequent_tag\n",
    "    \n",
    "baseline = []\n",
    "for index in range(n_words):\n",
    "    word = idx2word.get(index)\n",
    "    most_frequent_tag_index = words_to_tags.get(word, None)\n",
    "    if most_frequent_tag_index is None:\n",
    "        baseline.append(tag2idx.get('O'))\n",
    "    else:\n",
    "        baseline.append(int(tag2idx.get(most_frequent_tag_index)))\n",
    "\n",
    "baseline = np.array(baseline)"
   ]
  },
  {
   "cell_type": "code",
   "execution_count": 37,
   "metadata": {
    "colab": {
     "base_uri": "https://localhost:8080/"
    },
    "id": "8wIDHnA8tO5e",
    "outputId": "ec6a6e61-9343-4f9b-f28a-af03d28d2e7c"
   },
   "outputs": [
    {
     "name": "stdout",
     "output_type": "stream",
     "text": [
      "The baseline array is shape: (35179,)\n",
      "The training predictions array is shape: (43163, 104)\n",
      "\n",
      "Sentence:\n",
      " ['Mr.', 'Abbas', 'heads', 'the', 'Fatah', 'faction', ',', 'which', 'is', 'a', 'fierce', 'rival', 'of', 'Hamas', '.', 'ENDPAD', 'ENDPAD', 'ENDPAD', 'ENDPAD', 'ENDPAD', 'ENDPAD', 'ENDPAD', 'ENDPAD', 'ENDPAD', 'ENDPAD', 'ENDPAD', 'ENDPAD', 'ENDPAD', 'ENDPAD', 'ENDPAD', 'ENDPAD', 'ENDPAD', 'ENDPAD', 'ENDPAD', 'ENDPAD', 'ENDPAD', 'ENDPAD', 'ENDPAD', 'ENDPAD', 'ENDPAD', 'ENDPAD', 'ENDPAD', 'ENDPAD', 'ENDPAD', 'ENDPAD', 'ENDPAD', 'ENDPAD', 'ENDPAD', 'ENDPAD', 'ENDPAD', 'ENDPAD', 'ENDPAD', 'ENDPAD', 'ENDPAD', 'ENDPAD', 'ENDPAD', 'ENDPAD', 'ENDPAD', 'ENDPAD', 'ENDPAD', 'ENDPAD', 'ENDPAD', 'ENDPAD', 'ENDPAD', 'ENDPAD', 'ENDPAD', 'ENDPAD', 'ENDPAD', 'ENDPAD', 'ENDPAD', 'ENDPAD', 'ENDPAD', 'ENDPAD', 'ENDPAD', 'ENDPAD', 'ENDPAD', 'ENDPAD', 'ENDPAD', 'ENDPAD', 'ENDPAD', 'ENDPAD', 'ENDPAD', 'ENDPAD', 'ENDPAD', 'ENDPAD', 'ENDPAD', 'ENDPAD', 'ENDPAD', 'ENDPAD', 'ENDPAD', 'ENDPAD', 'ENDPAD', 'ENDPAD', 'ENDPAD', 'ENDPAD', 'ENDPAD', 'ENDPAD', 'ENDPAD', 'ENDPAD', 'ENDPAD', 'ENDPAD', 'ENDPAD', 'ENDPAD', 'ENDPAD']\n",
      "\n",
      "Predicted Tags:\n",
      " ['B-per', 'I-per', 'O', 'O', 'B-org', 'O', 'O', 'O', 'O', 'O', 'O', 'O', 'O', 'B-org', 'O', 'O', 'O', 'O', 'O', 'O', 'O', 'O', 'O', 'O', 'O', 'O', 'O', 'O', 'O', 'O', 'O', 'O', 'O', 'O', 'O', 'O', 'O', 'O', 'O', 'O', 'O', 'O', 'O', 'O', 'O', 'O', 'O', 'O', 'O', 'O', 'O', 'O', 'O', 'O', 'O', 'O', 'O', 'O', 'O', 'O', 'O', 'O', 'O', 'O', 'O', 'O', 'O', 'O', 'O', 'O', 'O', 'O', 'O', 'O', 'O', 'O', 'O', 'O', 'O', 'O', 'O', 'O', 'O', 'O', 'O', 'O', 'O', 'O', 'O', 'O', 'O', 'O', 'O', 'O', 'O', 'O', 'O', 'O', 'O', 'O', 'O', 'O', 'O', 'O']\n"
     ]
    }
   ],
   "source": [
    "# Run this cell to show your results\n",
    "print(\"The baseline array is shape: {}\".format(baseline.shape))\n",
    "print(\n",
    "    \"The training predictions array is shape: {}\\n\".format(baseline[X_tr].shape)\n",
    ")\n",
    "print(\"Sentence:\\n {}\\n\".format([idx2word[w] for w in X_tr[0]]))\n",
    "print(\"Predicted Tags:\\n {}\".format([idx2tag[int(i)] for i in baseline[X_tr[0]]]))"
   ]
  },
  {
   "cell_type": "markdown",
   "metadata": {
    "id": "GlSCZ01QtO5f"
   },
   "source": [
    "<a id=\"s22\"></a>\n",
    "<div class='exercise-r'>  \n",
    "\n",
    "**[2.2:](#q22)** **MODEL 2: Feed Forward Neural Network**\n",
    "\n",
    "This model is provided for you. Please pay attention to the architecture of this neural network, especially the input and output dimensionalities and the Embedding layer.\n",
    "\n",
    "</div>"
   ]
  },
  {
   "cell_type": "markdown",
   "metadata": {
    "id": "C9G7IONHtO5g"
   },
   "source": [
    "### Use these hyperparameters for all NN models"
   ]
  },
  {
   "cell_type": "code",
   "execution_count": 40,
   "metadata": {
    "id": "PnZ_Dg4dtO5h"
   },
   "outputs": [],
   "source": [
    "n_units = 100\n",
    "drop_rate = .1\n",
    "dim_embed = 50\n",
    "\n",
    "optimizer = \"rmsprop\"\n",
    "loss = \"categorical_crossentropy\"\n",
    "metrics = [\"accuracy\"]\n",
    "\n",
    "batch_size = 32\n",
    "epochs = 10\n",
    "validation_split = 0.1\n",
    "verbose = 1"
   ]
  },
  {
   "cell_type": "code",
   "execution_count": 41,
   "metadata": {
    "id": "vylZBUbUtO5h"
   },
   "outputs": [],
   "source": [
    "# Define model\n",
    "model_title = \"Feed-forward Neural Network (FFNN)\"\n",
    "model = tf.keras.Sequential()\n",
    "model.add(\n",
    "    tf.keras.layers.Embedding(\n",
    "        input_dim=n_words, output_dim=dim_embed, input_length=max_len\n",
    "    )\n",
    ")\n",
    "model.add(tf.keras.layers.Dropout(drop_rate))\n",
    "model.add(tf.keras.layers.Dense(n_tags, activation=\"softmax\"))\n",
    "\n",
    "# Compile model\n",
    "model.compile(optimizer=optimizer, loss=loss, metrics=metrics)"
   ]
  },
  {
   "cell_type": "code",
   "execution_count": 42,
   "metadata": {
    "colab": {
     "base_uri": "https://localhost:8080/"
    },
    "id": "iUtAAWL9tO5h",
    "outputId": "537d624a-fdd0-4ad3-8a86-a2065dfb1712"
   },
   "outputs": [
    {
     "name": "stdout",
     "output_type": "stream",
     "text": [
      "Model: \"sequential_1\"\n",
      "_________________________________________________________________\n",
      "Layer (type)                 Output Shape              Param #   \n",
      "=================================================================\n",
      "embedding_1 (Embedding)      (None, 104, 50)           1758950   \n",
      "_________________________________________________________________\n",
      "dropout_1 (Dropout)          (None, 104, 50)           0         \n",
      "_________________________________________________________________\n",
      "dense_1 (Dense)              (None, 104, 18)           918       \n",
      "=================================================================\n",
      "Total params: 1,759,868\n",
      "Trainable params: 1,759,868\n",
      "Non-trainable params: 0\n",
      "_________________________________________________________________\n",
      "None\n"
     ]
    }
   ],
   "source": [
    "print(model.summary())"
   ]
  },
  {
   "cell_type": "code",
   "execution_count": 43,
   "metadata": {
    "colab": {
     "base_uri": "https://localhost:8080/"
    },
    "id": "LV8xgVWntO5i",
    "outputId": "deca97c3-63f2-4afd-c950-bc393806b8c3"
   },
   "outputs": [
    {
     "name": "stdout",
     "output_type": "stream",
     "text": [
      "Epoch 1/10\n",
      "1214/1214 [==============================] - 7s 5ms/step - loss: 0.8235 - accuracy: 0.9596 - val_loss: 0.0622 - val_accuracy: 0.9853\n",
      "Epoch 2/10\n",
      "1214/1214 [==============================] - 6s 5ms/step - loss: 0.0536 - accuracy: 0.9863 - val_loss: 0.0500 - val_accuracy: 0.9863\n",
      "Epoch 3/10\n",
      "1214/1214 [==============================] - 6s 5ms/step - loss: 0.0457 - accuracy: 0.9870 - val_loss: 0.0473 - val_accuracy: 0.9869\n",
      "Epoch 4/10\n",
      "1214/1214 [==============================] - 6s 5ms/step - loss: 0.0424 - accuracy: 0.9878 - val_loss: 0.0459 - val_accuracy: 0.9872\n",
      "Epoch 5/10\n",
      "1214/1214 [==============================] - 6s 5ms/step - loss: 0.0412 - accuracy: 0.9881 - val_loss: 0.0451 - val_accuracy: 0.9874\n",
      "Epoch 6/10\n",
      "1214/1214 [==============================] - 6s 5ms/step - loss: 0.0398 - accuracy: 0.9886 - val_loss: 0.0446 - val_accuracy: 0.9875\n",
      "Epoch 7/10\n",
      "1214/1214 [==============================] - 6s 5ms/step - loss: 0.0393 - accuracy: 0.9888 - val_loss: 0.0443 - val_accuracy: 0.9876\n",
      "Epoch 8/10\n",
      "1214/1214 [==============================] - 6s 5ms/step - loss: 0.0392 - accuracy: 0.9888 - val_loss: 0.0440 - val_accuracy: 0.9876\n",
      "Epoch 9/10\n",
      "1214/1214 [==============================] - 6s 5ms/step - loss: 0.0389 - accuracy: 0.9889 - val_loss: 0.0438 - val_accuracy: 0.9877\n",
      "Epoch 10/10\n",
      "1214/1214 [==============================] - 6s 5ms/step - loss: 0.0382 - accuracy: 0.9891 - val_loss: 0.0437 - val_accuracy: 0.9877\n",
      "CPU times: user 1min 55s, sys: 10.4 s, total: 2min 5s\n",
      "Wall time: 1min 4s\n"
     ]
    }
   ],
   "source": [
    "%%time\n",
    "# Train model\n",
    "history = model.fit(X_tr, y_tr, batch_size=batch_size, epochs=epochs, \n",
    "                    validation_split=validation_split, verbose=verbose)"
   ]
  },
  {
   "cell_type": "code",
   "execution_count": 44,
   "metadata": {
    "colab": {
     "base_uri": "https://localhost:8080/"
    },
    "id": "NW4uML9vtO5j",
    "outputId": "f92cc1e9-51c2-4e6e-9370-90f041f0fb72"
   },
   "outputs": [
    {
     "name": "stdout",
     "output_type": "stream",
     "text": [
      "Saved model to disk\n"
     ]
    }
   ],
   "source": [
    "store_keras_model(model, \"model_FFNN\")"
   ]
  },
  {
   "cell_type": "code",
   "execution_count": 45,
   "metadata": {
    "colab": {
     "base_uri": "https://localhost:8080/",
     "height": 297
    },
    "id": "fokpW5betO5j",
    "outputId": "670acc19-e8bc-4aa9-f806-9c8c9b71d1a7"
   },
   "outputs": [
    {
     "data": {
      "image/png": "[encoded data removed]",
      "text/plain": [
       "<Figure size 504x288 with 1 Axes>"
      ]
     },
     "metadata": {
      "needs_background": "light"
     },
     "output_type": "display_data"
    }
   ],
   "source": [
    "plot_training_history(history, model_title)"
   ]
  },
  {
   "cell_type": "markdown",
   "metadata": {
    "id": "tzfduf7CtO5j"
   },
   "source": [
    "<a id=\"s22a\"></a>\n",
    "<div class='exercise-r'>  \n",
    "\n",
    "**[2.2.a:](#q22a)** Explain what the Embedding layer is and why we need it here.\n",
    "\n",
    "</div>"
   ]
  },
  {
   "cell_type": "markdown",
   "metadata": {
    "id": "rN8O9aVltO5l"
   },
   "source": [
    "**INTERPRETATION:**"
   ]
  },
  {
   "cell_type": "markdown",
   "metadata": {
    "id": "T2dh-3LQtO5l"
   },
   "source": [
    "An embedding layer is a 'representational layer'. It projects the inputs into a lower dimension in order to benefit from a better representation of our inputs. \n",
    "\n",
    "*Why is it better ?* Our initial input is sparse, padded and not normalized (with numbers between 1 and 35000). Projecting this input into a lower dimension space (here $50$) will present several advantages:\n",
    "- Benefit from representations in space with lower dimension. This allows us to leverage Dense layers without having to use tens of millions of parameters. Indeed, suppose we had a dense layer with 500 hidden units before the output layer: the number of parameters would have been $35000*500 + 500*16$ (let aside bias) which would be far greater\n",
    "- Benefit from **dense representations**. Our initial representations were quite sparse, because of the padding. Using an Embedding layer will allow us to benefit from more dense representations\n",
    "- Have a representation for the input words: this embedding layer could serve for other downstream tasks\n",
    "- Projecting the inputs into a lower dimensional space allows us to have some better performances for our model (should the dimension of the embedding be well chosen)"
   ]
  },
  {
   "cell_type": "markdown",
   "metadata": {
    "id": "00YQsFkPtO5m"
   },
   "source": [
    "<a id=\"s22b\"></a>\n",
    "<div class='exercise-r'>  \n",
    "\n",
    "**[2.2.b:](#q22b)** Explain why the Param # of the Embedding layer is 1,758,950 (as shown in `print(model.summary())`).\n",
    "\n",
    "</div>"
   ]
  },
  {
   "cell_type": "markdown",
   "metadata": {
    "id": "V1rP7uJKtO5m"
   },
   "source": [
    "**INTERPRETATION:**"
   ]
  },
  {
   "cell_type": "markdown",
   "metadata": {},
   "source": [
    "The parameters of the embedding layer are the weights of the projection matrix (or a lookup table). The effect of the embedding layer is projecting the input in a subspace. Therefore, its action is $H = U^TX$, where the shape of $U$ is $(n_{words}, dim_{embed})$"
   ]
  },
  {
   "cell_type": "code",
   "execution_count": 167,
   "metadata": {},
   "outputs": [
    {
     "data": {
      "text/plain": [
       "1758950"
      ]
     },
     "execution_count": 167,
     "metadata": {},
     "output_type": "execute_result"
    }
   ],
   "source": [
    "n_words*dim_embed"
   ]
  },
  {
   "cell_type": "markdown",
   "metadata": {},
   "source": [
    "<a id=\"s22c\"></a>\n",
    "<div class='exercise-r'>  \n",
    "\n",
    "**[2.2.c:](#q22c)** In addition to our models' final results, we often want to inspect intermediate results. For this, we can get outputs from a hidden layer and reduce the dimensionality of those outputs using PCA so that we can visualize them in 2-dimensional space.\n",
    "  - Using the code provided to you in this question, visualize outputs from the Embedding layer in your feed-forward neural network, with one subplot for **B-tags** and one subplot for **I-tags**. (Please note that you should be able to generate these plots by simply running the code provided to you.)\n",
    "  - Comment on the patterns you observe in the plotted output.\n",
    "</div>"
   ]
  },
  {
   "cell_type": "code",
   "execution_count": 46,
   "metadata": {
    "id": "eIDD4sV5tO5p"
   },
   "outputs": [],
   "source": [
    "def get_hidden_output_PCA(\n",
    "    model, X_test, layer_index, out_dimension, model_title\n",
    "):\n",
    "    \"\"\"Generate hidden layer output PCA transformation\n",
    "    \n",
    "    Captures the output of a specific layer in a Keras model and then \n",
    "    returns a transformed PCA object. Also, prints the variance explained \n",
    "    by the first two principal components.  \n",
    "    \n",
    "    :param model: Keras trained model object\n",
    "    :param X_test: np.array, X test data\n",
    "    :param layer_index: int, index of model layer for which to inspect output\n",
    "    :param out_dimension: int, output embedding dimension of chosen layer\n",
    "    :param model_title: str, descriptive model name for use in printed output\n",
    "    :return: Fitted and transformed sklearn PCA model object\n",
    "    \"\"\"\n",
    "    output = tf.keras.backend.function(\n",
    "        [model.layers[0].input],[model.layers[layer_index].output]\n",
    "    )\n",
    "    hidden_feature = np.array(output([X_test]))\n",
    "    hidden_feature = hidden_feature.reshape(-1, out_dimension)\n",
    "    \n",
    "    pca = PCA(n_components=2)\n",
    "    pca_result = pca.fit_transform(hidden_feature)\n",
    "    print(\n",
    "        \"{}\\nHidden features' variance explained by PCA first 2 \"\n",
    "        \"components: {:.4f}\\n\".format(\n",
    "            model_title, np.sum(pca.explained_variance_ratio_)\n",
    "        )\n",
    "    )\n",
    "    return pca_result"
   ]
  },
  {
   "cell_type": "code",
   "execution_count": 47,
   "metadata": {
    "id": "al03VPPstO5p"
   },
   "outputs": [],
   "source": [
    "def visualize_B_I(pca_result, y_test, model_title):\n",
    "    \"\"\"Visualize the first 2 PCA dimensions, labeled by tag\n",
    "    \n",
    "    Constructs two subplots showing the first two principal components of\n",
    "    the `B-tags` and `I-tags` in the transformed PCA object provided\n",
    "    \n",
    "    :param pca_result: sklearn PCA object\n",
    "    :param y_test: np.array, y test data\n",
    "    :param model_title: str, descriptive model name for use in plot title\n",
    "    \"\"\"\n",
    "    category = np.argmax(y_test.reshape(-1,18), axis=1)\n",
    "    fig, ax = plt.subplots(1,2, sharey=True, sharex=True, figsize=(11, 6.5)) \n",
    "    titles=[\"B-tags\", \"I-tags\"]\n",
    "    \n",
    "    for i in range(2):\n",
    "        for cat in range(8*i,8*(i+1)):\n",
    "            indices = np.where(category==cat)[0]\n",
    "            ax[i].scatter(\n",
    "                pca_result[indices,0],\n",
    "                pca_result[indices, 1],\n",
    "                label=idx2tag[cat],\n",
    "                s=10,\n",
    "                alpha=0.6,\n",
    "            )\n",
    "        ax[i].legend(markerscale=2, facecolor=\"w\", framealpha=1, fontsize=11)\n",
    "        ax[i].grid(\":\", alpha=0.4)\n",
    "        ax[i].set_xlabel(\"First principal component\", fontsize=12)\n",
    "        ax[i].set_title(titles[i], fontsize=14)\n",
    "    \n",
    "    ax[0].set_ylabel(\"Second principal component\", fontsize=12)\n",
    "    fig.suptitle(\n",
    "        \"Visualization of hidden features on first two PCA components:\\n\"\n",
    "        \"{}\".format(model_title),\n",
    "        fontsize=16,\n",
    "        y=1,\n",
    "        )\n",
    "    \n",
    "    plt.tight_layout()\n",
    "    plt.show()"
   ]
  },
  {
   "cell_type": "code",
   "execution_count": 170,
   "metadata": {
    "colab": {
     "base_uri": "https://localhost:8080/",
     "height": 540
    },
    "id": "4Og4hKGBtO5q",
    "outputId": "0d7aaced-b8ba-4416-daa6-caa1d4c37d7e"
   },
   "outputs": [
    {
     "name": "stdout",
     "output_type": "stream",
     "text": [
      "Feed-forward Neural Network (FFNN)\n",
      "Hidden features' variance explained by PCA first 2 components: 0.9345\n",
      "\n"
     ]
    },
    {
     "data": {
      "image/png": "[encoded data removed]",
      "text/plain": [
       "<Figure size 792x468 with 2 Axes>"
      ]
     },
     "metadata": {
      "needs_background": "light"
     },
     "output_type": "display_data"
    }
   ],
   "source": [
    "# Run this cell to show your results\n",
    "FFNN = load_keras_model(\"model_FFNN\")\n",
    "h_pca = get_hidden_output_PCA(FFNN, X_te, 1, 50, model_title)\n",
    "visualize_B_I(h_pca, y_te, model_title)"
   ]
  },
  {
   "cell_type": "markdown",
   "metadata": {},
   "source": [
    "**INTERPRETATION:**"
   ]
  },
  {
   "cell_type": "markdown",
   "metadata": {},
   "source": [
    "We can see that, among a tag ($B$ or $I$), the different tags are quite well separated. However, the related labels between $I$ and $B$ tags are quite similar in the embedding layer, which tells us that the network relies on the combination between the different features in order to make a prediction."
   ]
  },
  {
   "cell_type": "markdown",
   "metadata": {
    "id": "jHsUKqQCtO5r"
   },
   "source": [
    "<a id=\"s23\"></a>\n",
    "<div class='exercise-r'>  \n",
    "\n",
    "**[2.3:](#q23)** **MODEL 3: RNN**\n",
    "\n",
    "Set up a simple RNN model by stacking the following layers in sequence:\n",
    "\n",
    "  - an Input \"layer\"\n",
    "  - a simple Embedding layer transforming integer words into vectors\n",
    "  - a Dropout layer to regularize the model\n",
    "  - a SimpleRNN layer\n",
    "  - a TimeDistributed layer with an inner Dense layer which output dimensionality is equal to `n_tag`\n",
    "    \n",
    "For hyperparameters in this model as well as the subsequent models in 2.4 and 2.5, please use those provided to you in MODEL 2.\n",
    "\n",
    "<a id=\"s23a\"></a>\n",
    "\n",
    "- **[2.3.a:](#q23a)** Define, compile, and train an RNN model. Use the provided code to save the model and plot the training history.\n",
    "\n",
    "</div>\n"
   ]
  },
  {
   "cell_type": "code",
   "execution_count": 48,
   "metadata": {
    "id": "BHp-UQ6EtO5r"
   },
   "outputs": [],
   "source": [
    "# your code here\n",
    "model = tf.keras.Sequential()\n",
    "model.add(tf.keras.layers.Embedding(input_dim=n_words, output_dim=dim_embed, input_length=max_len))\n",
    "model.add(tf.keras.layers.Dropout(drop_rate))\n",
    "model.add(SimpleRNN(units=100, return_sequences=True))\n",
    "model.add(tf.keras.layers.TimeDistributed(tf.keras.layers.Dense(n_tags, activation=\"softmax\")))\n",
    "\n",
    "# Compile model\n",
    "model.compile(optimizer=optimizer, loss=loss, metrics=metrics)"
   ]
  },
  {
   "cell_type": "code",
   "execution_count": 49,
   "metadata": {},
   "outputs": [
    {
     "name": "stdout",
     "output_type": "stream",
     "text": [
      "Epoch 1/10\n",
      "1214/1214 [==============================] - 65s 53ms/step - loss: 0.2263 - accuracy: 0.9496 - val_loss: 0.0348 - val_accuracy: 0.9898\n",
      "Epoch 2/10\n",
      "1214/1214 [==============================] - 64s 53ms/step - loss: 0.0297 - accuracy: 0.9912 - val_loss: 0.0305 - val_accuracy: 0.9908\n",
      "Epoch 3/10\n",
      "1214/1214 [==============================] - 64s 53ms/step - loss: 0.0262 - accuracy: 0.9922 - val_loss: 0.0295 - val_accuracy: 0.9912\n",
      "Epoch 4/10\n",
      "1214/1214 [==============================] - 64s 53ms/step - loss: 0.0240 - accuracy: 0.9928 - val_loss: 0.0290 - val_accuracy: 0.9912\n",
      "Epoch 5/10\n",
      "1214/1214 [==============================] - 64s 53ms/step - loss: 0.0228 - accuracy: 0.9932 - val_loss: 0.0282 - val_accuracy: 0.9916\n",
      "Epoch 6/10\n",
      "1214/1214 [==============================] - 64s 53ms/step - loss: 0.0214 - accuracy: 0.9936 - val_loss: 0.0284 - val_accuracy: 0.9915\n",
      "Epoch 7/10\n",
      "1214/1214 [==============================] - 64s 53ms/step - loss: 0.0204 - accuracy: 0.9939 - val_loss: 0.0285 - val_accuracy: 0.9915\n",
      "Epoch 8/10\n",
      "1214/1214 [==============================] - 64s 53ms/step - loss: 0.0198 - accuracy: 0.9940 - val_loss: 0.0288 - val_accuracy: 0.9914\n",
      "Epoch 9/10\n",
      "1214/1214 [==============================] - 64s 53ms/step - loss: 0.0192 - accuracy: 0.9943 - val_loss: 0.0284 - val_accuracy: 0.9914\n",
      "Epoch 10/10\n",
      "1214/1214 [==============================] - 64s 53ms/step - loss: 0.0182 - accuracy: 0.9946 - val_loss: 0.0286 - val_accuracy: 0.9916\n",
      "CPU times: user 24min 22s, sys: 3min 2s, total: 27min 24s\n",
      "Wall time: 10min 41s\n"
     ]
    }
   ],
   "source": [
    "%%time\n",
    "# Train model\n",
    "history = model.fit(X_tr, y_tr, batch_size=batch_size, epochs=epochs, \n",
    "                    validation_split=validation_split, verbose=verbose)"
   ]
  },
  {
   "cell_type": "code",
   "execution_count": 50,
   "metadata": {
    "colab": {
     "base_uri": "https://localhost:8080/"
    },
    "id": "RydDmdREtO5s",
    "outputId": "b0a309f8-9fcb-435c-f47b-8c934b94246c"
   },
   "outputs": [
    {
     "name": "stdout",
     "output_type": "stream",
     "text": [
      "Saved model to disk\n"
     ]
    }
   ],
   "source": [
    "# Run this cell to save your model\n",
    "store_keras_model(model, \"model_RNN\")"
   ]
  },
  {
   "cell_type": "code",
   "execution_count": 51,
   "metadata": {
    "colab": {
     "base_uri": "https://localhost:8080/"
    },
    "id": "Wxm1OcyctO5s",
    "outputId": "ea50eab8-74d7-43c4-e585-4e461c442f6a"
   },
   "outputs": [
    {
     "name": "stdout",
     "output_type": "stream",
     "text": [
      "Model: \"sequential_2\"\n",
      "_________________________________________________________________\n",
      "Layer (type)                 Output Shape              Param #   \n",
      "=================================================================\n",
      "embedding_2 (Embedding)      (None, 104, 50)           1758950   \n",
      "_________________________________________________________________\n",
      "dropout_2 (Dropout)          (None, 104, 50)           0         \n",
      "_________________________________________________________________\n",
      "simple_rnn (SimpleRNN)       (None, 104, 100)          15100     \n",
      "_________________________________________________________________\n",
      "time_distributed (TimeDistri (None, 104, 18)           1818      \n",
      "=================================================================\n",
      "Total params: 1,775,868\n",
      "Trainable params: 1,775,868\n",
      "Non-trainable params: 0\n",
      "_________________________________________________________________\n",
      "None\n"
     ]
    }
   ],
   "source": [
    "# Run this cell to show your results\n",
    "print(model.summary())"
   ]
  },
  {
   "cell_type": "code",
   "execution_count": 53,
   "metadata": {
    "colab": {
     "base_uri": "https://localhost:8080/",
     "height": 297
    },
    "id": "-9l0HU-AtO5s",
    "outputId": "4865ddfb-9989-460e-a54a-89f73dba670e"
   },
   "outputs": [
    {
     "data": {
      "image/png": "[encoded data removed]",
      "text/plain": [
       "<Figure size 504x288 with 1 Axes>"
      ]
     },
     "metadata": {
      "needs_background": "light"
     },
     "output_type": "display_data"
    }
   ],
   "source": [
    "# Run this cell to show your results\n",
    "plot_training_history(history, \"model_RNN\")"
   ]
  },
  {
   "cell_type": "markdown",
   "metadata": {
    "id": "G7H7ZUC7tO5t"
   },
   "source": [
    "<a id=\"s23b\"></a>\n",
    "<div class='exercise-r'>  \n",
    "\n",
    "**[2.3.b:](#q23b)** Using the functions provided to you [in 2.2.c](#s22c), visualize outputs from the SimpleRNN layer, one subplot for **B-tags** and one subplot for **I-tags**. Comment on the patterns you observed.\n",
    "\n",
    "</div>"
   ]
  },
  {
   "cell_type": "code",
   "execution_count": 54,
   "metadata": {
    "colab": {
     "base_uri": "https://localhost:8080/",
     "height": 540
    },
    "id": "OxEsqynutO5u",
    "outputId": "9fec3ff6-3f6a-4245-ff9e-0f6c99af12a2"
   },
   "outputs": [
    {
     "name": "stdout",
     "output_type": "stream",
     "text": [
      "Recurrent Neural Network (RNN)\n",
      "Hidden features' variance explained by PCA first 2 components: 0.9852\n",
      "\n"
     ]
    },
    {
     "data": {
      "image/png": "[encoded data removed]",
      "text/plain": [
       "<Figure size 792x468 with 2 Axes>"
      ]
     },
     "metadata": {
      "needs_background": "light"
     },
     "output_type": "display_data"
    }
   ],
   "source": [
    "# your code here\n",
    "RNN = load_keras_model(\"model_RNN\")\n",
    "h_pca = get_hidden_output_PCA(RNN, X_te, 1, 50, \"Recurrent Neural Network (RNN)\")\n",
    "visualize_B_I(h_pca, y_te, \"Recurrent Neural Network (RNN)\")"
   ]
  },
  {
   "cell_type": "markdown",
   "metadata": {
    "id": "R4FjAIsZ4x7A"
   },
   "source": [
    "**INTERPRETATION:**\n",
    "\n",
    "Unlike for the FNN we can see that among $B$ and $I$ the tags are worse separated and that a good fraction of them are overlapping. The hidden features' variance is similar to what we obtained for our previous neural network, the FNN. \n",
    "\n",
    "Regarding the related tags among $B$ and $I$, most of them are similarly distributed but we see that one B-tag is more present on the left of the PCA plot. We can still conclude that our model mostly relies on the combination between the different features to make its predictions.\n"
   ]
  },
  {
   "cell_type": "markdown",
   "metadata": {
    "id": "XUL4n0lxtO5y"
   },
   "source": [
    "<a id=\"s24\"></a>\n",
    "<div class='exercise-r'>  \n",
    "\n",
    "**[2.4:](#q24)** **MODEL 4: GRU**\n",
    "\n",
    "<a id=\"s24a\"></a>\n",
    "\n",
    "- **[2.4.a:](#q24a)** Briefly explain what a GRU is and how it is different from a simple RNN.\n",
    "\n",
    "</div>"
   ]
  },
  {
   "cell_type": "markdown",
   "metadata": {
    "id": "5D2mTcF-tO5z"
   },
   "source": [
    "**INTERPRETATION:**"
   ]
  },
  {
   "cell_type": "markdown",
   "metadata": {
    "id": "sP7bkzsTtO50"
   },
   "source": [
    "The GRU comes from the observation that RNNs are not able to capture long term dependencies in long sequences. The reason for that is the instability when backpropagating the information. \n",
    "\n",
    "GRU allows the network to select what he wants to retain/forget thanks to a gated mechanism. It leverages two gates: a reset gate and an update gate.  The reset gate allows to produce a new candidate for the memory and the update gate produces a score in order to compute how much we want to retain from our previous memory. \n",
    "\n",
    "What is crucially different from the RNNs is the update of the hidden state: there is a leaky unit allowing the information to flow more easily and therefore prevent the numerical instabilities when passing some information."
   ]
  },
  {
   "cell_type": "markdown",
   "metadata": {
    "id": "flg6st9ttO50"
   },
   "source": [
    "<a id=\"s24b\"></a>\n",
    "<div class='exercise-r'>  \n",
    "\n",
    "**[2.4.b:](#q24b)** Define, compile, and train a GRU architecture by replacing the SimpleRNN cell with a GRU one. Use the provided code to save the model and plot the training history.\n",
    "\n",
    "</div>"
   ]
  },
  {
   "cell_type": "code",
   "execution_count": 55,
   "metadata": {
    "id": "MbRzj1l0tO51"
   },
   "outputs": [],
   "source": [
    "# your code here\n",
    "model = tf.keras.Sequential()\n",
    "model.add(tf.keras.layers.Embedding(input_dim=n_words, output_dim=dim_embed, input_length=max_len))\n",
    "model.add(tf.keras.layers.Dropout(drop_rate))\n",
    "model.add(tf.keras.layers.GRU(100, return_sequences=True))\n",
    "model.add(tf.keras.layers.TimeDistributed(tf.keras.layers.Dense(n_tags, activation=\"softmax\")))\n",
    "\n",
    "# Compile model\n",
    "model.compile(optimizer=optimizer, loss=loss, metrics=metrics)"
   ]
  },
  {
   "cell_type": "code",
   "execution_count": 56,
   "metadata": {},
   "outputs": [
    {
     "name": "stdout",
     "output_type": "stream",
     "text": [
      "Epoch 1/10\n",
      "1214/1214 [==============================] - 17s 9ms/step - loss: 0.2282 - accuracy: 0.9482 - val_loss: 0.0342 - val_accuracy: 0.9900\n",
      "Epoch 2/10\n",
      "1214/1214 [==============================] - 10s 8ms/step - loss: 0.0294 - accuracy: 0.9913 - val_loss: 0.0300 - val_accuracy: 0.9910\n",
      "Epoch 3/10\n",
      "1214/1214 [==============================] - 10s 8ms/step - loss: 0.0261 - accuracy: 0.9923 - val_loss: 0.0290 - val_accuracy: 0.9914\n",
      "Epoch 4/10\n",
      "1214/1214 [==============================] - 10s 9ms/step - loss: 0.0242 - accuracy: 0.9929 - val_loss: 0.0282 - val_accuracy: 0.9916\n",
      "Epoch 5/10\n",
      "1214/1214 [==============================] - 10s 8ms/step - loss: 0.0229 - accuracy: 0.9932 - val_loss: 0.0275 - val_accuracy: 0.9918\n",
      "Epoch 6/10\n",
      "1214/1214 [==============================] - 10s 9ms/step - loss: 0.0214 - accuracy: 0.9936 - val_loss: 0.0271 - val_accuracy: 0.9919\n",
      "Epoch 7/10\n",
      "1214/1214 [==============================] - 10s 9ms/step - loss: 0.0206 - accuracy: 0.9939 - val_loss: 0.0271 - val_accuracy: 0.9920\n",
      "Epoch 8/10\n",
      "1214/1214 [==============================] - 10s 8ms/step - loss: 0.0202 - accuracy: 0.9940 - val_loss: 0.0271 - val_accuracy: 0.9920\n",
      "Epoch 9/10\n",
      "1214/1214 [==============================] - 10s 9ms/step - loss: 0.0197 - accuracy: 0.9941 - val_loss: 0.0270 - val_accuracy: 0.9920\n",
      "Epoch 10/10\n",
      "1214/1214 [==============================] - 10s 9ms/step - loss: 0.0188 - accuracy: 0.9944 - val_loss: 0.0268 - val_accuracy: 0.9922\n",
      "CPU times: user 2min 52s, sys: 15.2 s, total: 3min 7s\n",
      "Wall time: 1min 50s\n"
     ]
    }
   ],
   "source": [
    "%%time\n",
    "# Train model\n",
    "history = model.fit(X_tr, y_tr, batch_size=batch_size, epochs=epochs, \n",
    "                    validation_split=validation_split, verbose=verbose)"
   ]
  },
  {
   "cell_type": "code",
   "execution_count": 57,
   "metadata": {
    "colab": {
     "base_uri": "https://localhost:8080/"
    },
    "id": "Vgj_ByLatO51",
    "outputId": "52d131d7-74cd-4cdc-b2ac-5bd08c031a23"
   },
   "outputs": [
    {
     "name": "stdout",
     "output_type": "stream",
     "text": [
      "Saved model to disk\n"
     ]
    }
   ],
   "source": [
    "# Run this cell to save your model\n",
    "store_keras_model(model, \"model_GRU\")"
   ]
  },
  {
   "cell_type": "code",
   "execution_count": 58,
   "metadata": {
    "colab": {
     "base_uri": "https://localhost:8080/"
    },
    "id": "RAcd_1WmtO51",
    "outputId": "d7b91b0d-95f2-44ea-f476-68e4bfa77b7a"
   },
   "outputs": [
    {
     "name": "stdout",
     "output_type": "stream",
     "text": [
      "Model: \"sequential_3\"\n",
      "_________________________________________________________________\n",
      "Layer (type)                 Output Shape              Param #   \n",
      "=================================================================\n",
      "embedding_3 (Embedding)      (None, 104, 50)           1758950   \n",
      "_________________________________________________________________\n",
      "dropout_3 (Dropout)          (None, 104, 50)           0         \n",
      "_________________________________________________________________\n",
      "gru (GRU)                    (None, 104, 100)          45600     \n",
      "_________________________________________________________________\n",
      "time_distributed_1 (TimeDist (None, 104, 18)           1818      \n",
      "=================================================================\n",
      "Total params: 1,806,368\n",
      "Trainable params: 1,806,368\n",
      "Non-trainable params: 0\n",
      "_________________________________________________________________\n",
      "None\n"
     ]
    }
   ],
   "source": [
    "# Run this cell to show your results\n",
    "print(model.summary())"
   ]
  },
  {
   "cell_type": "code",
   "execution_count": 59,
   "metadata": {
    "colab": {
     "base_uri": "https://localhost:8080/",
     "height": 297
    },
    "id": "n3wgiUTUtO52",
    "outputId": "8fd9cec9-2576-4786-ba77-9f4fd960007d"
   },
   "outputs": [
    {
     "data": {
      "image/png": "[encoded data removed]",
      "text/plain": [
       "<Figure size 504x288 with 1 Axes>"
      ]
     },
     "metadata": {
      "needs_background": "light"
     },
     "output_type": "display_data"
    }
   ],
   "source": [
    "# Run this cell to show your results\n",
    "plot_training_history(history, \"model_GRU\")"
   ]
  },
  {
   "cell_type": "markdown",
   "metadata": {
    "id": "kkhbYwigtO52"
   },
   "source": [
    "<a id=\"s24c\"></a>\n",
    "<div class='exercise-r'>  \n",
    "\n",
    "**[2.4.c:](#q24c)** Using the functions provided to you [in 2.2.c](#s22c), visualize outputs from the GRU layer, one subplot for **B-tags** and one subplot for **I-tags**. Comment on the patterns you observed.\n",
    "\n",
    "</div>"
   ]
  },
  {
   "cell_type": "code",
   "execution_count": 60,
   "metadata": {
    "colab": {
     "base_uri": "https://localhost:8080/",
     "height": 540
    },
    "id": "du_qsStZtO53",
    "outputId": "579052cc-9e71-43f1-939a-f03a93c5cb38"
   },
   "outputs": [
    {
     "name": "stdout",
     "output_type": "stream",
     "text": [
      "Gated Recurrent Unit (GRU)\n",
      "Hidden features' variance explained by PCA first 2 components: 0.9787\n",
      "\n"
     ]
    },
    {
     "data": {
      "image/png": "[encoded data removed]",
      "text/plain": [
       "<Figure size 792x468 with 2 Axes>"
      ]
     },
     "metadata": {
      "needs_background": "light"
     },
     "output_type": "display_data"
    }
   ],
   "source": [
    "# your code here\n",
    "GRU = load_keras_model(\"model_GRU\")\n",
    "h_pca = get_hidden_output_PCA(GRU, X_te, 1, 50, \"Gated Recurrent Unit (GRU)\")\n",
    "visualize_B_I(h_pca, y_te, \"Gated Recurrent Unit (GRU)\")\n"
   ]
  },
  {
   "cell_type": "markdown",
   "metadata": {
    "id": "z1ZsRvGvtO53"
   },
   "source": [
    "**INTERPRETATION:**"
   ]
  },
  {
   "cell_type": "markdown",
   "metadata": {
    "id": "AH6DpfyXtO53"
   },
   "source": [
    "This PCA plot is very similar to the one previously plotted for the RNN. Tags among among $B$ and $I$ are not as separated as in the FNN PCA's plot, however they have a similar hidden features' variance and lastly a tag appears more on the $B$-tags' PCA plots than on the $I$-tags' one.  We can infer the same interpretation as the one for the previous network."
   ]
  },
  {
   "cell_type": "markdown",
   "metadata": {
    "id": "OYNR9098tO54"
   },
   "source": [
    "<a id=\"s25\"></a>\n",
    "<div class='exercise-r'>  \n",
    "\n",
    "**[2.5:](#q25)** **MODEL 5: Bidirectional GRU**\n",
    "\n",
    "<a id=\"s25a\"></a>\n",
    "\n",
    "- **[2.5.a:](#q25a)** Explain how a Bidirectional GRU differs from the GRU model above.\n",
    "\n",
    "</div>"
   ]
  },
  {
   "cell_type": "markdown",
   "metadata": {
    "id": "Z6v0xuJYtO54"
   },
   "source": [
    "**INTERPRETATION:**"
   ]
  },
  {
   "cell_type": "markdown",
   "metadata": {
    "id": "1WXj5RhqtO55"
   },
   "source": [
    "In a GRU model, we still process the inputs in a sequential way, meaning that $h_t = f(x_t, h_{t-1})$ and then $y_t  = g(x_t, h_{t-1})$. But then, Bi-Directional structures have leveraged the fact that one would also want to use the information coming after the sequence. \n",
    "\n",
    "Therefore, in the Bi-directional GRU, we use two GRUs: one forward (when at time $t$, the hidden state is a function of $(h_{1:t-1})$) and one backward, (when at time $t$, the hidden state is a function of $(h_{t+1:T})$).\n",
    "\n",
    "Last, the resulting hidden state on the bi-directional GRU is the concatenation of both hidden states from both networks."
   ]
  },
  {
   "cell_type": "markdown",
   "metadata": {
    "id": "DMSpjeHgtO56"
   },
   "source": [
    "<a id=\"s25b\"></a>\n",
    "<div class='exercise-r'>  \n",
    "\n",
    "**[2.5.b:](#q25b)** Define, compile, and train a Bidirectional GRU by wrapping your GRU layer in a Bidirectional one. Use the provided code to save the model and plot the training history.\n",
    "\n",
    "</div>"
   ]
  },
  {
   "cell_type": "code",
   "execution_count": 61,
   "metadata": {
    "id": "0Obt6_S7tO57"
   },
   "outputs": [],
   "source": [
    "# your code here\n",
    "model = tf.keras.Sequential()\n",
    "model.add(tf.keras.layers.Embedding(input_dim=n_words, output_dim=dim_embed, input_length=max_len))\n",
    "model.add(tf.keras.layers.Dropout(drop_rate))\n",
    "model.add(tf.keras.layers.Bidirectional(layer = tf.keras.layers.GRU(units=100, return_sequences=True))) # concat by default\n",
    "model.add(tf.keras.layers.TimeDistributed(tf.keras.layers.Dense(n_tags, activation=\"softmax\")))\n",
    "\n",
    "# Compile model\n",
    "model.compile(optimizer=optimizer, loss=loss, metrics=metrics)\n"
   ]
  },
  {
   "cell_type": "code",
   "execution_count": 62,
   "metadata": {},
   "outputs": [
    {
     "name": "stdout",
     "output_type": "stream",
     "text": [
      "Epoch 1/10\n",
      "1214/1214 [==============================] - 18s 13ms/step - loss: 0.1834 - accuracy: 0.9624 - val_loss: 0.0297 - val_accuracy: 0.9914\n",
      "Epoch 2/10\n",
      "1214/1214 [==============================] - 15s 13ms/step - loss: 0.0247 - accuracy: 0.9928 - val_loss: 0.0254 - val_accuracy: 0.9926\n",
      "Epoch 3/10\n",
      "1214/1214 [==============================] - 15s 13ms/step - loss: 0.0211 - accuracy: 0.9938 - val_loss: 0.0242 - val_accuracy: 0.9929\n",
      "Epoch 4/10\n",
      "1214/1214 [==============================] - 15s 13ms/step - loss: 0.0190 - accuracy: 0.9944 - val_loss: 0.0235 - val_accuracy: 0.9931\n",
      "Epoch 5/10\n",
      "1214/1214 [==============================] - 15s 13ms/step - loss: 0.0175 - accuracy: 0.9948 - val_loss: 0.0231 - val_accuracy: 0.9932\n",
      "Epoch 6/10\n",
      "1214/1214 [==============================] - 15s 13ms/step - loss: 0.0163 - accuracy: 0.9951 - val_loss: 0.0227 - val_accuracy: 0.9932\n",
      "Epoch 7/10\n",
      "1214/1214 [==============================] - 15s 13ms/step - loss: 0.0151 - accuracy: 0.9955 - val_loss: 0.0231 - val_accuracy: 0.9931\n",
      "Epoch 8/10\n",
      "1214/1214 [==============================] - 15s 13ms/step - loss: 0.0143 - accuracy: 0.9957 - val_loss: 0.0232 - val_accuracy: 0.9932\n",
      "Epoch 9/10\n",
      "1214/1214 [==============================] - 15s 13ms/step - loss: 0.0135 - accuracy: 0.9960 - val_loss: 0.0235 - val_accuracy: 0.9932\n",
      "Epoch 10/10\n",
      "1214/1214 [==============================] - 15s 13ms/step - loss: 0.0124 - accuracy: 0.9962 - val_loss: 0.0236 - val_accuracy: 0.9932\n",
      "CPU times: user 3min 56s, sys: 19.1 s, total: 4min 15s\n",
      "Wall time: 2min 36s\n"
     ]
    }
   ],
   "source": [
    "%%time\n",
    "# Train model\n",
    "history = model.fit(X_tr, y_tr, batch_size=batch_size, epochs=epochs, \n",
    "                    validation_split=validation_split, verbose=verbose)"
   ]
  },
  {
   "cell_type": "code",
   "execution_count": 63,
   "metadata": {
    "colab": {
     "base_uri": "https://localhost:8080/"
    },
    "id": "fIrn3H-_tO57",
    "outputId": "9761d143-fd15-42bf-e5cd-d4cbd41bf21a"
   },
   "outputs": [
    {
     "name": "stdout",
     "output_type": "stream",
     "text": [
      "Saved model to disk\n"
     ]
    }
   ],
   "source": [
    "# Run this cell to save your model\n",
    "store_keras_model(model, \"model_BiGRU\")"
   ]
  },
  {
   "cell_type": "code",
   "execution_count": 64,
   "metadata": {
    "colab": {
     "base_uri": "https://localhost:8080/"
    },
    "id": "Fphp2q9wtO57",
    "outputId": "ea583311-5881-41d7-e33e-a98c4c85783a"
   },
   "outputs": [
    {
     "name": "stdout",
     "output_type": "stream",
     "text": [
      "Model: \"sequential_4\"\n",
      "_________________________________________________________________\n",
      "Layer (type)                 Output Shape              Param #   \n",
      "=================================================================\n",
      "embedding_4 (Embedding)      (None, 104, 50)           1758950   \n",
      "_________________________________________________________________\n",
      "dropout_4 (Dropout)          (None, 104, 50)           0         \n",
      "_________________________________________________________________\n",
      "bidirectional (Bidirectional (None, 104, 200)          91200     \n",
      "_________________________________________________________________\n",
      "time_distributed_2 (TimeDist (None, 104, 18)           3618      \n",
      "=================================================================\n",
      "Total params: 1,853,768\n",
      "Trainable params: 1,853,768\n",
      "Non-trainable params: 0\n",
      "_________________________________________________________________\n",
      "None\n"
     ]
    }
   ],
   "source": [
    "# Run this cell to show your results\n",
    "print(model.summary())"
   ]
  },
  {
   "cell_type": "code",
   "execution_count": 65,
   "metadata": {
    "colab": {
     "base_uri": "https://localhost:8080/",
     "height": 297
    },
    "id": "BigRSFxytO58",
    "outputId": "982c0101-4005-49ff-9905-fabd758efcb8"
   },
   "outputs": [
    {
     "data": {
      "image/png": "[encoded data removed]",
      "text/plain": [
       "<Figure size 504x288 with 1 Axes>"
      ]
     },
     "metadata": {
      "needs_background": "light"
     },
     "output_type": "display_data"
    }
   ],
   "source": [
    "# Run this cell to show your results\n",
    "plot_training_history(history, \"model_BiGRU\")"
   ]
  },
  {
   "cell_type": "markdown",
   "metadata": {
    "id": "NpZC91e7tO58"
   },
   "source": [
    "<a id=\"s25c\"></a>\n",
    "<div class='exercise-r'>  \n",
    "\n",
    "**[2.5.c:](#q25c)** Using the functions provided to you [in 2.2.c](#s22c), visualize outputs from the Bidirectional GRU layer, one subplot for **B-tags** and one subplot for **I-tags**. Comment on the patterns you observed.\n",
    "\n",
    "</div>"
   ]
  },
  {
   "cell_type": "code",
   "execution_count": 66,
   "metadata": {
    "colab": {
     "base_uri": "https://localhost:8080/",
     "height": 540
    },
    "id": "pLfWLOOHtO59",
    "outputId": "4392fdd3-f25d-46eb-a4a5-69ee9317767f"
   },
   "outputs": [
    {
     "name": "stdout",
     "output_type": "stream",
     "text": [
      "Bidirectional Gated Recurrent Unit (BiGRU)\n",
      "Hidden features' variance explained by PCA first 2 components: 0.8185\n",
      "\n"
     ]
    },
    {
     "data": {
      "image/png": "[encoded data removed]",
      "text/plain": [
       "<Figure size 792x468 with 2 Axes>"
      ]
     },
     "metadata": {
      "needs_background": "light"
     },
     "output_type": "display_data"
    }
   ],
   "source": [
    "# your code here\n",
    "BiGRU = load_keras_model(\"model_BiGRU\")\n",
    "h_pca = get_hidden_output_PCA(BiGRU, X_te, 1, 50, \"Bidirectional Gated Recurrent Unit (BiGRU)\")\n",
    "visualize_B_I(h_pca, y_te, \"Bidirectional Gated Recurrent Unit (BiGRU)\")"
   ]
  },
  {
   "cell_type": "markdown",
   "metadata": {
    "id": "JK-tIJ5ItO5-"
   },
   "source": [
    "**INTERPRETATION:**"
   ]
  },
  {
   "cell_type": "markdown",
   "metadata": {
    "id": "24RXR1ibtO5-"
   },
   "source": [
    "Both for $B$ and $I$ tags are better separated than for RNN and GRU but there is still some overlapping compared to the FNN model. Hidden features' variance is smaller than the two previous model and the additional tag observed for the $B$-tags is very less present."
   ]
  },
  {
   "cell_type": "markdown",
   "metadata": {
    "id": "zCAnhvIgtO5_"
   },
   "source": [
    "<a id=\"part3\"></a>\n",
    "    \n",
    "<!-- <div class=\"alert alert-block alert-danger\" style=\"color:black;background-color:#E7F4FA\"> -->\n",
    "\n",
    "# PART 3 [ 40 pts ]: Analysis\n",
    "\n",
    "[Return to contents](#contents)\n"
   ]
  },
  {
   "cell_type": "markdown",
   "metadata": {
    "id": "gyrMLtm6tO6A"
   },
   "source": [
    "<a id=\"part3intro\"></a>\n",
    "\n",
    "## Overview\n",
    "\n",
    "[Return to contents](#contents)"
   ]
  },
  {
   "cell_type": "markdown",
   "metadata": {
    "id": "o8W4nYgUtO6B"
   },
   "source": [
    "Now that we have built, trained, and visualized our 5 different models, in this section, we will further investigate the results of each model and then seek to improve the results of our most promising model.\n",
    "\n",
    "For this section, we will be using $F_1$ score as our evaluative metric. If you are unfamiliar with this metric, $F_1$ is the harmonic mean of precision and recall. Some basic background on this metric [can be found here](https://en.wikipedia.org/wiki/F1_score)."
   ]
  },
  {
   "cell_type": "markdown",
   "metadata": {
    "id": "nURRMAXxtO6C"
   },
   "source": [
    "<a id=\"part3questions\"></a>\n",
    "\n",
    "### <div class='exercise'>PART 3: Questions</div> \n",
    "\n",
    "[Return to contents](#contents)\n"
   ]
  },
  {
   "cell_type": "markdown",
   "metadata": {
    "id": "rQdtSzg4tO6C"
   },
   "source": [
    "<a id=\"q31\"></a>\n",
    "\n",
    "**[3.1:](#s31)** For each model, iteratively:\n",
    "\n",
    "- Load the model using the given function `load_keras_model`\n",
    "\n",
    "- Apply the model to the test dataset\n",
    "\n",
    "- Compute an $F_1$ score for each `Tag` and store it \n",
    "\n",
    "\n",
    "<a id=\"q32\"></a>\n",
    "\n",
    "**[3.2:](#s32)** Plot the $F_1$ score per Tag and per model, including all on a single grouped barplot. Include a horizontal reference line at $F_1=0.8$ on your plot.\n",
    "\n",
    "\n",
    "<a id=\"q33\"></a>\n",
    "\n",
    "**[3.3:](#s33)** Briefly discuss the performance of each model.\n",
    "\n",
    "\n",
    "<a id=\"q34\"></a>\n",
    "\n",
    "**[3.4:](#s34)** Which tags have the lowest $F_1$ score? For instance, you may find from the plot above that the test performance on `\"B-art\"` and `\"I-art\"` is very low (just an example, your case may be different). Here is an example when models failed to predict these tags right:\n",
    "\n",
    "<img src=\"data/B_art.png\" alt=\"drawing\" width=\"600\"/>\n",
    "\n",
    "\n",
    "<a id=\"q35\"></a>\n",
    "\n",
    "**[3.5:](#s35)** Write functions to output another example test sentence in which the lowest scoring tags you identified in 3.4 were predicted wrong in a sentence (be certain to include both `\"B-xxx\"` and `\"I-xxx\"` tags). Store the results in a DataFrame (same format as the above example) and use the styling function provided below to display your DataFrame so that misclassified tags are shown with red text similar to the example provided in the image above. (**Please note:** The red text of your styled DataFrame will not persist between Jupyter notebook sessions. That is perfectly fine and to be expected.)\n",
    "\n",
    "<a id=\"q36\"></a>\n",
    "\n",
    "**[3.6:](#s36)** Choose one of the most promising models you have built and improve that model to achieve an $F_1$ score greater than $0.8$ for as many tags as possible (you have lots of options here, e.g. data balancing, hyperparameter tuning, changing the structure of the NN, using a different optimizer, etc.).\n",
    "\n",
    "\n",
    "<a id=\"q37\"></a>\n",
    "\n",
    "**[3.7:](#s37)** For your final improved model, illustrate your results with a bar plot similarly formatted to the one you created in 3.2, and be certain to include a horizontal line at $F_1=0.8$ to make interpretation easier. Interpret your results and clearly explain why you chose to change certain elements of the model and how effective those adjustments were.\n"
   ]
  },
  {
   "cell_type": "markdown",
   "metadata": {
    "id": "n64h1Za_tO6C"
   },
   "source": [
    "<a id=\"part3solutions\"></a>\n",
    "\n",
    "## PART 3: Solutions\n",
    "\n",
    "[Return to contents](#contents)"
   ]
  },
  {
   "cell_type": "markdown",
   "metadata": {
    "id": "TSkr6c7ptO6D"
   },
   "source": [
    "<a id=\"s31\"></a>\n",
    "<div class='exercise-r'>  \n",
    "\n",
    "**[3.1:](#q31)** For each model, iteratively:\n",
    "\n",
    "- Load the model using the given function `load_keras_model`\n",
    "\n",
    "- Apply the model to the test dataset\n",
    "\n",
    "- Compute an $F_1$ score for each `Tag` and store it\n",
    "\n",
    "</div>"
   ]
  },
  {
   "cell_type": "code",
   "execution_count": 68,
   "metadata": {
    "id": "av6iERgstO6E"
   },
   "outputs": [],
   "source": [
    "# your code here\n",
    "models = ['model_FFNN', 'model_RNN', 'model_GRU', 'model_BiGRU']\n",
    "f1_models = []\n",
    "y_test = np.argmax(y_te, axis=-1)\n",
    "\n",
    "for name in models:\n",
    "    model = load_keras_model(name)\n",
    "    y_pred = np.argmax(model(X_te), axis=-1)\n",
    "    f1s = []\n",
    "    for tag in tag2idx.values():\n",
    "        y_pred_tag = 1*(y_pred==tag).reshape(1, -1)\n",
    "        y_true_tag = 1*(y_test==tag).reshape(1, -1)\n",
    "        f1_tag = f1_score(y_true_tag[0], y_pred_tag[0])\n",
    "        f1s.append(f1_tag)\n",
    "    f1_models.append(f1s)\n",
    "f1_models = np.array(f1_models)"
   ]
  },
  {
   "cell_type": "code",
   "execution_count": 70,
   "metadata": {},
   "outputs": [],
   "source": [
    "tags_baseline = []\n",
    "for sentence in X_te:\n",
    "    for word in sentence:\n",
    "        if baseline[word]==tag2idx.get('O'):\n",
    "            tags_baseline.append(0)\n",
    "        else:\n",
    "            tags_baseline.append(int(baseline[word]))\n",
    "tags_baseline=np.array(tags_baseline)\n",
    "f1_baseline = []\n",
    "f1 = f1_score(y_test.reshape(1, -1)[0], tags_baseline, average=None)"
   ]
  },
  {
   "cell_type": "markdown",
   "metadata": {
    "id": "pEzNH6V7tO6F"
   },
   "source": [
    "<a id=\"s32\"></a>\n",
    "<div class='exercise-r'>  \n",
    "\n",
    "**[3.2:](#q32)** Plot the $F_1$ score per Tag and per model, including all on a single grouped barplot. Include a horizontal reference line at $F_1=0.8$ on your plot.\n",
    "\n",
    "</div>"
   ]
  },
  {
   "cell_type": "code",
   "execution_count": 71,
   "metadata": {
    "id": "9TtWGsQ4tO6F"
   },
   "outputs": [
    {
     "data": {
      "image/png": "[encoded data removed]",
      "text/plain": [
       "<Figure size 1440x720 with 1 Axes>"
      ]
     },
     "metadata": {
      "needs_background": "light"
     },
     "output_type": "display_data"
    }
   ],
   "source": [
    "# your code here\n",
    "fig, ax = plt.subplots(1, figsize=(20, 10))\n",
    "width = 0.35\n",
    "labels = list(tag2idx.keys())\n",
    "x = np.arange(len(labels))\n",
    "plt.bar(x = x - 3*width/4, height=f1, width=width, color='lightpink', label='Baseline')\n",
    "plt.bar(x = x - width/2, height=f1_models[0, :], width=width, color='lightcoral', label='FFNN')\n",
    "plt.bar(x = x - width/4, height=f1_models[1, :], width=width, color='lightblue', label='Vanilla RNN')\n",
    "plt.bar(x = x + width/4, height=f1_models[2, :], width=width, color='gold', label='GRU')\n",
    "plt.bar(x = x + width/2, height=f1_models[3, :], width=width, color='lightgreen', label='BiGRU')\n",
    "ax.set_xticks(x)\n",
    "ax.axhline(y=0.8, color='k', linestyle='--', label='Threshold')\n",
    "ax.set_xlabel('Tag')\n",
    "ax.set_ylabel('F1 score')\n",
    "ax.set_title('F1 score per model and per tag')\n",
    "ax.set_xticklabels(labels)\n",
    "ax.legend()\n",
    "plt.show(fig)"
   ]
  },
  {
   "cell_type": "markdown",
   "metadata": {
    "id": "ToUHerc9tO6G"
   },
   "source": [
    "<a id=\"s33\"></a>\n",
    "<div class='exercise-r'>  \n",
    "\n",
    "**[3.3:](#q33)**  Briefly discuss the performance of each model.\n",
    "\n",
    "</div>"
   ]
  },
  {
   "cell_type": "markdown",
   "metadata": {
    "id": "ntM8n-bZtO6H"
   },
   "source": [
    "**INTERPRETATION:**"
   ]
  },
  {
   "cell_type": "markdown",
   "metadata": {
    "id": "J5F20qRetO6I"
   },
   "source": [
    "The trends appearing in the previous plot are:\n",
    "- The Bidirectional GRU is consistently better than all the other models. I guess one could infer that the reason why this happens is because the biGRU has the ability to look at the entire sequence.\n",
    "- Some classes are so underrespresented that no networks detect them, except the Baseline that uses a rule that does not depend on the representativity of one class. \n",
    "- The baseline outperforms the FFNN for a big number of tags. This explains how a naive method can outperform a FFNN, not taking into account the sequential aspect of the problem, thus limited in its predictive power. \n",
    "- The GRU wonsistently outperforms the RNN and the BiGRU consistently outperforms the Vanilla RNN and GRUs, which is expected"
   ]
  },
  {
   "cell_type": "markdown",
   "metadata": {
    "id": "bGNQY9IitO6I"
   },
   "source": [
    "<a id=\"s34\"></a>\n",
    "<div class='exercise-r'>  \n",
    "\n",
    "**[3.4:](#q34)** Which tags have the lowest $F_1$ score? For instance, you may find from the plot above that the test performance on `\"B-art\"` and `\"I-art\"` is very low (just an example, your case may be different). Here is an example when models failed to predict these tags right:\n",
    "\n",
    "<img src=\"data/B_art.png\" alt=\"drawing\" width=\"600\"/>\n",
    "\n",
    "</div>"
   ]
  },
  {
   "cell_type": "markdown",
   "metadata": {
    "id": "IU2YF_n5tO6I"
   },
   "source": [
    "**INTERPRETATION:**"
   ]
  },
  {
   "cell_type": "markdown",
   "metadata": {
    "id": "oZKC4rPytO6J"
   },
   "source": [
    "The tags that have the lowest $F1$ scores are 'B-art', 'I-art' and 'I-nat'. "
   ]
  },
  {
   "cell_type": "markdown",
   "metadata": {
    "id": "KCxIyEBitO6K"
   },
   "source": [
    "<a id=\"s35\"></a>\n",
    "<div class='exercise-r'>  \n",
    "\n",
    "**[3.5:](#q35)** Write functions to output another example test sentence in which the lowest scoring tags you identified in 3.4 were predicted wrong in a sentence (be certain to include both `\"B-xxx\"` and `\"I-xxx\"` tags). Store the results in a DataFrame (same format as the above example) and use the styling function provided below to display your DataFrame so that misclassified tags are shown with red text similar to the example provided in the image above. (**Please note:** The red text of your styled DataFrame will not persist between Jupyter notebook sessions. That is perfectly fine and to be expected.)\n",
    "\n",
    "</div>"
   ]
  },
  {
   "cell_type": "code",
   "execution_count": 72,
   "metadata": {
    "id": "2KIOUF_HtO6K"
   },
   "outputs": [],
   "source": [
    "def highlight_errors(s):\n",
    "    \"\"\"Highlights misclassified values when applied to Pandas styler\n",
    "    \n",
    "    See the `pandas.io.formats.style.Styler.apply` documentation\n",
    "    for more information.\n",
    "    \"\"\"\n",
    "    is_max = s == s.y_true\n",
    "    return [\n",
    "        \"\" if v or key==\"Word\" else \"color: red\"\n",
    "        for key, v in is_max.iteritems()\n",
    "    ]"
   ]
  },
  {
   "cell_type": "code",
   "execution_count": 96,
   "metadata": {
    "id": "76V4ZFeUtO6L"
   },
   "outputs": [],
   "source": [
    "# your code here\n",
    "models = ['model_FFNN', 'model_RNN', 'model_GRU', 'model_BiGRU']\n",
    "model_tags = []\n",
    "selected_sentence = None\n",
    "indexes_misclassified = set([0, 8]) # lowest scoring B tag and scoring I tag (B-art and I-art)\n",
    "for i, sentence in enumerate(y_test):\n",
    "    if indexes_misclassified.issubset(set(sentence)):   # we found a sentence where the 2 tags are present\n",
    "        for name in models:\n",
    "            model = load_keras_model(name)\n",
    "            y_pred = np.argmax(model(X_te[i].reshape(1, -1)), axis=-1)\n",
    "            tags_predicted = [idx2tag[idx] for idx in y_pred[0]]\n",
    "            model_tags.append(tags_predicted)\n",
    "        break\n",
    "        \n",
    "baseline_tags = []\n",
    "for word in X_te[i]:\n",
    "        baseline_tags.append(int(baseline[word]))\n",
    "baseline_tags = np.array(baseline_tags)\n",
    "baseline_tags = [idx2tag[idx] for idx in baseline_tags]"
   ]
  },
  {
   "cell_type": "code",
   "execution_count": 99,
   "metadata": {},
   "outputs": [],
   "source": [
    "true_sentence = [idx2word[idx] for idx in X_te[i]]\n",
    "true_tags = [idx2tag[idx] for idx in sentence]\n",
    "columns = ['Word', 'y_true', 'baseline', 'model_FFNN', 'model_RNN', 'model_GRU', 'model_BiGRU']\n",
    "data = {'Word': true_sentence, 'y_true': true_tags, \n",
    "        'baseline': baseline_tags, 'model_FFNN': model_tags[0], \n",
    "        'model_RNN': model_tags[1], 'model_GRU': model_tags[2], 'model_BiGRU': model_tags[3]}\n",
    "\n",
    "df = pd.DataFrame(data = data)"
   ]
  },
  {
   "cell_type": "code",
   "execution_count": 100,
   "metadata": {},
   "outputs": [
    {
     "data": {
      "text/html": [
       "<style  type=\"text/css\" >\n",
       "#T_c3a20_row1_col2,#T_c3a20_row5_col4,#T_c3a20_row9_col2,#T_c3a20_row9_col3,#T_c3a20_row9_col4,#T_c3a20_row9_col5,#T_c3a20_row9_col6,#T_c3a20_row10_col3,#T_c3a20_row10_col4,#T_c3a20_row10_col5,#T_c3a20_row10_col6,#T_c3a20_row11_col2,#T_c3a20_row11_col3,#T_c3a20_row11_col4,#T_c3a20_row11_col5,#T_c3a20_row11_col6,#T_c3a20_row14_col2,#T_c3a20_row14_col3,#T_c3a20_row16_col2,#T_c3a20_row33_col2,#T_c3a20_row34_col2,#T_c3a20_row35_col2,#T_c3a20_row36_col2,#T_c3a20_row37_col2,#T_c3a20_row38_col2,#T_c3a20_row39_col2,#T_c3a20_row40_col2,#T_c3a20_row41_col2,#T_c3a20_row42_col2,#T_c3a20_row43_col2,#T_c3a20_row44_col2,#T_c3a20_row45_col2,#T_c3a20_row46_col2,#T_c3a20_row47_col2,#T_c3a20_row48_col2,#T_c3a20_row49_col2,#T_c3a20_row50_col2,#T_c3a20_row51_col2,#T_c3a20_row52_col2,#T_c3a20_row53_col2,#T_c3a20_row54_col2,#T_c3a20_row55_col2,#T_c3a20_row56_col2,#T_c3a20_row57_col2,#T_c3a20_row58_col2,#T_c3a20_row59_col2,#T_c3a20_row60_col2,#T_c3a20_row61_col2,#T_c3a20_row62_col2,#T_c3a20_row63_col2,#T_c3a20_row64_col2,#T_c3a20_row65_col2,#T_c3a20_row66_col2,#T_c3a20_row67_col2,#T_c3a20_row68_col2,#T_c3a20_row69_col2,#T_c3a20_row70_col2,#T_c3a20_row71_col2,#T_c3a20_row72_col2,#T_c3a20_row73_col2,#T_c3a20_row74_col2,#T_c3a20_row75_col2,#T_c3a20_row76_col2,#T_c3a20_row77_col2,#T_c3a20_row78_col2,#T_c3a20_row79_col2,#T_c3a20_row80_col2,#T_c3a20_row81_col2,#T_c3a20_row82_col2,#T_c3a20_row83_col2,#T_c3a20_row84_col2,#T_c3a20_row85_col2,#T_c3a20_row86_col2,#T_c3a20_row87_col2,#T_c3a20_row88_col2,#T_c3a20_row89_col2,#T_c3a20_row90_col2,#T_c3a20_row91_col2,#T_c3a20_row92_col2,#T_c3a20_row93_col2,#T_c3a20_row94_col2,#T_c3a20_row95_col2,#T_c3a20_row96_col2,#T_c3a20_row97_col2,#T_c3a20_row98_col2,#T_c3a20_row99_col2,#T_c3a20_row100_col2,#T_c3a20_row101_col2,#T_c3a20_row102_col2,#T_c3a20_row103_col2{\n",
       "            color:  red;\n",
       "        }</style><table id=\"T_c3a20_\" ><thead>    <tr>        <th class=\"blank level0\" ></th>        <th class=\"col_heading level0 col0\" >Word</th>        <th class=\"col_heading level0 col1\" >y_true</th>        <th class=\"col_heading level0 col2\" >baseline</th>        <th class=\"col_heading level0 col3\" >model_FFNN</th>        <th class=\"col_heading level0 col4\" >model_RNN</th>        <th class=\"col_heading level0 col5\" >model_GRU</th>        <th class=\"col_heading level0 col6\" >model_BiGRU</th>    </tr></thead><tbody>\n",
       "                <tr>\n",
       "                        <th id=\"T_c3a20_level0_row0\" class=\"row_heading level0 row0\" >0</th>\n",
       "                        <td id=\"T_c3a20_row0_col0\" class=\"data row0 col0\" >Mr.</td>\n",
       "                        <td id=\"T_c3a20_row0_col1\" class=\"data row0 col1\" >B-per</td>\n",
       "                        <td id=\"T_c3a20_row0_col2\" class=\"data row0 col2\" >B-per</td>\n",
       "                        <td id=\"T_c3a20_row0_col3\" class=\"data row0 col3\" >B-per</td>\n",
       "                        <td id=\"T_c3a20_row0_col4\" class=\"data row0 col4\" >B-per</td>\n",
       "                        <td id=\"T_c3a20_row0_col5\" class=\"data row0 col5\" >B-per</td>\n",
       "                        <td id=\"T_c3a20_row0_col6\" class=\"data row0 col6\" >B-per</td>\n",
       "            </tr>\n",
       "            <tr>\n",
       "                        <th id=\"T_c3a20_level0_row1\" class=\"row_heading level0 row1\" >1</th>\n",
       "                        <td id=\"T_c3a20_row1_col0\" class=\"data row1 col0\" >Bush</td>\n",
       "                        <td id=\"T_c3a20_row1_col1\" class=\"data row1 col1\" >I-per</td>\n",
       "                        <td id=\"T_c3a20_row1_col2\" class=\"data row1 col2\" >B-per</td>\n",
       "                        <td id=\"T_c3a20_row1_col3\" class=\"data row1 col3\" >I-per</td>\n",
       "                        <td id=\"T_c3a20_row1_col4\" class=\"data row1 col4\" >I-per</td>\n",
       "                        <td id=\"T_c3a20_row1_col5\" class=\"data row1 col5\" >I-per</td>\n",
       "                        <td id=\"T_c3a20_row1_col6\" class=\"data row1 col6\" >I-per</td>\n",
       "            </tr>\n",
       "            <tr>\n",
       "                        <th id=\"T_c3a20_level0_row2\" class=\"row_heading level0 row2\" >2</th>\n",
       "                        <td id=\"T_c3a20_row2_col0\" class=\"data row2 col0\" >rode</td>\n",
       "                        <td id=\"T_c3a20_row2_col1\" class=\"data row2 col1\" >O</td>\n",
       "                        <td id=\"T_c3a20_row2_col2\" class=\"data row2 col2\" >O</td>\n",
       "                        <td id=\"T_c3a20_row2_col3\" class=\"data row2 col3\" >O</td>\n",
       "                        <td id=\"T_c3a20_row2_col4\" class=\"data row2 col4\" >O</td>\n",
       "                        <td id=\"T_c3a20_row2_col5\" class=\"data row2 col5\" >O</td>\n",
       "                        <td id=\"T_c3a20_row2_col6\" class=\"data row2 col6\" >O</td>\n",
       "            </tr>\n",
       "            <tr>\n",
       "                        <th id=\"T_c3a20_level0_row3\" class=\"row_heading level0 row3\" >3</th>\n",
       "                        <td id=\"T_c3a20_row3_col0\" class=\"data row3 col0\" >the</td>\n",
       "                        <td id=\"T_c3a20_row3_col1\" class=\"data row3 col1\" >O</td>\n",
       "                        <td id=\"T_c3a20_row3_col2\" class=\"data row3 col2\" >O</td>\n",
       "                        <td id=\"T_c3a20_row3_col3\" class=\"data row3 col3\" >O</td>\n",
       "                        <td id=\"T_c3a20_row3_col4\" class=\"data row3 col4\" >O</td>\n",
       "                        <td id=\"T_c3a20_row3_col5\" class=\"data row3 col5\" >O</td>\n",
       "                        <td id=\"T_c3a20_row3_col6\" class=\"data row3 col6\" >O</td>\n",
       "            </tr>\n",
       "            <tr>\n",
       "                        <th id=\"T_c3a20_level0_row4\" class=\"row_heading level0 row4\" >4</th>\n",
       "                        <td id=\"T_c3a20_row4_col0\" class=\"data row4 col0\" >upright</td>\n",
       "                        <td id=\"T_c3a20_row4_col1\" class=\"data row4 col1\" >O</td>\n",
       "                        <td id=\"T_c3a20_row4_col2\" class=\"data row4 col2\" >O</td>\n",
       "                        <td id=\"T_c3a20_row4_col3\" class=\"data row4 col3\" >O</td>\n",
       "                        <td id=\"T_c3a20_row4_col4\" class=\"data row4 col4\" >O</td>\n",
       "                        <td id=\"T_c3a20_row4_col5\" class=\"data row4 col5\" >O</td>\n",
       "                        <td id=\"T_c3a20_row4_col6\" class=\"data row4 col6\" >O</td>\n",
       "            </tr>\n",
       "            <tr>\n",
       "                        <th id=\"T_c3a20_level0_row5\" class=\"row_heading level0 row5\" >5</th>\n",
       "                        <td id=\"T_c3a20_row5_col0\" class=\"data row5 col0\" >two-wheeled</td>\n",
       "                        <td id=\"T_c3a20_row5_col1\" class=\"data row5 col1\" >O</td>\n",
       "                        <td id=\"T_c3a20_row5_col2\" class=\"data row5 col2\" >O</td>\n",
       "                        <td id=\"T_c3a20_row5_col3\" class=\"data row5 col3\" >O</td>\n",
       "                        <td id=\"T_c3a20_row5_col4\" class=\"data row5 col4\" >I-org</td>\n",
       "                        <td id=\"T_c3a20_row5_col5\" class=\"data row5 col5\" >O</td>\n",
       "                        <td id=\"T_c3a20_row5_col6\" class=\"data row5 col6\" >O</td>\n",
       "            </tr>\n",
       "            <tr>\n",
       "                        <th id=\"T_c3a20_level0_row6\" class=\"row_heading level0 row6\" >6</th>\n",
       "                        <td id=\"T_c3a20_row6_col0\" class=\"data row6 col0\" >vehicle</td>\n",
       "                        <td id=\"T_c3a20_row6_col1\" class=\"data row6 col1\" >O</td>\n",
       "                        <td id=\"T_c3a20_row6_col2\" class=\"data row6 col2\" >O</td>\n",
       "                        <td id=\"T_c3a20_row6_col3\" class=\"data row6 col3\" >O</td>\n",
       "                        <td id=\"T_c3a20_row6_col4\" class=\"data row6 col4\" >O</td>\n",
       "                        <td id=\"T_c3a20_row6_col5\" class=\"data row6 col5\" >O</td>\n",
       "                        <td id=\"T_c3a20_row6_col6\" class=\"data row6 col6\" >O</td>\n",
       "            </tr>\n",
       "            <tr>\n",
       "                        <th id=\"T_c3a20_level0_row7\" class=\"row_heading level0 row7\" >7</th>\n",
       "                        <td id=\"T_c3a20_row7_col0\" class=\"data row7 col0\" >around</td>\n",
       "                        <td id=\"T_c3a20_row7_col1\" class=\"data row7 col1\" >O</td>\n",
       "                        <td id=\"T_c3a20_row7_col2\" class=\"data row7 col2\" >O</td>\n",
       "                        <td id=\"T_c3a20_row7_col3\" class=\"data row7 col3\" >O</td>\n",
       "                        <td id=\"T_c3a20_row7_col4\" class=\"data row7 col4\" >O</td>\n",
       "                        <td id=\"T_c3a20_row7_col5\" class=\"data row7 col5\" >O</td>\n",
       "                        <td id=\"T_c3a20_row7_col6\" class=\"data row7 col6\" >O</td>\n",
       "            </tr>\n",
       "            <tr>\n",
       "                        <th id=\"T_c3a20_level0_row8\" class=\"row_heading level0 row8\" >8</th>\n",
       "                        <td id=\"T_c3a20_row8_col0\" class=\"data row8 col0\" >the</td>\n",
       "                        <td id=\"T_c3a20_row8_col1\" class=\"data row8 col1\" >O</td>\n",
       "                        <td id=\"T_c3a20_row8_col2\" class=\"data row8 col2\" >O</td>\n",
       "                        <td id=\"T_c3a20_row8_col3\" class=\"data row8 col3\" >O</td>\n",
       "                        <td id=\"T_c3a20_row8_col4\" class=\"data row8 col4\" >O</td>\n",
       "                        <td id=\"T_c3a20_row8_col5\" class=\"data row8 col5\" >O</td>\n",
       "                        <td id=\"T_c3a20_row8_col6\" class=\"data row8 col6\" >O</td>\n",
       "            </tr>\n",
       "            <tr>\n",
       "                        <th id=\"T_c3a20_level0_row9\" class=\"row_heading level0 row9\" >9</th>\n",
       "                        <td id=\"T_c3a20_row9_col0\" class=\"data row9 col0\" >State</td>\n",
       "                        <td id=\"T_c3a20_row9_col1\" class=\"data row9 col1\" >B-art</td>\n",
       "                        <td id=\"T_c3a20_row9_col2\" class=\"data row9 col2\" >I-geo</td>\n",
       "                        <td id=\"T_c3a20_row9_col3\" class=\"data row9 col3\" >B-org</td>\n",
       "                        <td id=\"T_c3a20_row9_col4\" class=\"data row9 col4\" >B-org</td>\n",
       "                        <td id=\"T_c3a20_row9_col5\" class=\"data row9 col5\" >B-org</td>\n",
       "                        <td id=\"T_c3a20_row9_col6\" class=\"data row9 col6\" >B-org</td>\n",
       "            </tr>\n",
       "            <tr>\n",
       "                        <th id=\"T_c3a20_level0_row10\" class=\"row_heading level0 row10\" >10</th>\n",
       "                        <td id=\"T_c3a20_row10_col0\" class=\"data row10 col0\" >Guest</td>\n",
       "                        <td id=\"T_c3a20_row10_col1\" class=\"data row10 col1\" >I-art</td>\n",
       "                        <td id=\"T_c3a20_row10_col2\" class=\"data row10 col2\" >I-art</td>\n",
       "                        <td id=\"T_c3a20_row10_col3\" class=\"data row10 col3\" >O</td>\n",
       "                        <td id=\"T_c3a20_row10_col4\" class=\"data row10 col4\" >I-org</td>\n",
       "                        <td id=\"T_c3a20_row10_col5\" class=\"data row10 col5\" >I-org</td>\n",
       "                        <td id=\"T_c3a20_row10_col6\" class=\"data row10 col6\" >I-org</td>\n",
       "            </tr>\n",
       "            <tr>\n",
       "                        <th id=\"T_c3a20_level0_row11\" class=\"row_heading level0 row11\" >11</th>\n",
       "                        <td id=\"T_c3a20_row11_col0\" class=\"data row11 col0\" >House</td>\n",
       "                        <td id=\"T_c3a20_row11_col1\" class=\"data row11 col1\" >I-art</td>\n",
       "                        <td id=\"T_c3a20_row11_col2\" class=\"data row11 col2\" >I-org</td>\n",
       "                        <td id=\"T_c3a20_row11_col3\" class=\"data row11 col3\" >I-org</td>\n",
       "                        <td id=\"T_c3a20_row11_col4\" class=\"data row11 col4\" >I-org</td>\n",
       "                        <td id=\"T_c3a20_row11_col5\" class=\"data row11 col5\" >I-org</td>\n",
       "                        <td id=\"T_c3a20_row11_col6\" class=\"data row11 col6\" >I-org</td>\n",
       "            </tr>\n",
       "            <tr>\n",
       "                        <th id=\"T_c3a20_level0_row12\" class=\"row_heading level0 row12\" >12</th>\n",
       "                        <td id=\"T_c3a20_row12_col0\" class=\"data row12 col0\" >compound</td>\n",
       "                        <td id=\"T_c3a20_row12_col1\" class=\"data row12 col1\" >O</td>\n",
       "                        <td id=\"T_c3a20_row12_col2\" class=\"data row12 col2\" >O</td>\n",
       "                        <td id=\"T_c3a20_row12_col3\" class=\"data row12 col3\" >O</td>\n",
       "                        <td id=\"T_c3a20_row12_col4\" class=\"data row12 col4\" >O</td>\n",
       "                        <td id=\"T_c3a20_row12_col5\" class=\"data row12 col5\" >O</td>\n",
       "                        <td id=\"T_c3a20_row12_col6\" class=\"data row12 col6\" >O</td>\n",
       "            </tr>\n",
       "            <tr>\n",
       "                        <th id=\"T_c3a20_level0_row13\" class=\"row_heading level0 row13\" >13</th>\n",
       "                        <td id=\"T_c3a20_row13_col0\" class=\"data row13 col0\" >in</td>\n",
       "                        <td id=\"T_c3a20_row13_col1\" class=\"data row13 col1\" >O</td>\n",
       "                        <td id=\"T_c3a20_row13_col2\" class=\"data row13 col2\" >O</td>\n",
       "                        <td id=\"T_c3a20_row13_col3\" class=\"data row13 col3\" >O</td>\n",
       "                        <td id=\"T_c3a20_row13_col4\" class=\"data row13 col4\" >O</td>\n",
       "                        <td id=\"T_c3a20_row13_col5\" class=\"data row13 col5\" >O</td>\n",
       "                        <td id=\"T_c3a20_row13_col6\" class=\"data row13 col6\" >O</td>\n",
       "            </tr>\n",
       "            <tr>\n",
       "                        <th id=\"T_c3a20_level0_row14\" class=\"row_heading level0 row14\" >14</th>\n",
       "                        <td id=\"T_c3a20_row14_col0\" class=\"data row14 col0\" >Kyoto</td>\n",
       "                        <td id=\"T_c3a20_row14_col1\" class=\"data row14 col1\" >B-geo</td>\n",
       "                        <td id=\"T_c3a20_row14_col2\" class=\"data row14 col2\" >B-org</td>\n",
       "                        <td id=\"T_c3a20_row14_col3\" class=\"data row14 col3\" >B-org</td>\n",
       "                        <td id=\"T_c3a20_row14_col4\" class=\"data row14 col4\" >B-geo</td>\n",
       "                        <td id=\"T_c3a20_row14_col5\" class=\"data row14 col5\" >B-geo</td>\n",
       "                        <td id=\"T_c3a20_row14_col6\" class=\"data row14 col6\" >B-geo</td>\n",
       "            </tr>\n",
       "            <tr>\n",
       "                        <th id=\"T_c3a20_level0_row15\" class=\"row_heading level0 row15\" >15</th>\n",
       "                        <td id=\"T_c3a20_row15_col0\" class=\"data row15 col0\" >,</td>\n",
       "                        <td id=\"T_c3a20_row15_col1\" class=\"data row15 col1\" >O</td>\n",
       "                        <td id=\"T_c3a20_row15_col2\" class=\"data row15 col2\" >O</td>\n",
       "                        <td id=\"T_c3a20_row15_col3\" class=\"data row15 col3\" >O</td>\n",
       "                        <td id=\"T_c3a20_row15_col4\" class=\"data row15 col4\" >O</td>\n",
       "                        <td id=\"T_c3a20_row15_col5\" class=\"data row15 col5\" >O</td>\n",
       "                        <td id=\"T_c3a20_row15_col6\" class=\"data row15 col6\" >O</td>\n",
       "            </tr>\n",
       "            <tr>\n",
       "                        <th id=\"T_c3a20_level0_row16\" class=\"row_heading level0 row16\" >16</th>\n",
       "                        <td id=\"T_c3a20_row16_col0\" class=\"data row16 col0\" >Japan</td>\n",
       "                        <td id=\"T_c3a20_row16_col1\" class=\"data row16 col1\" >B-geo</td>\n",
       "                        <td id=\"T_c3a20_row16_col2\" class=\"data row16 col2\" >B-gpe</td>\n",
       "                        <td id=\"T_c3a20_row16_col3\" class=\"data row16 col3\" >B-geo</td>\n",
       "                        <td id=\"T_c3a20_row16_col4\" class=\"data row16 col4\" >B-geo</td>\n",
       "                        <td id=\"T_c3a20_row16_col5\" class=\"data row16 col5\" >B-geo</td>\n",
       "                        <td id=\"T_c3a20_row16_col6\" class=\"data row16 col6\" >B-geo</td>\n",
       "            </tr>\n",
       "            <tr>\n",
       "                        <th id=\"T_c3a20_level0_row17\" class=\"row_heading level0 row17\" >17</th>\n",
       "                        <td id=\"T_c3a20_row17_col0\" class=\"data row17 col0\" >,</td>\n",
       "                        <td id=\"T_c3a20_row17_col1\" class=\"data row17 col1\" >O</td>\n",
       "                        <td id=\"T_c3a20_row17_col2\" class=\"data row17 col2\" >O</td>\n",
       "                        <td id=\"T_c3a20_row17_col3\" class=\"data row17 col3\" >O</td>\n",
       "                        <td id=\"T_c3a20_row17_col4\" class=\"data row17 col4\" >O</td>\n",
       "                        <td id=\"T_c3a20_row17_col5\" class=\"data row17 col5\" >O</td>\n",
       "                        <td id=\"T_c3a20_row17_col6\" class=\"data row17 col6\" >O</td>\n",
       "            </tr>\n",
       "            <tr>\n",
       "                        <th id=\"T_c3a20_level0_row18\" class=\"row_heading level0 row18\" >18</th>\n",
       "                        <td id=\"T_c3a20_row18_col0\" class=\"data row18 col0\" >before</td>\n",
       "                        <td id=\"T_c3a20_row18_col1\" class=\"data row18 col1\" >O</td>\n",
       "                        <td id=\"T_c3a20_row18_col2\" class=\"data row18 col2\" >O</td>\n",
       "                        <td id=\"T_c3a20_row18_col3\" class=\"data row18 col3\" >O</td>\n",
       "                        <td id=\"T_c3a20_row18_col4\" class=\"data row18 col4\" >O</td>\n",
       "                        <td id=\"T_c3a20_row18_col5\" class=\"data row18 col5\" >O</td>\n",
       "                        <td id=\"T_c3a20_row18_col6\" class=\"data row18 col6\" >O</td>\n",
       "            </tr>\n",
       "            <tr>\n",
       "                        <th id=\"T_c3a20_level0_row19\" class=\"row_heading level0 row19\" >19</th>\n",
       "                        <td id=\"T_c3a20_row19_col0\" class=\"data row19 col0\" >handing</td>\n",
       "                        <td id=\"T_c3a20_row19_col1\" class=\"data row19 col1\" >O</td>\n",
       "                        <td id=\"T_c3a20_row19_col2\" class=\"data row19 col2\" >O</td>\n",
       "                        <td id=\"T_c3a20_row19_col3\" class=\"data row19 col3\" >O</td>\n",
       "                        <td id=\"T_c3a20_row19_col4\" class=\"data row19 col4\" >O</td>\n",
       "                        <td id=\"T_c3a20_row19_col5\" class=\"data row19 col5\" >O</td>\n",
       "                        <td id=\"T_c3a20_row19_col6\" class=\"data row19 col6\" >O</td>\n",
       "            </tr>\n",
       "            <tr>\n",
       "                        <th id=\"T_c3a20_level0_row20\" class=\"row_heading level0 row20\" >20</th>\n",
       "                        <td id=\"T_c3a20_row20_col0\" class=\"data row20 col0\" >it</td>\n",
       "                        <td id=\"T_c3a20_row20_col1\" class=\"data row20 col1\" >O</td>\n",
       "                        <td id=\"T_c3a20_row20_col2\" class=\"data row20 col2\" >O</td>\n",
       "                        <td id=\"T_c3a20_row20_col3\" class=\"data row20 col3\" >O</td>\n",
       "                        <td id=\"T_c3a20_row20_col4\" class=\"data row20 col4\" >O</td>\n",
       "                        <td id=\"T_c3a20_row20_col5\" class=\"data row20 col5\" >O</td>\n",
       "                        <td id=\"T_c3a20_row20_col6\" class=\"data row20 col6\" >O</td>\n",
       "            </tr>\n",
       "            <tr>\n",
       "                        <th id=\"T_c3a20_level0_row21\" class=\"row_heading level0 row21\" >21</th>\n",
       "                        <td id=\"T_c3a20_row21_col0\" class=\"data row21 col0\" >over</td>\n",
       "                        <td id=\"T_c3a20_row21_col1\" class=\"data row21 col1\" >O</td>\n",
       "                        <td id=\"T_c3a20_row21_col2\" class=\"data row21 col2\" >O</td>\n",
       "                        <td id=\"T_c3a20_row21_col3\" class=\"data row21 col3\" >O</td>\n",
       "                        <td id=\"T_c3a20_row21_col4\" class=\"data row21 col4\" >O</td>\n",
       "                        <td id=\"T_c3a20_row21_col5\" class=\"data row21 col5\" >O</td>\n",
       "                        <td id=\"T_c3a20_row21_col6\" class=\"data row21 col6\" >O</td>\n",
       "            </tr>\n",
       "            <tr>\n",
       "                        <th id=\"T_c3a20_level0_row22\" class=\"row_heading level0 row22\" >22</th>\n",
       "                        <td id=\"T_c3a20_row22_col0\" class=\"data row22 col0\" >to</td>\n",
       "                        <td id=\"T_c3a20_row22_col1\" class=\"data row22 col1\" >O</td>\n",
       "                        <td id=\"T_c3a20_row22_col2\" class=\"data row22 col2\" >O</td>\n",
       "                        <td id=\"T_c3a20_row22_col3\" class=\"data row22 col3\" >O</td>\n",
       "                        <td id=\"T_c3a20_row22_col4\" class=\"data row22 col4\" >O</td>\n",
       "                        <td id=\"T_c3a20_row22_col5\" class=\"data row22 col5\" >O</td>\n",
       "                        <td id=\"T_c3a20_row22_col6\" class=\"data row22 col6\" >O</td>\n",
       "            </tr>\n",
       "            <tr>\n",
       "                        <th id=\"T_c3a20_level0_row23\" class=\"row_heading level0 row23\" >23</th>\n",
       "                        <td id=\"T_c3a20_row23_col0\" class=\"data row23 col0\" >Mr.</td>\n",
       "                        <td id=\"T_c3a20_row23_col1\" class=\"data row23 col1\" >B-per</td>\n",
       "                        <td id=\"T_c3a20_row23_col2\" class=\"data row23 col2\" >B-per</td>\n",
       "                        <td id=\"T_c3a20_row23_col3\" class=\"data row23 col3\" >B-per</td>\n",
       "                        <td id=\"T_c3a20_row23_col4\" class=\"data row23 col4\" >B-per</td>\n",
       "                        <td id=\"T_c3a20_row23_col5\" class=\"data row23 col5\" >B-per</td>\n",
       "                        <td id=\"T_c3a20_row23_col6\" class=\"data row23 col6\" >B-per</td>\n",
       "            </tr>\n",
       "            <tr>\n",
       "                        <th id=\"T_c3a20_level0_row24\" class=\"row_heading level0 row24\" >24</th>\n",
       "                        <td id=\"T_c3a20_row24_col0\" class=\"data row24 col0\" >Koizumi</td>\n",
       "                        <td id=\"T_c3a20_row24_col1\" class=\"data row24 col1\" >I-per</td>\n",
       "                        <td id=\"T_c3a20_row24_col2\" class=\"data row24 col2\" >I-per</td>\n",
       "                        <td id=\"T_c3a20_row24_col3\" class=\"data row24 col3\" >I-per</td>\n",
       "                        <td id=\"T_c3a20_row24_col4\" class=\"data row24 col4\" >I-per</td>\n",
       "                        <td id=\"T_c3a20_row24_col5\" class=\"data row24 col5\" >I-per</td>\n",
       "                        <td id=\"T_c3a20_row24_col6\" class=\"data row24 col6\" >I-per</td>\n",
       "            </tr>\n",
       "            <tr>\n",
       "                        <th id=\"T_c3a20_level0_row25\" class=\"row_heading level0 row25\" >25</th>\n",
       "                        <td id=\"T_c3a20_row25_col0\" class=\"data row25 col0\" >and</td>\n",
       "                        <td id=\"T_c3a20_row25_col1\" class=\"data row25 col1\" >O</td>\n",
       "                        <td id=\"T_c3a20_row25_col2\" class=\"data row25 col2\" >O</td>\n",
       "                        <td id=\"T_c3a20_row25_col3\" class=\"data row25 col3\" >O</td>\n",
       "                        <td id=\"T_c3a20_row25_col4\" class=\"data row25 col4\" >O</td>\n",
       "                        <td id=\"T_c3a20_row25_col5\" class=\"data row25 col5\" >O</td>\n",
       "                        <td id=\"T_c3a20_row25_col6\" class=\"data row25 col6\" >O</td>\n",
       "            </tr>\n",
       "            <tr>\n",
       "                        <th id=\"T_c3a20_level0_row26\" class=\"row_heading level0 row26\" >26</th>\n",
       "                        <td id=\"T_c3a20_row26_col0\" class=\"data row26 col0\" >urging</td>\n",
       "                        <td id=\"T_c3a20_row26_col1\" class=\"data row26 col1\" >O</td>\n",
       "                        <td id=\"T_c3a20_row26_col2\" class=\"data row26 col2\" >O</td>\n",
       "                        <td id=\"T_c3a20_row26_col3\" class=\"data row26 col3\" >O</td>\n",
       "                        <td id=\"T_c3a20_row26_col4\" class=\"data row26 col4\" >O</td>\n",
       "                        <td id=\"T_c3a20_row26_col5\" class=\"data row26 col5\" >O</td>\n",
       "                        <td id=\"T_c3a20_row26_col6\" class=\"data row26 col6\" >O</td>\n",
       "            </tr>\n",
       "            <tr>\n",
       "                        <th id=\"T_c3a20_level0_row27\" class=\"row_heading level0 row27\" >27</th>\n",
       "                        <td id=\"T_c3a20_row27_col0\" class=\"data row27 col0\" >him</td>\n",
       "                        <td id=\"T_c3a20_row27_col1\" class=\"data row27 col1\" >O</td>\n",
       "                        <td id=\"T_c3a20_row27_col2\" class=\"data row27 col2\" >O</td>\n",
       "                        <td id=\"T_c3a20_row27_col3\" class=\"data row27 col3\" >O</td>\n",
       "                        <td id=\"T_c3a20_row27_col4\" class=\"data row27 col4\" >O</td>\n",
       "                        <td id=\"T_c3a20_row27_col5\" class=\"data row27 col5\" >O</td>\n",
       "                        <td id=\"T_c3a20_row27_col6\" class=\"data row27 col6\" >O</td>\n",
       "            </tr>\n",
       "            <tr>\n",
       "                        <th id=\"T_c3a20_level0_row28\" class=\"row_heading level0 row28\" >28</th>\n",
       "                        <td id=\"T_c3a20_row28_col0\" class=\"data row28 col0\" >to</td>\n",
       "                        <td id=\"T_c3a20_row28_col1\" class=\"data row28 col1\" >O</td>\n",
       "                        <td id=\"T_c3a20_row28_col2\" class=\"data row28 col2\" >O</td>\n",
       "                        <td id=\"T_c3a20_row28_col3\" class=\"data row28 col3\" >O</td>\n",
       "                        <td id=\"T_c3a20_row28_col4\" class=\"data row28 col4\" >O</td>\n",
       "                        <td id=\"T_c3a20_row28_col5\" class=\"data row28 col5\" >O</td>\n",
       "                        <td id=\"T_c3a20_row28_col6\" class=\"data row28 col6\" >O</td>\n",
       "            </tr>\n",
       "            <tr>\n",
       "                        <th id=\"T_c3a20_level0_row29\" class=\"row_heading level0 row29\" >29</th>\n",
       "                        <td id=\"T_c3a20_row29_col0\" class=\"data row29 col0\" >try</td>\n",
       "                        <td id=\"T_c3a20_row29_col1\" class=\"data row29 col1\" >O</td>\n",
       "                        <td id=\"T_c3a20_row29_col2\" class=\"data row29 col2\" >O</td>\n",
       "                        <td id=\"T_c3a20_row29_col3\" class=\"data row29 col3\" >O</td>\n",
       "                        <td id=\"T_c3a20_row29_col4\" class=\"data row29 col4\" >O</td>\n",
       "                        <td id=\"T_c3a20_row29_col5\" class=\"data row29 col5\" >O</td>\n",
       "                        <td id=\"T_c3a20_row29_col6\" class=\"data row29 col6\" >O</td>\n",
       "            </tr>\n",
       "            <tr>\n",
       "                        <th id=\"T_c3a20_level0_row30\" class=\"row_heading level0 row30\" >30</th>\n",
       "                        <td id=\"T_c3a20_row30_col0\" class=\"data row30 col0\" >it</td>\n",
       "                        <td id=\"T_c3a20_row30_col1\" class=\"data row30 col1\" >O</td>\n",
       "                        <td id=\"T_c3a20_row30_col2\" class=\"data row30 col2\" >O</td>\n",
       "                        <td id=\"T_c3a20_row30_col3\" class=\"data row30 col3\" >O</td>\n",
       "                        <td id=\"T_c3a20_row30_col4\" class=\"data row30 col4\" >O</td>\n",
       "                        <td id=\"T_c3a20_row30_col5\" class=\"data row30 col5\" >O</td>\n",
       "                        <td id=\"T_c3a20_row30_col6\" class=\"data row30 col6\" >O</td>\n",
       "            </tr>\n",
       "            <tr>\n",
       "                        <th id=\"T_c3a20_level0_row31\" class=\"row_heading level0 row31\" >31</th>\n",
       "                        <td id=\"T_c3a20_row31_col0\" class=\"data row31 col0\" >out</td>\n",
       "                        <td id=\"T_c3a20_row31_col1\" class=\"data row31 col1\" >O</td>\n",
       "                        <td id=\"T_c3a20_row31_col2\" class=\"data row31 col2\" >O</td>\n",
       "                        <td id=\"T_c3a20_row31_col3\" class=\"data row31 col3\" >O</td>\n",
       "                        <td id=\"T_c3a20_row31_col4\" class=\"data row31 col4\" >O</td>\n",
       "                        <td id=\"T_c3a20_row31_col5\" class=\"data row31 col5\" >O</td>\n",
       "                        <td id=\"T_c3a20_row31_col6\" class=\"data row31 col6\" >O</td>\n",
       "            </tr>\n",
       "            <tr>\n",
       "                        <th id=\"T_c3a20_level0_row32\" class=\"row_heading level0 row32\" >32</th>\n",
       "                        <td id=\"T_c3a20_row32_col0\" class=\"data row32 col0\" >.</td>\n",
       "                        <td id=\"T_c3a20_row32_col1\" class=\"data row32 col1\" >O</td>\n",
       "                        <td id=\"T_c3a20_row32_col2\" class=\"data row32 col2\" >O</td>\n",
       "                        <td id=\"T_c3a20_row32_col3\" class=\"data row32 col3\" >O</td>\n",
       "                        <td id=\"T_c3a20_row32_col4\" class=\"data row32 col4\" >O</td>\n",
       "                        <td id=\"T_c3a20_row32_col5\" class=\"data row32 col5\" >O</td>\n",
       "                        <td id=\"T_c3a20_row32_col6\" class=\"data row32 col6\" >O</td>\n",
       "            </tr>\n",
       "            <tr>\n",
       "                        <th id=\"T_c3a20_level0_row33\" class=\"row_heading level0 row33\" >33</th>\n",
       "                        <td id=\"T_c3a20_row33_col0\" class=\"data row33 col0\" >ENDPAD</td>\n",
       "                        <td id=\"T_c3a20_row33_col1\" class=\"data row33 col1\" >PAD</td>\n",
       "                        <td id=\"T_c3a20_row33_col2\" class=\"data row33 col2\" >O</td>\n",
       "                        <td id=\"T_c3a20_row33_col3\" class=\"data row33 col3\" >PAD</td>\n",
       "                        <td id=\"T_c3a20_row33_col4\" class=\"data row33 col4\" >PAD</td>\n",
       "                        <td id=\"T_c3a20_row33_col5\" class=\"data row33 col5\" >PAD</td>\n",
       "                        <td id=\"T_c3a20_row33_col6\" class=\"data row33 col6\" >PAD</td>\n",
       "            </tr>\n",
       "            <tr>\n",
       "                        <th id=\"T_c3a20_level0_row34\" class=\"row_heading level0 row34\" >34</th>\n",
       "                        <td id=\"T_c3a20_row34_col0\" class=\"data row34 col0\" >ENDPAD</td>\n",
       "                        <td id=\"T_c3a20_row34_col1\" class=\"data row34 col1\" >PAD</td>\n",
       "                        <td id=\"T_c3a20_row34_col2\" class=\"data row34 col2\" >O</td>\n",
       "                        <td id=\"T_c3a20_row34_col3\" class=\"data row34 col3\" >PAD</td>\n",
       "                        <td id=\"T_c3a20_row34_col4\" class=\"data row34 col4\" >PAD</td>\n",
       "                        <td id=\"T_c3a20_row34_col5\" class=\"data row34 col5\" >PAD</td>\n",
       "                        <td id=\"T_c3a20_row34_col6\" class=\"data row34 col6\" >PAD</td>\n",
       "            </tr>\n",
       "            <tr>\n",
       "                        <th id=\"T_c3a20_level0_row35\" class=\"row_heading level0 row35\" >35</th>\n",
       "                        <td id=\"T_c3a20_row35_col0\" class=\"data row35 col0\" >ENDPAD</td>\n",
       "                        <td id=\"T_c3a20_row35_col1\" class=\"data row35 col1\" >PAD</td>\n",
       "                        <td id=\"T_c3a20_row35_col2\" class=\"data row35 col2\" >O</td>\n",
       "                        <td id=\"T_c3a20_row35_col3\" class=\"data row35 col3\" >PAD</td>\n",
       "                        <td id=\"T_c3a20_row35_col4\" class=\"data row35 col4\" >PAD</td>\n",
       "                        <td id=\"T_c3a20_row35_col5\" class=\"data row35 col5\" >PAD</td>\n",
       "                        <td id=\"T_c3a20_row35_col6\" class=\"data row35 col6\" >PAD</td>\n",
       "            </tr>\n",
       "            <tr>\n",
       "                        <th id=\"T_c3a20_level0_row36\" class=\"row_heading level0 row36\" >36</th>\n",
       "                        <td id=\"T_c3a20_row36_col0\" class=\"data row36 col0\" >ENDPAD</td>\n",
       "                        <td id=\"T_c3a20_row36_col1\" class=\"data row36 col1\" >PAD</td>\n",
       "                        <td id=\"T_c3a20_row36_col2\" class=\"data row36 col2\" >O</td>\n",
       "                        <td id=\"T_c3a20_row36_col3\" class=\"data row36 col3\" >PAD</td>\n",
       "                        <td id=\"T_c3a20_row36_col4\" class=\"data row36 col4\" >PAD</td>\n",
       "                        <td id=\"T_c3a20_row36_col5\" class=\"data row36 col5\" >PAD</td>\n",
       "                        <td id=\"T_c3a20_row36_col6\" class=\"data row36 col6\" >PAD</td>\n",
       "            </tr>\n",
       "            <tr>\n",
       "                        <th id=\"T_c3a20_level0_row37\" class=\"row_heading level0 row37\" >37</th>\n",
       "                        <td id=\"T_c3a20_row37_col0\" class=\"data row37 col0\" >ENDPAD</td>\n",
       "                        <td id=\"T_c3a20_row37_col1\" class=\"data row37 col1\" >PAD</td>\n",
       "                        <td id=\"T_c3a20_row37_col2\" class=\"data row37 col2\" >O</td>\n",
       "                        <td id=\"T_c3a20_row37_col3\" class=\"data row37 col3\" >PAD</td>\n",
       "                        <td id=\"T_c3a20_row37_col4\" class=\"data row37 col4\" >PAD</td>\n",
       "                        <td id=\"T_c3a20_row37_col5\" class=\"data row37 col5\" >PAD</td>\n",
       "                        <td id=\"T_c3a20_row37_col6\" class=\"data row37 col6\" >PAD</td>\n",
       "            </tr>\n",
       "            <tr>\n",
       "                        <th id=\"T_c3a20_level0_row38\" class=\"row_heading level0 row38\" >38</th>\n",
       "                        <td id=\"T_c3a20_row38_col0\" class=\"data row38 col0\" >ENDPAD</td>\n",
       "                        <td id=\"T_c3a20_row38_col1\" class=\"data row38 col1\" >PAD</td>\n",
       "                        <td id=\"T_c3a20_row38_col2\" class=\"data row38 col2\" >O</td>\n",
       "                        <td id=\"T_c3a20_row38_col3\" class=\"data row38 col3\" >PAD</td>\n",
       "                        <td id=\"T_c3a20_row38_col4\" class=\"data row38 col4\" >PAD</td>\n",
       "                        <td id=\"T_c3a20_row38_col5\" class=\"data row38 col5\" >PAD</td>\n",
       "                        <td id=\"T_c3a20_row38_col6\" class=\"data row38 col6\" >PAD</td>\n",
       "            </tr>\n",
       "            <tr>\n",
       "                        <th id=\"T_c3a20_level0_row39\" class=\"row_heading level0 row39\" >39</th>\n",
       "                        <td id=\"T_c3a20_row39_col0\" class=\"data row39 col0\" >ENDPAD</td>\n",
       "                        <td id=\"T_c3a20_row39_col1\" class=\"data row39 col1\" >PAD</td>\n",
       "                        <td id=\"T_c3a20_row39_col2\" class=\"data row39 col2\" >O</td>\n",
       "                        <td id=\"T_c3a20_row39_col3\" class=\"data row39 col3\" >PAD</td>\n",
       "                        <td id=\"T_c3a20_row39_col4\" class=\"data row39 col4\" >PAD</td>\n",
       "                        <td id=\"T_c3a20_row39_col5\" class=\"data row39 col5\" >PAD</td>\n",
       "                        <td id=\"T_c3a20_row39_col6\" class=\"data row39 col6\" >PAD</td>\n",
       "            </tr>\n",
       "            <tr>\n",
       "                        <th id=\"T_c3a20_level0_row40\" class=\"row_heading level0 row40\" >40</th>\n",
       "                        <td id=\"T_c3a20_row40_col0\" class=\"data row40 col0\" >ENDPAD</td>\n",
       "                        <td id=\"T_c3a20_row40_col1\" class=\"data row40 col1\" >PAD</td>\n",
       "                        <td id=\"T_c3a20_row40_col2\" class=\"data row40 col2\" >O</td>\n",
       "                        <td id=\"T_c3a20_row40_col3\" class=\"data row40 col3\" >PAD</td>\n",
       "                        <td id=\"T_c3a20_row40_col4\" class=\"data row40 col4\" >PAD</td>\n",
       "                        <td id=\"T_c3a20_row40_col5\" class=\"data row40 col5\" >PAD</td>\n",
       "                        <td id=\"T_c3a20_row40_col6\" class=\"data row40 col6\" >PAD</td>\n",
       "            </tr>\n",
       "            <tr>\n",
       "                        <th id=\"T_c3a20_level0_row41\" class=\"row_heading level0 row41\" >41</th>\n",
       "                        <td id=\"T_c3a20_row41_col0\" class=\"data row41 col0\" >ENDPAD</td>\n",
       "                        <td id=\"T_c3a20_row41_col1\" class=\"data row41 col1\" >PAD</td>\n",
       "                        <td id=\"T_c3a20_row41_col2\" class=\"data row41 col2\" >O</td>\n",
       "                        <td id=\"T_c3a20_row41_col3\" class=\"data row41 col3\" >PAD</td>\n",
       "                        <td id=\"T_c3a20_row41_col4\" class=\"data row41 col4\" >PAD</td>\n",
       "                        <td id=\"T_c3a20_row41_col5\" class=\"data row41 col5\" >PAD</td>\n",
       "                        <td id=\"T_c3a20_row41_col6\" class=\"data row41 col6\" >PAD</td>\n",
       "            </tr>\n",
       "            <tr>\n",
       "                        <th id=\"T_c3a20_level0_row42\" class=\"row_heading level0 row42\" >42</th>\n",
       "                        <td id=\"T_c3a20_row42_col0\" class=\"data row42 col0\" >ENDPAD</td>\n",
       "                        <td id=\"T_c3a20_row42_col1\" class=\"data row42 col1\" >PAD</td>\n",
       "                        <td id=\"T_c3a20_row42_col2\" class=\"data row42 col2\" >O</td>\n",
       "                        <td id=\"T_c3a20_row42_col3\" class=\"data row42 col3\" >PAD</td>\n",
       "                        <td id=\"T_c3a20_row42_col4\" class=\"data row42 col4\" >PAD</td>\n",
       "                        <td id=\"T_c3a20_row42_col5\" class=\"data row42 col5\" >PAD</td>\n",
       "                        <td id=\"T_c3a20_row42_col6\" class=\"data row42 col6\" >PAD</td>\n",
       "            </tr>\n",
       "            <tr>\n",
       "                        <th id=\"T_c3a20_level0_row43\" class=\"row_heading level0 row43\" >43</th>\n",
       "                        <td id=\"T_c3a20_row43_col0\" class=\"data row43 col0\" >ENDPAD</td>\n",
       "                        <td id=\"T_c3a20_row43_col1\" class=\"data row43 col1\" >PAD</td>\n",
       "                        <td id=\"T_c3a20_row43_col2\" class=\"data row43 col2\" >O</td>\n",
       "                        <td id=\"T_c3a20_row43_col3\" class=\"data row43 col3\" >PAD</td>\n",
       "                        <td id=\"T_c3a20_row43_col4\" class=\"data row43 col4\" >PAD</td>\n",
       "                        <td id=\"T_c3a20_row43_col5\" class=\"data row43 col5\" >PAD</td>\n",
       "                        <td id=\"T_c3a20_row43_col6\" class=\"data row43 col6\" >PAD</td>\n",
       "            </tr>\n",
       "            <tr>\n",
       "                        <th id=\"T_c3a20_level0_row44\" class=\"row_heading level0 row44\" >44</th>\n",
       "                        <td id=\"T_c3a20_row44_col0\" class=\"data row44 col0\" >ENDPAD</td>\n",
       "                        <td id=\"T_c3a20_row44_col1\" class=\"data row44 col1\" >PAD</td>\n",
       "                        <td id=\"T_c3a20_row44_col2\" class=\"data row44 col2\" >O</td>\n",
       "                        <td id=\"T_c3a20_row44_col3\" class=\"data row44 col3\" >PAD</td>\n",
       "                        <td id=\"T_c3a20_row44_col4\" class=\"data row44 col4\" >PAD</td>\n",
       "                        <td id=\"T_c3a20_row44_col5\" class=\"data row44 col5\" >PAD</td>\n",
       "                        <td id=\"T_c3a20_row44_col6\" class=\"data row44 col6\" >PAD</td>\n",
       "            </tr>\n",
       "            <tr>\n",
       "                        <th id=\"T_c3a20_level0_row45\" class=\"row_heading level0 row45\" >45</th>\n",
       "                        <td id=\"T_c3a20_row45_col0\" class=\"data row45 col0\" >ENDPAD</td>\n",
       "                        <td id=\"T_c3a20_row45_col1\" class=\"data row45 col1\" >PAD</td>\n",
       "                        <td id=\"T_c3a20_row45_col2\" class=\"data row45 col2\" >O</td>\n",
       "                        <td id=\"T_c3a20_row45_col3\" class=\"data row45 col3\" >PAD</td>\n",
       "                        <td id=\"T_c3a20_row45_col4\" class=\"data row45 col4\" >PAD</td>\n",
       "                        <td id=\"T_c3a20_row45_col5\" class=\"data row45 col5\" >PAD</td>\n",
       "                        <td id=\"T_c3a20_row45_col6\" class=\"data row45 col6\" >PAD</td>\n",
       "            </tr>\n",
       "            <tr>\n",
       "                        <th id=\"T_c3a20_level0_row46\" class=\"row_heading level0 row46\" >46</th>\n",
       "                        <td id=\"T_c3a20_row46_col0\" class=\"data row46 col0\" >ENDPAD</td>\n",
       "                        <td id=\"T_c3a20_row46_col1\" class=\"data row46 col1\" >PAD</td>\n",
       "                        <td id=\"T_c3a20_row46_col2\" class=\"data row46 col2\" >O</td>\n",
       "                        <td id=\"T_c3a20_row46_col3\" class=\"data row46 col3\" >PAD</td>\n",
       "                        <td id=\"T_c3a20_row46_col4\" class=\"data row46 col4\" >PAD</td>\n",
       "                        <td id=\"T_c3a20_row46_col5\" class=\"data row46 col5\" >PAD</td>\n",
       "                        <td id=\"T_c3a20_row46_col6\" class=\"data row46 col6\" >PAD</td>\n",
       "            </tr>\n",
       "            <tr>\n",
       "                        <th id=\"T_c3a20_level0_row47\" class=\"row_heading level0 row47\" >47</th>\n",
       "                        <td id=\"T_c3a20_row47_col0\" class=\"data row47 col0\" >ENDPAD</td>\n",
       "                        <td id=\"T_c3a20_row47_col1\" class=\"data row47 col1\" >PAD</td>\n",
       "                        <td id=\"T_c3a20_row47_col2\" class=\"data row47 col2\" >O</td>\n",
       "                        <td id=\"T_c3a20_row47_col3\" class=\"data row47 col3\" >PAD</td>\n",
       "                        <td id=\"T_c3a20_row47_col4\" class=\"data row47 col4\" >PAD</td>\n",
       "                        <td id=\"T_c3a20_row47_col5\" class=\"data row47 col5\" >PAD</td>\n",
       "                        <td id=\"T_c3a20_row47_col6\" class=\"data row47 col6\" >PAD</td>\n",
       "            </tr>\n",
       "            <tr>\n",
       "                        <th id=\"T_c3a20_level0_row48\" class=\"row_heading level0 row48\" >48</th>\n",
       "                        <td id=\"T_c3a20_row48_col0\" class=\"data row48 col0\" >ENDPAD</td>\n",
       "                        <td id=\"T_c3a20_row48_col1\" class=\"data row48 col1\" >PAD</td>\n",
       "                        <td id=\"T_c3a20_row48_col2\" class=\"data row48 col2\" >O</td>\n",
       "                        <td id=\"T_c3a20_row48_col3\" class=\"data row48 col3\" >PAD</td>\n",
       "                        <td id=\"T_c3a20_row48_col4\" class=\"data row48 col4\" >PAD</td>\n",
       "                        <td id=\"T_c3a20_row48_col5\" class=\"data row48 col5\" >PAD</td>\n",
       "                        <td id=\"T_c3a20_row48_col6\" class=\"data row48 col6\" >PAD</td>\n",
       "            </tr>\n",
       "            <tr>\n",
       "                        <th id=\"T_c3a20_level0_row49\" class=\"row_heading level0 row49\" >49</th>\n",
       "                        <td id=\"T_c3a20_row49_col0\" class=\"data row49 col0\" >ENDPAD</td>\n",
       "                        <td id=\"T_c3a20_row49_col1\" class=\"data row49 col1\" >PAD</td>\n",
       "                        <td id=\"T_c3a20_row49_col2\" class=\"data row49 col2\" >O</td>\n",
       "                        <td id=\"T_c3a20_row49_col3\" class=\"data row49 col3\" >PAD</td>\n",
       "                        <td id=\"T_c3a20_row49_col4\" class=\"data row49 col4\" >PAD</td>\n",
       "                        <td id=\"T_c3a20_row49_col5\" class=\"data row49 col5\" >PAD</td>\n",
       "                        <td id=\"T_c3a20_row49_col6\" class=\"data row49 col6\" >PAD</td>\n",
       "            </tr>\n",
       "            <tr>\n",
       "                        <th id=\"T_c3a20_level0_row50\" class=\"row_heading level0 row50\" >50</th>\n",
       "                        <td id=\"T_c3a20_row50_col0\" class=\"data row50 col0\" >ENDPAD</td>\n",
       "                        <td id=\"T_c3a20_row50_col1\" class=\"data row50 col1\" >PAD</td>\n",
       "                        <td id=\"T_c3a20_row50_col2\" class=\"data row50 col2\" >O</td>\n",
       "                        <td id=\"T_c3a20_row50_col3\" class=\"data row50 col3\" >PAD</td>\n",
       "                        <td id=\"T_c3a20_row50_col4\" class=\"data row50 col4\" >PAD</td>\n",
       "                        <td id=\"T_c3a20_row50_col5\" class=\"data row50 col5\" >PAD</td>\n",
       "                        <td id=\"T_c3a20_row50_col6\" class=\"data row50 col6\" >PAD</td>\n",
       "            </tr>\n",
       "            <tr>\n",
       "                        <th id=\"T_c3a20_level0_row51\" class=\"row_heading level0 row51\" >51</th>\n",
       "                        <td id=\"T_c3a20_row51_col0\" class=\"data row51 col0\" >ENDPAD</td>\n",
       "                        <td id=\"T_c3a20_row51_col1\" class=\"data row51 col1\" >PAD</td>\n",
       "                        <td id=\"T_c3a20_row51_col2\" class=\"data row51 col2\" >O</td>\n",
       "                        <td id=\"T_c3a20_row51_col3\" class=\"data row51 col3\" >PAD</td>\n",
       "                        <td id=\"T_c3a20_row51_col4\" class=\"data row51 col4\" >PAD</td>\n",
       "                        <td id=\"T_c3a20_row51_col5\" class=\"data row51 col5\" >PAD</td>\n",
       "                        <td id=\"T_c3a20_row51_col6\" class=\"data row51 col6\" >PAD</td>\n",
       "            </tr>\n",
       "            <tr>\n",
       "                        <th id=\"T_c3a20_level0_row52\" class=\"row_heading level0 row52\" >52</th>\n",
       "                        <td id=\"T_c3a20_row52_col0\" class=\"data row52 col0\" >ENDPAD</td>\n",
       "                        <td id=\"T_c3a20_row52_col1\" class=\"data row52 col1\" >PAD</td>\n",
       "                        <td id=\"T_c3a20_row52_col2\" class=\"data row52 col2\" >O</td>\n",
       "                        <td id=\"T_c3a20_row52_col3\" class=\"data row52 col3\" >PAD</td>\n",
       "                        <td id=\"T_c3a20_row52_col4\" class=\"data row52 col4\" >PAD</td>\n",
       "                        <td id=\"T_c3a20_row52_col5\" class=\"data row52 col5\" >PAD</td>\n",
       "                        <td id=\"T_c3a20_row52_col6\" class=\"data row52 col6\" >PAD</td>\n",
       "            </tr>\n",
       "            <tr>\n",
       "                        <th id=\"T_c3a20_level0_row53\" class=\"row_heading level0 row53\" >53</th>\n",
       "                        <td id=\"T_c3a20_row53_col0\" class=\"data row53 col0\" >ENDPAD</td>\n",
       "                        <td id=\"T_c3a20_row53_col1\" class=\"data row53 col1\" >PAD</td>\n",
       "                        <td id=\"T_c3a20_row53_col2\" class=\"data row53 col2\" >O</td>\n",
       "                        <td id=\"T_c3a20_row53_col3\" class=\"data row53 col3\" >PAD</td>\n",
       "                        <td id=\"T_c3a20_row53_col4\" class=\"data row53 col4\" >PAD</td>\n",
       "                        <td id=\"T_c3a20_row53_col5\" class=\"data row53 col5\" >PAD</td>\n",
       "                        <td id=\"T_c3a20_row53_col6\" class=\"data row53 col6\" >PAD</td>\n",
       "            </tr>\n",
       "            <tr>\n",
       "                        <th id=\"T_c3a20_level0_row54\" class=\"row_heading level0 row54\" >54</th>\n",
       "                        <td id=\"T_c3a20_row54_col0\" class=\"data row54 col0\" >ENDPAD</td>\n",
       "                        <td id=\"T_c3a20_row54_col1\" class=\"data row54 col1\" >PAD</td>\n",
       "                        <td id=\"T_c3a20_row54_col2\" class=\"data row54 col2\" >O</td>\n",
       "                        <td id=\"T_c3a20_row54_col3\" class=\"data row54 col3\" >PAD</td>\n",
       "                        <td id=\"T_c3a20_row54_col4\" class=\"data row54 col4\" >PAD</td>\n",
       "                        <td id=\"T_c3a20_row54_col5\" class=\"data row54 col5\" >PAD</td>\n",
       "                        <td id=\"T_c3a20_row54_col6\" class=\"data row54 col6\" >PAD</td>\n",
       "            </tr>\n",
       "            <tr>\n",
       "                        <th id=\"T_c3a20_level0_row55\" class=\"row_heading level0 row55\" >55</th>\n",
       "                        <td id=\"T_c3a20_row55_col0\" class=\"data row55 col0\" >ENDPAD</td>\n",
       "                        <td id=\"T_c3a20_row55_col1\" class=\"data row55 col1\" >PAD</td>\n",
       "                        <td id=\"T_c3a20_row55_col2\" class=\"data row55 col2\" >O</td>\n",
       "                        <td id=\"T_c3a20_row55_col3\" class=\"data row55 col3\" >PAD</td>\n",
       "                        <td id=\"T_c3a20_row55_col4\" class=\"data row55 col4\" >PAD</td>\n",
       "                        <td id=\"T_c3a20_row55_col5\" class=\"data row55 col5\" >PAD</td>\n",
       "                        <td id=\"T_c3a20_row55_col6\" class=\"data row55 col6\" >PAD</td>\n",
       "            </tr>\n",
       "            <tr>\n",
       "                        <th id=\"T_c3a20_level0_row56\" class=\"row_heading level0 row56\" >56</th>\n",
       "                        <td id=\"T_c3a20_row56_col0\" class=\"data row56 col0\" >ENDPAD</td>\n",
       "                        <td id=\"T_c3a20_row56_col1\" class=\"data row56 col1\" >PAD</td>\n",
       "                        <td id=\"T_c3a20_row56_col2\" class=\"data row56 col2\" >O</td>\n",
       "                        <td id=\"T_c3a20_row56_col3\" class=\"data row56 col3\" >PAD</td>\n",
       "                        <td id=\"T_c3a20_row56_col4\" class=\"data row56 col4\" >PAD</td>\n",
       "                        <td id=\"T_c3a20_row56_col5\" class=\"data row56 col5\" >PAD</td>\n",
       "                        <td id=\"T_c3a20_row56_col6\" class=\"data row56 col6\" >PAD</td>\n",
       "            </tr>\n",
       "            <tr>\n",
       "                        <th id=\"T_c3a20_level0_row57\" class=\"row_heading level0 row57\" >57</th>\n",
       "                        <td id=\"T_c3a20_row57_col0\" class=\"data row57 col0\" >ENDPAD</td>\n",
       "                        <td id=\"T_c3a20_row57_col1\" class=\"data row57 col1\" >PAD</td>\n",
       "                        <td id=\"T_c3a20_row57_col2\" class=\"data row57 col2\" >O</td>\n",
       "                        <td id=\"T_c3a20_row57_col3\" class=\"data row57 col3\" >PAD</td>\n",
       "                        <td id=\"T_c3a20_row57_col4\" class=\"data row57 col4\" >PAD</td>\n",
       "                        <td id=\"T_c3a20_row57_col5\" class=\"data row57 col5\" >PAD</td>\n",
       "                        <td id=\"T_c3a20_row57_col6\" class=\"data row57 col6\" >PAD</td>\n",
       "            </tr>\n",
       "            <tr>\n",
       "                        <th id=\"T_c3a20_level0_row58\" class=\"row_heading level0 row58\" >58</th>\n",
       "                        <td id=\"T_c3a20_row58_col0\" class=\"data row58 col0\" >ENDPAD</td>\n",
       "                        <td id=\"T_c3a20_row58_col1\" class=\"data row58 col1\" >PAD</td>\n",
       "                        <td id=\"T_c3a20_row58_col2\" class=\"data row58 col2\" >O</td>\n",
       "                        <td id=\"T_c3a20_row58_col3\" class=\"data row58 col3\" >PAD</td>\n",
       "                        <td id=\"T_c3a20_row58_col4\" class=\"data row58 col4\" >PAD</td>\n",
       "                        <td id=\"T_c3a20_row58_col5\" class=\"data row58 col5\" >PAD</td>\n",
       "                        <td id=\"T_c3a20_row58_col6\" class=\"data row58 col6\" >PAD</td>\n",
       "            </tr>\n",
       "            <tr>\n",
       "                        <th id=\"T_c3a20_level0_row59\" class=\"row_heading level0 row59\" >59</th>\n",
       "                        <td id=\"T_c3a20_row59_col0\" class=\"data row59 col0\" >ENDPAD</td>\n",
       "                        <td id=\"T_c3a20_row59_col1\" class=\"data row59 col1\" >PAD</td>\n",
       "                        <td id=\"T_c3a20_row59_col2\" class=\"data row59 col2\" >O</td>\n",
       "                        <td id=\"T_c3a20_row59_col3\" class=\"data row59 col3\" >PAD</td>\n",
       "                        <td id=\"T_c3a20_row59_col4\" class=\"data row59 col4\" >PAD</td>\n",
       "                        <td id=\"T_c3a20_row59_col5\" class=\"data row59 col5\" >PAD</td>\n",
       "                        <td id=\"T_c3a20_row59_col6\" class=\"data row59 col6\" >PAD</td>\n",
       "            </tr>\n",
       "            <tr>\n",
       "                        <th id=\"T_c3a20_level0_row60\" class=\"row_heading level0 row60\" >60</th>\n",
       "                        <td id=\"T_c3a20_row60_col0\" class=\"data row60 col0\" >ENDPAD</td>\n",
       "                        <td id=\"T_c3a20_row60_col1\" class=\"data row60 col1\" >PAD</td>\n",
       "                        <td id=\"T_c3a20_row60_col2\" class=\"data row60 col2\" >O</td>\n",
       "                        <td id=\"T_c3a20_row60_col3\" class=\"data row60 col3\" >PAD</td>\n",
       "                        <td id=\"T_c3a20_row60_col4\" class=\"data row60 col4\" >PAD</td>\n",
       "                        <td id=\"T_c3a20_row60_col5\" class=\"data row60 col5\" >PAD</td>\n",
       "                        <td id=\"T_c3a20_row60_col6\" class=\"data row60 col6\" >PAD</td>\n",
       "            </tr>\n",
       "            <tr>\n",
       "                        <th id=\"T_c3a20_level0_row61\" class=\"row_heading level0 row61\" >61</th>\n",
       "                        <td id=\"T_c3a20_row61_col0\" class=\"data row61 col0\" >ENDPAD</td>\n",
       "                        <td id=\"T_c3a20_row61_col1\" class=\"data row61 col1\" >PAD</td>\n",
       "                        <td id=\"T_c3a20_row61_col2\" class=\"data row61 col2\" >O</td>\n",
       "                        <td id=\"T_c3a20_row61_col3\" class=\"data row61 col3\" >PAD</td>\n",
       "                        <td id=\"T_c3a20_row61_col4\" class=\"data row61 col4\" >PAD</td>\n",
       "                        <td id=\"T_c3a20_row61_col5\" class=\"data row61 col5\" >PAD</td>\n",
       "                        <td id=\"T_c3a20_row61_col6\" class=\"data row61 col6\" >PAD</td>\n",
       "            </tr>\n",
       "            <tr>\n",
       "                        <th id=\"T_c3a20_level0_row62\" class=\"row_heading level0 row62\" >62</th>\n",
       "                        <td id=\"T_c3a20_row62_col0\" class=\"data row62 col0\" >ENDPAD</td>\n",
       "                        <td id=\"T_c3a20_row62_col1\" class=\"data row62 col1\" >PAD</td>\n",
       "                        <td id=\"T_c3a20_row62_col2\" class=\"data row62 col2\" >O</td>\n",
       "                        <td id=\"T_c3a20_row62_col3\" class=\"data row62 col3\" >PAD</td>\n",
       "                        <td id=\"T_c3a20_row62_col4\" class=\"data row62 col4\" >PAD</td>\n",
       "                        <td id=\"T_c3a20_row62_col5\" class=\"data row62 col5\" >PAD</td>\n",
       "                        <td id=\"T_c3a20_row62_col6\" class=\"data row62 col6\" >PAD</td>\n",
       "            </tr>\n",
       "            <tr>\n",
       "                        <th id=\"T_c3a20_level0_row63\" class=\"row_heading level0 row63\" >63</th>\n",
       "                        <td id=\"T_c3a20_row63_col0\" class=\"data row63 col0\" >ENDPAD</td>\n",
       "                        <td id=\"T_c3a20_row63_col1\" class=\"data row63 col1\" >PAD</td>\n",
       "                        <td id=\"T_c3a20_row63_col2\" class=\"data row63 col2\" >O</td>\n",
       "                        <td id=\"T_c3a20_row63_col3\" class=\"data row63 col3\" >PAD</td>\n",
       "                        <td id=\"T_c3a20_row63_col4\" class=\"data row63 col4\" >PAD</td>\n",
       "                        <td id=\"T_c3a20_row63_col5\" class=\"data row63 col5\" >PAD</td>\n",
       "                        <td id=\"T_c3a20_row63_col6\" class=\"data row63 col6\" >PAD</td>\n",
       "            </tr>\n",
       "            <tr>\n",
       "                        <th id=\"T_c3a20_level0_row64\" class=\"row_heading level0 row64\" >64</th>\n",
       "                        <td id=\"T_c3a20_row64_col0\" class=\"data row64 col0\" >ENDPAD</td>\n",
       "                        <td id=\"T_c3a20_row64_col1\" class=\"data row64 col1\" >PAD</td>\n",
       "                        <td id=\"T_c3a20_row64_col2\" class=\"data row64 col2\" >O</td>\n",
       "                        <td id=\"T_c3a20_row64_col3\" class=\"data row64 col3\" >PAD</td>\n",
       "                        <td id=\"T_c3a20_row64_col4\" class=\"data row64 col4\" >PAD</td>\n",
       "                        <td id=\"T_c3a20_row64_col5\" class=\"data row64 col5\" >PAD</td>\n",
       "                        <td id=\"T_c3a20_row64_col6\" class=\"data row64 col6\" >PAD</td>\n",
       "            </tr>\n",
       "            <tr>\n",
       "                        <th id=\"T_c3a20_level0_row65\" class=\"row_heading level0 row65\" >65</th>\n",
       "                        <td id=\"T_c3a20_row65_col0\" class=\"data row65 col0\" >ENDPAD</td>\n",
       "                        <td id=\"T_c3a20_row65_col1\" class=\"data row65 col1\" >PAD</td>\n",
       "                        <td id=\"T_c3a20_row65_col2\" class=\"data row65 col2\" >O</td>\n",
       "                        <td id=\"T_c3a20_row65_col3\" class=\"data row65 col3\" >PAD</td>\n",
       "                        <td id=\"T_c3a20_row65_col4\" class=\"data row65 col4\" >PAD</td>\n",
       "                        <td id=\"T_c3a20_row65_col5\" class=\"data row65 col5\" >PAD</td>\n",
       "                        <td id=\"T_c3a20_row65_col6\" class=\"data row65 col6\" >PAD</td>\n",
       "            </tr>\n",
       "            <tr>\n",
       "                        <th id=\"T_c3a20_level0_row66\" class=\"row_heading level0 row66\" >66</th>\n",
       "                        <td id=\"T_c3a20_row66_col0\" class=\"data row66 col0\" >ENDPAD</td>\n",
       "                        <td id=\"T_c3a20_row66_col1\" class=\"data row66 col1\" >PAD</td>\n",
       "                        <td id=\"T_c3a20_row66_col2\" class=\"data row66 col2\" >O</td>\n",
       "                        <td id=\"T_c3a20_row66_col3\" class=\"data row66 col3\" >PAD</td>\n",
       "                        <td id=\"T_c3a20_row66_col4\" class=\"data row66 col4\" >PAD</td>\n",
       "                        <td id=\"T_c3a20_row66_col5\" class=\"data row66 col5\" >PAD</td>\n",
       "                        <td id=\"T_c3a20_row66_col6\" class=\"data row66 col6\" >PAD</td>\n",
       "            </tr>\n",
       "            <tr>\n",
       "                        <th id=\"T_c3a20_level0_row67\" class=\"row_heading level0 row67\" >67</th>\n",
       "                        <td id=\"T_c3a20_row67_col0\" class=\"data row67 col0\" >ENDPAD</td>\n",
       "                        <td id=\"T_c3a20_row67_col1\" class=\"data row67 col1\" >PAD</td>\n",
       "                        <td id=\"T_c3a20_row67_col2\" class=\"data row67 col2\" >O</td>\n",
       "                        <td id=\"T_c3a20_row67_col3\" class=\"data row67 col3\" >PAD</td>\n",
       "                        <td id=\"T_c3a20_row67_col4\" class=\"data row67 col4\" >PAD</td>\n",
       "                        <td id=\"T_c3a20_row67_col5\" class=\"data row67 col5\" >PAD</td>\n",
       "                        <td id=\"T_c3a20_row67_col6\" class=\"data row67 col6\" >PAD</td>\n",
       "            </tr>\n",
       "            <tr>\n",
       "                        <th id=\"T_c3a20_level0_row68\" class=\"row_heading level0 row68\" >68</th>\n",
       "                        <td id=\"T_c3a20_row68_col0\" class=\"data row68 col0\" >ENDPAD</td>\n",
       "                        <td id=\"T_c3a20_row68_col1\" class=\"data row68 col1\" >PAD</td>\n",
       "                        <td id=\"T_c3a20_row68_col2\" class=\"data row68 col2\" >O</td>\n",
       "                        <td id=\"T_c3a20_row68_col3\" class=\"data row68 col3\" >PAD</td>\n",
       "                        <td id=\"T_c3a20_row68_col4\" class=\"data row68 col4\" >PAD</td>\n",
       "                        <td id=\"T_c3a20_row68_col5\" class=\"data row68 col5\" >PAD</td>\n",
       "                        <td id=\"T_c3a20_row68_col6\" class=\"data row68 col6\" >PAD</td>\n",
       "            </tr>\n",
       "            <tr>\n",
       "                        <th id=\"T_c3a20_level0_row69\" class=\"row_heading level0 row69\" >69</th>\n",
       "                        <td id=\"T_c3a20_row69_col0\" class=\"data row69 col0\" >ENDPAD</td>\n",
       "                        <td id=\"T_c3a20_row69_col1\" class=\"data row69 col1\" >PAD</td>\n",
       "                        <td id=\"T_c3a20_row69_col2\" class=\"data row69 col2\" >O</td>\n",
       "                        <td id=\"T_c3a20_row69_col3\" class=\"data row69 col3\" >PAD</td>\n",
       "                        <td id=\"T_c3a20_row69_col4\" class=\"data row69 col4\" >PAD</td>\n",
       "                        <td id=\"T_c3a20_row69_col5\" class=\"data row69 col5\" >PAD</td>\n",
       "                        <td id=\"T_c3a20_row69_col6\" class=\"data row69 col6\" >PAD</td>\n",
       "            </tr>\n",
       "            <tr>\n",
       "                        <th id=\"T_c3a20_level0_row70\" class=\"row_heading level0 row70\" >70</th>\n",
       "                        <td id=\"T_c3a20_row70_col0\" class=\"data row70 col0\" >ENDPAD</td>\n",
       "                        <td id=\"T_c3a20_row70_col1\" class=\"data row70 col1\" >PAD</td>\n",
       "                        <td id=\"T_c3a20_row70_col2\" class=\"data row70 col2\" >O</td>\n",
       "                        <td id=\"T_c3a20_row70_col3\" class=\"data row70 col3\" >PAD</td>\n",
       "                        <td id=\"T_c3a20_row70_col4\" class=\"data row70 col4\" >PAD</td>\n",
       "                        <td id=\"T_c3a20_row70_col5\" class=\"data row70 col5\" >PAD</td>\n",
       "                        <td id=\"T_c3a20_row70_col6\" class=\"data row70 col6\" >PAD</td>\n",
       "            </tr>\n",
       "            <tr>\n",
       "                        <th id=\"T_c3a20_level0_row71\" class=\"row_heading level0 row71\" >71</th>\n",
       "                        <td id=\"T_c3a20_row71_col0\" class=\"data row71 col0\" >ENDPAD</td>\n",
       "                        <td id=\"T_c3a20_row71_col1\" class=\"data row71 col1\" >PAD</td>\n",
       "                        <td id=\"T_c3a20_row71_col2\" class=\"data row71 col2\" >O</td>\n",
       "                        <td id=\"T_c3a20_row71_col3\" class=\"data row71 col3\" >PAD</td>\n",
       "                        <td id=\"T_c3a20_row71_col4\" class=\"data row71 col4\" >PAD</td>\n",
       "                        <td id=\"T_c3a20_row71_col5\" class=\"data row71 col5\" >PAD</td>\n",
       "                        <td id=\"T_c3a20_row71_col6\" class=\"data row71 col6\" >PAD</td>\n",
       "            </tr>\n",
       "            <tr>\n",
       "                        <th id=\"T_c3a20_level0_row72\" class=\"row_heading level0 row72\" >72</th>\n",
       "                        <td id=\"T_c3a20_row72_col0\" class=\"data row72 col0\" >ENDPAD</td>\n",
       "                        <td id=\"T_c3a20_row72_col1\" class=\"data row72 col1\" >PAD</td>\n",
       "                        <td id=\"T_c3a20_row72_col2\" class=\"data row72 col2\" >O</td>\n",
       "                        <td id=\"T_c3a20_row72_col3\" class=\"data row72 col3\" >PAD</td>\n",
       "                        <td id=\"T_c3a20_row72_col4\" class=\"data row72 col4\" >PAD</td>\n",
       "                        <td id=\"T_c3a20_row72_col5\" class=\"data row72 col5\" >PAD</td>\n",
       "                        <td id=\"T_c3a20_row72_col6\" class=\"data row72 col6\" >PAD</td>\n",
       "            </tr>\n",
       "            <tr>\n",
       "                        <th id=\"T_c3a20_level0_row73\" class=\"row_heading level0 row73\" >73</th>\n",
       "                        <td id=\"T_c3a20_row73_col0\" class=\"data row73 col0\" >ENDPAD</td>\n",
       "                        <td id=\"T_c3a20_row73_col1\" class=\"data row73 col1\" >PAD</td>\n",
       "                        <td id=\"T_c3a20_row73_col2\" class=\"data row73 col2\" >O</td>\n",
       "                        <td id=\"T_c3a20_row73_col3\" class=\"data row73 col3\" >PAD</td>\n",
       "                        <td id=\"T_c3a20_row73_col4\" class=\"data row73 col4\" >PAD</td>\n",
       "                        <td id=\"T_c3a20_row73_col5\" class=\"data row73 col5\" >PAD</td>\n",
       "                        <td id=\"T_c3a20_row73_col6\" class=\"data row73 col6\" >PAD</td>\n",
       "            </tr>\n",
       "            <tr>\n",
       "                        <th id=\"T_c3a20_level0_row74\" class=\"row_heading level0 row74\" >74</th>\n",
       "                        <td id=\"T_c3a20_row74_col0\" class=\"data row74 col0\" >ENDPAD</td>\n",
       "                        <td id=\"T_c3a20_row74_col1\" class=\"data row74 col1\" >PAD</td>\n",
       "                        <td id=\"T_c3a20_row74_col2\" class=\"data row74 col2\" >O</td>\n",
       "                        <td id=\"T_c3a20_row74_col3\" class=\"data row74 col3\" >PAD</td>\n",
       "                        <td id=\"T_c3a20_row74_col4\" class=\"data row74 col4\" >PAD</td>\n",
       "                        <td id=\"T_c3a20_row74_col5\" class=\"data row74 col5\" >PAD</td>\n",
       "                        <td id=\"T_c3a20_row74_col6\" class=\"data row74 col6\" >PAD</td>\n",
       "            </tr>\n",
       "            <tr>\n",
       "                        <th id=\"T_c3a20_level0_row75\" class=\"row_heading level0 row75\" >75</th>\n",
       "                        <td id=\"T_c3a20_row75_col0\" class=\"data row75 col0\" >ENDPAD</td>\n",
       "                        <td id=\"T_c3a20_row75_col1\" class=\"data row75 col1\" >PAD</td>\n",
       "                        <td id=\"T_c3a20_row75_col2\" class=\"data row75 col2\" >O</td>\n",
       "                        <td id=\"T_c3a20_row75_col3\" class=\"data row75 col3\" >PAD</td>\n",
       "                        <td id=\"T_c3a20_row75_col4\" class=\"data row75 col4\" >PAD</td>\n",
       "                        <td id=\"T_c3a20_row75_col5\" class=\"data row75 col5\" >PAD</td>\n",
       "                        <td id=\"T_c3a20_row75_col6\" class=\"data row75 col6\" >PAD</td>\n",
       "            </tr>\n",
       "            <tr>\n",
       "                        <th id=\"T_c3a20_level0_row76\" class=\"row_heading level0 row76\" >76</th>\n",
       "                        <td id=\"T_c3a20_row76_col0\" class=\"data row76 col0\" >ENDPAD</td>\n",
       "                        <td id=\"T_c3a20_row76_col1\" class=\"data row76 col1\" >PAD</td>\n",
       "                        <td id=\"T_c3a20_row76_col2\" class=\"data row76 col2\" >O</td>\n",
       "                        <td id=\"T_c3a20_row76_col3\" class=\"data row76 col3\" >PAD</td>\n",
       "                        <td id=\"T_c3a20_row76_col4\" class=\"data row76 col4\" >PAD</td>\n",
       "                        <td id=\"T_c3a20_row76_col5\" class=\"data row76 col5\" >PAD</td>\n",
       "                        <td id=\"T_c3a20_row76_col6\" class=\"data row76 col6\" >PAD</td>\n",
       "            </tr>\n",
       "            <tr>\n",
       "                        <th id=\"T_c3a20_level0_row77\" class=\"row_heading level0 row77\" >77</th>\n",
       "                        <td id=\"T_c3a20_row77_col0\" class=\"data row77 col0\" >ENDPAD</td>\n",
       "                        <td id=\"T_c3a20_row77_col1\" class=\"data row77 col1\" >PAD</td>\n",
       "                        <td id=\"T_c3a20_row77_col2\" class=\"data row77 col2\" >O</td>\n",
       "                        <td id=\"T_c3a20_row77_col3\" class=\"data row77 col3\" >PAD</td>\n",
       "                        <td id=\"T_c3a20_row77_col4\" class=\"data row77 col4\" >PAD</td>\n",
       "                        <td id=\"T_c3a20_row77_col5\" class=\"data row77 col5\" >PAD</td>\n",
       "                        <td id=\"T_c3a20_row77_col6\" class=\"data row77 col6\" >PAD</td>\n",
       "            </tr>\n",
       "            <tr>\n",
       "                        <th id=\"T_c3a20_level0_row78\" class=\"row_heading level0 row78\" >78</th>\n",
       "                        <td id=\"T_c3a20_row78_col0\" class=\"data row78 col0\" >ENDPAD</td>\n",
       "                        <td id=\"T_c3a20_row78_col1\" class=\"data row78 col1\" >PAD</td>\n",
       "                        <td id=\"T_c3a20_row78_col2\" class=\"data row78 col2\" >O</td>\n",
       "                        <td id=\"T_c3a20_row78_col3\" class=\"data row78 col3\" >PAD</td>\n",
       "                        <td id=\"T_c3a20_row78_col4\" class=\"data row78 col4\" >PAD</td>\n",
       "                        <td id=\"T_c3a20_row78_col5\" class=\"data row78 col5\" >PAD</td>\n",
       "                        <td id=\"T_c3a20_row78_col6\" class=\"data row78 col6\" >PAD</td>\n",
       "            </tr>\n",
       "            <tr>\n",
       "                        <th id=\"T_c3a20_level0_row79\" class=\"row_heading level0 row79\" >79</th>\n",
       "                        <td id=\"T_c3a20_row79_col0\" class=\"data row79 col0\" >ENDPAD</td>\n",
       "                        <td id=\"T_c3a20_row79_col1\" class=\"data row79 col1\" >PAD</td>\n",
       "                        <td id=\"T_c3a20_row79_col2\" class=\"data row79 col2\" >O</td>\n",
       "                        <td id=\"T_c3a20_row79_col3\" class=\"data row79 col3\" >PAD</td>\n",
       "                        <td id=\"T_c3a20_row79_col4\" class=\"data row79 col4\" >PAD</td>\n",
       "                        <td id=\"T_c3a20_row79_col5\" class=\"data row79 col5\" >PAD</td>\n",
       "                        <td id=\"T_c3a20_row79_col6\" class=\"data row79 col6\" >PAD</td>\n",
       "            </tr>\n",
       "            <tr>\n",
       "                        <th id=\"T_c3a20_level0_row80\" class=\"row_heading level0 row80\" >80</th>\n",
       "                        <td id=\"T_c3a20_row80_col0\" class=\"data row80 col0\" >ENDPAD</td>\n",
       "                        <td id=\"T_c3a20_row80_col1\" class=\"data row80 col1\" >PAD</td>\n",
       "                        <td id=\"T_c3a20_row80_col2\" class=\"data row80 col2\" >O</td>\n",
       "                        <td id=\"T_c3a20_row80_col3\" class=\"data row80 col3\" >PAD</td>\n",
       "                        <td id=\"T_c3a20_row80_col4\" class=\"data row80 col4\" >PAD</td>\n",
       "                        <td id=\"T_c3a20_row80_col5\" class=\"data row80 col5\" >PAD</td>\n",
       "                        <td id=\"T_c3a20_row80_col6\" class=\"data row80 col6\" >PAD</td>\n",
       "            </tr>\n",
       "            <tr>\n",
       "                        <th id=\"T_c3a20_level0_row81\" class=\"row_heading level0 row81\" >81</th>\n",
       "                        <td id=\"T_c3a20_row81_col0\" class=\"data row81 col0\" >ENDPAD</td>\n",
       "                        <td id=\"T_c3a20_row81_col1\" class=\"data row81 col1\" >PAD</td>\n",
       "                        <td id=\"T_c3a20_row81_col2\" class=\"data row81 col2\" >O</td>\n",
       "                        <td id=\"T_c3a20_row81_col3\" class=\"data row81 col3\" >PAD</td>\n",
       "                        <td id=\"T_c3a20_row81_col4\" class=\"data row81 col4\" >PAD</td>\n",
       "                        <td id=\"T_c3a20_row81_col5\" class=\"data row81 col5\" >PAD</td>\n",
       "                        <td id=\"T_c3a20_row81_col6\" class=\"data row81 col6\" >PAD</td>\n",
       "            </tr>\n",
       "            <tr>\n",
       "                        <th id=\"T_c3a20_level0_row82\" class=\"row_heading level0 row82\" >82</th>\n",
       "                        <td id=\"T_c3a20_row82_col0\" class=\"data row82 col0\" >ENDPAD</td>\n",
       "                        <td id=\"T_c3a20_row82_col1\" class=\"data row82 col1\" >PAD</td>\n",
       "                        <td id=\"T_c3a20_row82_col2\" class=\"data row82 col2\" >O</td>\n",
       "                        <td id=\"T_c3a20_row82_col3\" class=\"data row82 col3\" >PAD</td>\n",
       "                        <td id=\"T_c3a20_row82_col4\" class=\"data row82 col4\" >PAD</td>\n",
       "                        <td id=\"T_c3a20_row82_col5\" class=\"data row82 col5\" >PAD</td>\n",
       "                        <td id=\"T_c3a20_row82_col6\" class=\"data row82 col6\" >PAD</td>\n",
       "            </tr>\n",
       "            <tr>\n",
       "                        <th id=\"T_c3a20_level0_row83\" class=\"row_heading level0 row83\" >83</th>\n",
       "                        <td id=\"T_c3a20_row83_col0\" class=\"data row83 col0\" >ENDPAD</td>\n",
       "                        <td id=\"T_c3a20_row83_col1\" class=\"data row83 col1\" >PAD</td>\n",
       "                        <td id=\"T_c3a20_row83_col2\" class=\"data row83 col2\" >O</td>\n",
       "                        <td id=\"T_c3a20_row83_col3\" class=\"data row83 col3\" >PAD</td>\n",
       "                        <td id=\"T_c3a20_row83_col4\" class=\"data row83 col4\" >PAD</td>\n",
       "                        <td id=\"T_c3a20_row83_col5\" class=\"data row83 col5\" >PAD</td>\n",
       "                        <td id=\"T_c3a20_row83_col6\" class=\"data row83 col6\" >PAD</td>\n",
       "            </tr>\n",
       "            <tr>\n",
       "                        <th id=\"T_c3a20_level0_row84\" class=\"row_heading level0 row84\" >84</th>\n",
       "                        <td id=\"T_c3a20_row84_col0\" class=\"data row84 col0\" >ENDPAD</td>\n",
       "                        <td id=\"T_c3a20_row84_col1\" class=\"data row84 col1\" >PAD</td>\n",
       "                        <td id=\"T_c3a20_row84_col2\" class=\"data row84 col2\" >O</td>\n",
       "                        <td id=\"T_c3a20_row84_col3\" class=\"data row84 col3\" >PAD</td>\n",
       "                        <td id=\"T_c3a20_row84_col4\" class=\"data row84 col4\" >PAD</td>\n",
       "                        <td id=\"T_c3a20_row84_col5\" class=\"data row84 col5\" >PAD</td>\n",
       "                        <td id=\"T_c3a20_row84_col6\" class=\"data row84 col6\" >PAD</td>\n",
       "            </tr>\n",
       "            <tr>\n",
       "                        <th id=\"T_c3a20_level0_row85\" class=\"row_heading level0 row85\" >85</th>\n",
       "                        <td id=\"T_c3a20_row85_col0\" class=\"data row85 col0\" >ENDPAD</td>\n",
       "                        <td id=\"T_c3a20_row85_col1\" class=\"data row85 col1\" >PAD</td>\n",
       "                        <td id=\"T_c3a20_row85_col2\" class=\"data row85 col2\" >O</td>\n",
       "                        <td id=\"T_c3a20_row85_col3\" class=\"data row85 col3\" >PAD</td>\n",
       "                        <td id=\"T_c3a20_row85_col4\" class=\"data row85 col4\" >PAD</td>\n",
       "                        <td id=\"T_c3a20_row85_col5\" class=\"data row85 col5\" >PAD</td>\n",
       "                        <td id=\"T_c3a20_row85_col6\" class=\"data row85 col6\" >PAD</td>\n",
       "            </tr>\n",
       "            <tr>\n",
       "                        <th id=\"T_c3a20_level0_row86\" class=\"row_heading level0 row86\" >86</th>\n",
       "                        <td id=\"T_c3a20_row86_col0\" class=\"data row86 col0\" >ENDPAD</td>\n",
       "                        <td id=\"T_c3a20_row86_col1\" class=\"data row86 col1\" >PAD</td>\n",
       "                        <td id=\"T_c3a20_row86_col2\" class=\"data row86 col2\" >O</td>\n",
       "                        <td id=\"T_c3a20_row86_col3\" class=\"data row86 col3\" >PAD</td>\n",
       "                        <td id=\"T_c3a20_row86_col4\" class=\"data row86 col4\" >PAD</td>\n",
       "                        <td id=\"T_c3a20_row86_col5\" class=\"data row86 col5\" >PAD</td>\n",
       "                        <td id=\"T_c3a20_row86_col6\" class=\"data row86 col6\" >PAD</td>\n",
       "            </tr>\n",
       "            <tr>\n",
       "                        <th id=\"T_c3a20_level0_row87\" class=\"row_heading level0 row87\" >87</th>\n",
       "                        <td id=\"T_c3a20_row87_col0\" class=\"data row87 col0\" >ENDPAD</td>\n",
       "                        <td id=\"T_c3a20_row87_col1\" class=\"data row87 col1\" >PAD</td>\n",
       "                        <td id=\"T_c3a20_row87_col2\" class=\"data row87 col2\" >O</td>\n",
       "                        <td id=\"T_c3a20_row87_col3\" class=\"data row87 col3\" >PAD</td>\n",
       "                        <td id=\"T_c3a20_row87_col4\" class=\"data row87 col4\" >PAD</td>\n",
       "                        <td id=\"T_c3a20_row87_col5\" class=\"data row87 col5\" >PAD</td>\n",
       "                        <td id=\"T_c3a20_row87_col6\" class=\"data row87 col6\" >PAD</td>\n",
       "            </tr>\n",
       "            <tr>\n",
       "                        <th id=\"T_c3a20_level0_row88\" class=\"row_heading level0 row88\" >88</th>\n",
       "                        <td id=\"T_c3a20_row88_col0\" class=\"data row88 col0\" >ENDPAD</td>\n",
       "                        <td id=\"T_c3a20_row88_col1\" class=\"data row88 col1\" >PAD</td>\n",
       "                        <td id=\"T_c3a20_row88_col2\" class=\"data row88 col2\" >O</td>\n",
       "                        <td id=\"T_c3a20_row88_col3\" class=\"data row88 col3\" >PAD</td>\n",
       "                        <td id=\"T_c3a20_row88_col4\" class=\"data row88 col4\" >PAD</td>\n",
       "                        <td id=\"T_c3a20_row88_col5\" class=\"data row88 col5\" >PAD</td>\n",
       "                        <td id=\"T_c3a20_row88_col6\" class=\"data row88 col6\" >PAD</td>\n",
       "            </tr>\n",
       "            <tr>\n",
       "                        <th id=\"T_c3a20_level0_row89\" class=\"row_heading level0 row89\" >89</th>\n",
       "                        <td id=\"T_c3a20_row89_col0\" class=\"data row89 col0\" >ENDPAD</td>\n",
       "                        <td id=\"T_c3a20_row89_col1\" class=\"data row89 col1\" >PAD</td>\n",
       "                        <td id=\"T_c3a20_row89_col2\" class=\"data row89 col2\" >O</td>\n",
       "                        <td id=\"T_c3a20_row89_col3\" class=\"data row89 col3\" >PAD</td>\n",
       "                        <td id=\"T_c3a20_row89_col4\" class=\"data row89 col4\" >PAD</td>\n",
       "                        <td id=\"T_c3a20_row89_col5\" class=\"data row89 col5\" >PAD</td>\n",
       "                        <td id=\"T_c3a20_row89_col6\" class=\"data row89 col6\" >PAD</td>\n",
       "            </tr>\n",
       "            <tr>\n",
       "                        <th id=\"T_c3a20_level0_row90\" class=\"row_heading level0 row90\" >90</th>\n",
       "                        <td id=\"T_c3a20_row90_col0\" class=\"data row90 col0\" >ENDPAD</td>\n",
       "                        <td id=\"T_c3a20_row90_col1\" class=\"data row90 col1\" >PAD</td>\n",
       "                        <td id=\"T_c3a20_row90_col2\" class=\"data row90 col2\" >O</td>\n",
       "                        <td id=\"T_c3a20_row90_col3\" class=\"data row90 col3\" >PAD</td>\n",
       "                        <td id=\"T_c3a20_row90_col4\" class=\"data row90 col4\" >PAD</td>\n",
       "                        <td id=\"T_c3a20_row90_col5\" class=\"data row90 col5\" >PAD</td>\n",
       "                        <td id=\"T_c3a20_row90_col6\" class=\"data row90 col6\" >PAD</td>\n",
       "            </tr>\n",
       "            <tr>\n",
       "                        <th id=\"T_c3a20_level0_row91\" class=\"row_heading level0 row91\" >91</th>\n",
       "                        <td id=\"T_c3a20_row91_col0\" class=\"data row91 col0\" >ENDPAD</td>\n",
       "                        <td id=\"T_c3a20_row91_col1\" class=\"data row91 col1\" >PAD</td>\n",
       "                        <td id=\"T_c3a20_row91_col2\" class=\"data row91 col2\" >O</td>\n",
       "                        <td id=\"T_c3a20_row91_col3\" class=\"data row91 col3\" >PAD</td>\n",
       "                        <td id=\"T_c3a20_row91_col4\" class=\"data row91 col4\" >PAD</td>\n",
       "                        <td id=\"T_c3a20_row91_col5\" class=\"data row91 col5\" >PAD</td>\n",
       "                        <td id=\"T_c3a20_row91_col6\" class=\"data row91 col6\" >PAD</td>\n",
       "            </tr>\n",
       "            <tr>\n",
       "                        <th id=\"T_c3a20_level0_row92\" class=\"row_heading level0 row92\" >92</th>\n",
       "                        <td id=\"T_c3a20_row92_col0\" class=\"data row92 col0\" >ENDPAD</td>\n",
       "                        <td id=\"T_c3a20_row92_col1\" class=\"data row92 col1\" >PAD</td>\n",
       "                        <td id=\"T_c3a20_row92_col2\" class=\"data row92 col2\" >O</td>\n",
       "                        <td id=\"T_c3a20_row92_col3\" class=\"data row92 col3\" >PAD</td>\n",
       "                        <td id=\"T_c3a20_row92_col4\" class=\"data row92 col4\" >PAD</td>\n",
       "                        <td id=\"T_c3a20_row92_col5\" class=\"data row92 col5\" >PAD</td>\n",
       "                        <td id=\"T_c3a20_row92_col6\" class=\"data row92 col6\" >PAD</td>\n",
       "            </tr>\n",
       "            <tr>\n",
       "                        <th id=\"T_c3a20_level0_row93\" class=\"row_heading level0 row93\" >93</th>\n",
       "                        <td id=\"T_c3a20_row93_col0\" class=\"data row93 col0\" >ENDPAD</td>\n",
       "                        <td id=\"T_c3a20_row93_col1\" class=\"data row93 col1\" >PAD</td>\n",
       "                        <td id=\"T_c3a20_row93_col2\" class=\"data row93 col2\" >O</td>\n",
       "                        <td id=\"T_c3a20_row93_col3\" class=\"data row93 col3\" >PAD</td>\n",
       "                        <td id=\"T_c3a20_row93_col4\" class=\"data row93 col4\" >PAD</td>\n",
       "                        <td id=\"T_c3a20_row93_col5\" class=\"data row93 col5\" >PAD</td>\n",
       "                        <td id=\"T_c3a20_row93_col6\" class=\"data row93 col6\" >PAD</td>\n",
       "            </tr>\n",
       "            <tr>\n",
       "                        <th id=\"T_c3a20_level0_row94\" class=\"row_heading level0 row94\" >94</th>\n",
       "                        <td id=\"T_c3a20_row94_col0\" class=\"data row94 col0\" >ENDPAD</td>\n",
       "                        <td id=\"T_c3a20_row94_col1\" class=\"data row94 col1\" >PAD</td>\n",
       "                        <td id=\"T_c3a20_row94_col2\" class=\"data row94 col2\" >O</td>\n",
       "                        <td id=\"T_c3a20_row94_col3\" class=\"data row94 col3\" >PAD</td>\n",
       "                        <td id=\"T_c3a20_row94_col4\" class=\"data row94 col4\" >PAD</td>\n",
       "                        <td id=\"T_c3a20_row94_col5\" class=\"data row94 col5\" >PAD</td>\n",
       "                        <td id=\"T_c3a20_row94_col6\" class=\"data row94 col6\" >PAD</td>\n",
       "            </tr>\n",
       "            <tr>\n",
       "                        <th id=\"T_c3a20_level0_row95\" class=\"row_heading level0 row95\" >95</th>\n",
       "                        <td id=\"T_c3a20_row95_col0\" class=\"data row95 col0\" >ENDPAD</td>\n",
       "                        <td id=\"T_c3a20_row95_col1\" class=\"data row95 col1\" >PAD</td>\n",
       "                        <td id=\"T_c3a20_row95_col2\" class=\"data row95 col2\" >O</td>\n",
       "                        <td id=\"T_c3a20_row95_col3\" class=\"data row95 col3\" >PAD</td>\n",
       "                        <td id=\"T_c3a20_row95_col4\" class=\"data row95 col4\" >PAD</td>\n",
       "                        <td id=\"T_c3a20_row95_col5\" class=\"data row95 col5\" >PAD</td>\n",
       "                        <td id=\"T_c3a20_row95_col6\" class=\"data row95 col6\" >PAD</td>\n",
       "            </tr>\n",
       "            <tr>\n",
       "                        <th id=\"T_c3a20_level0_row96\" class=\"row_heading level0 row96\" >96</th>\n",
       "                        <td id=\"T_c3a20_row96_col0\" class=\"data row96 col0\" >ENDPAD</td>\n",
       "                        <td id=\"T_c3a20_row96_col1\" class=\"data row96 col1\" >PAD</td>\n",
       "                        <td id=\"T_c3a20_row96_col2\" class=\"data row96 col2\" >O</td>\n",
       "                        <td id=\"T_c3a20_row96_col3\" class=\"data row96 col3\" >PAD</td>\n",
       "                        <td id=\"T_c3a20_row96_col4\" class=\"data row96 col4\" >PAD</td>\n",
       "                        <td id=\"T_c3a20_row96_col5\" class=\"data row96 col5\" >PAD</td>\n",
       "                        <td id=\"T_c3a20_row96_col6\" class=\"data row96 col6\" >PAD</td>\n",
       "            </tr>\n",
       "            <tr>\n",
       "                        <th id=\"T_c3a20_level0_row97\" class=\"row_heading level0 row97\" >97</th>\n",
       "                        <td id=\"T_c3a20_row97_col0\" class=\"data row97 col0\" >ENDPAD</td>\n",
       "                        <td id=\"T_c3a20_row97_col1\" class=\"data row97 col1\" >PAD</td>\n",
       "                        <td id=\"T_c3a20_row97_col2\" class=\"data row97 col2\" >O</td>\n",
       "                        <td id=\"T_c3a20_row97_col3\" class=\"data row97 col3\" >PAD</td>\n",
       "                        <td id=\"T_c3a20_row97_col4\" class=\"data row97 col4\" >PAD</td>\n",
       "                        <td id=\"T_c3a20_row97_col5\" class=\"data row97 col5\" >PAD</td>\n",
       "                        <td id=\"T_c3a20_row97_col6\" class=\"data row97 col6\" >PAD</td>\n",
       "            </tr>\n",
       "            <tr>\n",
       "                        <th id=\"T_c3a20_level0_row98\" class=\"row_heading level0 row98\" >98</th>\n",
       "                        <td id=\"T_c3a20_row98_col0\" class=\"data row98 col0\" >ENDPAD</td>\n",
       "                        <td id=\"T_c3a20_row98_col1\" class=\"data row98 col1\" >PAD</td>\n",
       "                        <td id=\"T_c3a20_row98_col2\" class=\"data row98 col2\" >O</td>\n",
       "                        <td id=\"T_c3a20_row98_col3\" class=\"data row98 col3\" >PAD</td>\n",
       "                        <td id=\"T_c3a20_row98_col4\" class=\"data row98 col4\" >PAD</td>\n",
       "                        <td id=\"T_c3a20_row98_col5\" class=\"data row98 col5\" >PAD</td>\n",
       "                        <td id=\"T_c3a20_row98_col6\" class=\"data row98 col6\" >PAD</td>\n",
       "            </tr>\n",
       "            <tr>\n",
       "                        <th id=\"T_c3a20_level0_row99\" class=\"row_heading level0 row99\" >99</th>\n",
       "                        <td id=\"T_c3a20_row99_col0\" class=\"data row99 col0\" >ENDPAD</td>\n",
       "                        <td id=\"T_c3a20_row99_col1\" class=\"data row99 col1\" >PAD</td>\n",
       "                        <td id=\"T_c3a20_row99_col2\" class=\"data row99 col2\" >O</td>\n",
       "                        <td id=\"T_c3a20_row99_col3\" class=\"data row99 col3\" >PAD</td>\n",
       "                        <td id=\"T_c3a20_row99_col4\" class=\"data row99 col4\" >PAD</td>\n",
       "                        <td id=\"T_c3a20_row99_col5\" class=\"data row99 col5\" >PAD</td>\n",
       "                        <td id=\"T_c3a20_row99_col6\" class=\"data row99 col6\" >PAD</td>\n",
       "            </tr>\n",
       "            <tr>\n",
       "                        <th id=\"T_c3a20_level0_row100\" class=\"row_heading level0 row100\" >100</th>\n",
       "                        <td id=\"T_c3a20_row100_col0\" class=\"data row100 col0\" >ENDPAD</td>\n",
       "                        <td id=\"T_c3a20_row100_col1\" class=\"data row100 col1\" >PAD</td>\n",
       "                        <td id=\"T_c3a20_row100_col2\" class=\"data row100 col2\" >O</td>\n",
       "                        <td id=\"T_c3a20_row100_col3\" class=\"data row100 col3\" >PAD</td>\n",
       "                        <td id=\"T_c3a20_row100_col4\" class=\"data row100 col4\" >PAD</td>\n",
       "                        <td id=\"T_c3a20_row100_col5\" class=\"data row100 col5\" >PAD</td>\n",
       "                        <td id=\"T_c3a20_row100_col6\" class=\"data row100 col6\" >PAD</td>\n",
       "            </tr>\n",
       "            <tr>\n",
       "                        <th id=\"T_c3a20_level0_row101\" class=\"row_heading level0 row101\" >101</th>\n",
       "                        <td id=\"T_c3a20_row101_col0\" class=\"data row101 col0\" >ENDPAD</td>\n",
       "                        <td id=\"T_c3a20_row101_col1\" class=\"data row101 col1\" >PAD</td>\n",
       "                        <td id=\"T_c3a20_row101_col2\" class=\"data row101 col2\" >O</td>\n",
       "                        <td id=\"T_c3a20_row101_col3\" class=\"data row101 col3\" >PAD</td>\n",
       "                        <td id=\"T_c3a20_row101_col4\" class=\"data row101 col4\" >PAD</td>\n",
       "                        <td id=\"T_c3a20_row101_col5\" class=\"data row101 col5\" >PAD</td>\n",
       "                        <td id=\"T_c3a20_row101_col6\" class=\"data row101 col6\" >PAD</td>\n",
       "            </tr>\n",
       "            <tr>\n",
       "                        <th id=\"T_c3a20_level0_row102\" class=\"row_heading level0 row102\" >102</th>\n",
       "                        <td id=\"T_c3a20_row102_col0\" class=\"data row102 col0\" >ENDPAD</td>\n",
       "                        <td id=\"T_c3a20_row102_col1\" class=\"data row102 col1\" >PAD</td>\n",
       "                        <td id=\"T_c3a20_row102_col2\" class=\"data row102 col2\" >O</td>\n",
       "                        <td id=\"T_c3a20_row102_col3\" class=\"data row102 col3\" >PAD</td>\n",
       "                        <td id=\"T_c3a20_row102_col4\" class=\"data row102 col4\" >PAD</td>\n",
       "                        <td id=\"T_c3a20_row102_col5\" class=\"data row102 col5\" >PAD</td>\n",
       "                        <td id=\"T_c3a20_row102_col6\" class=\"data row102 col6\" >PAD</td>\n",
       "            </tr>\n",
       "            <tr>\n",
       "                        <th id=\"T_c3a20_level0_row103\" class=\"row_heading level0 row103\" >103</th>\n",
       "                        <td id=\"T_c3a20_row103_col0\" class=\"data row103 col0\" >ENDPAD</td>\n",
       "                        <td id=\"T_c3a20_row103_col1\" class=\"data row103 col1\" >PAD</td>\n",
       "                        <td id=\"T_c3a20_row103_col2\" class=\"data row103 col2\" >O</td>\n",
       "                        <td id=\"T_c3a20_row103_col3\" class=\"data row103 col3\" >PAD</td>\n",
       "                        <td id=\"T_c3a20_row103_col4\" class=\"data row103 col4\" >PAD</td>\n",
       "                        <td id=\"T_c3a20_row103_col5\" class=\"data row103 col5\" >PAD</td>\n",
       "                        <td id=\"T_c3a20_row103_col6\" class=\"data row103 col6\" >PAD</td>\n",
       "            </tr>\n",
       "    </tbody></table>"
      ],
      "text/plain": [
       "<pandas.io.formats.style.Styler at 0x7ff205d3ca90>"
      ]
     },
     "execution_count": 100,
     "metadata": {},
     "output_type": "execute_result"
    }
   ],
   "source": [
    "df.style.apply(lambda x: highlight_errors(x), axis=1)"
   ]
  },
  {
   "cell_type": "markdown",
   "metadata": {
    "id": "aal9PtGAtO6M"
   },
   "source": [
    "<a id=\"s36\"></a>\n",
    "<div class='exercise-r'>  \n",
    "\n",
    "**[3.6:](#q36)** Choose one of the most promising models you have built and improve that model to achieve an $F_1$ score greater than $0.8$ for as many tags as possible (you have lots of options here, e.g. data balancing, hyperparameter tuning, changing the structure of the NN, using a different optimizer, etc.).\n",
    "\n",
    "</div>"
   ]
  },
  {
   "cell_type": "code",
   "execution_count": 339,
   "metadata": {},
   "outputs": [
    {
     "name": "stdout",
     "output_type": "stream",
     "text": [
      "Requirement already satisfied: imbalanced-learn in /Users/gaelancel/opt/anaconda3/lib/python3.8/site-packages (0.8.0)\n",
      "Requirement already satisfied: joblib>=0.11 in /Users/gaelancel/opt/anaconda3/lib/python3.8/site-packages (from imbalanced-learn) (0.17.0)\n",
      "Requirement already satisfied: scipy>=0.19.1 in /Users/gaelancel/opt/anaconda3/lib/python3.8/site-packages (from imbalanced-learn) (1.5.2)\n",
      "Requirement already satisfied: numpy>=1.13.3 in /Users/gaelancel/opt/anaconda3/lib/python3.8/site-packages (from imbalanced-learn) (1.19.2)\n",
      "Requirement already satisfied: scikit-learn>=0.24 in /Users/gaelancel/opt/anaconda3/lib/python3.8/site-packages (from imbalanced-learn) (0.24.1)\n",
      "Requirement already satisfied: threadpoolctl>=2.0.0 in /Users/gaelancel/opt/anaconda3/lib/python3.8/site-packages (from scikit-learn>=0.24->imbalanced-learn) (2.1.0)\n",
      "Requirement already satisfied: delayed in /Users/gaelancel/opt/anaconda3/lib/python3.8/site-packages (0.11.0b1)\n",
      "Requirement already satisfied: hiredis in /Users/gaelancel/opt/anaconda3/lib/python3.8/site-packages (from delayed) (1.1.0)\n",
      "Requirement already satisfied: redis in /Users/gaelancel/opt/anaconda3/lib/python3.8/site-packages (from delayed) (3.5.3)\n",
      "CPU times: user 108 ms, sys: 61.8 ms, total: 170 ms\n",
      "Wall time: 6.58 s\n"
     ]
    }
   ],
   "source": [
    "%%time\n",
    "!pip install imbalanced-learn\n",
    "!pip install delayed\n",
    "from imblearn.over_sampling import SMOTE #SMOTE synthesizes new examples for the minority class to avoid imbalanced classification\n",
    "from imblearn.over_sampling import RandomOverSampler"
   ]
  },
  {
   "cell_type": "code",
   "execution_count": 254,
   "metadata": {},
   "outputs": [
    {
     "name": "stdout",
     "output_type": "stream",
     "text": [
      "(5000, 2) (5000,)\n"
     ]
    }
   ],
   "source": [
    "from sklearn.datasets import make_classification\n",
    "A, B = make_classification(n_samples=5000, n_features=2, n_informative=2,\n",
    "                           n_redundant=0, n_repeated=0, n_classes=3,\n",
    "                           n_clusters_per_class=1,\n",
    "                           weights=[0.01, 0.05, 0.94],\n",
    "                           class_sep=0.8, random_state=0)\n",
    "\n",
    "print(A.shape,B.shape)\n",
    "A_r, B_r = SMOTE().fit_resample(A, B)"
   ]
  },
  {
   "cell_type": "code",
   "execution_count": 370,
   "metadata": {
    "id": "zTanLa6UtO6N"
   },
   "outputs": [],
   "source": [
    "# your code here\n",
    "#We select the BiGRU model\n",
    "\n",
    "model_bigru = tf.keras.Sequential()\n",
    "model_bigru.add(tf.keras.layers.InputLayer(input_shape=(104,), batch_size=batch_size))\n",
    "#model_bigru.add(tf.keras.layers.UpSampling2D(interpolation=\"bilinear\"))\n",
    "model_bigru.add(tf.keras.layers.Embedding(input_dim=n_words, output_dim=dim_embed, input_length=max_len))\n",
    "model_bigru.add(tf.keras.layers.Dropout(drop_rate))\n",
    "model_bigru.add(tf.keras.layers.Bidirectional(layer = tf.keras.layers.GRU(units=64, return_sequences=True))) # concat by default\n",
    "model_bigru.add(tf.keras.layers.Dropout(drop_rate))\n",
    "model_bigru.add(tf.keras.layers.TimeDistributed(tf.keras.layers.Dense(n_tags, activation=\"softmax\")))\n",
    "\n",
    "# Compile model\n",
    "model_bigru.compile(optimizer='adam', loss=loss, metrics=metrics)\n"
   ]
  },
  {
   "cell_type": "code",
   "execution_count": 371,
   "metadata": {},
   "outputs": [
    {
     "name": "stdout",
     "output_type": "stream",
     "text": [
      "Epoch 1/10\n",
      "1213/1214 [============================>.] - ETA: 0s - loss: 0.3569 - accuracy: 0.9320"
     ]
    },
    {
     "ename": "InvalidArgumentError",
     "evalue": " Input to reshape is a tensor with 3120 values, but the requested shape has 3328\n\t [[node gradient_tape/sequential_34/embedding_29/embedding_lookup/Reshape_1 (defined at <ipython-input-371-50aca4e59085>:6) ]] [Op:__inference_train_function_476715]\n\nFunction call stack:\ntrain_function\n",
     "output_type": "error",
     "traceback": [
      "\u001b[0;31m---------------------------------------------------------------------------\u001b[0m",
      "\u001b[0;31mInvalidArgumentError\u001b[0m                      Traceback (most recent call last)",
      "\u001b[0;32m<ipython-input-371-50aca4e59085>\u001b[0m in \u001b[0;36m<module>\u001b[0;34m\u001b[0m\n\u001b[1;32m      4\u001b[0m \u001b[0;31m#X_tr, y_trr = sm.fit_resample(X_tr, y_trr)\u001b[0m\u001b[0;34m\u001b[0m\u001b[0;34m\u001b[0m\u001b[0;34m\u001b[0m\u001b[0m\n\u001b[1;32m      5\u001b[0m \u001b[0;31m# Train model\u001b[0m\u001b[0;34m\u001b[0m\u001b[0;34m\u001b[0m\u001b[0;34m\u001b[0m\u001b[0m\n\u001b[0;32m----> 6\u001b[0;31m history = model_bigru.fit(X_tr, y_tr, batch_size=batch_size, epochs=epochs, \n\u001b[0m\u001b[1;32m      7\u001b[0m                     validation_split=validation_split, verbose=verbose)\n",
      "\u001b[0;32m~/opt/anaconda3/lib/python3.8/site-packages/tensorflow/python/keras/engine/training.py\u001b[0m in \u001b[0;36mfit\u001b[0;34m(self, x, y, batch_size, epochs, verbose, callbacks, validation_split, validation_data, shuffle, class_weight, sample_weight, initial_epoch, steps_per_epoch, validation_steps, validation_batch_size, validation_freq, max_queue_size, workers, use_multiprocessing)\u001b[0m\n\u001b[1;32m   1098\u001b[0m                 _r=1):\n\u001b[1;32m   1099\u001b[0m               \u001b[0mcallbacks\u001b[0m\u001b[0;34m.\u001b[0m\u001b[0mon_train_batch_begin\u001b[0m\u001b[0;34m(\u001b[0m\u001b[0mstep\u001b[0m\u001b[0;34m)\u001b[0m\u001b[0;34m\u001b[0m\u001b[0;34m\u001b[0m\u001b[0m\n\u001b[0;32m-> 1100\u001b[0;31m               \u001b[0mtmp_logs\u001b[0m \u001b[0;34m=\u001b[0m \u001b[0mself\u001b[0m\u001b[0;34m.\u001b[0m\u001b[0mtrain_function\u001b[0m\u001b[0;34m(\u001b[0m\u001b[0miterator\u001b[0m\u001b[0;34m)\u001b[0m\u001b[0;34m\u001b[0m\u001b[0;34m\u001b[0m\u001b[0m\n\u001b[0m\u001b[1;32m   1101\u001b[0m               \u001b[0;32mif\u001b[0m \u001b[0mdata_handler\u001b[0m\u001b[0;34m.\u001b[0m\u001b[0mshould_sync\u001b[0m\u001b[0;34m:\u001b[0m\u001b[0;34m\u001b[0m\u001b[0;34m\u001b[0m\u001b[0m\n\u001b[1;32m   1102\u001b[0m                 \u001b[0mcontext\u001b[0m\u001b[0;34m.\u001b[0m\u001b[0masync_wait\u001b[0m\u001b[0;34m(\u001b[0m\u001b[0;34m)\u001b[0m\u001b[0;34m\u001b[0m\u001b[0;34m\u001b[0m\u001b[0m\n",
      "\u001b[0;32m~/opt/anaconda3/lib/python3.8/site-packages/tensorflow/python/eager/def_function.py\u001b[0m in \u001b[0;36m__call__\u001b[0;34m(self, *args, **kwds)\u001b[0m\n\u001b[1;32m    826\u001b[0m     \u001b[0mtracing_count\u001b[0m \u001b[0;34m=\u001b[0m \u001b[0mself\u001b[0m\u001b[0;34m.\u001b[0m\u001b[0mexperimental_get_tracing_count\u001b[0m\u001b[0;34m(\u001b[0m\u001b[0;34m)\u001b[0m\u001b[0;34m\u001b[0m\u001b[0;34m\u001b[0m\u001b[0m\n\u001b[1;32m    827\u001b[0m     \u001b[0;32mwith\u001b[0m \u001b[0mtrace\u001b[0m\u001b[0;34m.\u001b[0m\u001b[0mTrace\u001b[0m\u001b[0;34m(\u001b[0m\u001b[0mself\u001b[0m\u001b[0;34m.\u001b[0m\u001b[0m_name\u001b[0m\u001b[0;34m)\u001b[0m \u001b[0;32mas\u001b[0m \u001b[0mtm\u001b[0m\u001b[0;34m:\u001b[0m\u001b[0;34m\u001b[0m\u001b[0;34m\u001b[0m\u001b[0m\n\u001b[0;32m--> 828\u001b[0;31m       \u001b[0mresult\u001b[0m \u001b[0;34m=\u001b[0m \u001b[0mself\u001b[0m\u001b[0;34m.\u001b[0m\u001b[0m_call\u001b[0m\u001b[0;34m(\u001b[0m\u001b[0;34m*\u001b[0m\u001b[0margs\u001b[0m\u001b[0;34m,\u001b[0m \u001b[0;34m**\u001b[0m\u001b[0mkwds\u001b[0m\u001b[0;34m)\u001b[0m\u001b[0;34m\u001b[0m\u001b[0;34m\u001b[0m\u001b[0m\n\u001b[0m\u001b[1;32m    829\u001b[0m       \u001b[0mcompiler\u001b[0m \u001b[0;34m=\u001b[0m \u001b[0;34m\"xla\"\u001b[0m \u001b[0;32mif\u001b[0m \u001b[0mself\u001b[0m\u001b[0;34m.\u001b[0m\u001b[0m_experimental_compile\u001b[0m \u001b[0;32melse\u001b[0m \u001b[0;34m\"nonXla\"\u001b[0m\u001b[0;34m\u001b[0m\u001b[0;34m\u001b[0m\u001b[0m\n\u001b[1;32m    830\u001b[0m       \u001b[0mnew_tracing_count\u001b[0m \u001b[0;34m=\u001b[0m \u001b[0mself\u001b[0m\u001b[0;34m.\u001b[0m\u001b[0mexperimental_get_tracing_count\u001b[0m\u001b[0;34m(\u001b[0m\u001b[0;34m)\u001b[0m\u001b[0;34m\u001b[0m\u001b[0;34m\u001b[0m\u001b[0m\n",
      "\u001b[0;32m~/opt/anaconda3/lib/python3.8/site-packages/tensorflow/python/eager/def_function.py\u001b[0m in \u001b[0;36m_call\u001b[0;34m(self, *args, **kwds)\u001b[0m\n\u001b[1;32m    853\u001b[0m       \u001b[0;31m# In this case we have created variables on the first call, so we run the\u001b[0m\u001b[0;34m\u001b[0m\u001b[0;34m\u001b[0m\u001b[0;34m\u001b[0m\u001b[0m\n\u001b[1;32m    854\u001b[0m       \u001b[0;31m# defunned version which is guaranteed to never create variables.\u001b[0m\u001b[0;34m\u001b[0m\u001b[0;34m\u001b[0m\u001b[0;34m\u001b[0m\u001b[0m\n\u001b[0;32m--> 855\u001b[0;31m       \u001b[0;32mreturn\u001b[0m \u001b[0mself\u001b[0m\u001b[0;34m.\u001b[0m\u001b[0m_stateless_fn\u001b[0m\u001b[0;34m(\u001b[0m\u001b[0;34m*\u001b[0m\u001b[0margs\u001b[0m\u001b[0;34m,\u001b[0m \u001b[0;34m**\u001b[0m\u001b[0mkwds\u001b[0m\u001b[0;34m)\u001b[0m  \u001b[0;31m# pylint: disable=not-callable\u001b[0m\u001b[0;34m\u001b[0m\u001b[0;34m\u001b[0m\u001b[0m\n\u001b[0m\u001b[1;32m    856\u001b[0m     \u001b[0;32melif\u001b[0m \u001b[0mself\u001b[0m\u001b[0;34m.\u001b[0m\u001b[0m_stateful_fn\u001b[0m \u001b[0;32mis\u001b[0m \u001b[0;32mnot\u001b[0m \u001b[0;32mNone\u001b[0m\u001b[0;34m:\u001b[0m\u001b[0;34m\u001b[0m\u001b[0;34m\u001b[0m\u001b[0m\n\u001b[1;32m    857\u001b[0m       \u001b[0;31m# Release the lock early so that multiple threads can perform the call\u001b[0m\u001b[0;34m\u001b[0m\u001b[0;34m\u001b[0m\u001b[0;34m\u001b[0m\u001b[0m\n",
      "\u001b[0;32m~/opt/anaconda3/lib/python3.8/site-packages/tensorflow/python/eager/function.py\u001b[0m in \u001b[0;36m__call__\u001b[0;34m(self, *args, **kwargs)\u001b[0m\n\u001b[1;32m   2940\u001b[0m       (graph_function,\n\u001b[1;32m   2941\u001b[0m        filtered_flat_args) = self._maybe_define_function(args, kwargs)\n\u001b[0;32m-> 2942\u001b[0;31m     return graph_function._call_flat(\n\u001b[0m\u001b[1;32m   2943\u001b[0m         filtered_flat_args, captured_inputs=graph_function.captured_inputs)  # pylint: disable=protected-access\n\u001b[1;32m   2944\u001b[0m \u001b[0;34m\u001b[0m\u001b[0m\n",
      "\u001b[0;32m~/opt/anaconda3/lib/python3.8/site-packages/tensorflow/python/eager/function.py\u001b[0m in \u001b[0;36m_call_flat\u001b[0;34m(self, args, captured_inputs, cancellation_manager)\u001b[0m\n\u001b[1;32m   1916\u001b[0m         and executing_eagerly):\n\u001b[1;32m   1917\u001b[0m       \u001b[0;31m# No tape is watching; skip to running the function.\u001b[0m\u001b[0;34m\u001b[0m\u001b[0;34m\u001b[0m\u001b[0;34m\u001b[0m\u001b[0m\n\u001b[0;32m-> 1918\u001b[0;31m       return self._build_call_outputs(self._inference_function.call(\n\u001b[0m\u001b[1;32m   1919\u001b[0m           ctx, args, cancellation_manager=cancellation_manager))\n\u001b[1;32m   1920\u001b[0m     forward_backward = self._select_forward_and_backward_functions(\n",
      "\u001b[0;32m~/opt/anaconda3/lib/python3.8/site-packages/tensorflow/python/eager/function.py\u001b[0m in \u001b[0;36mcall\u001b[0;34m(self, ctx, args, cancellation_manager)\u001b[0m\n\u001b[1;32m    553\u001b[0m       \u001b[0;32mwith\u001b[0m \u001b[0m_InterpolateFunctionError\u001b[0m\u001b[0;34m(\u001b[0m\u001b[0mself\u001b[0m\u001b[0;34m)\u001b[0m\u001b[0;34m:\u001b[0m\u001b[0;34m\u001b[0m\u001b[0;34m\u001b[0m\u001b[0m\n\u001b[1;32m    554\u001b[0m         \u001b[0;32mif\u001b[0m \u001b[0mcancellation_manager\u001b[0m \u001b[0;32mis\u001b[0m \u001b[0;32mNone\u001b[0m\u001b[0;34m:\u001b[0m\u001b[0;34m\u001b[0m\u001b[0;34m\u001b[0m\u001b[0m\n\u001b[0;32m--> 555\u001b[0;31m           outputs = execute.execute(\n\u001b[0m\u001b[1;32m    556\u001b[0m               \u001b[0mstr\u001b[0m\u001b[0;34m(\u001b[0m\u001b[0mself\u001b[0m\u001b[0;34m.\u001b[0m\u001b[0msignature\u001b[0m\u001b[0;34m.\u001b[0m\u001b[0mname\u001b[0m\u001b[0;34m)\u001b[0m\u001b[0;34m,\u001b[0m\u001b[0;34m\u001b[0m\u001b[0;34m\u001b[0m\u001b[0m\n\u001b[1;32m    557\u001b[0m               \u001b[0mnum_outputs\u001b[0m\u001b[0;34m=\u001b[0m\u001b[0mself\u001b[0m\u001b[0;34m.\u001b[0m\u001b[0m_num_outputs\u001b[0m\u001b[0;34m,\u001b[0m\u001b[0;34m\u001b[0m\u001b[0;34m\u001b[0m\u001b[0m\n",
      "\u001b[0;32m~/opt/anaconda3/lib/python3.8/site-packages/tensorflow/python/eager/execute.py\u001b[0m in \u001b[0;36mquick_execute\u001b[0;34m(op_name, num_outputs, inputs, attrs, ctx, name)\u001b[0m\n\u001b[1;32m     57\u001b[0m   \u001b[0;32mtry\u001b[0m\u001b[0;34m:\u001b[0m\u001b[0;34m\u001b[0m\u001b[0;34m\u001b[0m\u001b[0m\n\u001b[1;32m     58\u001b[0m     \u001b[0mctx\u001b[0m\u001b[0;34m.\u001b[0m\u001b[0mensure_initialized\u001b[0m\u001b[0;34m(\u001b[0m\u001b[0;34m)\u001b[0m\u001b[0;34m\u001b[0m\u001b[0;34m\u001b[0m\u001b[0m\n\u001b[0;32m---> 59\u001b[0;31m     tensors = pywrap_tfe.TFE_Py_Execute(ctx._handle, device_name, op_name,\n\u001b[0m\u001b[1;32m     60\u001b[0m                                         inputs, attrs, num_outputs)\n\u001b[1;32m     61\u001b[0m   \u001b[0;32mexcept\u001b[0m \u001b[0mcore\u001b[0m\u001b[0;34m.\u001b[0m\u001b[0m_NotOkStatusException\u001b[0m \u001b[0;32mas\u001b[0m \u001b[0me\u001b[0m\u001b[0;34m:\u001b[0m\u001b[0;34m\u001b[0m\u001b[0;34m\u001b[0m\u001b[0m\n",
      "\u001b[0;31mInvalidArgumentError\u001b[0m:  Input to reshape is a tensor with 3120 values, but the requested shape has 3328\n\t [[node gradient_tape/sequential_34/embedding_29/embedding_lookup/Reshape_1 (defined at <ipython-input-371-50aca4e59085>:6) ]] [Op:__inference_train_function_476715]\n\nFunction call stack:\ntrain_function\n"
     ]
    }
   ],
   "source": [
    "sm = SMOTE()\n",
    "#y_trr=np.argmax(y_tr,axis=-1)\n",
    "#print(X_tr.reshape(-1,2,2,1))\n",
    "#X_tr, y_trr = sm.fit_resample(X_tr, y_trr)\n",
    "# Train model\n",
    "history = model_bigru.fit(X_tr, y_tr, batch_size=batch_size, epochs=3, \n",
    "                    validation_split=validation_split, verbose=verbose)"
   ]
  },
  {
   "cell_type": "code",
   "execution_count": null,
   "metadata": {},
   "outputs": [],
   "source": [
    "X = []\n",
    "Y = []\n",
    "for sentence in sentences:\n",
    "    X.append([word2idx[word[0]] for word in sentence])\n",
    "    Y.append([tag2idx[word[1]] for word in sentence])    \n",
    "X = pad_sequences(X, max_len)\n",
    "Y = pad_sequences(Y, max_len, value = tag2idx['PAD'])\n",
    "Y = to_categorical(Y)\n",
    "\n",
    "X_tr, X_te, y_tr, y_te = train_test_split(X, Y, test_size=0.1, random_state=109)\n",
    "history = model_bigru.fit(X_tr, y_tr, batch_size=batch_size, epochs=epochs, \n",
    "                    validation_split=validation_split, verbose=verbose)"
   ]
  },
  {
   "cell_type": "code",
   "execution_count": null,
   "metadata": {},
   "outputs": [],
   "source": [
    "y_pred_bigru = np.argmax(BiGRU(X_te), axis=-1)\n",
    "y_test = np.argmax(y_te, axis=-1)\n",
    "f1_bigru = []\n",
    "for tag in tag2idx.values():\n",
    "    y_pred_tag = 1*(y_pred_bigru==tag).reshape(1, -1)\n",
    "    y_true_tag = 1*(y_test==tag).reshape(1, -1)\n",
    "    f1_tag = f1_score(y_true_tag[0], y_pred_tag[0])\n",
    "    f1_bigru.append(f1_tag)"
   ]
  },
  {
   "cell_type": "markdown",
   "metadata": {},
   "source": [
    "Before trying to improve the $F_1$ score of our tags we had x tags above the given threshold already. The most promising model in terms of $F_1$ clearly was the BiGRU one. We have intended different techniques and approaches in order to improve tags' scores:\n",
    "* **Data balancing**: data balancing was our first idea. Indeed the number of sentences that belong to each tag appear to be greatly unbalanced, thus we decided to increase the number of sentences with under represented tags to retrain the model after. We used a Python library named SMOTE(). However this did not improve the scores at all we couldn't see any difference\n",
    "*  **Hyperparameter tuning**: this part has been very tedious, we first tried to tune the parameters of the fit function (`verbose`, `batch_size`) to see if the scores would improve; they did not. We then changed the number of units of the GRU layer but without any success.\n",
    "* **Changing the structure of the NN**: we figured out that to improve the $F_1$ score, a good idea could be to add a Dense layer and/or to add a new Dropout layer, to counterbalance the underrepresntation of certain tags. \n",
    "* **Using a different optimizer**: We tried every optimizer there is but this resulted only in tiny differences, nothing significant.\n",
    "\n",
    "We concluded that our model already was finely tuned and yielded nice $F_1$ score for the tags."
   ]
  },
  {
   "cell_type": "markdown",
   "metadata": {
    "id": "G8gRe-4ZtO6N"
   },
   "source": [
    "<a id=\"s37\"></a>\n",
    "<div class='exercise-r'>  \n",
    "\n",
    "**[3.7:](#q37)** For your final improved model, illustrate your results with a bar plot similarly formatted to the one you created in 3.2, and be certain to include a horizontal line at $F_1=0.8$ to make interpretation easier. Interpret your results and clearly explain why you chose to change certain elements of the model and how effective those adjustments were.\n",
    "\n",
    "</div>"
   ]
  },
  {
   "cell_type": "code",
   "execution_count": null,
   "metadata": {
    "id": "xYjLQ0jM4x7r"
   },
   "outputs": [],
   "source": [
    "# your code here\n",
    "fig, ax = plt.subplots(1, figsize=(20, 10))\n",
    "width = 0.5\n",
    "labels = list(tag2idx.keys())\n",
    "x = np.arange(len(labels))\n",
    "plt.bar(x = x - width/3, height=f1_bigru, width=width, color='lightgreen', label='enhanced BiGRU')\n",
    "plt.bar(x = x + width/3, height=f1_models[3, :], width=width, color='green', label='original BiGRU')\n",
    "ax.set_xticks(x)\n",
    "ax.axhline(y=0.8, color='k', linestyle='--', label='Threshold')\n",
    "ax.set_xlabel('Tag')\n",
    "ax.set_ylabel('F1 score')\n",
    "ax.set_title('F1 score of the BiGRU model')\n",
    "ax.set_xticklabels(labels)\n",
    "ax.legend()\n",
    "plt.show(fig)"
   ]
  },
  {
   "cell_type": "markdown",
   "metadata": {},
   "source": [
    "**INTERPRETATION:**"
   ]
  },
  {
   "cell_type": "markdown",
   "metadata": {
    "id": "eFPa29mitO6N"
   },
   "source": [
    "*your answer here*"
   ]
  },
  {
   "cell_type": "code",
   "execution_count": null,
   "metadata": {
    "id": "xfMeG4SFdvkB"
   },
   "outputs": [],
   "source": []
  }
 ],
 "metadata": {
  "accelerator": "GPU",
  "colab": {
   "name": "cs109b_hw5_rnn_solutions.ipynb",
   "provenance": [],
   "toc_visible": true
  },
  "kernelspec": {
   "display_name": "python3",
   "language": "python",
   "name": "python3"
  },
  "language_info": {
   "codemirror_mode": {
    "name": "ipython",
    "version": 3
   },
   "file_extension": ".py",
   "mimetype": "text/x-python",
   "name": "python",
   "nbconvert_exporter": "python",
   "pygments_lexer": "ipython3",
   "version": "3.8.5"
  }
 },
 "nbformat": 4,
 "nbformat_minor": 4
}
