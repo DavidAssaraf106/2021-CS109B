{
 "cells": [
  {
   "cell_type": "markdown",
   "metadata": {},
   "source": [
    "# <img style=\"float: left; padding-right: 10px; width: 45px\" src=\"https://raw.githubusercontent.com/Harvard-IACS/2018-CS109A/master/content/styles/iacs.png\"> Data Science 2: Advanced Topics in Data Science \n",
    "\n",
    "## Homework 3: Bayesian Analysis\n",
    "\n",
    "\n",
    "\n",
    "**Harvard University**<br/>\n",
    "**Spring 2021**<br/>\n",
    "**Instructors**: Mark Glickman, Pavlos Protopapas, and Chris Tanner \n",
    "\n",
    "\n",
    "<hr style=\"height:2pt\">"
   ]
  },
  {
   "cell_type": "code",
   "execution_count": 1,
   "metadata": {},
   "outputs": [
    {
     "data": {
      "text/html": [
       "<style>\n",
       "blockquote { background: #AEDE94; }\n",
       "h1 { \n",
       "    padding-top: 25px;\n",
       "    padding-bottom: 25px;\n",
       "    text-align: left; \n",
       "    padding-left: 10px;\n",
       "    background-color: #DDDDDD; \n",
       "    color: black;\n",
       "}\n",
       "h2 { \n",
       "    padding-top: 10px;\n",
       "    padding-bottom: 10px;\n",
       "    text-align: left; \n",
       "    padding-left: 5px;\n",
       "    background-color: #EEEEEE; \n",
       "    color: black;\n",
       "}\n",
       "\n",
       "div.exercise {\n",
       "\tbackground-color: #ffcccc;\n",
       "\tborder-color: #E9967A; \t\n",
       "\tborder-left: 5px solid #800080; \n",
       "\tpadding: 0.5em;\n",
       "}\n",
       "\n",
       "div.exercise-r {\n",
       "\tbackground-color: #fce8e8;\n",
       "\tborder-color: #E9967A; \t\n",
       "\tborder-left: 5px solid #800080; \n",
       "\tpadding: 0.5em;\n",
       "}\n",
       "\n",
       "\n",
       "span.sub-q {\n",
       "\tfont-weight: bold;\n",
       "}\n",
       "div.theme {\n",
       "\tbackground-color: #DDDDDD;\n",
       "\tborder-color: #E9967A; \t\n",
       "\tborder-left: 5px solid #800080; \n",
       "\tpadding: 0.5em;\n",
       "\tfont-size: 18pt;\n",
       "}\n",
       "div.gc { \n",
       "\tbackground-color: #AEDE94;\n",
       "\tborder-color: #E9967A; \t \n",
       "\tborder-left: 5px solid #800080; \n",
       "\tpadding: 0.5em;\n",
       "\tfont-size: 12pt;\n",
       "}\n",
       "p.q1 { \n",
       "    padding-top: 5px;\n",
       "    padding-bottom: 5px;\n",
       "    text-align: left; \n",
       "    padding-left: 5px;\n",
       "    background-color: #EEEEEE; \n",
       "    color: black;\n",
       "}\n",
       "header {\n",
       "   padding-top: 35px;\n",
       "    padding-bottom: 35px;\n",
       "    text-align: left; \n",
       "    padding-left: 10px;\n",
       "    background-color: #DDDDDD; \n",
       "    color: black;\n",
       "}\n",
       "</style>\n",
       "\n"
      ],
      "text/plain": [
       "<IPython.core.display.HTML object>"
      ]
     },
     "execution_count": 1,
     "metadata": {},
     "output_type": "execute_result"
    }
   ],
   "source": [
    "    # RUN THIS CELL \n",
    "import requests\n",
    "from IPython.core.display import HTML\n",
    "styles = requests.get(\n",
    "    \"https://raw.githubusercontent.com/Harvard-IACS/2018-CS109A/master/\"\n",
    "    \"content/styles/cs109.css\"\n",
    ").text\n",
    "HTML(styles)"
   ]
  },
  {
   "cell_type": "markdown",
   "metadata": {},
   "source": [
    "<hr style=\"height:2pt\">\n",
    "\n",
    "### INSTRUCTIONS\n",
    "\n",
    "- To submit your assignment follow the instructions given in Canvas.\n",
    "\n",
    "- Please restart the kernel and run the entire notebook again before you submit.\n",
    "\n",
    "- Running cells out of order is a common pitfall in Jupyter Notebooks. To make sure your code works restart the kernel and run the whole notebook again before you submit. \n",
    "\n",
    "- We have tried to include all the libraries you may need to do the assignment in the imports cell provided below. **Please use only the libraries provided in those imports.**\n",
    "\n",
    "- Please use .head() when viewing data. Do not submit a notebook that is **excessively long**. \n",
    "\n",
    "- In questions that require code to answer, such as \"calculate the $R^2$\", do not just output the value from a cell. Write a `print()` statement that clearly labels the output, includes a reference to the calculated value, and rounds it to a reasonable number of digits. **Do not hard code values in your printed output**. For example, this is an appropriate print statement:\n",
    "```python\n",
    "print(f'The R^2 is {R:.4f}')\n",
    "```\n",
    "- Your plots should be clearly labeled, including clear labels for the $x$ and $y$ axes as well as a descriptive title (\"MSE plot\" is NOT a descriptive title; \"95% confidence interval of coefficients of polynomial degree 5\" on the other hand is descriptive).\n",
    "\n",
    "<hr style=\"height:2pt\">"
   ]
  },
  {
   "cell_type": "code",
   "execution_count": 2,
   "metadata": {},
   "outputs": [
    {
     "name": "stdout",
     "output_type": "stream",
     "text": [
      "Using PyMC3 version: 3.8\n",
      "Using ArviZ version: 0.6.1\n"
     ]
    }
   ],
   "source": [
    "import random\n",
    "from datetime import datetime as dt\n",
    "\n",
    "import arviz as az\n",
    "import matplotlib.pyplot as plt\n",
    "import numpy as np\n",
    "import pandas as pd\n",
    "import pymc3 as pm\n",
    "from scipy.special import expit\n",
    "from sklearn.metrics import accuracy_score\n",
    "from sklearn.linear_model import LogisticRegression\n",
    "from sklearn.model_selection import train_test_split\n",
    "from sklearn.metrics import classification_report\n",
    "\n",
    "\n",
    "%matplotlib inline\n",
    "\n",
    "print(f\"Using PyMC3 version: {pm.__version__}\")\n",
    "print(f\"Using ArviZ version: {az.__version__}\")"
   ]
  },
  {
   "cell_type": "code",
   "execution_count": 3,
   "metadata": {},
   "outputs": [],
   "source": [
    "# Ignore a common pymc3 warning that comes from library functions, not our code.\n",
    "# Pymc3 may throw additional warnings, but other warnings should be manageable\n",
    "# by following the instructions included within the warning messages.\n",
    "import warnings\n",
    "\n",
    "messages=[\n",
    "    \"Using `from_pymc3` without the model will be deprecated in a future release\",\n",
    "]\n",
    "\n",
    "for m in messages:\n",
    "    warnings.filterwarnings(\"ignore\", message=m)\n"
   ]
  },
  {
   "cell_type": "code",
   "execution_count": 4,
   "metadata": {},
   "outputs": [],
   "source": [
    "import warnings\n",
    "\n",
    "warnings.filterwarnings('ignore')"
   ]
  },
  {
   "cell_type": "markdown",
   "metadata": {},
   "source": [
    "<a id=\"contents\"></a>\n",
    "\n",
    "## Notebook Contents\n",
    "\n",
    "- [**Part A: Rejection sampling and the weighted bootstrap**](#part1)\n",
    "  - [Overview](#part1intro)\n",
    "  - [Questions](#part1questions)\n",
    "  - [Solutions](#part1solutions)\n",
    "\n",
    "\n",
    "- [**Part B: Bayesian Logistic Regression and Varying-Intercepts Model**](#part2)\n",
    "  - [Overview](#part2intro)\n",
    "  - [Questions](#part2questions)\n",
    "  - [Solutions](#part2solutions)\n",
    "\n",
    "\n",
    "- [**Part C: Varying-Coefficients Model and Model Selection**](#part3)\n",
    "  - [Overview](#part3intro)\n",
    "  - [Questions](#part3questions)\n",
    "  - [Solutions](#part3solutions)\n"
   ]
  },
  {
   "cell_type": "markdown",
   "metadata": {},
   "source": [
    "## Dataset Information"
   ]
  },
  {
   "cell_type": "markdown",
   "metadata": {},
   "source": [
    "### Contraceptive Usage by Bangladeshi Women\n",
    "\n",
    "For this assignment, you are provided with data sets `dataset_2_train.csv` and `dataset_2_test.csv`containing details of contraceptive usage by 1,934 Bangladeshi women.\n",
    "\n",
    "There are four attributes for each woman, along with a label `contraceptive_use` indicating if she uses contraceptives. The attributes include:\n",
    "\n",
    "* `district`: identifying code for the district the woman lives in\n",
    "* `urban`: type of region of residence\n",
    "* `living.children`: number of living children\n",
    "* `age-mean`: age of the woman (in years, centered around mean)\n",
    "\n",
    "The women are grouped into 60 districts. The task is to build a classification model that can predict if a given woman uses contraceptives.\n"
   ]
  },
  {
   "cell_type": "code",
   "execution_count": null,
   "metadata": {},
   "outputs": [],
   "source": []
  },
  {
   "cell_type": "markdown",
   "metadata": {},
   "source": [
    "<a id=\"part1\"></a>\n",
    "    \n",
    "<!-- <div class=\"alert alert-block alert-danger\" style=\"color:black;background-color:#E7F4FA\"> -->\n",
    "\n",
    "# Part A:  Rejection sampling and the weighted bootstrap\n",
    "\n",
    "[Return to contents](#contents)"
   ]
  },
  {
   "cell_type": "markdown",
   "metadata": {},
   "source": [
    "<a id=\"part1intro\"></a>\n",
    "\n",
    "## Overview \n",
    "\n",
    "[Return to contents](#contents)\n",
    "\n",
    "For the first part of the problem, we will only work with the label `contraceptive_use` and ignore all the attributes.  Let $Y_i$ be 1 if woman $i$ uses contraceptives, and 0 otherwise.  Assume a Bernoulli model for the data:\n",
    "\n",
    "$$Y_{i} \\sim \\text{Bernoulli}(\\theta)$$\n",
    "\n",
    "where $i=1,\\ldots,N$, with $N$ being the number of observations in the training data set, and $\\theta$ is the unknown probability a woman uses contraception.  We will assume the following prior distribution on $\\theta$:\n",
    "\n",
    "$$\\theta \\sim \\text{Normal}(0.5, 0.5^2)$$\n",
    "\n",
    "subject to $0 \\leq \\theta \\leq 1$.  This is sometimes called a truncated normal distribution.  A value from this distribution can be randomly drawn by simulating a value from $\\text{Normal}(0.5, 0.5^2)$ and then keeping it if the value is between 0 and 1, and trying again if it is outside this range.  In fact, this is a form of rejection sampling.  The density for the truncated normal distribution is\n",
    "\n",
    "$$p(\\theta) = c\\times\\frac{1}{\\sqrt{2\\pi (0.5)^2}} \\: \\exp\\left(\\frac{-1}{2(0.5)^2}(\\theta-0.5)^2\\right) \\; \\text{for} \\; 0\\leq \\theta \\leq 1 \\; \\text{, and} \\; 0 \\; \\text{otherwise,}$$\n",
    "\n",
    "where $c$ is a normalizing constant that does not depend on $\\theta$."
   ]
  },
  {
   "cell_type": "markdown",
   "metadata": {},
   "source": [
    "<a id=\"part1questions\"></a>\n",
    "\n",
    "### <div class='exercise'>Part A: Questions</div> \n",
    "\n",
    "[Return to contents](#contents)\n",
    "\n",
    "<a id=\"qA1\"></a>\n",
    "\n",
    "**[A1](#sA1)** \n",
    "\n",
    "Given the training data, what is the likelihood function $L(\\theta | y_1,\\ldots,y_n)$?  What is the MLE of $\\theta$ as a function of the $y_1,\\ldots,y_n$?  Compute the MLE from the data.\n",
    "\n",
    "<a id=\"qA2\"></a>\n",
    "\n",
    "**[A2](#sA2)**\n",
    "\n",
    "Using rejection sampling, simulate a sample of 10,000 accepted values $\\theta$ from the posterior distribution.  Plot a histogram of these values, and provide numerical summaries of the distribution of the 10,000 values.  Interpret your findings.\n",
    "\n",
    "<a id=\"qA3\"></a>\n",
    "\n",
    "**[A3](#sA3)**\n",
    "\n",
    "Carry out the weighted bootstrap to simulate 1,000 values of $\\theta$ from the posterior distribution.  In doing so, simulate 10,000 values from the prior distribution to use as the discrete distribution from which the posterior draws will be simulated via the importance weights.  As above, plot a histogram of these values, and provide numerical summaries of the distribution of 1,000 values.  Interpret the results, and compare to the results of rejection sampling.\n"
   ]
  },
  {
   "cell_type": "markdown",
   "metadata": {},
   "source": [
    "<a id=\"part1solutions\"></a>\n",
    "\n",
    "## Part A: Solutions\n",
    "\n",
    "[Return to contents](#contents)"
   ]
  },
  {
   "cell_type": "markdown",
   "metadata": {},
   "source": [
    "<a id=\"sA1\"></a>\n",
    "<div class='exercise-r'>  \n",
    "\n",
    "**[A1](#qA1)**\n",
    "    \n",
    "</div>\n",
    "\n",
    "Given the training data, what is the likelihood function $L(\\theta | y_1,\\ldots,y_n)$?  What is the MLE of $\\theta$ as a function of the $y_1,\\ldots,y_n$?  Compute the MLE from the data."
   ]
  },
  {
   "cell_type": "markdown",
   "metadata": {},
   "source": [
    "**DERIVATIONS AND INTERPRETATION:**"
   ]
  },
  {
   "cell_type": "markdown",
   "metadata": {},
   "source": [
    "Given the data and assuming that the observations are i.i.d, the likelihood is going to be:\n",
    "\n",
    "$$\n",
    "\\begin{align}\n",
    "\\mathcal{L}(\\theta | y_1,\\ldots,y_n)&=\\prod_{i=1}^np(y_i|\\theta)\\\\\n",
    "&=\\prod_{i=1}^n \\theta^{y_i}(1-\\theta)^{1-y_i}\\\\\n",
    "&=\\theta^{\\sum_{i=1}^ny_i}(1-\\theta)^{1-\\sum_{i=1}^ny_i}\n",
    "\\end{align}\n",
    "$$\n",
    "\n",
    "The MLE of $\\theta$ is the value $\\theta_{MLE}$ that maximizes the likelihood function:\n",
    "\n",
    "$$\n",
    "\\begin{align}\n",
    "\\theta_{MLE}&=\\max_{\\theta}\\mathcal{L}(\\theta | y_1,\\ldots,y_n)\\\\\n",
    "&=\\max_{\\theta}\\log \\mathcal{L}(\\theta | y_1,\\ldots,y_n)\\\\\n",
    "&=\\max_{\\theta}\\sum_{i=1}^ny_i\\log\\theta+\\left(1-\\sum_{i=1}^ny_i\\right)\\log(1-\\theta)\n",
    "\\end{align}\n",
    "$$\n",
    "\n",
    "To find the maximum we ought to take the gradient of the log likelihood (maximizing the likelihood and the log-likelihood is the same thing since the log is a concave function).\n",
    "\n",
    "$$\n",
    "\\begin{align}\n",
    "\\nabla_{\\theta}  \\left[\\sum_{i=1}^ny_i\\log\\theta+\\left(1-\\sum_{i=1}^ny_i\\right)\\log(1-\\theta)\\right]= 0\\\\\n",
    "\\Leftrightarrow \\frac{\\sum_{i=1}^ny_i}{\\theta}-\\frac{1-\\sum_{i=1}^ny_i}{1-\\theta}=0\\\\\n",
    "\\Leftrightarrow \\left(1-\\theta\\right)\\sum_{i=1}^ny_i=\\theta\\left(1-\\sum_{i=1}^ny_i\\right)\\\\\n",
    "\\Leftrightarrow \\boxed{\\theta_{MLE}=\\frac{1}{n}\\sum_{i=1}^ny_i}\n",
    "\\end{align}\n",
    "$$\n",
    "\n",
    "We need to ensure that $\\theta \\in [0,1]$\n",
    "\n",
    "$\n",
    "\\begin{align}\n",
    "\\sum_{i=1}^ny_i \\leq \\sum_{i=1}^ny_i \\leq n\\\\\n",
    "\\Longrightarrow 0 \\leq \\frac{1}{n}\\sum_{i=1}^ny_i \\leq 1\n",
    "\\end{align}\n",
    "$\n",
    "\n",
    "Last, $\\forall \\theta \\in [0; 1],~~ \\nabla^2 \\mathcal{L}(\\theta) < 0 $, therefore $\\theta_{MLE}$ is a global optimum. "
   ]
  },
  {
   "cell_type": "code",
   "execution_count": 5,
   "metadata": {},
   "outputs": [
    {
     "name": "stdout",
     "output_type": "stream",
     "text": [
      "The MLE of the Bernoulli Parameter theta is 0.38986556359875907\n"
     ]
    },
    {
     "data": {
      "text/html": [
       "<div>\n",
       "<style scoped>\n",
       "    .dataframe tbody tr th:only-of-type {\n",
       "        vertical-align: middle;\n",
       "    }\n",
       "\n",
       "    .dataframe tbody tr th {\n",
       "        vertical-align: top;\n",
       "    }\n",
       "\n",
       "    .dataframe thead th {\n",
       "        text-align: right;\n",
       "    }\n",
       "</style>\n",
       "<table border=\"1\" class=\"dataframe\">\n",
       "  <thead>\n",
       "    <tr style=\"text-align: right;\">\n",
       "      <th></th>\n",
       "      <th>district</th>\n",
       "      <th>urban</th>\n",
       "      <th>living.children</th>\n",
       "      <th>age_mean</th>\n",
       "      <th>contraceptive_use</th>\n",
       "    </tr>\n",
       "  </thead>\n",
       "  <tbody>\n",
       "    <tr>\n",
       "      <th>0</th>\n",
       "      <td>35</td>\n",
       "      <td>0</td>\n",
       "      <td>4</td>\n",
       "      <td>2.4400</td>\n",
       "      <td>0</td>\n",
       "    </tr>\n",
       "    <tr>\n",
       "      <th>1</th>\n",
       "      <td>22</td>\n",
       "      <td>0</td>\n",
       "      <td>2</td>\n",
       "      <td>-1.5599</td>\n",
       "      <td>1</td>\n",
       "    </tr>\n",
       "    <tr>\n",
       "      <th>2</th>\n",
       "      <td>29</td>\n",
       "      <td>0</td>\n",
       "      <td>2</td>\n",
       "      <td>-8.5599</td>\n",
       "      <td>1</td>\n",
       "    </tr>\n",
       "    <tr>\n",
       "      <th>3</th>\n",
       "      <td>5</td>\n",
       "      <td>0</td>\n",
       "      <td>3</td>\n",
       "      <td>-4.5599</td>\n",
       "      <td>1</td>\n",
       "    </tr>\n",
       "    <tr>\n",
       "      <th>4</th>\n",
       "      <td>34</td>\n",
       "      <td>1</td>\n",
       "      <td>4</td>\n",
       "      <td>8.4400</td>\n",
       "      <td>0</td>\n",
       "    </tr>\n",
       "  </tbody>\n",
       "</table>\n",
       "</div>"
      ],
      "text/plain": [
       "   district  urban  living.children  age_mean  contraceptive_use\n",
       "0        35      0                4    2.4400                  0\n",
       "1        22      0                2   -1.5599                  1\n",
       "2        29      0                2   -8.5599                  1\n",
       "3         5      0                3   -4.5599                  1\n",
       "4        34      1                4    8.4400                  0"
      ]
     },
     "execution_count": 5,
     "metadata": {},
     "output_type": "execute_result"
    }
   ],
   "source": [
    "# your code here\n",
    "data = pd.read_csv('data/dataset_2_train.csv')\n",
    "y = data.contraceptive_use\n",
    "MLE = np.mean(y)\n",
    "print('The MLE of the Bernoulli Parameter theta is', MLE)\n",
    "data.head()"
   ]
  },
  {
   "cell_type": "markdown",
   "metadata": {},
   "source": [
    "<a id=\"sA2\"></a>\n",
    "<div class='exercise-r'>  \n",
    "\n",
    "**[A2](#qA2)**\n",
    "\n",
    "</div>\n",
    "\n",
    "Using rejection sampling, simulate a sample of 10,000 accepted values $\\theta$ from the posterior distribution.  Plot a histogram of these values, and provide numerical summaries of the distribution of the 10,000 values.  Interpret your findings."
   ]
  },
  {
   "cell_type": "markdown",
   "metadata": {},
   "source": [
    "<br>\n",
    "<br>\n",
    "<br>\n",
    "In rejection sampling, we sample from the posterior thanks to a closed-form distribution from which we can sample. The condition is that this closed-form distribution verifies:<br> posterior = $O$(proposal distribution)\n",
    "<br>\n",
    "<br>\n",
    "\n",
    "What is convenient when studying the posterior of a Bayesian Model is that we specify the prior, with a closed-form distribution, so we know how to sample from it. Since $p(\\theta | y) = \\mathcal{L}(y|\\theta)*p(\\theta)$, we have $\\frac{p(\\theta | y)}{p(\\theta)} = \\mathcal{L}(y|\\theta) \\leq M =  \\mathcal{L}(y|\\theta^{MLE})$.\n",
    "\n",
    "Therefore, the rejection sampling is **tractable** with the prior as a proposal distribution, and we don't need to compute the closed-form of the posterior."
   ]
  },
  {
   "cell_type": "markdown",
   "metadata": {},
   "source": [
    "#### Sampling the posterior through Rejection sampling "
   ]
  },
  {
   "cell_type": "code",
   "execution_count": 6,
   "metadata": {},
   "outputs": [],
   "source": [
    "def sampling_prior(size=1):\n",
    "    while True:\n",
    "        theta = np.random.normal(loc=0.5, scale=0.5, size=size)\n",
    "        if 0 <= theta and theta <= 1:\n",
    "            return theta"
   ]
  },
  {
   "cell_type": "code",
   "execution_count": 7,
   "metadata": {},
   "outputs": [],
   "source": [
    "def bernoulli_likelihood(theta, y):\n",
    "    s = np.sum(y)\n",
    "    n = len(y)\n",
    "    return (theta**s)*((1-theta)**(n-s))"
   ]
  },
  {
   "cell_type": "code",
   "execution_count": 8,
   "metadata": {},
   "outputs": [],
   "source": [
    "#This is our constant M\n",
    "M = bernoulli_likelihood(MLE, y)"
   ]
  },
  {
   "cell_type": "code",
   "execution_count": 9,
   "metadata": {},
   "outputs": [],
   "source": [
    "# your code here\n",
    "def rejection_proposal(sampler_proposal, likelihood, M, y):\n",
    "    \"\"\"This function implements one step of rejection sampling, using the prior distribution as a proposal distribution. \n",
    "    Sampler_proposal and likelihood are functions defined.\"\"\"\n",
    "    theta_proposal = sampler_proposal()\n",
    "    quotient = likelihood(theta_proposal, y)\n",
    "    height_acceptance = M*np.random.uniform()\n",
    "    if quotient >= height_acceptance:\n",
    "        return theta_proposal\n",
    "    else:\n",
    "        return None"
   ]
  },
  {
   "cell_type": "code",
   "execution_count": 10,
   "metadata": {},
   "outputs": [],
   "source": [
    "posterior_samples = []\n",
    "count = 0\n",
    "N=10000\n",
    "while len(posterior_samples) < N:\n",
    "    theta_rejection_sampling = rejection_proposal(sampling_prior, bernoulli_likelihood, M, y)\n",
    "    if theta_rejection_sampling is not None:\n",
    "        posterior_samples.append(theta_rejection_sampling[0])\n",
    "    count +=1\n",
    "acceptance_rate = N/count"
   ]
  },
  {
   "cell_type": "code",
   "execution_count": 11,
   "metadata": {},
   "outputs": [
    {
     "data": {
      "image/png": "[encoded data removed]",
      "text/plain": [
       "<Figure size 1080x720 with 1 Axes>"
      ]
     },
     "metadata": {
      "needs_background": "light"
     },
     "output_type": "display_data"
    }
   ],
   "source": [
    "fig, ax = plt.subplots(1, figsize =(15, 10))\n",
    "ax.hist(posterior_samples, bins=100, color='lightcoral')\n",
    "plt.title('Histogram of the posterior distribution, sampled thanks to 10000 rejection sampling steps, with a rejection rate of ' + str(1-np.round(acceptance_rate, 3)))\n",
    "ax.set_xlabel('Theta Posterior')\n",
    "ax.set_ylabel('Histogram of the posterior distribution')\n",
    "plt.show(fig)"
   ]
  },
  {
   "cell_type": "markdown",
   "metadata": {},
   "source": [
    "#### Numerical Summaries of the distribution"
   ]
  },
  {
   "cell_type": "code",
   "execution_count": 12,
   "metadata": {},
   "outputs": [
    {
     "name": "stdout",
     "output_type": "stream",
     "text": [
      "Theta MLE is: 0.38986556359875907 \n",
      "-----------------------------------\n",
      "The posterior mean is  0.390030758141894\n",
      "The posterior Standard Deviation is  0.015580024262046861\n",
      "The posterior 95% percentiles are  [0.35969095 0.42098157]\n",
      "The Mode of the posterior Distribution is  [0.3843]\n"
     ]
    }
   ],
   "source": [
    "import scipy\n",
    "\n",
    "mean = np.mean(posterior_samples)\n",
    "std = np.std(posterior_samples)\n",
    "percentiles = np.percentile(posterior_samples, [2.5, 97.5])\n",
    "mode = scipy.stats.mode(np.round(posterior_samples, 4))\n",
    "\n",
    "print('Theta MLE is:', MLE, '\\n-----------------------------------')\n",
    "print('The posterior mean is ', mean)\n",
    "print('The posterior Standard Deviation is ', std)\n",
    "print('The posterior 95% percentiles are ', percentiles)\n",
    "print('The Mode of the posterior Distribution is ', mode[0])"
   ]
  },
  {
   "cell_type": "markdown",
   "metadata": {},
   "source": [
    "We can see that it is easy to summary the posterior distribution with numerical quantities. The only 'open-ended' question is how to numerically the mode of a distribution:\n",
    "- We could visually determine it\n",
    "- Compute it, and therefore locate the biggest mode in the posterior distribution"
   ]
  },
  {
   "cell_type": "markdown",
   "metadata": {},
   "source": [
    "**INTERPRETATION:**"
   ]
  },
  {
   "cell_type": "markdown",
   "metadata": {},
   "source": [
    "We have found samples for the posterior distribution that allowed us to create a histogram of it. Furthermore, we have computed 95% **credible** intervals for the parameter $\\theta$. \n",
    "Several things need to be pointed out:\n",
    "- The **rejection rate** of the rejection sampling procedure is very high, we used it to define the CI. This should point out to the fact that the likelihood is not quite constant accross the entire domain [0; 1]. Let us check this by studying **Variations of the likelihood**.\n",
    "    Since the likelihood is strictly concave, the derivative is non-increasing, meaning that it is initially positive then negative. This means that the original function is increasing and then decreasing. Therefore, the maximum variation is obtained when computing $\\max\\left(\\mathcal{L}(\\theta^{MLE})-\\mathcal{L}(0)~,~ \\mathcal{L}(\\theta^{MLE})-\\mathcal{L}(1)\\right)$. We realise that this value is high, which explains the high variation in the likelihood function, which explains why the acceptance rate is that low\n",
    "\n",
    "- The **shape** of the posterior: We realize that the posterior is unimodal. Something that is interesting is that the posterior seems like a Gaussian posterior. It seems like it is centered around $k*\\theta^{MLE} + (1-k)*0.5$ of the likelihood. This is reasonable, we expected the prior to have an influence on the posterior and we can see that the posterior mean is centered around $\\theta_{post}$, which seems to be between the prior mean and the likelihood mean. We expect this posterior to get closer to $\\theta^{MLE}$ as the number of data points increase.\n",
    "\n",
    "- Credible Intervals for the posterior: we can se that the credible intervals are quite narrow, meaning that we do have much information in our posterior (we knew that $\\theta$ was in [0; 1], now we can affirm with 95% certainty that it is in [0.3599; 0.4209], and all the values in this interval seem **fairly distributed**. Epistemic uncertainty is not high in this experiment.\n"
   ]
  },
  {
   "cell_type": "markdown",
   "metadata": {},
   "source": [
    "<a id=\"sA3\"></a>\n",
    "<div class='exercise-r'>  \n",
    "\n",
    "**[A3](#qA3)**\n",
    "\n",
    "</div>\n",
    "\n",
    "Carry out the weighted bootstrap to simulate 1,000 values of $\\theta$ from the posterior distribution.  In doing so, simulate 10,000 values from the prior distribution to use as the discrete distribution from which the posterior draws will be simulated via the importance weights.  As above, plot a histogram of these values, and provide numerical summaries of the distribution of 1,000 values.  Interpret the results, and compare to the results of rejection sampling."
   ]
  },
  {
   "cell_type": "code",
   "execution_count": 13,
   "metadata": {},
   "outputs": [],
   "source": [
    "# your code here\n",
    "thetas_sampled = []\n",
    "\n",
    "#We simulate 10000 values from the prior\n",
    "while len(thetas_sampled) < N:\n",
    "    theta_sampled = sampling_prior()\n",
    "    if theta_sampled is not None:\n",
    "        thetas_sampled.append(theta_sampled)\n",
    "thetas_sampled = np.array(thetas_sampled).reshape(N,)\n",
    "\n",
    "#We use the importance weights, normalizing the values \n",
    "importance_weight = bernoulli_likelihood(thetas_sampled, y)\n",
    "q = importance_weight/np.sum(importance_weight)\n",
    "theta_IS = np.random.choice(a=thetas_sampled, p=q, size=1000)"
   ]
  },
  {
   "cell_type": "code",
   "execution_count": 14,
   "metadata": {},
   "outputs": [
    {
     "data": {
      "image/png": "[encoded data removed]",
      "text/plain": [
       "<Figure size 1080x720 with 1 Axes>"
      ]
     },
     "metadata": {
      "needs_background": "light"
     },
     "output_type": "display_data"
    }
   ],
   "source": [
    "fig, ax = plt.subplots(1, figsize =(15, 10))\n",
    "ax.hist(theta_IS, color='lightblue', bins=100)\n",
    "plt.title('Histogram of the posterior distribution, sampled thanks to 1000 Importance sampling steps, created with 10000 prior distribution steps')\n",
    "ax.set_xlabel('Theta Posterior')\n",
    "ax.set_ylabel('Histogram of the posterior distribution')\n",
    "plt.show(fig)"
   ]
  },
  {
   "cell_type": "code",
   "execution_count": 15,
   "metadata": {},
   "outputs": [
    {
     "name": "stdout",
     "output_type": "stream",
     "text": [
      "Theta MLE is: 0.38986556359875907 \n",
      "-----------------------------------\n",
      "The posterior mean is  0.39010355981481687\n",
      "The posterior 95% percentiles are  [0.35953563 0.42406569]\n",
      "The Mode of the posterior Distribution is  [0.3925]\n"
     ]
    }
   ],
   "source": [
    "mean = np.mean(theta_IS)\n",
    "percentiles = np.percentile(theta_IS, [2.5, 97.5])\n",
    "mode = scipy.stats.mode(np.round(theta_IS, 4))\n",
    "\n",
    "print('Theta MLE is:', MLE, '\\n-----------------------------------')\n",
    "print('The posterior mean is ', mean)\n",
    "print('The posterior 95% percentiles are ', percentiles)\n",
    "print('The Mode of the posterior Distribution is ', mode[0])"
   ]
  },
  {
   "cell_type": "markdown",
   "metadata": {},
   "source": [
    "**INTERPRETATION:**"
   ]
  },
  {
   "cell_type": "markdown",
   "metadata": {},
   "source": [
    "We can see that both the shape of the posterior distribution and the numerical summary of the posterior are **very consistent** with our rejection sampling method. The posterior is centered around the mean, and resembles a Gaussian distribution, similarly to the rejection sampling method; we can however see that it is not unimodal unlike the posterior yielded by the former method (this is certainly due to the fact that we have nto sampled enough observations). \n",
    "\n",
    "However, there is one question that one might want to ask: how is it that we get *very similar* credible intervals whereas in this case we samples 10 times less samples than during rejection sampling ? This is due to the fact that we are **not in the frequentist case**: credible intervals are not expected to shrink with the number of observations. \n",
    "\n",
    "One key result in both our approaches is that both Credible Intervals for the mean are very similar, allowing us to think that our procedures have converged. "
   ]
  },
  {
   "cell_type": "markdown",
   "metadata": {},
   "source": [
    "<a id=\"part2\"></a>\n",
    "    \n",
    "<!-- <div class=\"alert alert-block alert-danger\" style=\"color:black;background-color:#E7F4FA\"> -->\n",
    "\n",
    "# Part B: Bayesian Logistic Regression and Varying-Intercepts Model\n",
    "\n",
    "[Return to contents](#contents)\n",
    "\n"
   ]
  },
  {
   "cell_type": "markdown",
   "metadata": {},
   "source": [
    "<a id=\"part2intro\"></a>\n",
    "\n",
    "## Overview \n",
    "\n",
    "[Return to contents](#contents)\n",
    "\n",
    "The second model we will fit to the contraceptives data is a varying-intercept logistic regression model, where the intercept varies by district.\n",
    "\n",
    "Prior distribution:\n",
    "\n",
    "$$\n",
    "\\begin{split}\n",
    "\\beta_{0j} &\\sim N(\\mu_0,\\sigma_0^2)\\; \\text{, with} \\;\\; \\mu_0 \\sim N(0,10000)\\; \\text{and} \\; \\; \\frac{1}{\\sigma^2_0} \\sim \\text{Gamma}(0.1,0.1)\n",
    "\\\\\n",
    "\\beta_1 &\\sim N(0,10000) \n",
    "\\\\ \\\\ \n",
    "\\beta_2 &\\sim N(0,10000)\n",
    "\\\\ \\\\ \n",
    "\\beta_3 &\\sim N(0,10000)\n",
    "\\\\ \\\\\n",
    "\\end{split}\n",
    "$$\n",
    "\n",
    "Model for data:\n",
    "\n",
    "$$\n",
    "\\begin{split}\n",
    "Y_{ij} & \\sim \\text{Bernoulli}(p_{ij})\n",
    "\\\\ \\\\\n",
    "\\text{logit}\\:p_{ij} &= \\beta_{0j} + \\beta_1 \\times \\text{urban} + \\beta_2 \\times \\text{living.children} + \\beta_3 \\times \\text{age-mean}\n",
    "\\\\ \\\\\n",
    "\\end{split}\n",
    "$$\n",
    "\n",
    "Where $Y_{ij}$ is 1 if woman $i$ in district $j$ uses contraceptives, and 0 otherwise, and where $i \\in \\{1,...,N\\}$ and $j \\in \\{1,...,J\\}$. $N$ is the number of observations in the data, and $J$ is the number of districts. The above notation assumes $N(\\mu, \\sigma^2)$ is a Normal distribution with mean $\\mu$ and variance $\\sigma^2$.\n",
    "\n",
    "**PLEASE NOTE:** The $\\text{Gamma}$ distribution cited above, uses the $\\text{Gamma}(\\alpha, \\beta)$ parametrization, where $\\alpha$ is the shape and $\\beta$ is the rate.  "
   ]
  },
  {
   "cell_type": "markdown",
   "metadata": {},
   "source": [
    "<a id=\"part2questions\"></a>\n",
    "\n",
    "### <div class='exercise'>Part B: Questions</div> \n",
    "\n",
    "[Return to contents](#contents)\n",
    "\n",
    "\n",
    "<a id=\"qB1\"></a>\n",
    "\n",
    "**[B1](#sB1)** \n",
    "\n",
    "As a preprocessing step, map the district number 61 to the number 54 so that the districts are in order. Also, re-name district 60 to be district 0 so that the districts are numbered 0 through 59. **We use this numbering throughout the homework, and will grade using these district numbers**\n",
    "\n",
    "<a id=\"qB2\"></a>\n",
    "\n",
    "**[B2](#sB2)**\n",
    "\n",
    "First, we'll verify that pymc3 can recover the hidden parameter values. To do so, we'll hard-code known values and simulate data from the model, then using that data we'll check if pymc3 can get back the parameters we hard-coded. If it does, we'll have hope that it can get the hidden parameter values that generated the real data.\n",
    "\n",
    "Use the following hard-coded values:\n",
    "\n",
    "$$\n",
    "\\begin{split}\n",
    "\\mu_0 &= 2\n",
    "\\\\ \\\\\n",
    "\\sigma^2_0 &= 1\n",
    "\\\\ \\\\\n",
    "\\beta_{0j} &\\sim N(\\mu_0,\\sigma_0^2) \\; \\text{for all sixty districts}\n",
    "\\\\ \\\\\n",
    "\\beta_1 &= 4\n",
    "\\\\ \\\\ \n",
    "\\beta_2 &= -3\n",
    "\\\\ \\\\\n",
    "\\beta_3 &= -2\n",
    "\\\\ \\\\\n",
    "\\end{split}\n",
    "$$\n",
    "\n",
    "**Verify that these parameters give an overall average of 46 to 48 percent of subjects using contraceptives**\n",
    "\n",
    "<a id=\"qB3\"></a>\n",
    "\n",
    "**[B3](#sB3)**\n",
    "\n",
    "Fit the varying-intercept model specified above to your simulated data. Reasonably good convergence may require adjustments to the number of tuning samples and the target acceptance rate as suggested in pymc3's warnings.\n",
    "\n",
    "<a id=\"qB4\"></a>\n",
    "\n",
    "**[B4](#sB4)** \n",
    "\n",
    "Plot the trace plots of the MCMC sampler for the parameters $\\mu_0, \\frac{1}{\\sigma^2_0}\\text{ (a.k.a., }\\tau_0\\text{)}, \\beta_1, \\beta_2, \\beta_3$. Based on these and the R-hat values, does it look like the samplers converged?\n",
    "\n",
    "<a id=\"qB5\"></a>\n",
    "\n",
    "**[B5](#sB5)**\n",
    "\n",
    "Plot histograms of the posterior distributions for the parameters $\\beta_{0,9}$, $\\beta_{0,19}$, $\\beta_{0,29}$, ..., $\\beta_{0,59}$. Are the actual parameters that you generated contained within these posterior distributions? \n",
    "\n",
    "<a id=\"qB6\"></a>\n",
    "\n",
    "**[B6](#sB6)**\n",
    "\n",
    "We now fit our model to the actual data. Fit the varying-intercept model to the real training data.\n",
    "\n",
    "<a id=\"qB7\"></a>\n",
    "\n",
    "**[B7](#sB7)** \n",
    "\n",
    "Check the convergence by examining the trace plots and R-hats, as you did with the simulated data. What do you observe?\n",
    "\n",
    "<a id=\"qB8\"></a>\n",
    "\n",
    "**[B8](#sB8)**\n",
    "\n",
    "Based on the posterior means, which district has the highest base rate of contraceptive usage (independent of other factors like urban population)? Which district has the lowest?\n",
    "\n",
    "<a id=\"qB9\"></a>\n",
    "\n",
    "**[B9](#sB9)**\n",
    "\n",
    "What are the posterior means of $\\mu_0$ and $\\sigma_0$? Do these values offer any evidence in support of or against the varying-intercept model, compared to a model with a single intercept value for all districts?"
   ]
  },
  {
   "cell_type": "markdown",
   "metadata": {},
   "source": [
    "<a id=\"part2solutions\"></a>\n",
    "\n",
    "## Part B: Solutions\n",
    "\n",
    "[Return to contents](#contents)"
   ]
  },
  {
   "cell_type": "markdown",
   "metadata": {},
   "source": [
    "<a id=\"sB1\"></a>\n",
    "<div class='exercise-r'>  \n",
    "\n",
    "**[B1](#qB1)**\n",
    "    \n",
    "</div>\n",
    "\n",
    "As a preprocessing step, map the district number 61 to the number 54 so that the districts are in order. Also, re-name district 60 to be district 0 so that the districts are numbered 0 through 59. **We use this numbering throughout the homework, and will grade using these district numbers**"
   ]
  },
  {
   "cell_type": "code",
   "execution_count": 16,
   "metadata": {},
   "outputs": [],
   "source": [
    "# your code here\n",
    "data.loc[data['district']==61, 'district'] = 54\n",
    "data.loc[data['district']==60, 'district'] = 0"
   ]
  },
  {
   "cell_type": "markdown",
   "metadata": {},
   "source": [
    "<a id=\"sB2\"></a>\n",
    "<div class='exercise-r'>  \n",
    "\n",
    "**[B2](#qB2)**\n",
    "    \n",
    "</div>\n",
    "\n",
    "First, we'll verify that pymc3 can recover the hidden parameter values. To do so, we'll hard-code known values and simulate data from the model, then using that data we'll check if pymc3 can get back the parameters we hard-coded. If it does, we'll have hope that it can get the hidden parameter values that generated the real data.\n",
    "\n",
    "Use the following hard-coded values:\n",
    "\n",
    "$$\n",
    "\\begin{split}\n",
    "\\mu_0 &= 2\n",
    "\\\\ \\\\\n",
    "\\sigma^2_0 &= 1\n",
    "\\\\ \\\\\n",
    "\\beta_{0j} &\\sim N(\\mu_0,\\sigma_0^2) \\; \\text{for all sixty districts}\n",
    "\\\\ \\\\\n",
    "\\beta_1 &= 4\n",
    "\\\\ \\\\ \n",
    "\\beta_2 &= -3\n",
    "\\\\ \\\\\n",
    "\\beta_3 &= -2\n",
    "\\\\ \\\\\n",
    "\\end{split}\n",
    "$$\n",
    "\n",
    "**Verify that these parameters give an overall average of 46 to 48 percent of subjects using contraceptives**"
   ]
  },
  {
   "cell_type": "markdown",
   "metadata": {},
   "source": [
    "##### Generative Model"
   ]
  },
  {
   "cell_type": "code",
   "execution_count": 17,
   "metadata": {},
   "outputs": [
    {
     "name": "stdout",
     "output_type": "stream",
     "text": [
      "The average of subjects using contraceptives is 0.4725956566701138\n"
     ]
    }
   ],
   "source": [
    "intercepts = []\n",
    "for index in range(60):\n",
    "    intercept_district_j = np.random.normal(2, 1)\n",
    "    intercepts.append(intercept_district_j)\n",
    "intercept = np.array(intercepts)\n",
    "logits = intercept[data.district] + 4*data['urban'] - 3*data['living.children'] -2*data['age_mean']\n",
    "probabilities = 1/(1 + np.exp(-logits))\n",
    "U = np.random.uniform(size=probabilities.shape[0])\n",
    "bernoulli_variables = probabilities > U\n",
    "print('The average of subjects using contraceptives is ' + str(np.mean(bernoulli_variables)))"
   ]
  },
  {
   "cell_type": "markdown",
   "metadata": {},
   "source": [
    "The overall average sits at $47.1\\% \\in [0.46,0.48]$"
   ]
  },
  {
   "cell_type": "markdown",
   "metadata": {},
   "source": [
    "<a id=\"sB3\"></a>\n",
    "<div class='exercise-r'>  \n",
    "\n",
    "**[B3](#qB3)**\n",
    "    \n",
    "</div>\n",
    "\n",
    "Fit the varying-intercept model specified above to your simulated data. Reasonably good convergence may require adjustments to the number of tuning samples and the target acceptance rate as suggested in pymc3's warnings."
   ]
  },
  {
   "cell_type": "markdown",
   "metadata": {},
   "source": [
    "We are going to fit the varying-intercept model using the $\\tau$ parameter from pm.Normal. This will allow us to sample the variance from a Gamma distribution, which is easier than leveraging Inverse gammas. We sample 13000 steps of the chain, from which we burn the first 8000, in order to get better results."
   ]
  },
  {
   "cell_type": "code",
   "execution_count": 18,
   "metadata": {},
   "outputs": [
    {
     "name": "stderr",
     "output_type": "stream",
     "text": [
      "Auto-assigning NUTS sampler...\n",
      "Initializing NUTS using jitter+adapt_diag...\n",
      "Multiprocess sampling (4 chains in 4 jobs)\n",
      "NUTS: [Age_coef, Children_coef, Urban_coef, Intercept, Prior_Variance, Prior_Mean]\n",
      "Sampling 4 chains, 285 divergences:  78%|███████▊  | 40561/52000 [27:59<07:53, 24.16draws/s]  \n",
      "There were 232 divergences after tuning. Increase `target_accept` or reparameterize.\n",
      "The acceptance probability does not match the target. It is 0.7138038813445673, but should be close to 0.9. Try to increase the number of tuning steps.\n",
      "There were 38 divergences after tuning. Increase `target_accept` or reparameterize.\n",
      "There were 15 divergences after tuning. Increase `target_accept` or reparameterize.\n",
      "The estimated number of effective samples is smaller than 200 for some parameters.\n"
     ]
    }
   ],
   "source": [
    "# your code here\n",
    "with pm.Model() as district_model:\n",
    "    mu0 = pm.Normal('Prior_Mean', mu=0, sigma=100)\n",
    "    sigma0 = pm.Gamma('Prior_Variance', alpha=0.1, beta=0.1)\n",
    "    beta_0 = pm.Normal('Intercept', mu=mu0, tau=sigma0, shape=60)\n",
    "    intercepts = beta_0[data.district]\n",
    "    beta_1 = pm.Normal('Urban_coef', mu=0, sigma=100)\n",
    "    beta_2 = pm.Normal('Children_coef', mu=0, sigma=100)\n",
    "    beta_3 = pm.Normal('Age_coef', mu=0, sigma=100)\n",
    "    p_i = pm.Deterministic('$P_i$', pm.math.invlogit(intercepts + beta_1*data.urban + beta_2*data['living.children'] + beta_3*data.age_mean))\n",
    "    contraceptive_use = pm.Bernoulli('Contraceptive Use', p=p_i, observed=bernoulli_variables)\n",
    "    trace = pm.sample(5000, tune=8000, target_accept=0.9)"
   ]
  },
  {
   "cell_type": "markdown",
   "metadata": {},
   "source": [
    "<a id=\"sB4\"></a>\n",
    "<div class='exercise-r'>  \n",
    "\n",
    "**[B4](#qB4)**\n",
    "    \n",
    "</div>\n",
    "\n",
    "Plot the trace plots of the MCMC sampler for the parameters $\\mu_0, \\frac{1}{\\sigma^2_0}\\text{ (a.k.a., }\\tau_0\\text{)}, \\beta_1, \\beta_2, \\beta_3$. Based on these and the R-hat values, does it look like the samplers converged?"
   ]
  },
  {
   "cell_type": "code",
   "execution_count": 19,
   "metadata": {},
   "outputs": [],
   "source": [
    "variables = {'Prior_Mean':2, 'Prior_Variance':1, 'Urban_coef':4, 'Children_coef':-3, 'Age_coef':-2}"
   ]
  },
  {
   "cell_type": "code",
   "execution_count": 20,
   "metadata": {},
   "outputs": [
    {
     "data": {
      "image/png": "[encoded data removed]",
      "text/plain": [
       "<Figure size 1440x1080 with 5 Axes>"
      ]
     },
     "metadata": {
      "needs_background": "light"
     },
     "output_type": "display_data"
    }
   ],
   "source": [
    "# your code here\n",
    "fig, ax = plt.subplots(5, figsize = (20, 15))\n",
    "plt.suptitle('Diagnostics of MCMC Sampler Convergence')\n",
    "colors=['lightcoral', 'lightblue', 'lightpink', 'gold', 'magenta']\n",
    "for i, variable in enumerate(variables.keys()):\n",
    "    ax[i].plot(trace[variable], color=colors[i], label='Traceplot of the parameter ' + variable)\n",
    "    ax[i].axhline(y=variables.get(variable), color='lightgreen', linestyle='--', label='True Value of the Parameter')\n",
    "    ax[i].legend()\n",
    "plt.show(fig)\n",
    "    "
   ]
  },
  {
   "cell_type": "code",
   "execution_count": null,
   "metadata": {},
   "outputs": [],
   "source": [
    "pm.traceplot(trace)\n",
    "plt.show()"
   ]
  },
  {
   "cell_type": "code",
   "execution_count": null,
   "metadata": {},
   "outputs": [],
   "source": [
    "df = pm.summary(trace)\n",
    "df.loc[variables, ]"
   ]
  },
  {
   "cell_type": "markdown",
   "metadata": {},
   "source": [
    "**INTERPRETATION:**"
   ]
  },
  {
   "cell_type": "markdown",
   "metadata": {},
   "source": [
    "According to the $\\hat{R}$ statistics, we can see that every one of the different MCMC samplings for the parameters are expected to have reasonably converged. Moreover, we can see from the traceplots that the samples appear to have mixed, they seem like an uncorrelated random walk meaning that we expect the sampler to have attained a zone with high density mass. \n",
    "\n",
    "Furthermore, we can see that the different samplings have converged to a distribution where the credible intervals **contain** the true values, and where the true values are quite central to the distribution (based on the 94% *credible* intervals). This indicates that, although the posterior mean is not right on the true parameter used to create the synthetic data, it captures efficiently its true value.\n",
    "\n",
    "**Conclusion**: it looks like the sampler has converged."
   ]
  },
  {
   "cell_type": "markdown",
   "metadata": {},
   "source": [
    "<a id=\"sB5\"></a>\n",
    "<div class='exercise-r'>  \n",
    "\n",
    "**[B5](#qB5)**\n",
    "    \n",
    "</div>\n",
    "\n",
    "Plot histograms of the posterior distributions for the parameters $\\beta_{0,9}$, $\\beta_{0,19}$, $\\beta_{0,29}$, ..., $\\beta_{0,59}$. Are the actual parameters that you generated contained within these posterior distributions? "
   ]
  },
  {
   "cell_type": "code",
   "execution_count": null,
   "metadata": {},
   "outputs": [],
   "source": [
    "indexes = [9, 19, 29, 39, 49, 59]\n",
    "interesting_parameters = trace['Intercept'][:, np.array(indexes)].T"
   ]
  },
  {
   "cell_type": "code",
   "execution_count": null,
   "metadata": {},
   "outputs": [],
   "source": [
    "fig, ax = plt.subplots(6, figsize=(20, 15))\n",
    "plt.suptitle('Histograms of the posterior distributions')\n",
    "colors=['lightcoral', 'lightblue', 'lightpink', 'gold', 'magenta', 'green']\n",
    "for i, interesting_posterior in enumerate(interesting_parameters):\n",
    "    ax[i].hist(interesting_posterior, bins=100, color=colors[i], label='Posterior Distribution')\n",
    "    ax[i].axvline(intercept[indexes[i]], linestyle='--', color='lightgreen', label='True Parameter')\n",
    "    ax[i].legend()"
   ]
  },
  {
   "cell_type": "markdown",
   "metadata": {},
   "source": [
    "**INTERPRETATION:**"
   ]
  },
  {
   "cell_type": "markdown",
   "metadata": {},
   "source": [
    "We can see that the true parameters used to generate this synthetic data are being contained within the posterior distribution of the parameter samples by the NUTS MCMC sampler. There are not specifically central to the posterior distribution but are contained within the principal mode of the unimodal posterior distribution, which seems reasonable. \n",
    "\n",
    "Therefore, our point of checking whether one could reconstruct true parameters from MCMC sampling is verified thanks to this little experiment, we could therefore fit the varying-intercept model to the true data and expect to recover a reasonable approximation of the true parameters that generated this simulated data."
   ]
  },
  {
   "cell_type": "markdown",
   "metadata": {},
   "source": [
    "<a id=\"sB6\"></a>\n",
    "<div class='exercise-r'>  \n",
    "\n",
    "**[B6](#qB6)**\n",
    "    \n",
    "</div>\n",
    "\n",
    "We now fit our model to the actual data. Fit the varying-intercept model to the real training data."
   ]
  },
  {
   "cell_type": "code",
   "execution_count": null,
   "metadata": {},
   "outputs": [],
   "source": [
    "# your code here\n",
    "with pm.Model() as varying_intercept_model:\n",
    "    mu0 = pm.Normal('Prior_Mean', mu=0, sigma=100)\n",
    "    # sigma0 = pm.InverseGamma('Prior_Variance', alpha=0.1, beta=10)  # in pymc3, beta is the scale not the rate\n",
    "    sigma0 = pm.Gamma('Prior_Variance', alpha=0.1, beta=0.1)\n",
    "    beta_0 = pm.Normal('Intercept', mu=mu0, tau=sigma0, shape=60)\n",
    "    # beta_0 = pm.Normal('Intercept', mu=mu0, sigma=1/sigma0, shape=60)\n",
    "    intercepts = beta_0[data.district]\n",
    "    beta_1 = pm.Normal('Urban_coef', mu=0, sigma=100)\n",
    "    beta_2 = pm.Normal('Children_coef', mu=0, sigma=100)\n",
    "    beta_3 = pm.Normal('Age_coef', mu=0, sigma=100)\n",
    "    p_i = pm.Deterministic('$P_i$', pm.math.invlogit(intercepts + beta_1*data.urban + beta_2*data['living.children'] + beta_3*data.age_mean))\n",
    "    contraceptive_use = pm.Bernoulli('Contraceptive Use', p=p_i, observed=y)\n",
    "    trace = pm.sample(5000, tune=8000, target_accept=0.9)"
   ]
  },
  {
   "cell_type": "markdown",
   "metadata": {},
   "source": [
    "<a id=\"sB7\"></a>\n",
    "<div class='exercise-r'>  \n",
    "\n",
    "**[B7](#qB7)**\n",
    "    \n",
    "</div>\n",
    "\n",
    "Check the convergence by examining the trace plots and R-hats, as you did with the simulated data. What do you observe?"
   ]
  },
  {
   "cell_type": "code",
   "execution_count": null,
   "metadata": {},
   "outputs": [],
   "source": [
    "df = pm.summary(trace)\n",
    "df.loc[variables, ]"
   ]
  },
  {
   "cell_type": "code",
   "execution_count": null,
   "metadata": {},
   "outputs": [],
   "source": [
    "# your code here\n",
    "fig, ax = plt.subplots(2,5, figsize = (40, 10))\n",
    "plt.suptitle('Diagnostics of MCMC Sampler Convergence')\n",
    "colors=['lightcoral', 'lightblue', 'lightpink', 'gold', 'magenta']\n",
    "for i, variable in enumerate(variables.keys()):\n",
    "    ax[0][i].plot(trace[variable], color=colors[i], label='Traceplot of the parameter ' + variable)\n",
    "    ax[1][i].hist(trace[variable], bins=30, color=colors[i], label='Histogram of the parameter ' + variable)\n",
    "    ax[0][i].legend()\n",
    "    ax[1][i].legend()\n",
    "\n",
    "plt.show(fig)"
   ]
  },
  {
   "cell_type": "code",
   "execution_count": null,
   "metadata": {},
   "outputs": [],
   "source": [
    "pm.traceplot(trace)\n",
    "plt.show()"
   ]
  },
  {
   "cell_type": "markdown",
   "metadata": {},
   "source": [
    "**INTERPRETATION:**"
   ]
  },
  {
   "cell_type": "markdown",
   "metadata": {},
   "source": [
    "- Information from the traceplots: The sampler has converged since the posterior distributions has mixed. The sampler has reached a zone of high density mass. \n",
    "- Information from the $\\hat{R}$: the different chains sampled from different initialization points have similar statistics, meaning that from a certain point on, they have roughly converged to the same zone (thus exhibiting similar mean and variance). \n",
    "- Information from the 94% credible intervals: we can see that the intervals are quite narrow, meaning that there is little uncertainty in the posterior estimation atthe end of the sampling procedure"
   ]
  },
  {
   "cell_type": "markdown",
   "metadata": {},
   "source": [
    "<a id=\"sB8\"></a>\n",
    "<div class='exercise-r'>  \n",
    "\n",
    "**[B8](#qB8)**\n",
    "    \n",
    "</div>\n",
    "\n",
    "Based on the posterior means, which district has the highest base rate of contraceptive usage (independent of other factors like urban population)? Which district has the lowest?"
   ]
  },
  {
   "cell_type": "markdown",
   "metadata": {},
   "source": [
    "Let us recall from the formula that:\n",
    "\n",
    "$$\\text{logit}\\:p_{ij} = \\beta_{0j} + \\beta_1 \\times \\text{urban} + \\beta_2 \\times \\text{living.children} + \\beta_3 \\times \\text{age-mean}$$\n",
    "\n",
    "and then the contracteptive use $Y_{ij} \\sim Ber(p_{ij})$\n",
    "\n",
    "Therefore, the only coefficient varying between the different counties (when considering the **posterior means**) is the intercept. \n",
    "\n",
    "Last, we have $p_{ij} = Sigm(\\beta_{0j} + \\beta_1 \\times \\text{urban} + \\beta_2 \\times \\text{living.children} + \\beta_3 \\times \\text{age-mean})$. Since $Sigmoid$ is an increasing function, we are looking for the biggest posterior mean accross the different intercepts."
   ]
  },
  {
   "cell_type": "code",
   "execution_count": null,
   "metadata": {},
   "outputs": [],
   "source": [
    "# your code here\n",
    "intercepts_mean = df.iloc[1:61, :]['mean'].sort_values(ascending=False)\n",
    "highest_contraceptive = intercepts_mean.head(1)\n",
    "lowest_contraceptive = intercepts_mean.tail(1)\n",
    "print('Highest rate of contraceptive: ',  highest_contraceptive)\n",
    "print('Lowest rate of contraceptive: ', lowest_contraceptive)"
   ]
  },
  {
   "cell_type": "markdown",
   "metadata": {},
   "source": [
    "**INTERPRETATION:**"
   ]
  },
  {
   "cell_type": "markdown",
   "metadata": {},
   "source": [
    "Based on the posterior means and independent of other factors, the district with the highest rate of contraceptive is district 56 and the district with the lowest rate of contraceptive is district 11."
   ]
  },
  {
   "cell_type": "markdown",
   "metadata": {},
   "source": [
    "<a id=\"sB9\"></a>\n",
    "<div class='exercise-r'>  \n",
    "\n",
    "**[B9](#qB9)**\n",
    "    \n",
    "</div>\n",
    "\n",
    "What are the posterior means of $\\mu_0$ and $\\sigma_0$? Do these values offer any evidence in support of or against the varying-intercept model, compared to a model with a single intercept value for all districts?"
   ]
  },
  {
   "cell_type": "markdown",
   "metadata": {},
   "source": [
    "$\\mathbb{E}[\\mu_0| Y] = -1.597 $  with Credible interval $[-2.077; -1.104]$\n",
    "\n",
    "$\\mathbb{E}[\\tau_0| Y] = 3.914 $  with Credible interval $[1.391; 7.095]$\n",
    "Therefore, $\\mathbb{E}[\\sigma_0| Y] = \\sqrt(\\frac{1}{3.914}) $  with Credible interval $[\\sqrt(\\frac{1}{7.095}); \\sqrt(\\frac{1}{1.391})]$\n",
    "\n",
    "$\\mathbb{E}[\\sigma_0| Y] = 0.505 $  with Credible interval $[0.375;  0.847]$"
   ]
  },
  {
   "cell_type": "markdown",
   "metadata": {},
   "source": [
    "**INTERPRETATION:**"
   ]
  },
  {
   "cell_type": "markdown",
   "metadata": {},
   "source": [
    "From the 94% credible interval of the posterior on $\\sigma_0$, one can assume that the distribution of $\\sigma_0$ is significalty far away from 0. Therefore, since in the varying intercept model, intercepts are drawn from $\\mathcal{N}(\\mu_0, \\sigma_0)$, we can assume that these values will be significantly different between the different counties. \n",
    "The difference between the varying intercept model, compared to a model with a single intercept value for all districts is that a model with a single intercept value would be $\\sigma_0 = 0$. Here, since the information brought on by the posterior $\\sigma_0$ says that the likelihood of the data has brought on $\\sigma_0$ to differ significantly from 0: this is the advantage of the Bayesian approach, we have let data speak for itself. \n",
    "\n",
    "Therefore, $\\sigma_0$ provide evidence in support of the varying-intercept model.\n",
    "\n",
    "However, for $\\mu_0$, we are not conviced that the posterior mean brings **any** information in support of the varying-intercept model. Indeed:\n",
    "- if the posterior distribution is centered at $\\mu_0=4$, but the posterior variance is really close to 0 $\\sigma_0 \\approx 0$ then this would be evidence against the varying-intercept model. The same thing would happen for any value of $\\mu_0$\n",
    "\n",
    "Therefore, we think that evidence can be read off the posterior value of $\\sigma_0$, and in that case it provides evidence in support of the varying-intercept model"
   ]
  },
  {
   "cell_type": "markdown",
   "metadata": {},
   "source": [
    "<a id=\"part3\"></a>\n",
    "    \n",
    "<!-- <div class=\"alert alert-block alert-danger\" style=\"color:black;background-color:#E7F4FA\"> -->\n",
    "\n",
    "# Part C: Varying-Coefficients Model and Model Selection\n",
    "\n",
    "[Return to contents](#contents)\n"
   ]
  },
  {
   "cell_type": "markdown",
   "metadata": {},
   "source": [
    "<a id=\"part3intro\"></a>\n",
    "\n",
    "## Overview \n",
    "\n",
    "[Return to contents](#contents)\n",
    "\n",
    "The next model we will fit to the contraceptives data is a varying-coefficients logistic regression model, where the coefficients on living.children, age-mean, and urban vary by district.\n",
    "\n",
    "Prior distribution:\n",
    "\n",
    "$$\n",
    "\\begin{split}\n",
    "\\beta_{0j} &\\sim N(\\mu_0,\\sigma_0^2)\\; \\text{, with} \\;\\; \\mu_0 \\sim N(0,10000)\\; \\text{and} \\; \\; \\frac{1}{\\sigma^2_0} \\sim \\text{Gamma}(0.1,0.1)\n",
    "\\\\\n",
    "\\beta_{1j} &\\sim N(0,\\sigma_1^2)\\; \\text{, with} \\;\\; \\frac{1}{\\sigma^2_1} \\sim \\text{Gamma}(0.1,0.1) \n",
    "\\\\\n",
    "\\beta_{2j} &\\sim N(0,\\sigma_2^2)\\; \\text{, with} \\;\\; \\frac{1}{\\sigma^2_2} \\sim \\text{Gamma}(0.1,0.1)\n",
    "\\\\ \n",
    "\\beta_{3j} &\\sim N(0,\\sigma_3^2)\\; \\text{, with} \\;\\; \\frac{1}{\\sigma^2_3} \\sim \\text{Gamma}(0.1,0.1)\n",
    "\\\\\n",
    "\\end{split}\n",
    "$$\n",
    "\n",
    "Model for data:\n",
    "\n",
    "$$\n",
    "\\begin{split}\n",
    "Y_{ij} &\\sim \\text{Bernoulli}(p_{ij})\n",
    "\\\\ \\\\\n",
    "\\text{logit}\\:p_{ij} &= \\beta_{0j} + \\beta_{1j} \\times \\text{urban} + \\beta_{2j} \\times \\text{living.children} + \\beta_{3j} \\times \\text{age-mean}\n",
    "\\\\ \\\\\n",
    "\\end{split}\n",
    "$$\n",
    "\n",
    "**PLEASE NOTE:** Once again, the $\\text{Gamma}$ distribution uses the $\\text{Gamma}(\\alpha, \\beta)$ parametrization, where $\\alpha$ is the shape and $\\beta$ is the rate. "
   ]
  },
  {
   "cell_type": "markdown",
   "metadata": {},
   "source": [
    "<a id=\"part3questions\"></a>\n",
    "\n",
    "### <div class='exercise'>Part C: Questions</div> \n",
    "\n",
    "[Return to contents](#contents)\n",
    "\n",
    "<a id=\"qC1\"></a>\n",
    "\n",
    "**[C1](#sC1)** \n",
    "\n",
    "Fit the varying-coefficients model described above to the real training data.\n",
    "\n",
    "<a id=\"qC2\"></a>\n",
    "\n",
    "**[C2](#sC2)** \n",
    "\n",
    "Check the convergence of your varying-coefficients model by examining the trace plots and R-hats, as you did with the prior varying-intercepts model. What do you observe?\n",
    "\n",
    "<a id=\"qC3\"></a>\n",
    "\n",
    "**[C3](#sC3)** \n",
    "\n",
    "Plot the distributions of posterior means and credible intervals for each predictor's coefficient by district. What do you conclude from these graphs?\n",
    "\n",
    "**HINT:** The ArviZ [`plot_forest()`](https://arviz-devs.github.io/arviz/api/generated/arviz.plot_forest.html) function is very well-suited for this task.\n",
    "\n",
    "<a id=\"qC4\"></a>\n",
    "\n",
    "**[C4](#sC4)** \n",
    "\n",
    "Use all of the information you've gleaned thus far to build Bayesian logistic regression classifiers for both your varying-intercepts model (from B7) and your varying-coefficients model (from C1). Then, use each model to make predictions on your training and test sets.\n",
    "\n",
    "  - Report each model's classification percentages and accuracy scores on both the training and test sets, as well as the trivial accuracy scores you would achieve with a \"naive\" model that predicts only the most frequent outcome observed in your training data.\n",
    "  \n",
    "  \n",
    "  - What do you observe from these results?\n",
    "  \n",
    "  \n",
    "  - Which model appears to be the best (i.e. varying-intercept or varying-coefficient), and what is your rationale?"
   ]
  },
  {
   "cell_type": "markdown",
   "metadata": {},
   "source": [
    "<a id=\"part3solutions\"></a>\n",
    "\n",
    "## Part C: Solutions\n",
    "\n",
    "[Return to contents](#contents)"
   ]
  },
  {
   "cell_type": "markdown",
   "metadata": {},
   "source": [
    "<a id=\"sC1\"></a>\n",
    "<div class='exercise-r'>  \n",
    "\n",
    "**[C1](#qC1)**\n",
    "    \n",
    "</div>\n",
    "\n",
    "Fit the varying-coefficients model described above to the real training data."
   ]
  },
  {
   "cell_type": "code",
   "execution_count": null,
   "metadata": {},
   "outputs": [],
   "source": [
    "# your code here\n",
    "with pm.Model() as varying_coefficients_model:\n",
    "    mu0 = pm.Normal('Prior_Mean', mu=0, sigma=100)\n",
    "    sigma0 = pm.Gamma('Prior_Variance_0', alpha=0.1, beta=0.1)\n",
    "    beta_0 = pm.Normal('Intercept', mu=mu0, tau=sigma0, shape=60)\n",
    "    intercepts = beta_0[data.district]\n",
    "    sigma1 = pm.Gamma('Prior_Variance_1', alpha=0.1, beta=0.1)\n",
    "    beta_1 = pm.Normal('Urban_coef', mu=0, tau=sigma1, shape=60)\n",
    "    beta1 = beta_1[data.district]\n",
    "    sigma2 = pm.Gamma('Prior_Variance_2', alpha=0.1, beta=0.1)\n",
    "    beta_2 = pm.Normal('Children_coef', mu=0, tau=sigma2, shape=60)\n",
    "    beta2 = beta_2[data.district]\n",
    "    sigma3 = pm.Gamma('Prior_Variance_3', alpha=0.1, beta=0.1)\n",
    "    beta_3 = pm.Normal('Age_coef', mu=0, sigma=sigma3, shape=60)\n",
    "    beta3 = beta_3[data.district]\n",
    "    p_i = pm.Deterministic('$P_i$', pm.math.invlogit(intercepts + beta1*data.urban + beta2*data['living.children'] + beta3*data.age_mean))\n",
    "    contraceptive_use = pm.Bernoulli('Contraceptive Use', p=p_i, observed=y)\n",
    "    trace_vc = pm.sample(5000, tune=7000, target_accept=0.9)"
   ]
  },
  {
   "cell_type": "markdown",
   "metadata": {},
   "source": [
    "<a id=\"sC2\"></a>\n",
    "<div class='exercise-r'>  \n",
    "\n",
    "**[C2](#qC2)**\n",
    "    \n",
    "</div>\n",
    "\n",
    "Check the convergence of your varying-coefficients model by examining the trace plots and R-hats, as you did with the prior varying-intercepts model. What do you observe?"
   ]
  },
  {
   "cell_type": "markdown",
   "metadata": {},
   "source": [
    "#### R-hats"
   ]
  },
  {
   "cell_type": "code",
   "execution_count": null,
   "metadata": {},
   "outputs": [],
   "source": [
    "# your code here\n",
    "df = pm.summary(trace_vc)"
   ]
  },
  {
   "cell_type": "code",
   "execution_count": null,
   "metadata": {},
   "outputs": [],
   "source": [
    "df['r_hat'].value_counts()"
   ]
  },
  {
   "cell_type": "markdown",
   "metadata": {},
   "source": [
    "From the distribution of R plots, we can consider that the model has globally converged, since it is understandable that models with more parameters are less straightforward to converge. "
   ]
  },
  {
   "cell_type": "markdown",
   "metadata": {},
   "source": [
    "#### TracePlots"
   ]
  },
  {
   "cell_type": "markdown",
   "metadata": {},
   "source": [
    "Let us visualize some traceplots for observing the distribution of the model parameters. We are going to draw a random district and check the traceplots of the parameters for this district."
   ]
  },
  {
   "cell_type": "code",
   "execution_count": null,
   "metadata": {},
   "outputs": [],
   "source": [
    "district = np.random.randint(0, 59)"
   ]
  },
  {
   "cell_type": "code",
   "execution_count": null,
   "metadata": {},
   "outputs": [],
   "source": [
    "variables = ['Intercept', 'Urban_coef', 'Children_coef', 'Age_coef']\n",
    "fig, ax = plt.subplots(4, figsize = (20, 15))\n",
    "plt.suptitle('Diagnostics of MCMC Sampler Convergence for the Varying-Coefficient Model for district ' + str(district))\n",
    "colors=['lightcoral', 'lightblue', 'lightpink', 'gold']\n",
    "for i, variable in enumerate(variables):\n",
    "    ax[i].plot(trace_vc[variable][:, district], color=colors[i], label='Traceplot of the parameter ' + variable)\n",
    "    ax[i].legend()\n",
    "plt.show(fig)"
   ]
  },
  {
   "cell_type": "code",
   "execution_count": null,
   "metadata": {},
   "outputs": [],
   "source": [
    "pm.traceplot(trace_vc)\n",
    "plt.show()"
   ]
  },
  {
   "cell_type": "markdown",
   "metadata": {},
   "source": [
    "From the traceplots, we can observe that the different samples appear to have converged, since the different states of the chain seem very much uncorrelated between each others. "
   ]
  },
  {
   "cell_type": "markdown",
   "metadata": {},
   "source": [
    "**INTERPRETATION:**"
   ]
  },
  {
   "cell_type": "markdown",
   "metadata": {},
   "source": [
    "From the $\\hat{R}$ values and the traceplots of the different parameters for one district, it appears that the varying-intercept model seems to have converged. "
   ]
  },
  {
   "cell_type": "markdown",
   "metadata": {},
   "source": [
    "<a id=\"sC3\"></a>\n",
    "<div class='exercise-r'>  \n",
    "\n",
    "**[C3](#qC3)**\n",
    "    \n",
    "</div>\n",
    "\n",
    "Plot the distributions of posterior means and credible intervals for each predictor's coefficient by district. What do you conclude from these graphs?\n",
    "\n",
    "**HINT:** The ArviZ [`plot_forest()`](https://arviz-devs.github.io/arviz/api/generated/arviz.plot_forest.html) function is very well-suited for this task."
   ]
  },
  {
   "cell_type": "code",
   "execution_count": null,
   "metadata": {},
   "outputs": [],
   "source": [
    "# your code here\n",
    "az.plot_forest(kind='forestplot', data=trace_vc['Intercept'].T)\n",
    "ax[0].set_title('Credible Intervals for the different intercepts')"
   ]
  },
  {
   "cell_type": "code",
   "execution_count": null,
   "metadata": {},
   "outputs": [],
   "source": [
    "az.plot_forest(kind='forestplot', data=trace_vc['Urban_coef'].T)\n",
    "ax[0].set_title('Credible Intervals for the different Urban Coefficients')"
   ]
  },
  {
   "cell_type": "code",
   "execution_count": null,
   "metadata": {},
   "outputs": [],
   "source": [
    "az.plot_forest(kind='forestplot', data=trace_vc['Children_coef'].T)\n",
    "ax[0].set_title('Credible Intervals for the different children coefficients')"
   ]
  },
  {
   "cell_type": "code",
   "execution_count": null,
   "metadata": {},
   "outputs": [],
   "source": [
    "az.plot_forest(kind='forestplot', data=trace_vc['Age_coef'].T)\n",
    "ax[0].set_title('Credible Intervals for the different Age coefficients')"
   ]
  },
  {
   "cell_type": "markdown",
   "metadata": {},
   "source": [
    "**INTERPRETATION:**"
   ]
  },
  {
   "cell_type": "markdown",
   "metadata": {},
   "source": [
    "The things we observe for the different posteriors credible intervals are:\n",
    "- For the Age coefficients, we can see that the different posteriors are **very** similar accross the 60 different districts, whether it is in terms of posterior mean or 94% Credible Interval. Therefore, this leads us to thinking that sing varying coefficients for this feature is maybe not useful, and that the posterior seems like all of the different coefficients have been drawn from the same distribution\n",
    "- For the children, urban and intercept coefficient, the conclusion is less obvious. We can see that the credible intervals are quite overlapping amongst the different posteriors for different districts. But solely based on these plots, it is maybe not cautious to conclude that we might not need any varying coefficients on this model. Indeed, we **know** that the varying intercept model is relevant from the posterior distribution of the variance of the intercept-generating distribution. If one conludes based on this visualization that none of the varying coefficient is relevant, then we end up saying the varying-intercept model is not relevant, which would be wrong.\n",
    "\n",
    "Therefore, we might assume that for the Age feeature, we don't need any varying coefficient, but more careful analysis should be conducted for assuming the same things for other features (like analyzing independent varying models for every feature)."
   ]
  },
  {
   "cell_type": "markdown",
   "metadata": {},
   "source": [
    "<a id=\"sC4\"></a>\n",
    "<div class='exercise-r'>  \n",
    "\n",
    "**[C4](#qC4)**\n",
    "    \n",
    "</div>\n",
    "\n",
    "Use all of the information you've gleaned thus far to build Bayesian logistic regression classifiers for both your varying-intercepts model (from B7) and your varying-coefficients model (from C1). Then, use each model to make predictions on your training and test sets.\n",
    "\n",
    "  - Report each model's classification percentages (i.e. percentage of class `1` predictions) and accuracy scores on both the training and test sets, as well as the trivial accuracy scores you would achieve with a \"naive\" model that predicts only the most frequent outcome observed in your training data.\n",
    "  \n",
    "  \n",
    "  - What do you observe from these results?\n",
    "  \n",
    "  \n",
    "  - Which model appears to be the best (i.e. varying-intercept or varying-coefficient), and what is your rationale?"
   ]
  },
  {
   "cell_type": "code",
   "execution_count": null,
   "metadata": {},
   "outputs": [],
   "source": [
    "ok"
   ]
  },
  {
   "cell_type": "code",
   "execution_count": null,
   "metadata": {},
   "outputs": [],
   "source": [
    "# your code here\n",
    "data_train,data_test = pd.read_csv('data/dataset_2_train.csv'),pd.read_csv('data/dataset_2_test.csv')\n",
    "y_train,y_test = data_train.contraceptive_use,data_test.contraceptive_use\n",
    "data_train.loc[data_train['district']==61, 'district'] = 54\n",
    "data_train.loc[data_train['district']==60, 'district'] = 0\n",
    "data_test.loc[data_test['district']==61, 'district'] = 54\n",
    "data_test.loc[data_test['district']==60, 'district'] = 0\n",
    "data_train"
   ]
  },
  {
   "cell_type": "markdown",
   "metadata": {},
   "source": [
    "### Varying intercept models"
   ]
  },
  {
   "cell_type": "code",
   "execution_count": null,
   "metadata": {},
   "outputs": [],
   "source": [
    "with pm.Model() as varying_intercept_model_train:\n",
    "    mu0 = pm.Normal('Prior_Mean', mu=0, sigma=100)\n",
    "    # sigma0 = pm.InverseGamma('Prior_Variance', alpha=0.1, beta=10)  # in pymc3, beta is the scale not the rate\n",
    "    sigma0 = pm.Gamma('Prior_Variance', alpha=0.1, beta=0.1)\n",
    "    beta_0 = pm.Normal('Intercept', mu=mu0, tau=sigma0, shape=60)\n",
    "    # beta_0 = pm.Normal('Intercept', mu=mu0, sigma=1/sigma0, shape=60)\n",
    "    intercepts = beta_0[data.district]\n",
    "    beta_1 = pm.Normal('Urban_coef', mu=0, sigma=100)\n",
    "    beta_2 = pm.Normal('Children_coef', mu=0, sigma=100)\n",
    "    beta_3 = pm.Normal('Age_coef', mu=0, sigma=100)\n",
    "    p_i = pm.Deterministic('$P_i$', pm.math.invlogit(intercepts + beta_1*data_train.urban + beta_2*data_train['living.children'] + beta_3*data_train.age_mean))\n",
    "    contraceptive_use = pm.Bernoulli('Contraceptive Use', p=p_i, observed=y_train)\n",
    "    trace_i_train = pm.sample(5000, tune=7000, target_accept=0.9)\n"
   ]
  },
  {
   "cell_type": "code",
   "execution_count": null,
   "metadata": {},
   "outputs": [],
   "source": [
    "#The following vectors contains 500 predictions for the class 1 \n",
    "ppc_i_train = pm.sample_ppc(trace_i_train, model=varying_intercept_model_train, samples=500)\n",
    "\n",
    "print('The accuracy of the predictions of the varying_intercept_model for the training data is'\n",
    "      ,accuracy_score(data_train['contraceptive_use'], np.asarray(ppc_i_train['Contraceptive Use'])[np.random.randint(0, 500)]))\n",
    "print('The classification percentage of the varying_intercept_model for the training data is'\n",
    "      ,np.asarray(ppc_i_train['Contraceptive Use'])[np.random.randint(0, 500)].mean())"
   ]
  },
  {
   "cell_type": "code",
   "execution_count": null,
   "metadata": {},
   "outputs": [],
   "source": [
    "with pm.Model() as varying_intercept_model_test:\n",
    "    mu0 = pm.Normal('Prior_Mean', mu=0, sigma=100)\n",
    "    # sigma0 = pm.InverseGamma('Prior_Variance', alpha=0.1, beta=10)  # in pymc3, beta is the scale not the rate\n",
    "    sigma0 = pm.Gamma('Prior_Variance', alpha=0.1, beta=0.1)\n",
    "    beta_0 = pm.Normal('Intercept', mu=mu0, tau=sigma0, shape=60)\n",
    "    # beta_0 = pm.Normal('Intercept', mu=mu0, sigma=1/sigma0, shape=60)\n",
    "    intercepts = beta_0[data.district]\n",
    "    beta_1 = pm.Normal('Urban_coef', mu=0, sigma=100)\n",
    "    beta_2 = pm.Normal('Children_coef', mu=0, sigma=100)\n",
    "    beta_3 = pm.Normal('Age_coef', mu=0, sigma=100)\n",
    "    p_i = pm.Deterministic('$P_i$', pm.math.invlogit(intercepts + beta_1*data_test.urban + beta_2*data_test['living.children'] + beta_3*data_test.age_mean))\n",
    "    contraceptive_use = pm.Bernoulli('Contraceptive Use', p=p_i, observed=y_test)\n",
    "    trace_i_test = pm.sample(5000, tune=7000, target_accept=0.9)"
   ]
  },
  {
   "cell_type": "code",
   "execution_count": null,
   "metadata": {},
   "outputs": [],
   "source": [
    "#The following vectors contains 500 predictions for the class 1 \n",
    "ppc_i_test = pm.sample_ppc(trace_i_test, model=varying_intercept_model_test, samples=500)\n",
    "\n",
    "print('The accuracy of the predictions of the varying_intercept_model for the testing data is'\n",
    "      ,accuracy_score(data_test['contraceptive_use'], np.asarray(ppc_i_test['Contraceptive Use'])[np.random.randint(0, 500)]))\n",
    "print('The classification percentage of the varying_intercept_model for the testing data is'\n",
    "      ,np.asarray(ppc_i_test['Contraceptive Use'])[np.random.randint(0, 500)].mean())"
   ]
  },
  {
   "cell_type": "markdown",
   "metadata": {},
   "source": [
    "### Varying coefficients models"
   ]
  },
  {
   "cell_type": "code",
   "execution_count": null,
   "metadata": {},
   "outputs": [],
   "source": [
    "with pm.Model() as varying_coefficients_model_train:\n",
    "    mu0 = pm.Normal('Prior_Mean', mu=0, sigma=100)\n",
    "    sigma0 = pm.Gamma('Prior_Variance_0', alpha=0.1, beta=0.1)\n",
    "    beta_0 = pm.Normal('Intercept', mu=mu0, tau=sigma0, shape=60)\n",
    "    intercepts = beta_0[data.district]\n",
    "    sigma1 = pm.Gamma('Prior_Variance_1', alpha=0.1, beta=0.1)\n",
    "    beta_1 = pm.Normal('Urban_coef', mu=0, tau=sigma1, shape=60)\n",
    "    beta1 = beta_1[data.district]\n",
    "    sigma2 = pm.Gamma('Prior_Variance_2', alpha=0.1, beta=0.1)\n",
    "    beta_2 = pm.Normal('Children_coef', mu=0, tau=sigma2, shape=60)\n",
    "    beta2 = beta_2[data.district]\n",
    "    sigma3 = pm.Gamma('Prior_Variance_3', alpha=0.1, beta=0.1)\n",
    "    beta_3 = pm.Normal('Age_coef', mu=0, sigma=sigma3, shape=60)\n",
    "    beta3 = beta_3[data.district]\n",
    "    p_i = pm.Deterministic('$P_i$', pm.math.invlogit(intercepts + beta1*data_train.urban + beta2*data_train['living.children'] + beta3*data_train.age_mean))\n",
    "    contraceptive_use = pm.Bernoulli('Contraceptive Use', p=p_i, observed=y_train)\n",
    "    trace_c_train = pm.sample(5000, tune=7000, target_accept=0.9)"
   ]
  },
  {
   "cell_type": "code",
   "execution_count": null,
   "metadata": {},
   "outputs": [],
   "source": [
    "#The following vectors contains 500 predictions for the class 1 \n",
    "ppc_c_train = pm.sample_ppc(trace_c_train, model=varying_coefficients_model_train, samples=500)\n",
    "\n",
    "print('The accuracy of the predictions of the varying_coefficients_model for the training data is'\n",
    "      ,accuracy_score(data_train['contraceptive_use'], np.asarray(ppc_c_train['Contraceptive Use'])[np.random.randint(0, 500)]))\n",
    "print('The classification percentage of the varying_coefficients_model for the training data is'\n",
    "      ,np.asarray(ppc_c_train['Contraceptive Use'])[np.random.randint(0, 500)].mean())"
   ]
  },
  {
   "cell_type": "code",
   "execution_count": null,
   "metadata": {},
   "outputs": [],
   "source": [
    "with pm.Model() as varying_coefficients_model_test:\n",
    "    mu0 = pm.Normal('Prior_Mean', mu=0, sigma=100)\n",
    "    sigma0 = pm.Gamma('Prior_Variance_0', alpha=0.1, beta=0.1)\n",
    "    beta_0 = pm.Normal('Intercept', mu=mu0, tau=sigma0, shape=60)\n",
    "    intercepts = beta_0[data.district]\n",
    "    sigma1 = pm.Gamma('Prior_Variance_1', alpha=0.1, beta=0.1)\n",
    "    beta_1 = pm.Normal('Urban_coef', mu=0, tau=sigma1, shape=60)\n",
    "    beta1 = beta_1[data.district]\n",
    "    sigma2 = pm.Gamma('Prior_Variance_2', alpha=0.1, beta=0.1)\n",
    "    beta_2 = pm.Normal('Children_coef', mu=0, tau=sigma2, shape=60)\n",
    "    beta2 = beta_2[data.district]\n",
    "    sigma3 = pm.Gamma('Prior_Variance_3', alpha=0.1, beta=0.1)\n",
    "    beta_3 = pm.Normal('Age_coef', mu=0, sigma=sigma3, shape=60)\n",
    "    beta3 = beta_3[data.district]\n",
    "    p_i = pm.Deterministic('$P_i$', pm.math.invlogit(intercepts + beta1*data_test.urban + beta2*data_test['living.children'] + beta3*data_test.age_mean))\n",
    "    contraceptive_use = pm.Bernoulli('Contraceptive Use', p=p_i, observed=y_test)\n",
    "    trace_c_test = pm.sample(5000, tune=7000, target_accept=0.9)"
   ]
  },
  {
   "cell_type": "code",
   "execution_count": null,
   "metadata": {},
   "outputs": [],
   "source": [
    "#The following vectors contains 500 predictions for the class 1 \n",
    "ppc_c_test = pm.sample_ppc(trace_c_test, model=varying_coefficients_model_test, samples=500)\n",
    "\n",
    "print('The accuracy of the predictions of the varying_coefficients_model for the testing data is'\n",
    "      ,accuracy_score(data_test['contraceptive_use'], np.asarray(ppc_c_test['Contraceptive Use'])[np.random.randint(0, 500)]))\n",
    "print('The classification percentage of the varying_coefficients_model for the testing data is'\n",
    "      ,np.asarray(ppc_c_test['Contraceptive Use'])[np.random.randint(0, 500)].mean())"
   ]
  },
  {
   "cell_type": "code",
   "execution_count": null,
   "metadata": {},
   "outputs": [],
   "source": [
    "print('SUMMARY','\\n--------------------------------------------------------')\n",
    "print('The accuracy scores are:\\n')\n",
    "\n",
    "print('The accuracy of the predictions of the varying_intercept_model for the training data is'\n",
    "      ,accuracy_score(data_train['contraceptive_use'], np.asarray(ppc_i_train['Contraceptive Use'])[np.random.randint(0, 500)]))\n",
    "print('The accuracy of the predictions of the varying_intercept_model for the testing data is'\n",
    "      ,accuracy_score(data_test['contraceptive_use'], np.asarray(ppc_i_test['Contraceptive Use'])[np.random.randint(0, 500)]))\n",
    "print('The accuracy of the predictions of the varying_coefficients_model for the training data is'\n",
    "      ,accuracy_score(data_train['contraceptive_use'], np.asarray(ppc_c_train['Contraceptive Use'])[np.random.randint(0, 500)]))\n",
    "print('The accuracy of the predictions of the varying_coefficients_model for the testing data is'\n",
    "      ,accuracy_score(data_test['contraceptive_use'], np.asarray(ppc_c_test['Contraceptive Use'])[np.random.randint(0, 500)]))"
   ]
  },
  {
   "cell_type": "markdown",
   "metadata": {},
   "source": [
    "### Trivial model"
   ]
  },
  {
   "cell_type": "markdown",
   "metadata": {},
   "source": [
    "We will fit a logistic model predicting for each row whether that person uses contraception; so it’s 0 or 1 based on whether the probability is greater than 0.5."
   ]
  },
  {
   "cell_type": "code",
   "execution_count": null,
   "metadata": {},
   "outputs": [],
   "source": [
    "data_train"
   ]
  },
  {
   "cell_type": "code",
   "execution_count": null,
   "metadata": {},
   "outputs": [],
   "source": [
    "X_train, X_test, y_train, y_test = train_test_split(data_train, \n",
    "                                                    data_train['contraceptive_use'], test_size=0.40, \n",
    "                                                    random_state=101)\n",
    "logmodel = LogisticRegression()\n",
    "logmodel.fit(X_train,y_train)\n",
    "predictions = logmodel.predict(X_test)"
   ]
  },
  {
   "cell_type": "code",
   "execution_count": null,
   "metadata": {},
   "outputs": [],
   "source": [
    "print(classification_report(y_test,predictions))"
   ]
  },
  {
   "cell_type": "markdown",
   "metadata": {},
   "source": [
    "**INTERPRETATION:**"
   ]
  },
  {
   "cell_type": "markdown",
   "metadata": {},
   "source": [
    "*Your answer here*\n"
   ]
  },
  {
   "cell_type": "markdown",
   "metadata": {},
   "source": [
    "The model with the best accuracy is ______"
   ]
  }
 ],
 "metadata": {
  "kernelspec": {
   "display_name": "Python 3",
   "language": "python",
   "name": "python3"
  },
  "language_info": {
   "codemirror_mode": {
    "name": "ipython",
    "version": 3
   },
   "file_extension": ".py",
   "mimetype": "text/x-python",
   "name": "python",
   "nbconvert_exporter": "python",
   "pygments_lexer": "ipython3",
   "version": "3.8.6"
  }
 },
 "nbformat": 4,
 "nbformat_minor": 4
}
