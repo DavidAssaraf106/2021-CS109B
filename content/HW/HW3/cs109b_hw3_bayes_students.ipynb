{
 "cells": [
  {
   "cell_type": "markdown",
   "metadata": {},
   "source": [
    "# <img style=\"float: left; padding-right: 10px; width: 45px\" src=\"https://raw.githubusercontent.com/Harvard-IACS/2018-CS109A/master/content/styles/iacs.png\"> Data Science 2: Advanced Topics in Data Science \n",
    "\n",
    "## Homework 3: Bayesian Analysis\n",
    "\n",
    "\n",
    "\n",
    "**Harvard University**<br/>\n",
    "**Spring 2021**<br/>\n",
    "**Instructors**: Mark Glickman, Pavlos Protopapas, and Chris Tanner \n",
    "\n",
    "\n",
    "<hr style=\"height:2pt\">"
   ]
  },
  {
   "cell_type": "code",
   "execution_count": null,
   "metadata": {},
   "outputs": [],
   "source": [
    "# RUN THIS CELL \n",
    "import requests\n",
    "from IPython.core.display import HTML\n",
    "styles = requests.get(\n",
    "    \"https://raw.githubusercontent.com/Harvard-IACS/2018-CS109A/master/\"\n",
    "    \"content/styles/cs109.css\"\n",
    ").text\n",
    "HTML(styles)"
   ]
  },
  {
   "cell_type": "markdown",
   "metadata": {},
   "source": [
    "<hr style=\"height:2pt\">\n",
    "\n",
    "### INSTRUCTIONS\n",
    "\n",
    "- To submit your assignment follow the instructions given in Canvas.\n",
    "\n",
    "- Please restart the kernel and run the entire notebook again before you submit.\n",
    "\n",
    "- Running cells out of order is a common pitfall in Jupyter Notebooks. To make sure your code works restart the kernel and run the whole notebook again before you submit. \n",
    "\n",
    "- We have tried to include all the libraries you may need to do the assignment in the imports cell provided below. **Please use only the libraries provided in those imports.**\n",
    "\n",
    "- Please use .head() when viewing data. Do not submit a notebook that is **excessively long**. \n",
    "\n",
    "- In questions that require code to answer, such as \"calculate the $R^2$\", do not just output the value from a cell. Write a `print()` statement that clearly labels the output, includes a reference to the calculated value, and rounds it to a reasonable number of digits. **Do not hard code values in your printed output**. For example, this is an appropriate print statement:\n",
    "```python\n",
    "print(f'The R^2 is {R:.4f}')\n",
    "```\n",
    "- Your plots should be clearly labeled, including clear labels for the $x$ and $y$ axes as well as a descriptive title (\"MSE plot\" is NOT a descriptive title; \"95% confidence interval of coefficients of polynomial degree 5\" on the other hand is descriptive).\n",
    "\n",
    "<hr style=\"height:2pt\">"
   ]
  },
  {
   "cell_type": "code",
   "execution_count": 1,
   "metadata": {},
   "outputs": [
    {
     "name": "stderr",
     "output_type": "stream",
     "text": [
      "WARNING (theano.configdefaults): g++ not available, if using conda: `conda install m2w64-toolchain`\n",
      "C:\\Users\\David\\Anaconda3\\envs\\cs109a\\lib\\site-packages\\theano\\configdefaults.py:560: UserWarning: DeprecationWarning: there is no c++ compiler.This is deprecated and with Theano 0.11 a c++ compiler will be mandatory\n",
      "  warnings.warn(\"DeprecationWarning: there is no c++ compiler.\"\n",
      "WARNING (theano.configdefaults): g++ not detected ! Theano will be unable to execute optimized C-implementations (for both CPU and GPU) and will default to Python implementations. Performance will be severely degraded. To remove this warning, set Theano flags cxx to an empty string.\n",
      "WARNING (theano.tensor.blas): Using NumPy C-API based implementation for BLAS functions.\n"
     ]
    },
    {
     "name": "stdout",
     "output_type": "stream",
     "text": [
      "Using PyMC3 version: 3.9.3\n",
      "Using ArviZ version: 0.9.0\n"
     ]
    }
   ],
   "source": [
    "import random\n",
    "from datetime import datetime as dt\n",
    "\n",
    "import arviz as az\n",
    "import matplotlib.pyplot as plt\n",
    "import numpy as np\n",
    "import pandas as pd\n",
    "import pymc3 as pm\n",
    "from scipy.special import expit\n",
    "\n",
    "%matplotlib inline\n",
    "\n",
    "print(f\"Using PyMC3 version: {pm.__version__}\")\n",
    "print(f\"Using ArviZ version: {az.__version__}\")"
   ]
  },
  {
   "cell_type": "code",
   "execution_count": 2,
   "metadata": {},
   "outputs": [],
   "source": [
    "# Ignore a common pymc3 warning that comes from library functions, not our code.\n",
    "# Pymc3 may throw additional warnings, but other warnings should be manageable\n",
    "# by following the instructions included within the warning messages.\n",
    "import warnings\n",
    "\n",
    "messages=[\n",
    "    \"Using `from_pymc3` without the model will be deprecated in a future release\",\n",
    "]\n",
    "\n",
    "for m in messages:\n",
    "    warnings.filterwarnings(\"ignore\", message=m)\n"
   ]
  },
  {
   "cell_type": "markdown",
   "metadata": {},
   "source": [
    "<a id=\"contents\"></a>\n",
    "\n",
    "## Notebook Contents\n",
    "\n",
    "- [**Part A: Rejection sampling and the weighted bootstrap**](#part1)\n",
    "  - [Overview](#part1intro)\n",
    "  - [Questions](#part1questions)\n",
    "  - [Solutions](#part1solutions)\n",
    "\n",
    "\n",
    "- [**Part B: Bayesian Logistic Regression and Varying-Intercepts Model**](#part2)\n",
    "  - [Overview](#part2intro)\n",
    "  - [Questions](#part2questions)\n",
    "  - [Solutions](#part2solutions)\n",
    "\n",
    "\n",
    "- [**Part C: Varying-Coefficients Model and Model Selection**](#part3)\n",
    "  - [Overview](#part3intro)\n",
    "  - [Questions](#part3questions)\n",
    "  - [Solutions](#part3solutions)\n"
   ]
  },
  {
   "cell_type": "markdown",
   "metadata": {},
   "source": [
    "## Dataset Information"
   ]
  },
  {
   "cell_type": "markdown",
   "metadata": {},
   "source": [
    "### Contraceptive Usage by Bangladeshi Women\n",
    "\n",
    "For this assignment, you are provided with data sets `dataset_2_train.csv` and `dataset_2_test.csv`containing details of contraceptive usage by 1,934 Bangladeshi women.\n",
    "\n",
    "There are four attributes for each woman, along with a label `contraceptive_use` indicating if she uses contraceptives. The attributes include:\n",
    "\n",
    "* `district`: identifying code for the district the woman lives in\n",
    "* `urban`: type of region of residence\n",
    "* `living.children`: number of living children\n",
    "* `age-mean`: age of the woman (in years, centered around mean)\n",
    "\n",
    "The women are grouped into 60 districts. The task is to build a classification model that can predict if a given woman uses contraceptives.\n"
   ]
  },
  {
   "cell_type": "markdown",
   "metadata": {},
   "source": [
    "<a id=\"part1\"></a>\n",
    "    \n",
    "<!-- <div class=\"alert alert-block alert-danger\" style=\"color:black;background-color:#E7F4FA\"> -->\n",
    "\n",
    "# Part A:  Rejection sampling and the weighted bootstrap\n",
    "\n",
    "[Return to contents](#contents)"
   ]
  },
  {
   "cell_type": "markdown",
   "metadata": {},
   "source": [
    "<a id=\"part1intro\"></a>\n",
    "\n",
    "## Overview \n",
    "\n",
    "[Return to contents](#contents)\n",
    "\n",
    "For the first part of the problem, we will only work with the label `contraceptive_use` and ignore all the attributes.  Let $Y_i$ be 1 if woman $i$ uses contraceptives, and 0 otherwise.  Assume a Bernoulli model for the data:\n",
    "\n",
    "$$Y_{i} \\sim \\text{Bernoulli}(\\theta)$$\n",
    "\n",
    "where $i=1,\\ldots,N$, with $N$ being the number of observations in the training data set, and $\\theta$ is the unknown probability a woman uses contraception.  We will assume the following prior distribution on $\\theta$:\n",
    "\n",
    "$$\\theta \\sim \\text{Normal}(0.5, 0.5^2)$$\n",
    "\n",
    "subject to $0 \\leq \\theta \\leq 1$.  This is sometimes called a truncated normal distribution.  A value from this distribution can be randomly drawn by simulating a value from $\\text{Normal}(0.5, 0.5^2)$ and then keeping it if the value is between 0 and 1, and trying again if it is outside this range.  In fact, this is a form of rejection sampling.  The density for the truncated normal distribution is\n",
    "\n",
    "$$p(\\theta) = c\\times\\frac{1}{\\sqrt{2\\pi (0.5)^2}} \\: \\exp\\left(\\frac{-1}{2(0.5)^2}(\\theta-0.5)^2\\right) \\; \\text{for} \\; 0\\leq \\theta \\leq 1 \\; \\text{, and} \\; 0 \\; \\text{otherwise,}$$\n",
    "\n",
    "where $c$ is a normalizing constant that does not depend on $\\theta$."
   ]
  },
  {
   "cell_type": "markdown",
   "metadata": {},
   "source": [
    "<a id=\"part1questions\"></a>\n",
    "\n",
    "### <div class='exercise'>Part A: Questions</div> \n",
    "\n",
    "[Return to contents](#contents)\n",
    "\n",
    "<a id=\"qA1\"></a>\n",
    "\n",
    "**[A1](#sA1)** \n",
    "\n",
    "Given the training data, what is the likelihood function $L(\\theta | y_1,\\ldots,y_n)$?  What is the MLE of $\\theta$ as a function of the $y_1,\\ldots,y_n$?  Compute the MLE from the data.\n",
    "\n",
    "<a id=\"qA2\"></a>\n",
    "\n",
    "**[A2](#sA2)**\n",
    "\n",
    "Using rejection sampling, simulate a sample of 10,000 accepted values $\\theta$ from the posterior distribution.  Plot a histogram of these values, and provide numerical summaries of the distribution of the 10,000 values.  Interpret your findings.\n",
    "\n",
    "<a id=\"qA3\"></a>\n",
    "\n",
    "**[A3](#sA3)**\n",
    "\n",
    "Carry out the weighted bootstrap to simulate 1,000 values of $\\theta$ from the posterior distribution.  In doing so, simulate 10,000 values from the prior distribution to use as the discrete distribution from which the posterior draws will be simulated via the importance weights.  As above, plot a histogram of these values, and provide numerical summaries of the distribution of 1,000 values.  Interpret the results, and compare to the results of rejection sampling.\n"
   ]
  },
  {
   "cell_type": "markdown",
   "metadata": {},
   "source": [
    "<a id=\"part1solutions\"></a>\n",
    "\n",
    "## Part A: Solutions\n",
    "\n",
    "[Return to contents](#contents)"
   ]
  },
  {
   "cell_type": "markdown",
   "metadata": {},
   "source": [
    "<a id=\"sA1\"></a>\n",
    "<div class='exercise-r'>  \n",
    "\n",
    "**[A1](#qA1)**\n",
    "    \n",
    "</div>\n",
    "\n",
    "Given the training data, what is the likelihood function $L(\\theta | y_1,\\ldots,y_n)$?  What is the MLE of $\\theta$ as a function of the $y_1,\\ldots,y_n$?  Compute the MLE from the data."
   ]
  },
  {
   "cell_type": "markdown",
   "metadata": {},
   "source": [
    "**DERIVATIONS AND INTERPRETATION:**"
   ]
  },
  {
   "cell_type": "markdown",
   "metadata": {},
   "source": [
    "In a general setting, assuming that the observations are i. id, the likelihood \n",
    "$$L(\\theta | y_1,\\ldots,y_n) = \\prod_{i=1}^n{p(y_i|\\theta)}$$\n",
    "In this Bernoulli setting, we have:\n",
    "$$\n",
    "p(y_i|\\theta) = \\theta^{y_i}(1-\\theta)^{1-y_i}\n",
    "$$\n",
    "Therefore, the expression of the likelihood is:\n",
    "$$\n",
    "L(\\theta | y_1,\\ldots,y_n) = \\theta^{\\sum_{i=1}^ny_i}(1-\\theta)^{n-\\sum_{i=1}^ny_i}\n",
    "$$\n",
    "In order to find the MLE, we will study the log-likelihood. Indeed, since log is strctly increasing, the **position** of the maximum of the likelihood is the same as the **position** of the log-likelihood.\n",
    "\n",
    "$$\n",
    "log(L(\\theta | y_1,\\ldots,y_n)) = \\mathcal{L}(\\theta) = \\sum_{i=1}^ny_ilog(\\theta) + (n-\\sum_{i=1}^ny_i)log(1-\\theta)\n",
    "$$\n",
    "In order to find the parameter $\\theta$, we need to solve the optimization problem:\n",
    "$$\n",
    "\\theta^{MLE} = argmax_{\\theta \\in [0;1]}\\mathcal{L}(\\theta)\n",
    "$$\n",
    "\n",
    "Let us now resolve the free-optimization problem (ie unconstrained) and check whether the optimal parameter found verify the constraints. In order to solve the free optimization problem, we will leverage first-order and second-order methods. \n",
    "\n",
    "$$\n",
    "\\nabla \\mathcal{L} = \\frac{\\sum_{i=1}^ny_i}{\\theta} - \\frac{n-\\sum_{i=1}^ny_i}{1-\\theta} = 0 \\iff (1-\\theta)(\\sum_{i=1}^ny_i) - \\theta(n-\\sum_{i=1}^ny_i) = 0 \\iff \\theta = \\frac{\\sum_{i=1}^ny_i}{n} \n",
    "$$\n",
    "Let us check that $\\sum_{i=1}^ny_i \\leq \\sum_{i=1}^ny_i \\leq n : 0 \\leq \\frac{\\sum_{i=1}^ny_i}{n} \\leq 1$ \n",
    "\n",
    "Last, $\\nabla^2 \\mathcal{L}(\\theta) < 0 \\quad \\forall \\theta \\in [0; 1]$: this is a global optimum. \n",
    "\n",
    "Conclusion : $\\theta^{MLE} = \\frac{\\sum_{i=1}^ny_i}{n}$"
   ]
  },
  {
   "cell_type": "code",
   "execution_count": 3,
   "metadata": {},
   "outputs": [
    {
     "name": "stdout",
     "output_type": "stream",
     "text": [
      "The MLE of the Bernoulli Parameter is  0.38986556359875907\n"
     ]
    }
   ],
   "source": [
    "# your code here\n",
    "data = pd.read_csv('data/dataset_2_train.csv')\n",
    "y = data.contraceptive_use\n",
    "MLE = np.mean(y)\n",
    "print('The MLE of the Bernoulli Parameter is ', MLE)"
   ]
  },
  {
   "cell_type": "markdown",
   "metadata": {},
   "source": [
    "<a id=\"sA2\"></a>\n",
    "<div class='exercise-r'>  \n",
    "\n",
    "**[A2](#qA2)**\n",
    "\n",
    "</div>\n",
    "\n",
    "Using rejection sampling, simulate a sample of 10,000 accepted values $\\theta$ from the posterior distribution.  Plot a histogram of these values, and provide numerical summaries of the distribution of the 10,000 values.  Interpret your findings."
   ]
  },
  {
   "cell_type": "markdown",
   "metadata": {},
   "source": [
    "In rejection sampling, we sample from the posterior thanks to a closed-form distribution from which we can sample. The condition is that this closed-form distribution verifies **posterior = $O$(proposal distribution).** \n",
    "\n",
    "What is convenient when studying the posterior of a Bayesian Model is that we specify the prior, with a closed-form distribution, so we know how to sample from it. Since $p(\\theta | y) = L(y|\\theta)*p(\\theta)$, we have $\\frac{p(\\theta | y)}{p(\\theta)} \\leq M =  L(y|\\theta^{MLE})$.\n",
    "\n",
    "Therefore, the rejection sampling is **tractable** with the prior as a proposal distribution."
   ]
  },
  {
   "cell_type": "markdown",
   "metadata": {},
   "source": [
    "#### Sampling the posterior through Rejection sampling "
   ]
  },
  {
   "cell_type": "code",
   "execution_count": 63,
   "metadata": {},
   "outputs": [],
   "source": [
    "def sampling_prior(size=1):\n",
    "    while True:\n",
    "        theta = np.random.normal(loc=0.5, scale=0.5, size=size)\n",
    "        if 0 <= theta and theta <= 1:\n",
    "            return theta"
   ]
  },
  {
   "cell_type": "code",
   "execution_count": 22,
   "metadata": {},
   "outputs": [],
   "source": [
    "def bernoulli_likelihood(theta, y):\n",
    "    s = np.sum(y)\n",
    "    n = len(y)\n",
    "    return theta**s*(1-theta)**(n-s)"
   ]
  },
  {
   "cell_type": "code",
   "execution_count": 23,
   "metadata": {},
   "outputs": [],
   "source": [
    "M = bernoulli_likelihood(MLE, y)"
   ]
  },
  {
   "cell_type": "code",
   "execution_count": 24,
   "metadata": {},
   "outputs": [],
   "source": [
    "# your code here\n",
    "def rejection_proposal(sampler_proposal, likelihood, M, y):\n",
    "    \"\"\"This function implements one step fo rejection sampling, using the prior distribution as a proposal distribution. \n",
    "    Sampler_proposal and likelihood are functions defined.\"\"\"\n",
    "    theta_proposal = sampler_proposal()\n",
    "    quotient = likelihood(theta_proposal, y)\n",
    "    height_acceptance = M*np.random.uniform()\n",
    "    if quotient <= height_acceptance:\n",
    "        return theta_proposal\n",
    "    else:\n",
    "        return None"
   ]
  },
  {
   "cell_type": "code",
   "execution_count": 43,
   "metadata": {},
   "outputs": [],
   "source": [
    "posterior_samples = []\n",
    "count = 0\n",
    "while len(posterior_samples) < 10000:\n",
    "    theta_rejection_sampling = rejection_proposal(sampling_prior, bernoulli_likelihood, M, y)\n",
    "    if theta_rejection_sampling is not None:\n",
    "        posterior_samples.append(theta_rejection_sampling)\n",
    "    count +=1\n",
    "acceptance_rate = 10000/count"
   ]
  },
  {
   "cell_type": "code",
   "execution_count": 47,
   "metadata": {},
   "outputs": [
    {
     "data": {
      "image/png": "[encoded data removed]",
      "text/plain": [
       "<Figure size 1080x720 with 1 Axes>"
      ]
     },
     "metadata": {
      "needs_background": "light"
     },
     "output_type": "display_data"
    }
   ],
   "source": [
    "fig, ax = plt.subplots(1, figsize =(15, 10))\n",
    "ax.hist(posterior_samples, bins=100, color='lightcoral')\n",
    "plt.title('Histogram of the posterior distribution, sampled thanks to 10000 rejection sampling steps, with an acceptance rate of ' + str(np.round(acceptance_rate, 3)))\n",
    "ax.set_xlabel('Theta Posterior')\n",
    "ax.set_ylabel('Histogram of the posterior distribution')\n",
    "plt.show(fig)"
   ]
  },
  {
   "cell_type": "markdown",
   "metadata": {},
   "source": [
    "#### Numerical Summaries of the distribution"
   ]
  },
  {
   "cell_type": "code",
   "execution_count": 58,
   "metadata": {},
   "outputs": [
    {
     "name": "stdout",
     "output_type": "stream",
     "text": [
      "The posterior mean is  0.5035941086233141\n",
      "The posterior 95% percentiles are  [0.03147366 0.96693159]\n",
      "The Mode of the posterior Distribution is  [0.4997]\n"
     ]
    }
   ],
   "source": [
    "import scipy\n",
    "\n",
    "Mean = np.mean(posterior_samples)\n",
    "Percentiles = np.percentile(posterior_samples, [2.5, 97.5])\n",
    "Mode = scipy.stats.mode(np.round(posterior_samples, 4))\n",
    "\n",
    "print('The posterior mean is ', Mean)\n",
    "print('The posterior 95% percentiles are ', Percentiles)\n",
    "print('The Mode of the posterior Distribution is ', Mode[0])"
   ]
  },
  {
   "cell_type": "markdown",
   "metadata": {},
   "source": [
    "We can see that it is easy to summary the posterior distribution with numerical quantities. The only 'open-ended' question is how to numerically the mode of a distribution:\n",
    "- We could visually determine it, in that case we would discover that the posterior is bi-modal\n",
    "- Compute it, and therefore locate the biggest mode in the posterior distribution"
   ]
  },
  {
   "cell_type": "markdown",
   "metadata": {},
   "source": [
    "**INTERPRETATION:**"
   ]
  },
  {
   "cell_type": "markdown",
   "metadata": {},
   "source": [
    "*Your answer here*\n",
    "We have found samples for the posterior distribution that allowed us to create a histogram of it. Furthermore, we have computed 95% **credible** intervals for the parameter $\\theta$. \n",
    "Several things need to be pointed out:\n",
    "- The **acceptance rate** of the rejection sampling procedure: very close to 1. This should point out to the fact that the likelihood is quite constant accross the entire domain [0; 1]. Let us check this by studying **Variations of the likelihood**.\n",
    "    Since the likelihood is strictly concave, the derivative is non-increasing, meaning that it is initially positive then negative. This means that the original function is increasing and then decreasing. Therefore, the maximum variation is obtained when computing $max(L(\\theta^{MLE})-L(0), L(\\theta^{MLE})-L(1))$. We realise that this value is low, which explains the low variation in the likelihood function, which explains why the acceptance rate is that high\n",
    "\n",
    "- The Bimodality of the posterior: We realize that the posterior is bimodal. \n",
    "\n",
    "- Credible Intervals for the posterior: we can se that the credible intervals are very wide, meaning that we do not have that much information in oru posterior (we knew that $\\theta$ was in [0; 1], now we can affirm with 95% certainty that it is in [0.03147366; 0.96693159], and all the values in this interval seem **fairly distributed**.\n"
   ]
  },
  {
   "cell_type": "markdown",
   "metadata": {},
   "source": [
    "<a id=\"sA3\"></a>\n",
    "<div class='exercise-r'>  \n",
    "\n",
    "**[A3](#qA3)**\n",
    "\n",
    "</div>\n",
    "\n",
    "Carry out the weighted bootstrap to simulate 1,000 values of $\\theta$ from the posterior distribution.  In doing so, simulate 10,000 values from the prior distribution to use as the discrete distribution from which the posterior draws will be simulated via the importance weights.  As above, plot a histogram of these values, and provide numerical summaries of the distribution of 1,000 values.  Interpret the results, and compare to the results of rejection sampling."
   ]
  },
  {
   "cell_type": "code",
   "execution_count": null,
   "metadata": {},
   "outputs": [],
   "source": [
    "# your code here\n",
    "posterior_IS = []\n",
    "while len(posterior_IS) < 1000:\n",
    "    thetas_sampled = []\n",
    "    while len(thetas_sampled) < 10000:\n",
    "        theta_sampled = sampling_prior()\n",
    "        if theta_sampled is not None:\n",
    "            thetas_sampled.append(theta_sampled)\n",
    "    thetas_sampled = np.array(thetas_sampled).reshape(10000,)\n",
    "    importance_weight = bernoulli_likelihood(thetas_sampled, y)\n",
    "    q = importance_weight/np.sum(importance_weight)\n",
    "    theta_IS = np.random.choice(a=thetas_sampled, p=q)"
   ]
  },
  {
   "cell_type": "code",
   "execution_count": null,
   "metadata": {},
   "outputs": [],
   "source": [
    "fig, ax = plt.subplots(1, figsize =(15, 10))\n",
    "ax.hist(posterior_IS, bins=100, color='lightblue')\n",
    "plt.title('Histogram of the posterior distribution, sampled thanks to 1000 Importance sampling steps, created with 10000 prior distribution steps')\n",
    "ax.set_xlabel('Theta Posterior')\n",
    "ax.set_ylabel('Histogram of the posterior distribution')\n",
    "plt.show(fig)"
   ]
  },
  {
   "cell_type": "code",
   "execution_count": null,
   "metadata": {},
   "outputs": [],
   "source": [
    "Mean = np.mean(posterior_IS)\n",
    "Percentiles = np.percentile(posterior_IS, [2.5, 97.5])\n",
    "Mode = scipy.stats.mode(np.round(posterior_IS, 4))\n",
    "\n",
    "print('The posterior mean is ', Mean)\n",
    "print('The posterior 95% percentiles are ', Percentiles)\n",
    "print('The Mode of the posterior Distribution is ', Mode[0])"
   ]
  },
  {
   "cell_type": "markdown",
   "metadata": {},
   "source": [
    "**INTERPRETATION:**"
   ]
  },
  {
   "cell_type": "markdown",
   "metadata": {},
   "source": [
    "*Your answer here*\n"
   ]
  },
  {
   "cell_type": "markdown",
   "metadata": {},
   "source": [
    "<a id=\"part2\"></a>\n",
    "    \n",
    "<!-- <div class=\"alert alert-block alert-danger\" style=\"color:black;background-color:#E7F4FA\"> -->\n",
    "\n",
    "# Part B: Bayesian Logistic Regression and Varying-Intercepts Model\n",
    "\n",
    "[Return to contents](#contents)\n",
    "\n"
   ]
  },
  {
   "cell_type": "markdown",
   "metadata": {},
   "source": [
    "<a id=\"part2intro\"></a>\n",
    "\n",
    "## Overview \n",
    "\n",
    "[Return to contents](#contents)\n",
    "\n",
    "The second model we will fit to the contraceptives data is a varying-intercept logistic regression model, where the intercept varies by district.\n",
    "\n",
    "Prior distribution:\n",
    "\n",
    "$$\n",
    "\\begin{split}\n",
    "\\beta_{0j} &\\sim N(\\mu_0,\\sigma_0^2)\\; \\text{, with} \\;\\; \\mu_0 \\sim N(0,10000)\\; \\text{and} \\; \\; \\frac{1}{\\sigma^2_0} \\sim \\text{Gamma}(0.1,0.1)\n",
    "\\\\\n",
    "\\beta_1 &\\sim N(0,10000) \n",
    "\\\\ \\\\ \n",
    "\\beta_2 &\\sim N(0,10000)\n",
    "\\\\ \\\\ \n",
    "\\beta_3 &\\sim N(0,10000)\n",
    "\\\\ \\\\\n",
    "\\end{split}\n",
    "$$\n",
    "\n",
    "Model for data:\n",
    "\n",
    "$$\n",
    "\\begin{split}\n",
    "Y_{ij} & \\sim \\text{Bernoulli}(p_{ij})\n",
    "\\\\ \\\\\n",
    "\\text{logit}\\:p_{ij} &= \\beta_{0j} + \\beta_1 \\times \\text{urban} + \\beta_2 \\times \\text{living.children} + \\beta_3 \\times \\text{age-mean}\n",
    "\\\\ \\\\\n",
    "\\end{split}\n",
    "$$\n",
    "\n",
    "Where $Y_{ij}$ is 1 if woman $i$ in district $j$ uses contraceptives, and 0 otherwise, and where $i \\in \\{1,...,N\\}$ and $j \\in \\{1,...,J\\}$. $N$ is the number of observations in the data, and $J$ is the number of districts. The above notation assumes $N(\\mu, \\sigma^2)$ is a Normal distribution with mean $\\mu$ and variance $\\sigma^2$.\n",
    "\n",
    "**PLEASE NOTE:** The $\\text{Gamma}$ distribution cited above, uses the $\\text{Gamma}(\\alpha, \\beta)$ parametrization, where $\\alpha$ is the shape and $\\beta$ is the rate.  "
   ]
  },
  {
   "cell_type": "markdown",
   "metadata": {},
   "source": [
    "<a id=\"part2questions\"></a>\n",
    "\n",
    "### <div class='exercise'>Part B: Questions</div> \n",
    "\n",
    "[Return to contents](#contents)\n",
    "\n",
    "\n",
    "<a id=\"qB1\"></a>\n",
    "\n",
    "**[B1](#sB1)** \n",
    "\n",
    "As a preprocessing step, map the district number 61 to the number 54 so that the districts are in order. Also, re-name district 60 to be district 0 so that the districts are numbered 0 through 59. **We use this numbering throughout the homework, and will grade using these district numbers**\n",
    "\n",
    "<a id=\"qB2\"></a>\n",
    "\n",
    "**[B2](#sB2)**\n",
    "\n",
    "First, we'll verify that pymc3 can recover the hidden parameter values. To do so, we'll hard-code known values and simulate data from the model, then using that data we'll check if pymc3 can get back the parameters we hard-coded. If it does, we'll have hope that it can get the hidden parameter values that generated the real data.\n",
    "\n",
    "Use the following hard-coded values:\n",
    "\n",
    "$$\n",
    "\\begin{split}\n",
    "\\mu_0 &= 2\n",
    "\\\\ \\\\\n",
    "\\sigma^2_0 &= 1\n",
    "\\\\ \\\\\n",
    "\\beta_{0j} &\\sim N(\\mu_0,\\sigma_0^2) \\; \\text{for all sixty districts}\n",
    "\\\\ \\\\\n",
    "\\beta_1 &= 4\n",
    "\\\\ \\\\ \n",
    "\\beta_2 &= -3\n",
    "\\\\ \\\\\n",
    "\\beta_3 &= -2\n",
    "\\\\ \\\\\n",
    "\\end{split}\n",
    "$$\n",
    "\n",
    "**Verify that these parameters give an overall average of 46 to 48 percent of subjects using contraceptives**\n",
    "\n",
    "<a id=\"qB3\"></a>\n",
    "\n",
    "**[B3](#sB3)**\n",
    "\n",
    "Fit the varying-intercept model specified above to your simulated data. Reasonably good convergence may require adjustments to the number of tuning samples and the target acceptance rate as suggested in pymc3's warnings.\n",
    "\n",
    "<a id=\"qB4\"></a>\n",
    "\n",
    "**[B4](#sB4)** \n",
    "\n",
    "Plot the trace plots of the MCMC sampler for the parameters $\\mu_0, \\frac{1}{\\sigma^2_0}\\text{ (a.k.a., }\\tau_0\\text{)}, \\beta_1, \\beta_2, \\beta_3$. Based on these and the R-hat values, does it look like the samplers converged?\n",
    "\n",
    "<a id=\"qB5\"></a>\n",
    "\n",
    "**[B5](#sB5)**\n",
    "\n",
    "Plot histograms of the posterior distributions for the parameters $\\beta_{0,9}$, $\\beta_{0,19}$, $\\beta_{0,29}$, ..., $\\beta_{0,59}$. Are the actual parameters that you generated contained within these posterior distributions? \n",
    "\n",
    "<a id=\"qB6\"></a>\n",
    "\n",
    "**[B6](#sB6)**\n",
    "\n",
    "We now fit our model to the actual data. Fit the varying-intercept model to the real training data.\n",
    "\n",
    "<a id=\"qB7\"></a>\n",
    "\n",
    "**[B7](#sB7)** \n",
    "\n",
    "Check the convergence by examining the trace plots and R-hats, as you did with the simulated data. What do you observe?\n",
    "\n",
    "<a id=\"qB8\"></a>\n",
    "\n",
    "**[B8](#sB8)**\n",
    "\n",
    "Based on the posterior means, which district has the highest base rate of contraceptive usage (independent of other factors like urban population)? Which district has the lowest?\n",
    "\n",
    "<a id=\"qB9\"></a>\n",
    "\n",
    "**[B9](#sB9)**\n",
    "\n",
    "What are the posterior means of $\\mu_0$ and $\\sigma_0$? Do these values offer any evidence in support of or against the varying-intercept model, compared to a model with a single intercept value for all districts?"
   ]
  },
  {
   "cell_type": "markdown",
   "metadata": {},
   "source": [
    "<a id=\"part2solutions\"></a>\n",
    "\n",
    "## Part B: Solutions\n",
    "\n",
    "[Return to contents](#contents)"
   ]
  },
  {
   "cell_type": "markdown",
   "metadata": {},
   "source": [
    "<a id=\"sB1\"></a>\n",
    "<div class='exercise-r'>  \n",
    "\n",
    "**[B1](#qB1)**\n",
    "    \n",
    "</div>\n",
    "\n",
    "As a preprocessing step, map the district number 61 to the number 54 so that the districts are in order. Also, re-name district 60 to be district 0 so that the districts are numbered 0 through 59. **We use this numbering throughout the homework, and will grade using these district numbers**"
   ]
  },
  {
   "cell_type": "code",
   "execution_count": null,
   "metadata": {},
   "outputs": [],
   "source": [
    "# your code here\n",
    "data"
   ]
  },
  {
   "cell_type": "markdown",
   "metadata": {},
   "source": [
    "<a id=\"sB2\"></a>\n",
    "<div class='exercise-r'>  \n",
    "\n",
    "**[B2](#qB2)**\n",
    "    \n",
    "</div>\n",
    "\n",
    "First, we'll verify that pymc3 can recover the hidden parameter values. To do so, we'll hard-code known values and simulate data from the model, then using that data we'll check if pymc3 can get back the parameters we hard-coded. If it does, we'll have hope that it can get the hidden parameter values that generated the real data.\n",
    "\n",
    "Use the following hard-coded values:\n",
    "\n",
    "$$\n",
    "\\begin{split}\n",
    "\\mu_0 &= 2\n",
    "\\\\ \\\\\n",
    "\\sigma^2_0 &= 1\n",
    "\\\\ \\\\\n",
    "\\beta_{0j} &\\sim N(\\mu_0,\\sigma_0^2) \\; \\text{for all sixty districts}\n",
    "\\\\ \\\\\n",
    "\\beta_1 &= 4\n",
    "\\\\ \\\\ \n",
    "\\beta_2 &= -3\n",
    "\\\\ \\\\\n",
    "\\beta_3 &= -2\n",
    "\\\\ \\\\\n",
    "\\end{split}\n",
    "$$\n",
    "\n",
    "**Verify that these parameters give an overall average of 46 to 48 percent of subjects using contraceptives**"
   ]
  },
  {
   "cell_type": "code",
   "execution_count": null,
   "metadata": {},
   "outputs": [],
   "source": [
    "# your code here\n"
   ]
  },
  {
   "cell_type": "markdown",
   "metadata": {},
   "source": [
    "<a id=\"sB3\"></a>\n",
    "<div class='exercise-r'>  \n",
    "\n",
    "**[B3](#qB3)**\n",
    "    \n",
    "</div>\n",
    "\n",
    "Fit the varying-intercept model specified above to your simulated data. Reasonably good convergence may require adjustments to the number of tuning samples and the target acceptance rate as suggested in pymc3's warnings."
   ]
  },
  {
   "cell_type": "code",
   "execution_count": null,
   "metadata": {},
   "outputs": [],
   "source": [
    "# your code here\n"
   ]
  },
  {
   "cell_type": "markdown",
   "metadata": {},
   "source": [
    "<a id=\"sB4\"></a>\n",
    "<div class='exercise-r'>  \n",
    "\n",
    "**[B4](#qB4)**\n",
    "    \n",
    "</div>\n",
    "\n",
    "Plot the trace plots of the MCMC sampler for the parameters $\\mu_0, \\frac{1}{\\sigma^2_0}\\text{ (a.k.a., }\\tau_0\\text{)}, \\beta_1, \\beta_2, \\beta_3$. Based on these and the R-hat values, does it look like the samplers converged?"
   ]
  },
  {
   "cell_type": "code",
   "execution_count": null,
   "metadata": {},
   "outputs": [],
   "source": [
    "# your code here\n"
   ]
  },
  {
   "cell_type": "markdown",
   "metadata": {},
   "source": [
    "**INTERPRETATION:**"
   ]
  },
  {
   "cell_type": "markdown",
   "metadata": {},
   "source": [
    "*Your answer here*\n"
   ]
  },
  {
   "cell_type": "markdown",
   "metadata": {},
   "source": [
    "<a id=\"sB5\"></a>\n",
    "<div class='exercise-r'>  \n",
    "\n",
    "**[B5](#qB5)**\n",
    "    \n",
    "</div>\n",
    "\n",
    "Plot histograms of the posterior distributions for the parameters $\\beta_{0,9}$, $\\beta_{0,19}$, $\\beta_{0,29}$, ..., $\\beta_{0,59}$. Are the actual parameters that you generated contained within these posterior distributions? "
   ]
  },
  {
   "cell_type": "code",
   "execution_count": null,
   "metadata": {},
   "outputs": [],
   "source": [
    "# your code here\n"
   ]
  },
  {
   "cell_type": "markdown",
   "metadata": {},
   "source": [
    "**INTERPRETATION:**"
   ]
  },
  {
   "cell_type": "markdown",
   "metadata": {},
   "source": [
    "*Your answer here*\n"
   ]
  },
  {
   "cell_type": "markdown",
   "metadata": {},
   "source": [
    "<a id=\"sB6\"></a>\n",
    "<div class='exercise-r'>  \n",
    "\n",
    "**[B6](#qB6)**\n",
    "    \n",
    "</div>\n",
    "\n",
    "We now fit our model to the actual data. Fit the varying-intercept model to the real training data."
   ]
  },
  {
   "cell_type": "code",
   "execution_count": null,
   "metadata": {},
   "outputs": [],
   "source": [
    "# your code here\n"
   ]
  },
  {
   "cell_type": "markdown",
   "metadata": {},
   "source": [
    "<a id=\"sB7\"></a>\n",
    "<div class='exercise-r'>  \n",
    "\n",
    "**[B7](#qB7)**\n",
    "    \n",
    "</div>\n",
    "\n",
    "Check the convergence by examining the trace plots and R-hats, as you did with the simulated data. What do you observe?"
   ]
  },
  {
   "cell_type": "code",
   "execution_count": null,
   "metadata": {},
   "outputs": [],
   "source": [
    "# your code here\n"
   ]
  },
  {
   "cell_type": "markdown",
   "metadata": {},
   "source": [
    "**INTERPRETATION:**"
   ]
  },
  {
   "cell_type": "markdown",
   "metadata": {},
   "source": [
    "*Your answer here*\n"
   ]
  },
  {
   "cell_type": "markdown",
   "metadata": {},
   "source": [
    "<a id=\"sB8\"></a>\n",
    "<div class='exercise-r'>  \n",
    "\n",
    "**[B8](#qB8)**\n",
    "    \n",
    "</div>\n",
    "\n",
    "Based on the posterior means, which district has the highest base rate of contraceptive usage (independent of other factors like urban population)? Which district has the lowest?"
   ]
  },
  {
   "cell_type": "code",
   "execution_count": null,
   "metadata": {},
   "outputs": [],
   "source": [
    "# your code here\n"
   ]
  },
  {
   "cell_type": "markdown",
   "metadata": {},
   "source": [
    "**INTERPRETATION:**"
   ]
  },
  {
   "cell_type": "markdown",
   "metadata": {},
   "source": [
    "*Your answer here*\n"
   ]
  },
  {
   "cell_type": "markdown",
   "metadata": {},
   "source": [
    "<a id=\"sB9\"></a>\n",
    "<div class='exercise-r'>  \n",
    "\n",
    "**[B9](#qB9)**\n",
    "    \n",
    "</div>\n",
    "\n",
    "What are the posterior means of $\\mu_0$ and $\\sigma_0$? Do these values offer any evidence in support of or against the varying-intercept model, compared to a model with a single intercept value for all districts?"
   ]
  },
  {
   "cell_type": "code",
   "execution_count": null,
   "metadata": {},
   "outputs": [],
   "source": [
    "# your code here\n"
   ]
  },
  {
   "cell_type": "markdown",
   "metadata": {},
   "source": [
    "**INTERPRETATION:**"
   ]
  },
  {
   "cell_type": "markdown",
   "metadata": {},
   "source": [
    "*Your answer here*\n"
   ]
  },
  {
   "cell_type": "markdown",
   "metadata": {},
   "source": [
    "<a id=\"part3\"></a>\n",
    "    \n",
    "<!-- <div class=\"alert alert-block alert-danger\" style=\"color:black;background-color:#E7F4FA\"> -->\n",
    "\n",
    "# Part C: Varying-Coefficients Model and Model Selection\n",
    "\n",
    "[Return to contents](#contents)\n"
   ]
  },
  {
   "cell_type": "markdown",
   "metadata": {},
   "source": [
    "<a id=\"part3intro\"></a>\n",
    "\n",
    "## Overview \n",
    "\n",
    "[Return to contents](#contents)\n",
    "\n",
    "The next model we will fit to the contraceptives data is a varying-coefficients logistic regression model, where the coefficients on living.children, age-mean, and urban vary by district.\n",
    "\n",
    "Prior distribution:\n",
    "\n",
    "$$\n",
    "\\begin{split}\n",
    "\\beta_{0j} &\\sim N(\\mu_0,\\sigma_0^2)\\; \\text{, with} \\;\\; \\mu_0 \\sim N(0,10000)\\; \\text{and} \\; \\; \\frac{1}{\\sigma^2_0} \\sim \\text{Gamma}(0.1,0.1)\n",
    "\\\\\n",
    "\\beta_{1j} &\\sim N(0,\\sigma_1^2)\\; \\text{, with} \\;\\; \\frac{1}{\\sigma^2_1} \\sim \\text{Gamma}(0.1,0.1) \n",
    "\\\\\n",
    "\\beta_{2j} &\\sim N(0,\\sigma_2^2)\\; \\text{, with} \\;\\; \\frac{1}{\\sigma^2_2} \\sim \\text{Gamma}(0.1,0.1)\n",
    "\\\\ \n",
    "\\beta_{3j} &\\sim N(0,\\sigma_3^2)\\; \\text{, with} \\;\\; \\frac{1}{\\sigma^2_3} \\sim \\text{Gamma}(0.1,0.1)\n",
    "\\\\\n",
    "\\end{split}\n",
    "$$\n",
    "\n",
    "Model for data:\n",
    "\n",
    "$$\n",
    "\\begin{split}\n",
    "Y_{ij} &\\sim \\text{Bernoulli}(p_{ij})\n",
    "\\\\ \\\\\n",
    "\\text{logit}\\:p_{ij} &= \\beta_{0j} + \\beta_{1j} \\times \\text{urban} + \\beta_{2j} \\times \\text{living.children} + \\beta_{3j} \\times \\text{age-mean}\n",
    "\\\\ \\\\\n",
    "\\end{split}\n",
    "$$\n",
    "\n",
    "**PLEASE NOTE:** Once again, the $\\text{Gamma}$ distribution uses the $\\text{Gamma}(\\alpha, \\beta)$ parametrization, where $\\alpha$ is the shape and $\\beta$ is the rate. "
   ]
  },
  {
   "cell_type": "markdown",
   "metadata": {},
   "source": [
    "<a id=\"part3questions\"></a>\n",
    "\n",
    "### <div class='exercise'>Part C: Questions</div> \n",
    "\n",
    "[Return to contents](#contents)\n",
    "\n",
    "<a id=\"qC1\"></a>\n",
    "\n",
    "**[C1](#sC1)** \n",
    "\n",
    "Fit the varying-coefficients model described above to the real training data.\n",
    "\n",
    "<a id=\"qC2\"></a>\n",
    "\n",
    "**[C2](#sC2)** \n",
    "\n",
    "Check the convergence of your varying-coefficients model by examining the trace plots and R-hats, as you did with the prior varying-intercepts model. What do you observe?\n",
    "\n",
    "<a id=\"qC3\"></a>\n",
    "\n",
    "**[C3](#sC3)** \n",
    "\n",
    "Plot the distributions of posterior means and credible intervals for each predictor's coefficient by district. What do you conclude from these graphs?\n",
    "\n",
    "**HINT:** The ArviZ [`plot_forest()`](https://arviz-devs.github.io/arviz/api/generated/arviz.plot_forest.html) function is very well-suited for this task.\n",
    "\n",
    "<a id=\"qC4\"></a>\n",
    "\n",
    "**[C4](#sC4)** \n",
    "\n",
    "Use all of the information you've gleaned thus far to build Bayesian logistic regression classifiers for both your varying-intercepts model (from B7) and your varying-coefficients model (from C1). Then, use each model to make predictions on your training and test sets.\n",
    "\n",
    "  - Report each model's classification percentages and accuracy scores on both the training and test sets, as well as the trivial accuracy scores you would achieve with a \"naive\" model that predicts only the most frequent outcome observed in your training data.\n",
    "  \n",
    "  \n",
    "  - What do you observe from these results?\n",
    "  \n",
    "  \n",
    "  - Which model appears to be the best (i.e. varying-intercept or varying-coefficient), and what is your rationale?"
   ]
  },
  {
   "cell_type": "markdown",
   "metadata": {},
   "source": [
    "<a id=\"part3solutions\"></a>\n",
    "\n",
    "## Part C: Solutions\n",
    "\n",
    "[Return to contents](#contents)"
   ]
  },
  {
   "cell_type": "markdown",
   "metadata": {},
   "source": [
    "<a id=\"sC1\"></a>\n",
    "<div class='exercise-r'>  \n",
    "\n",
    "**[C1](#qC1)**\n",
    "    \n",
    "</div>\n",
    "\n",
    "Fit the varying-coefficients model described above to the real training data."
   ]
  },
  {
   "cell_type": "code",
   "execution_count": null,
   "metadata": {},
   "outputs": [],
   "source": [
    "# your code here\n"
   ]
  },
  {
   "cell_type": "markdown",
   "metadata": {},
   "source": [
    "<a id=\"sC2\"></a>\n",
    "<div class='exercise-r'>  \n",
    "\n",
    "**[C2](#qC2)**\n",
    "    \n",
    "</div>\n",
    "\n",
    "Check the convergence of your varying-coefficients model by examining the trace plots and R-hats, as you did with the prior varying-intercepts model. What do you observe?"
   ]
  },
  {
   "cell_type": "code",
   "execution_count": null,
   "metadata": {
    "scrolled": false
   },
   "outputs": [],
   "source": [
    "# your code here\n"
   ]
  },
  {
   "cell_type": "markdown",
   "metadata": {},
   "source": [
    "**INTERPRETATION:**"
   ]
  },
  {
   "cell_type": "markdown",
   "metadata": {},
   "source": [
    "*Your answer here*\n"
   ]
  },
  {
   "cell_type": "markdown",
   "metadata": {},
   "source": [
    "<a id=\"sC3\"></a>\n",
    "<div class='exercise-r'>  \n",
    "\n",
    "**[C3](#qC3)**\n",
    "    \n",
    "</div>\n",
    "\n",
    "Plot the distributions of posterior means and credible intervals for each predictor's coefficient by district. What do you conclude from these graphs?\n",
    "\n",
    "**HINT:** The ArviZ [`plot_forest()`](https://arviz-devs.github.io/arviz/api/generated/arviz.plot_forest.html) function is very well-suited for this task."
   ]
  },
  {
   "cell_type": "code",
   "execution_count": null,
   "metadata": {},
   "outputs": [],
   "source": [
    "# your code here\n"
   ]
  },
  {
   "cell_type": "markdown",
   "metadata": {},
   "source": [
    "**INTERPRETATION:**"
   ]
  },
  {
   "cell_type": "markdown",
   "metadata": {},
   "source": [
    "*Your answer here*\n"
   ]
  },
  {
   "cell_type": "markdown",
   "metadata": {},
   "source": [
    "<a id=\"sC4\"></a>\n",
    "<div class='exercise-r'>  \n",
    "\n",
    "**[C4](#qC4)**\n",
    "    \n",
    "</div>\n",
    "\n",
    "Use all of the information you've gleaned thus far to build Bayesian logistic regression classifiers for both your varying-intercepts model (from B7) and your varying-coefficients model (from C1). Then, use each model to make predictions on your training and test sets.\n",
    "\n",
    "  - Report each model's classification percentages (i.e. percentage of class `1` predictions) and accuracy scores on both the training and test sets, as well as the trivial accuracy scores you would achieve with a \"naive\" model that predicts only the most frequent outcome observed in your training data.\n",
    "  \n",
    "  \n",
    "  - What do you observe from these results?\n",
    "  \n",
    "  \n",
    "  - Which model appears to be the best (i.e. varying-intercept or varying-coefficient), and what is your rationale?"
   ]
  },
  {
   "cell_type": "code",
   "execution_count": null,
   "metadata": {},
   "outputs": [],
   "source": [
    "# your code here\n"
   ]
  },
  {
   "cell_type": "markdown",
   "metadata": {},
   "source": [
    "**INTERPRETATION:**"
   ]
  },
  {
   "cell_type": "markdown",
   "metadata": {},
   "source": [
    "*Your answer here*\n"
   ]
  },
  {
   "cell_type": "code",
   "execution_count": null,
   "metadata": {},
   "outputs": [],
   "source": []
  }
 ],
 "metadata": {
  "kernelspec": {
   "display_name": "Python 3",
   "language": "python",
   "name": "python3"
  },
  "language_info": {
   "codemirror_mode": {
    "name": "ipython",
    "version": 3
   },
   "file_extension": ".py",
   "mimetype": "text/x-python",
   "name": "python",
   "nbconvert_exporter": "python",
   "pygments_lexer": "ipython3",
   "version": "3.7.8"
  }
 },
 "nbformat": 4,
 "nbformat_minor": 4
}
