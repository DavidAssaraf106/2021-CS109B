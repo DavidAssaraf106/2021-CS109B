{
 "cells": [
  {
   "cell_type": "markdown",
   "metadata": {
    "id": "QmO29d4ux0Lq"
   },
   "source": [
    "# <img style=\"float: left; padding-right: 10px; width: 45px\" src=\"https://raw.githubusercontent.com/Harvard-IACS/2018-CS109A/master/content/styles/iacs.png\"> Data Science 2: Advanced Topics in Data Science \n",
    "## Homework 4: Convolutional Neural Networks\n",
    "\n",
    "\n",
    "**Harvard University**<br/>\n",
    "**Spring 2021**<br/>\n",
    "**Instructors**: Mark Glickman, Pavlos Protopapas, and Chris Tanner \n",
    "\n",
    "\n",
    "<hr style=\"height:2pt\">"
   ]
  },
  {
   "cell_type": "code",
   "execution_count": 1,
   "metadata": {
    "colab": {
     "base_uri": "https://localhost:8080/",
     "height": 17
    },
    "id": "TPTLfywkx0Lw",
    "outputId": "c2ea408b-93c1-428d-ce53-05cf88cad644"
   },
   "outputs": [
    {
     "data": {
      "text/html": [
       "<style>\n",
       "blockquote { background: #AEDE94; }\n",
       "h1 { \n",
       "    padding-top: 25px;\n",
       "    padding-bottom: 25px;\n",
       "    text-align: left; \n",
       "    padding-left: 10px;\n",
       "    background-color: #DDDDDD; \n",
       "    color: black;\n",
       "}\n",
       "h2 { \n",
       "    padding-top: 10px;\n",
       "    padding-bottom: 10px;\n",
       "    text-align: left; \n",
       "    padding-left: 5px;\n",
       "    background-color: #EEEEEE; \n",
       "    color: black;\n",
       "}\n",
       "\n",
       "div.exercise {\n",
       "\tbackground-color: #ffcccc;\n",
       "\tborder-color: #E9967A; \t\n",
       "\tborder-left: 5px solid #800080; \n",
       "\tpadding: 0.5em;\n",
       "}\n",
       "\n",
       "div.exercise-r {\n",
       "\tbackground-color: #fce8e8;\n",
       "\tborder-color: #E9967A; \t\n",
       "\tborder-left: 5px solid #800080; \n",
       "\tpadding: 0.5em;\n",
       "}\n",
       "\n",
       "\n",
       "span.sub-q {\n",
       "\tfont-weight: bold;\n",
       "}\n",
       "div.theme {\n",
       "\tbackground-color: #DDDDDD;\n",
       "\tborder-color: #E9967A; \t\n",
       "\tborder-left: 5px solid #800080; \n",
       "\tpadding: 0.5em;\n",
       "\tfont-size: 18pt;\n",
       "}\n",
       "div.gc { \n",
       "\tbackground-color: #AEDE94;\n",
       "\tborder-color: #E9967A; \t \n",
       "\tborder-left: 5px solid #800080; \n",
       "\tpadding: 0.5em;\n",
       "\tfont-size: 12pt;\n",
       "}\n",
       "p.q1 { \n",
       "    padding-top: 5px;\n",
       "    padding-bottom: 5px;\n",
       "    text-align: left; \n",
       "    padding-left: 5px;\n",
       "    background-color: #EEEEEE; \n",
       "    color: black;\n",
       "}\n",
       "header {\n",
       "   padding-top: 35px;\n",
       "    padding-bottom: 35px;\n",
       "    text-align: left; \n",
       "    padding-left: 10px;\n",
       "    background-color: #DDDDDD; \n",
       "    color: black;\n",
       "}\n",
       "</style>\n",
       "\n"
      ],
      "text/plain": [
       "<IPython.core.display.HTML object>"
      ]
     },
     "execution_count": 1,
     "metadata": {},
     "output_type": "execute_result"
    }
   ],
   "source": [
    "# RUN THIS CELL \n",
    "import requests\n",
    "from IPython.core.display import HTML\n",
    "styles = requests.get(\n",
    "    \"https://raw.githubusercontent.com/Harvard-IACS/2018-CS109A/master/\"\n",
    "    \"content/styles/cs109.css\"\n",
    ").text\n",
    "HTML(styles)"
   ]
  },
  {
   "cell_type": "markdown",
   "metadata": {
    "id": "YqZLqWMlx0Lz"
   },
   "source": [
    "<hr style=\"height:2pt\">\n",
    "\n",
    "### INSTRUCTIONS\n",
    "\n",
    "- To submit your assignment, follow the instructions given in Canvas.\n",
    "\n",
    "- Please restart the kernel and run the entire notebook again before you submit.\n",
    "\n",
    "- Running cells out of order is a common pitfall in Jupyter Notebooks. To make sure your code works restart the kernel and run the whole notebook again before you submit. \n",
    "\n",
    "- We have tried to include all the libraries you may need to do the assignment in the imports cell provided below. **Please use only the libraries provided in those imports.**\n",
    "\n",
    "- Please use .head() when viewing data. Do not submit a notebook that is **excessively long**. \n",
    "\n",
    "- In questions that require code to answer, such as \"calculate the $R^2$\", do not just output the value from a cell. Write a `print()` function that clearly labels the output, includes a reference to the calculated value, and rounds it to a reasonable number of digits. **Do not hard code values in your printed output**. For example, this is an appropriate print statement:\n",
    "```python\n",
    "print(f'The R^2 is {R:.4f}')\n",
    "```\n",
    "- Your plots should be clearly labeled, including clear labels for the $x$ and $y$ axes as well as a descriptive title (\"MSE plot\" is NOT a descriptive title; \"95% confidence interval of coefficients of polynomial degree 5\" on the other hand is descriptive).\n",
    "\n",
    "<hr style=\"height:2pt\">"
   ]
  },
  {
   "cell_type": "code",
   "execution_count": 2,
   "metadata": {
    "colab": {
     "base_uri": "https://localhost:8080/"
    },
    "id": "HaPrtFjfx0L1",
    "outputId": "32fad8bb-f1f0-4f4a-9ec1-8aa53a6560b7"
   },
   "outputs": [
    {
     "name": "stdout",
     "output_type": "stream",
     "text": [
      "Using TensorFlow version: 2.4.1\n",
      "Using TensorFlow Datasets version: 4.2.0\n",
      "Using TensorFlow AddOns version: 0.12.1\n"
     ]
    }
   ],
   "source": [
    "import os\n",
    "import pathlib\n",
    "import time\n",
    "import zipfile\n",
    "\n",
    "import imageio\n",
    "from matplotlib import cm\n",
    "import matplotlib.pyplot as plt\n",
    "import numpy as np\n",
    "import pickle\n",
    "from PIL import Image\n",
    "import requests\n",
    "import scipy.ndimage as ndimage\n",
    "import tensorflow as tf\n",
    "import tensorflow_addons as tfa\n",
    "import tensorflow_datasets as tfds\n",
    "from tensorflow.keras.datasets import cifar10\n",
    "from tensorflow.keras.models import Sequential, Model\n",
    "from tensorflow.keras.layers import Activation, BatchNormalization\n",
    "from tensorflow.keras.layers import Conv2D, Dense, Dropout \n",
    "from tensorflow.keras.layers import Flatten, Input, MaxPooling2D\n",
    "from tensorflow.keras.optimizers import Adam, SGD\n",
    "from tensorflow.keras.utils import to_categorical\n",
    "from tf_keras_vis.gradcam import Gradcam\n",
    "from tf_keras_vis.saliency import Saliency\n",
    "from tf_keras_vis.utils import normalize\n",
    "import tqdm\n",
    "\n",
    "%matplotlib inline\n",
    "\n",
    "print(f\"Using TensorFlow version: {tf.__version__}\")\n",
    "print(f\"Using TensorFlow Datasets version: {tfds.__version__}\")\n",
    "print(f\"Using TensorFlow AddOns version: {tfa.__version__}\")"
   ]
  },
  {
   "cell_type": "markdown",
   "metadata": {
    "id": "soOeL1Tpx0L4"
   },
   "source": [
    "**Please run these cells below.** First we set our local working directory to ensure our provided code in PART 2 works correctly, and then we enable [TensorFlow eager execution](https://www.tensorflow.org/guide/eager) and print a summary of whether there are local GPUs available for training your models. As long as you are using the provided `cs109b.yml` conda environment, you should expect to see a TensorFlow version >=2.3.0, which should allow this notebook to run without error."
   ]
  },
  {
   "cell_type": "code",
   "execution_count": 3,
   "metadata": {
    "id": "v-UPOjnXx0L6"
   },
   "outputs": [],
   "source": [
    "# RUN THIS CELL\n",
    "\n",
    "working_dir = pathlib.Path().absolute()\n",
    "# Uncomment line below to debug if images don't show\n",
    "#print(working_dir)\n",
    "os.chdir(working_dir)"
   ]
  },
  {
   "cell_type": "code",
   "execution_count": 4,
   "metadata": {
    "colab": {
     "base_uri": "https://localhost:8080/"
    },
    "id": "M08r1qFTx0L8",
    "outputId": "d408a9ef-fc1b-4def-d80a-5f4abf3cb634"
   },
   "outputs": [
    {
     "name": "stdout",
     "output_type": "stream",
     "text": [
      "tensorflow version 2.4.1\n",
      "keras version 2.4.0\n",
      "Eager Execution Enabled: True\n",
      "\n",
      "INFO:tensorflow:Using MirroredStrategy with devices ('/job:localhost/replica:0/task:0/device:GPU:0',)\n",
      "\n",
      "Number of replicas: 1\n",
      "\n",
      "Devices: [PhysicalDevice(name='/physical_device:CPU:0', device_type='CPU'), PhysicalDevice(name='/physical_device:GPU:0', device_type='GPU')]\n",
      "\n",
      "[LogicalDevice(name='/device:GPU:0', device_type='GPU')]\n",
      "\n",
      "GPU Available: [PhysicalDevice(name='/physical_device:GPU:0', device_type='GPU')]\n",
      "\n",
      "All Pysical Devices: [PhysicalDevice(name='/physical_device:CPU:0', device_type='CPU'), PhysicalDevice(name='/physical_device:GPU:0', device_type='GPU')]\n"
     ]
    }
   ],
   "source": [
    "# RUN THIS CELL\n",
    "\n",
    "# Enable/Disable Eager Execution\n",
    "# Reference: https://www.tensorflow.org/guide/eager\n",
    "# TensorFlow's eager execution is an imperative programming environment\n",
    "# that evaluates operations immediately, without building graphs\n",
    "\n",
    "#tf.compat.v1.disable_eager_execution()\n",
    "#tf.compat.v1.enable_eager_execution()\n",
    "\n",
    "print(f\"tensorflow version {tf.__version__}\")\n",
    "print(f\"keras version {tf.keras.__version__}\")\n",
    "print(f\"Eager Execution Enabled: {tf.executing_eagerly()}\\n\")\n",
    "\n",
    "# Get the number of replicas \n",
    "strategy = tf.distribute.MirroredStrategy()\n",
    "print(f\"\\nNumber of replicas: {strategy.num_replicas_in_sync}\\n\")\n",
    "\n",
    "devices = tf.config.experimental.get_visible_devices()\n",
    "print(f\"Devices: {devices}\\n\")\n",
    "print(f\"{tf.config.experimental.list_logical_devices('GPU')}\\n\")\n",
    "\n",
    "print(f\"GPU Available: {tf.config.list_physical_devices('GPU')}\\n\")\n",
    "print(f\"All Pysical Devices: {tf.config.list_physical_devices()}\")\n",
    "\n",
    "# Better performance with the tf.data API\n",
    "# Reference: https://www.tensorflow.org/guide/datac_performance\n",
    "AUTOTUNE = tf.data.experimental.AUTOTUNE\n",
    "\n",
    "tf.random.set_seed(2266)"
   ]
  },
  {
   "cell_type": "markdown",
   "metadata": {
    "id": "-7AgX8bWx0L-"
   },
   "source": [
    "<a id=\"contents\"></a>\n",
    "\n",
    "## Notebook Contents\n",
    "\n",
    "- [**PART 1 [55 pts]: Building a Basic CNN Model**](#part1)\n",
    "  - [Overview](#part1intro)\n",
    "  - [Questions](#part1questions)\n",
    "  - [Solutions](#part1solutions)\n",
    "\n",
    "\n",
    "- [**PART 2 [45 pts]: Regression with CNN**](#part2)\n",
    "  - [Overview](#part2intro)\n",
    "  - [Questions](#part2questions)\n",
    "  - [Solutions](#part2solutions)\n"
   ]
  },
  {
   "cell_type": "markdown",
   "metadata": {
    "id": "mzGonykqx0L_"
   },
   "source": [
    "## About this Homework"
   ]
  },
  {
   "cell_type": "markdown",
   "metadata": {
    "id": "L555gy_1x0L_"
   },
   "source": [
    "In this homework, we will explore Convolutional Neural Networks (CNNs).\n",
    "\n",
    "- In [PART 1](#part1), we will begin by building a CNN to classify CIFAR-10 images, a standard pedagogical problem, and use saliency maps to understand where the network is placing its \"attention.\"\n",
    "\n",
    "\n",
    "- Then, in [PART 2](#part2), we will then see that CNNs are great for more than just classifying our images! They can serve as image input processing for a variety of tasks, as we will show by training a network on the CelebA dataset to rotate images of faces upright.\n",
    "\n",
    "**IMPORTANT NOTES:**\n",
    "\n",
    "- Convolutional neural networks are computationally intensive.\n",
    "- **We highly recommend that you train your model on a system using GPUs. For this, we recommend using the GPU-enabled JupyterHub environment provided to you as part of this course** (or you could also take a look at Google Colab's runtime settings for accessing a GPU-enabled environment free of cost).\n",
    "- **Models that take hours to train on CPUs can be trained in just minutes when using GPUs.**\n",
    "- Additionally, **if you become frustrated having to rerun your model every time you open your notebook, take a look at how to save your trained model weights for later use** (as is required in [PART 2, question 2.2.3](#q223)).\n"
   ]
  },
  {
   "cell_type": "markdown",
   "metadata": {
    "id": "Co7dmftEx0MB"
   },
   "source": [
    "<a id=\"part1\"></a>\n",
    "    \n",
    "<!-- <div class=\"alert alert-block alert-danger\" style=\"color:black;background-color:#E7F4FA\"> -->\n",
    "\n",
    "# PART 1 [55 pts]: Building a Basic CNN Model\n",
    "\n",
    "[Return to contents](#contents)\n"
   ]
  },
  {
   "cell_type": "markdown",
   "metadata": {
    "id": "JOHqvz5Ux0ME"
   },
   "source": [
    "<a id=\"part1intro\"></a>\n",
    "\n",
    "## Overview\n",
    "\n",
    "[Return to contents](#contents)\n",
    "\n",
    "In this question, you will use Keras to create a convolutional neural network for predicting the \"type of object\" shown in each image from the [CIFAR-10](https://keras.io/datasets/#cifar10-small-image-classification) dataset. This dataset contains 50,000 32x32 colored training images and 10,000 test images of the same size, with a total of 10 classes, representing the \"type of object\" shown in each image."
   ]
  },
  {
   "cell_type": "markdown",
   "metadata": {
    "id": "dX0OlDNcx0MF"
   },
   "source": [
    "<a id=\"part1questions\"></a>\n",
    "\n",
    "### <div class='exercise'>PART 1: Questions</div> \n",
    "\n",
    "[Return to contents](#contents)\n",
    "\n",
    "<a id=\"q11\"></a>\n",
    "\n",
    "**[1.1:](#s11) Loading CIFAR-10 and Constructing the Model**\n",
    "\n",
    "<a id=\"q111\"></a>\n",
    "\n",
    "- **[1.1.1:](#s111)** Load the CIFAR-10 dataset from the `tensorflow.keras.datasets.cifar10` import shown at the top of this notebook. Perform any preprocessing of the data that might be required for this dataset.\n",
    "\n",
    "<a id=\"q112\"></a>\n",
    "\n",
    "- **[1.1.2:](#s112)** Construct a model architecture using a combination of the following layers: Conv2D, MaxPooling2D, Dense, Dropout and Flatten Layers (not necessarily in this order, and you can use as many layers as you'd like) to build your classification model.\n",
    "\n",
    "  - You may use an existing architecture like AlexNet or VGG16, or create one of your own design.\n",
    "\n",
    "  - However, you MUST construct the network yourself and not use a pre-written implementation.\n",
    "\n",
    "  - You must have at least 2 Conv2D layers, and at least one of your Conv2D layers should have 9 or more filters in order to complete question 1.4.1.\n",
    "\n",
    "\n",
    "<a id=\"q12\"></a>\n",
    "\n",
    "**[1.2:](#s12) Model parameter growth**\n",
    "\n",
    "How does the number of total parameters change (e.g. linearly, exponentially, etc.) as the number of filters per layer increases (your model should have at least 2 Conv layers)? You can find this empirically by constructing multiple models with the same type of architecture and increasing the number of filters. Generate a plot showing the relationship and explain why it has this relationship. **HINT:** Completing this question is far easier if you write a function that generates your desired architecture in 1.1.2, with arguments that allow you to easily rebuild the architecture with varying numbers of filters per layer.\n",
    "\n",
    "<a id=\"q13\"></a>\n",
    "\n",
    "**[1.3:](#s13) Choose a model, train and evaluate it**\n",
    "\n",
    "<a id=\"q131\"></a>\n",
    "\n",
    "- **[1.3.1:](#s131)** Print the model summary for your chosen architecture, and report the total number of parameters. Then train your model using the CIFAR-10 dataset. You can choose to train your model for as long as you'd like, but you should aim for at least 10 epochs. Your validation and test accuracies should both exceed 70%.\n",
    "\n",
    "<a id=\"q132\"></a> \n",
    "\n",
    "- **[1.3.2:](#s132)** Plot the training loss and accuracy per epoch (both train and validation) for your chosen architecture.\n",
    " \n",
    "\n",
    "<a id=\"q14\"></a> \n",
    "\n",
    "**[1.4:](#s14) Techniques to visualize the model**\n",
    " \n",
    "We will gain an intuition into how our model is processing the inputs in two ways.  First we'll ask you to use activation maps to visualize the activations in the intermediate layers of the network. We've provided a helper function `get_activation_maps` to aid in extracting activation maps from layer outputs in your model network.  Feel free to take advantage of it if you'd like.  We'll also ask you to use [saliency maps](https://arxiv.org/abs/1312.6034) to visualize the pixels that have the largest impact on the classification of an input (image in this case), including a more recent development, a [Grad-CAM](https://arxiv.org/abs/1610.02391) saliency heatmap, which has been shown to better indicate the attention of CNNs.\n",
    " \n",
    "<a id=\"q141\"></a> \n",
    "\n",
    "- **[1.4.1:](#s141)** For a given input image from the test set that is correctly classified, use your model and extract 9 activation maps from an intermediate convolutional layer of your choice and plot the images in a 3x3 grid (use `imshow`'s `cmap='gray'` to show the activation maps in black & white).  Make sure to plot (and clearly label) your original input image as well. You may use the provided `get_activation_maps` function and the `cifar10dict` dictionary to convert class index to the correct class name.\n",
    "\n",
    "<a id=\"q142\"></a> \n",
    "\n",
    "- **[1.4.2:](#s142)** For the same input image generate and plot a SmoothGrad saliency map to show the pixels in the image most pertinent to classification, and a Grad-CAM saliency heatmap. This is most easily done with the [tf-keras-vis](https://pypi.org/project/tf-keras-vis/) package. Take a look at the \"Usage\" examples; it will be straightforward to apply to our model. Feel free to pick your own [colormap](https://matplotlib.org/3.1.0/tutorials/colors/colormaps.html); however, please stick to \"perceptionally uniform sequential\" or \"sequential\" colormaps because they are far easier to interpret. Arrange the three plots in a row using subplots: Original Image, SmoothGrad saliency Map, Grad-CAM saliency heatmap. Which visualization is easier to understand in your case, and what does the network seem to be focusing on?\n",
    "\n",
    "<a id=\"q143\"></a> \n",
    "\n",
    "- **[1.4.3:](#s143)** Repeat 1.4.2, but for an image from the test set that is **incorrectly classified**, indicating both the incorrect label and what the correct label should be, and from the visualizations of network attention, hypothesize why the network arrived at its answer. (Make sure you pass a new loss to the visualizers that uses the **incorrect** class index, because we want to see what caused the network to think the image was in that category!) If you had control over what images go in the training dataset, how could you modify it to avoid this particular network failure?"
   ]
  },
  {
   "cell_type": "markdown",
   "metadata": {
    "id": "z1ybDR5zx0MI"
   },
   "source": [
    "<a id=\"part1solutions\"></a>\n",
    "\n",
    "## PART 1: Solutions\n",
    "\n",
    "[Return to contents](#contents)"
   ]
  },
  {
   "cell_type": "markdown",
   "metadata": {
    "id": "VxtgvovHx0MI"
   },
   "source": [
    "<a id=\"s11\"></a>\n",
    "<a id=\"s111\"></a>\n",
    "<div class='exercise-r'>  \n",
    "\n",
    "**[1.1:](#q11) Loading CIFAR-10 and Constructing the Model**\n",
    "\n",
    "- **[1.1.1:](#q111)** Load the CIFAR-10 dataset from the `tensorflow.keras.datasets.cifar10` import shown at the top of this notebook. Perform any preprocessing of the data that might be required for this dataset.\n",
    "\n",
    "</div>"
   ]
  },
  {
   "cell_type": "code",
   "execution_count": 25,
   "metadata": {
    "colab": {
     "base_uri": "https://localhost:8080/"
    },
    "id": "21P6WuWVx0MJ",
    "outputId": "aa20b335-caf2-4fff-c849-62532498f931"
   },
   "outputs": [],
   "source": [
    "# your code here\n",
    "(x_train, y_train), (x_test, y_test) = cifar10.load_data()"
   ]
  },
  {
   "cell_type": "markdown",
   "metadata": {},
   "source": [
    "For now, we don't batch out training data (necessary for an efficient implementation of SGD). We'll do that later when training the model (this will also allow us to gather all of the hyperparameters definition in the same 'region').\n",
    "\n",
    "In terms of preprocessing regarding images, there are several steps to be taken:\n",
    "- Normalizing the images\n",
    "- Resizing the images\n",
    "- Data Augmentation (not done for now)\n",
    "- Create a Validation Set (not specific to images, but useful for monitoring training)"
   ]
  },
  {
   "cell_type": "code",
   "execution_count": 26,
   "metadata": {},
   "outputs": [],
   "source": [
    "import sklearn.model_selection\n",
    "\n",
    "x_train = x_train/255\n",
    "x_test = x_test/255\n",
    "\n",
    "x_train, x_val, y_train, y_val = sklearn.model_selection.train_test_split(x_train, y_train, test_size=0.2, stratify=y_train, random_state=0)"
   ]
  },
  {
   "cell_type": "markdown",
   "metadata": {
    "id": "kD6M87ylx0MJ"
   },
   "source": [
    "<a id=\"s112\"></a>\n",
    "<div class='exercise-r'>  \n",
    "\n",
    "**[1.1.2:](#q112)** Construct a model architecture using a combination of the following layers: Conv2D, MaxPooling2D, Dense, Dropout and Flatten Layers (not necessarily in this order, and you can use as many layers as you'd like) to build your classification model.\n",
    "\n",
    "  - You may use an existing architecture like AlexNet or VGG16, or create one of your own design.\n",
    "\n",
    "  - However, you MUST construct the network yourself and not use a pre-written implementation.\n",
    "\n",
    "  - You must have at least 2 Conv2D layers, and at least one of your Conv2D layers should have 9 or more filters in order to complete question 1.4.1.\n",
    "\n",
    "</div>"
   ]
  },
  {
   "cell_type": "markdown",
   "metadata": {},
   "source": [
    "Let's implement the **AlexNet** architecture. \n",
    "\n",
    "We are going to use a batch size of 64."
   ]
  },
  {
   "cell_type": "code",
   "execution_count": 51,
   "metadata": {
    "id": "0CvnFEcux0MK"
   },
   "outputs": [],
   "source": [
    "# your code here\n",
    "model = tf.keras.Sequential()\n",
    "model.add(tf.keras.layers.InputLayer(input_shape=(28, 28, 3), batch_size=64))\n",
    "model.add(tf.keras.layers.Conv2D(filters = 64, kernel_size=(2, 2), activation='relu'))\n",
    "model.add(tf.keras.layers.Dropout(rate=0.2))\n",
    "model.add(tf.keras.layers.MaxPool2D(pool_size=(2, 2)))\n",
    "model.add(tf.keras.layers.Conv2D(filters = 128, kernel_size=(2, 2), activation='relu'))\n",
    "model.add(tf.keras.layers.MaxPool2D(pool_size=(2, 2)))\n",
    "model.add(tf.keras.layers.Conv2D(filters = 256, kernel_size=(2, 2), activation='relu'))\n",
    "model.add(tf.keras.layers.MaxPool2D(pool_size=(2, 2)))\n",
    "model.add(tf.keras.layers.Flatten())\n",
    "model.add(tf.keras.layers.Dense(64, activation='relu'))\n",
    "model.add(tf.keras.layers.Dense(10, activation='softmax'))\n"
   ]
  },
  {
   "cell_type": "code",
   "execution_count": 52,
   "metadata": {},
   "outputs": [
    {
     "name": "stdout",
     "output_type": "stream",
     "text": [
      "Model: \"sequential_70\"\n",
      "_________________________________________________________________\n",
      "Layer (type)                 Output Shape              Param #   \n",
      "=================================================================\n",
      "conv2d_204 (Conv2D)          (64, 27, 27, 64)          832       \n",
      "_________________________________________________________________\n",
      "dropout (Dropout)            (64, 27, 27, 64)          0         \n",
      "_________________________________________________________________\n",
      "max_pooling2d_203 (MaxPoolin (64, 13, 13, 64)          0         \n",
      "_________________________________________________________________\n",
      "conv2d_205 (Conv2D)          (64, 12, 12, 128)         32896     \n",
      "_________________________________________________________________\n",
      "max_pooling2d_204 (MaxPoolin (64, 6, 6, 128)           0         \n",
      "_________________________________________________________________\n",
      "conv2d_206 (Conv2D)          (64, 5, 5, 256)           131328    \n",
      "_________________________________________________________________\n",
      "max_pooling2d_205 (MaxPoolin (64, 2, 2, 256)           0         \n",
      "_________________________________________________________________\n",
      "flatten_67 (Flatten)         (64, 1024)                0         \n",
      "_________________________________________________________________\n",
      "dense_134 (Dense)            (64, 64)                  65600     \n",
      "_________________________________________________________________\n",
      "dense_135 (Dense)            (64, 10)                  650       \n",
      "=================================================================\n",
      "Total params: 231,306\n",
      "Trainable params: 231,306\n",
      "Non-trainable params: 0\n",
      "_________________________________________________________________\n"
     ]
    }
   ],
   "source": [
    "model.summary()"
   ]
  },
  {
   "cell_type": "markdown",
   "metadata": {
    "id": "c6EPWpjCx0ML"
   },
   "source": [
    "<a id=\"s12\"></a>\n",
    "<div class='exercise-r'>  \n",
    "\n",
    "**[1.2:](#q12) Model parameter growth**\n",
    "\n",
    "How does the number of total parameters change (e.g. linearly, exponentially, etc.) as the number of filters per layer increases (your model should have at least 2 Conv layers)? You can find this empirically by constructing multiple models with the same type of architecture and increasing the number of filters. Generate a plot showing the relationship and explain why it has this relationship. **HINT:** Completing this question is far easier if you write a function that generates your desired architecture in 1.1.2, with arguments that allow you to easily rebuild the architecture with varying numbers of filters per layer.\n",
    "\n",
    "</div>"
   ]
  },
  {
   "cell_type": "code",
   "execution_count": 40,
   "metadata": {
    "id": "wnS8zEOmx0MM",
    "scrolled": false
   },
   "outputs": [],
   "source": [
    "# your code here\n",
    "def define_architecture(num_filters):\n",
    "    \"\"\"Here, for the sake of realistic implementation, num_filters should be a power of 2. Our model will implement a \n",
    "    Cascade of Conv2D layers, with a dohbling number of filters, and a MaxPooling layer after every Convolutional\n",
    "    layer\"\"\"\n",
    "    model = tf.keras.Sequential()\n",
    "    model.add(tf.keras.layers.InputLayer(input_shape=(28, 28, 3), batch_size=64))\n",
    "    model.add(tf.keras.layers.Conv2D(filters = num_filters, kernel_size=(2, 2), activation='relu'))\n",
    "    model.add(tf.keras.layers.Dropout(rate=0.2))\n",
    "    model.add(tf.keras.layers.MaxPool2D(pool_size=(2, 2)))\n",
    "    model.add(tf.keras.layers.Conv2D(filters = 2*num_filters, kernel_size=(2, 2), activation='relu'))\n",
    "    model.add(tf.keras.layers.MaxPool2D(pool_size=(2, 2)))\n",
    "    model.add(tf.keras.layers.Conv2D(filters = 4*num_filters, kernel_size=(2, 2), activation='relu'))\n",
    "    model.add(tf.keras.layers.MaxPool2D(pool_size=(2, 2)))\n",
    "    model.add(tf.keras.layers.Flatten())\n",
    "    model.add(tf.keras.layers.Dense(64, activation='relu'))\n",
    "    model.add(tf.keras.layers.Dense(10, activation='softmax'))\n",
    "    return model\n",
    "\n",
    "def count_params(model):\n",
    "    return model.count_params()"
   ]
  },
  {
   "cell_type": "code",
   "execution_count": 49,
   "metadata": {},
   "outputs": [
    {
     "data": {
      "image/png": "[encoded data removed]",
      "text/plain": [
       "<Figure size 1080x720 with 1 Axes>"
      ]
     },
     "metadata": {
      "needs_background": "light"
     },
     "output_type": "display_data"
    }
   ],
   "source": [
    "num_filters = [2, 4, 8, 16, 32, 64, 128]\n",
    "count_parameters = [count_params(define_architecture(num_filter)) for num_filter in num_filters]\n",
    "fig, ax = plt.subplots(1, figsize=(15, 10))\n",
    "ax.plot(num_filters, count_parameters, color='lightcoral', label='Number of Total Parameters')\n",
    "ax.plot(num_filters, np.log(count_parameters), color='lightblue', linestyle='--', label='Log Derivative Number of Total Parameters = ' +str(np.mean(np.log(count_parameters[1:]) - np.log(count_parameters[:-1]))))\n",
    "ax.plot(num_filters, np.log(count_parameters), color='lightgreen', linestyle='--', label='Log Derivative Number of Total Parameters = ' +str(np.mean(np.log(count_parameters))))\n",
    "ax.set_xlabel('Number of Filters Per Convolutional Layer')\n",
    "ax.set_ylabel('Number of total parameters')\n",
    "ax.set_title('Evolution and trend of the number of parameters when only changing the number of filters per Convolutional layer')\n",
    "plt.legend()\n",
    "plt.show(fig)"
   ]
  },
  {
   "cell_type": "markdown",
   "metadata": {
    "id": "lrzgLgOlx0MN"
   },
   "source": [
    "**INTERPRETATION:**"
   ]
  },
  {
   "cell_type": "markdown",
   "metadata": {
    "id": "eDDe0DxUx0MN"
   },
   "source": [
    "- *What have we done ?*: The first step of this analysis was to devise an architecture and stick to it. In our case, this architecture has been defined in 1.1.2. The particularity of this architecture is that the number of filters doubles every Convolutional layer. Therefore, when varying the number of filters, I wanted to keep this doubling structure. \n",
    "- *What is the result ?*: We can see from the plot that the dependency seems to be explonential. The relationship deduced is $log(params_{n+1}) - log(params_n) = a$, with $a \\approx 0.93$. Therefore, we have $params_{n+1} = e^aparams_n$ and $params_n = e^{a(n-1)}params_2$: the dependency of the total number of parameters in the number of filters is **exponential**.\n",
    "- *Why is that so?*: when writing the formula for the total number of filters, we can see that the number of filters $n$ for the layer $i$ becomes the number of dimension of layer $i+1$, when the number of filters becomes $2*n$, which adds up something proportional to $2n^2$ in the toal number of parameters (depending on the kernel side). \n",
    "\n",
    "**Conclusion**: We could be misled thinking that the relationship in the number of filters is exponential. However, a little calculation will show us that the relationship is quadratic (with a very important coefficient).\n",
    "\n"
   ]
  },
  {
   "cell_type": "markdown",
   "metadata": {
    "id": "ceRhWXbKx0MO"
   },
   "source": [
    "<a id=\"s13\"></a>\n",
    "<a id=\"s131\"></a>\n",
    "<div class='exercise-r'>  \n",
    "\n",
    "**[1.3:](#q13) Choosing a model, training, and evaluating it**\n",
    "\n",
    "- **[1.3.1:](#q131)** Print the model summary for your chosen architecture, and report the total number of parameters. Then train your model using the CIFAR-10 dataset. You can choose to train your model for as long as you'd like, but you should aim for at least 10 epochs. Your validation and test accuracies should both exceed 70%.\n",
    "\n",
    "</div>"
   ]
  },
  {
   "cell_type": "markdown",
   "metadata": {},
   "source": [
    "#### Retained model"
   ]
  },
  {
   "cell_type": "markdown",
   "metadata": {},
   "source": [
    "I decided to stick with my original architecture, and will see how this architecture performs. "
   ]
  },
  {
   "cell_type": "code",
   "execution_count": 61,
   "metadata": {
    "id": "ZHkmUJgix0MP"
   },
   "outputs": [
    {
     "name": "stdout",
     "output_type": "stream",
     "text": [
      "Model: \"sequential_73\"\n",
      "_________________________________________________________________\n",
      "Layer (type)                 Output Shape              Param #   \n",
      "=================================================================\n",
      "conv2d_213 (Conv2D)          (64, 31, 31, 64)          832       \n",
      "_________________________________________________________________\n",
      "dropout_3 (Dropout)          (64, 31, 31, 64)          0         \n",
      "_________________________________________________________________\n",
      "max_pooling2d_212 (MaxPoolin (64, 15, 15, 64)          0         \n",
      "_________________________________________________________________\n",
      "conv2d_214 (Conv2D)          (64, 14, 14, 128)         32896     \n",
      "_________________________________________________________________\n",
      "max_pooling2d_213 (MaxPoolin (64, 7, 7, 128)           0         \n",
      "_________________________________________________________________\n",
      "conv2d_215 (Conv2D)          (64, 6, 6, 256)           131328    \n",
      "_________________________________________________________________\n",
      "max_pooling2d_214 (MaxPoolin (64, 3, 3, 256)           0         \n",
      "_________________________________________________________________\n",
      "flatten_70 (Flatten)         (64, 2304)                0         \n",
      "_________________________________________________________________\n",
      "dense_140 (Dense)            (64, 64)                  147520    \n",
      "_________________________________________________________________\n",
      "dense_141 (Dense)            (64, 10)                  650       \n",
      "=================================================================\n",
      "Total params: 313,226\n",
      "Trainable params: 313,226\n",
      "Non-trainable params: 0\n",
      "_________________________________________________________________\n"
     ]
    }
   ],
   "source": [
    "# your code here\n",
    "model = tf.keras.Sequential()\n",
    "model.add(tf.keras.layers.InputLayer(input_shape=(32, 32, 3), batch_size=64))\n",
    "model.add(tf.keras.layers.Conv2D(filters = 64, kernel_size=(2, 2), activation='relu'))\n",
    "model.add(tf.keras.layers.Dropout(rate=0.3))\n",
    "model.add(tf.keras.layers.MaxPool2D(pool_size=(2, 2)))\n",
    "model.add(tf.keras.layers.Conv2D(filters = 128, kernel_size=(2, 2), activation='relu'))\n",
    "model.add(tf.keras.layers.MaxPool2D(pool_size=(2, 2)))\n",
    "model.add(tf.keras.layers.Conv2D(filters = 256, kernel_size=(2, 2), activation='relu'))\n",
    "model.add(tf.keras.layers.MaxPool2D(pool_size=(2, 2)))\n",
    "model.add(tf.keras.layers.Flatten())\n",
    "model.add(tf.keras.layers.Dense(64, activation='relu'))\n",
    "model.add(tf.keras.layers.Dense(10, activation='softmax'))\n",
    "model.summary()"
   ]
  },
  {
   "cell_type": "markdown",
   "metadata": {},
   "source": [
    "The total number of parameters is 231,306, which seems a bit low. Since the CIFAR-10 dataset is recognized as an 'easy' dataset to learn from, this might be sufficient to use it. Let's see how it performs."
   ]
  },
  {
   "cell_type": "markdown",
   "metadata": {},
   "source": [
    "#### Training and Monitoring the training"
   ]
  },
  {
   "cell_type": "code",
   "execution_count": 69,
   "metadata": {},
   "outputs": [
    {
     "name": "stdout",
     "output_type": "stream",
     "text": [
      "Epoch 1/10\n",
      "625/625 [==============================] - 5s 7ms/step - loss: 0.7271 - accuracy: 0.7574 - val_loss: 0.9778 - val_accuracy: 0.6814\n",
      "Epoch 2/10\n",
      "625/625 [==============================] - 4s 6ms/step - loss: 0.5751 - accuracy: 0.8024 - val_loss: 0.9632 - val_accuracy: 0.6877\n",
      "Epoch 3/10\n",
      "625/625 [==============================] - 4s 6ms/step - loss: 0.5280 - accuracy: 0.8184 - val_loss: 0.9348 - val_accuracy: 0.6988\n",
      "Epoch 4/10\n",
      "625/625 [==============================] - 4s 6ms/step - loss: 0.4887 - accuracy: 0.8285 - val_loss: 0.9362 - val_accuracy: 0.6959\n",
      "Epoch 5/10\n",
      "625/625 [==============================] - 4s 6ms/step - loss: 0.4679 - accuracy: 0.8361 - val_loss: 0.9339 - val_accuracy: 0.7013\n",
      "Epoch 6/10\n",
      "625/625 [==============================] - 4s 6ms/step - loss: 0.4362 - accuracy: 0.8476 - val_loss: 0.9897 - val_accuracy: 0.6943\n",
      "Epoch 7/10\n",
      "625/625 [==============================] - 4s 6ms/step - loss: 0.4099 - accuracy: 0.8563 - val_loss: 0.9656 - val_accuracy: 0.6979\n",
      "Epoch 8/10\n",
      "625/625 [==============================] - 4s 6ms/step - loss: 0.3951 - accuracy: 0.8598 - val_loss: 0.9871 - val_accuracy: 0.7047\n",
      "Epoch 9/10\n",
      "625/625 [==============================] - 4s 6ms/step - loss: 0.3670 - accuracy: 0.8687 - val_loss: 0.9905 - val_accuracy: 0.7060\n",
      "Epoch 10/10\n",
      "625/625 [==============================] - 4s 6ms/step - loss: 0.3483 - accuracy: 0.8763 - val_loss: 1.0271 - val_accuracy: 0.7030\n"
     ]
    }
   ],
   "source": [
    "model.compile(loss='sparse_categorical_crossentropy', optimizer = tf.keras.optimizers.Adam(0.001), metrics=['accuracy'])\n",
    "history = model.fit(x=x_train, y=y_train, batch_size=64, epochs=10, verbose=1, validation_data=(x_val, y_val), callbacks = tf.keras.callbacks.EarlyStopping(monitor='val_loss', patience=10))"
   ]
  },
  {
   "cell_type": "markdown",
   "metadata": {
    "id": "5_VQjS7Zx0MS"
   },
   "source": [
    "<a id=\"s132\"></a>\n",
    "<div class='exercise-r'>  \n",
    "\n",
    "**[1.3.2:](#q132)** Plot the training loss and accuracy per epoch (both train and validation) for your chosen architecture.\n",
    "\n",
    "</div>"
   ]
  },
  {
   "cell_type": "code",
   "execution_count": 80,
   "metadata": {},
   "outputs": [
    {
     "data": {
      "image/png": "[encoded data removed]",
      "text/plain": [
       "<Figure size 1440x720 with 2 Axes>"
      ]
     },
     "metadata": {
      "needs_background": "light"
     },
     "output_type": "display_data"
    }
   ],
   "source": [
    "fig, ax = plt.subplots(2, figsize=(20, 10))\n",
    "train_loss = history.history['loss']\n",
    "val_loss = history.history['val_loss']\n",
    "train_accuracy = history.history['accuracy']\n",
    "val_accuracy = history.history['val_accuracy']\n",
    "\n",
    "ax[0].plot(train_loss, linewidth=3, label = 'Training Loss', color = 'lightblue')\n",
    "ax[1].plot(train_accuracy, linewidth=3, label = 'Training Accuracy', color = 'lightblue', linestyle='--')\n",
    "ax[0].plot(val_loss, linewidth=3, label = 'Validation Loss', color = 'lightcoral')\n",
    "ax[1].plot(val_accuracy, linewidth=3, label = 'Validation Accuracy', color = 'lightcoral', linestyle='--')\n",
    "\n",
    "\n",
    "ax[0].set_title('Training and Validation Loss vs Epochs')\n",
    "ax[1].set_title('Training and Validation Accuracies vs Epochs')\n",
    "plt.xlabel('Epoch')\n",
    "ax[0].set_ylabel('Loss (Categorical CE)')\n",
    "ax[1].set_ylabel('Accuracy')\n",
    "ax[0].legend()\n",
    "ax[1].legend()\n",
    "plt.show()"
   ]
  },
  {
   "cell_type": "code",
   "execution_count": 96,
   "metadata": {},
   "outputs": [
    {
     "name": "stdout",
     "output_type": "stream",
     "text": [
      "The test accuracy is  0.7106\n"
     ]
    }
   ],
   "source": [
    "print('The test accuracy is ', np.mean(np.argmax(model(x_test), axis=1)==y_test.reshape(-1,)))"
   ]
  },
  {
   "cell_type": "markdown",
   "metadata": {
    "id": "TJcPTmD2x0MU"
   },
   "source": [
    "<a id=\"s14\"></a>\n",
    "<a id=\"s141\"></a>\n",
    "<div class='exercise-r'>  \n",
    "\n",
    "**[1.4:](#q14) Techniques to visualize the model**\n",
    "    \n",
    "We will gain an intuition into how our model is processing the inputs in two ways.  First we'll ask you to use activation maps to visualize the activations in the intermediate layers of the network. We've provided a helper function `get_activation_maps` to aid in extracting activation maps from layer outputs in your model network.  Feel free to take advantage of it if you'd like.  We'll also ask you to use [saliency maps](https://arxiv.org/abs/1312.6034) to visualize the pixels that have the largest impact on the classification of an input (image in this case), including a more recent development, a [Grad-CAM](https://arxiv.org/abs/1610.02391) saliency heatmap, which has been shown to better indicate the attention of CNNs.\n",
    "\n",
    "- **[1.4.1:](#q141)** For a given input image from the test set that is correctly classified, use your model and extract 9 activation maps from an intermediate convolutional layer of your choice and plot the images in a 3x3 grid (use `imshow`'s `cmap='gray'` to show the activation maps in black & white).  Make sure to plot (and clearly label) your original input image as well. You may use the provided `get_activation_maps` function and the `cifar10dict` dictionary to convert class index to the correct class name.\n",
    "\n",
    "</div>"
   ]
  },
  {
   "cell_type": "code",
   "execution_count": 102,
   "metadata": {
    "id": "2LbMnQtCx0MG"
   },
   "outputs": [],
   "source": [
    "def get_activation_maps(model, layer_id, input_image):\n",
    "    \"\"\"Returns intermediate output (activation map) from passing\n",
    "    an image to the model\n",
    "    \n",
    "    Parameters:\n",
    "        model (tf.keras.Model): Model to examine\n",
    "        layer_id (int): Which layer's (from zero) output to return\n",
    "        input_image (ndarray): The input image\n",
    "    Returns:\n",
    "        maps (List[ndarray]): activation map stacked output by the\n",
    "        specified layer\n",
    "    \"\"\"\n",
    "    model_ = Model(\n",
    "        inputs=[model.input], outputs=[model.layers[layer_id].output]\n",
    "    )\n",
    "    return model_.predict(\n",
    "        np.expand_dims(input_image, axis=0)\n",
    "    )[0,:,:,:].transpose((2,0,1))\n",
    "\n",
    "\n",
    "# A dictionary to turn class index into class labels for CIFAR-10\n",
    "\n",
    "cifar10dict = {\n",
    "    0 : \"airplane\",\n",
    "    1 : \"automobile\",\n",
    "    2 : \"bird\",\n",
    "    3 : \"cat\",\n",
    "    4 : \"deer\",\n",
    "    5 : \"dog\",\n",
    "    6 : \"frog\",\n",
    "    7 : \"horse\",\n",
    "    8 : \"ship\",\n",
    "    9 : \"truck\",\n",
    "}"
   ]
  },
  {
   "cell_type": "code",
   "execution_count": 111,
   "metadata": {},
   "outputs": [],
   "source": [
    "import warnings\n",
    "\n",
    "warnings.filterwarnings('ignore')"
   ]
  },
  {
   "cell_type": "code",
   "execution_count": 127,
   "metadata": {},
   "outputs": [
    {
     "name": "stdout",
     "output_type": "stream",
     "text": [
      "(array([   0,    1,    4, ..., 9996, 9997, 9999]),)\n"
     ]
    }
   ],
   "source": [
    "print(np.where(np.argmax(model(x_test), axis=1)==y_test.reshape(-1,)))"
   ]
  },
  {
   "cell_type": "code",
   "execution_count": 163,
   "metadata": {},
   "outputs": [
    {
     "name": "stdout",
     "output_type": "stream",
     "text": [
      "[3 8 1 ... 5 4 7]\n"
     ]
    }
   ],
   "source": [
    "print(np.argmax(model(x_test), axis=1))"
   ]
  },
  {
   "cell_type": "code",
   "execution_count": 164,
   "metadata": {},
   "outputs": [
    {
     "name": "stdout",
     "output_type": "stream",
     "text": [
      "[[3]\n",
      " [8]\n",
      " [8]\n",
      " ...\n",
      " [5]\n",
      " [1]\n",
      " [7]]\n"
     ]
    }
   ],
   "source": [
    "print(y_test)"
   ]
  },
  {
   "cell_type": "code",
   "execution_count": 128,
   "metadata": {
    "id": "fa00bKflx0MW"
   },
   "outputs": [
    {
     "name": "stdout",
     "output_type": "stream",
     "text": [
      "WARNING:tensorflow:11 out of the last 11 calls to <function Model.make_predict_function.<locals>.predict_function at 0x7f72c41af550> triggered tf.function retracing. Tracing is expensive and the excessive number of tracings could be due to (1) creating @tf.function repeatedly in a loop, (2) passing tensors with different shapes, (3) passing Python objects instead of tensors. For (1), please define your @tf.function outside of the loop. For (2), @tf.function has experimental_relax_shapes=True option that relaxes argument shapes that can avoid unnecessary retracing. For (3), please refer to https://www.tensorflow.org/guide/function#controlling_retracing and https://www.tensorflow.org/api_docs/python/tf/function for  more details.\n"
     ]
    },
    {
     "data": {
      "image/png": "[encoded data removed]",
      "text/plain": [
       "<Figure size 720x720 with 1 Axes>"
      ]
     },
     "metadata": {
      "needs_background": "light"
     },
     "output_type": "display_data"
    },
    {
     "data": {
      "image/png": "[encoded data removed]",
      "text/plain": [
       "<Figure size 2160x2160 with 9 Axes>"
      ]
     },
     "metadata": {
      "needs_background": "light"
     },
     "output_type": "display_data"
    }
   ],
   "source": [
    "# your code here\n",
    "s = 1\n",
    "sample, label = x_test[s], y_test[s]\n",
    "output = get_activation_maps(model, 3, sample)\n",
    "samples = output[np.random.randint(0, 128, size=9)]\n",
    "fig, ax = plt.subplots(1, figsize=(10, 10))\n",
    "ax.imshow(sample)\n",
    "ax.set_title('Original Image of a ' + str(cifar10dict.get(label[0])))\n",
    "fig, ax = plt.subplots(3, 3, figsize=(30, 30))\n",
    "plt.suptitle('Saliency Maps of the second convolutional layer of the model')\n",
    "for i, ax in enumerate(ax.ravel()):\n",
    "    ax.imshow(samples[i], cmap='gray')"
   ]
  },
  {
   "cell_type": "markdown",
   "metadata": {
    "id": "5OxkoJmZx0MZ"
   },
   "source": [
    "<a id=\"s142\"></a>\n",
    "<div class='exercise-r'>  \n",
    "\n",
    "**[1.4.2:](#q142)** For the same input image generate and plot a SmoothGrad saliency map to show the pixels in the image most pertinent to classification, and a Grad-CAM saliency heatmap. This is most easily done with the [tf-keras-vis](https://pypi.org/project/tf-keras-vis/) package. Take a look at the \"Usage\" examples; it will be straightforward to apply to our model. Feel free to pick your own [colormap](https://matplotlib.org/3.1.0/tutorials/colors/colormaps.html); however, please stick to \"perceptionally uniform sequential\" or \"sequential\" colormaps because they are far easier to interpret. Arrange the three plots in a row using subplots: Original Image, SmoothGrad saliency Map, Grad-CAM saliency heatmap. Which visualization is easier to understand in your case, and what does the network seem to be focusing on?\n",
    "\n",
    "</div>"
   ]
  },
  {
   "cell_type": "code",
   "execution_count": 158,
   "metadata": {},
   "outputs": [],
   "source": [
    "def model_modifier(m):\n",
    "    m.layers[-1].activation = tf.keras.activations.linear\n",
    "    return m\n",
    "\n",
    "def loss(output):\n",
    "    return output[0]\n",
    "\n",
    "expanded = np.expand_dims(sample, axis=0)"
   ]
  },
  {
   "cell_type": "code",
   "execution_count": 152,
   "metadata": {
    "id": "uQqKzWUcx0Ma"
   },
   "outputs": [],
   "source": [
    "# your code here\n",
    "saliency = Saliency(model, model_modifier=model_modifier, clone=False)\n",
    "saliency_map = saliency(loss, expanded, smooth_samples=20, smooth_noise=0.20) \n",
    "saliency_map = normalize(saliency_map)"
   ]
  },
  {
   "cell_type": "code",
   "execution_count": 160,
   "metadata": {},
   "outputs": [],
   "source": [
    "gradcam = Gradcam(model, model_modifier=model_modifier, clone=False)\n",
    "cam = gradcam(loss, expanded, penultimate_layer=-1)\n",
    "cam = normalize(cam)"
   ]
  },
  {
   "cell_type": "code",
   "execution_count": 161,
   "metadata": {},
   "outputs": [
    {
     "data": {
      "image/png": "[encoded data removed]",
      "text/plain": [
       "<Figure size 1080x720 with 3 Axes>"
      ]
     },
     "metadata": {
      "needs_background": "light"
     },
     "output_type": "display_data"
    }
   ],
   "source": [
    "f, ax = plt.subplots(1, 3, figsize=(15, 10))\n",
    "ax[0].set_title('Initial Image', fontsize=14)\n",
    "ax[0].imshow(sample, cmap='jet')\n",
    "ax[1].set_title('Smooth Grad', fontsize=14)\n",
    "ax[1].imshow(saliency_map[0], cmap='jet')\n",
    "ax[2].set_title('Grad CAM', fontsize=14)\n",
    "ax[2].imshow(cam[0], cmap='jet')\n",
    "plt.tight_layout()\n",
    "plt.show()"
   ]
  },
  {
   "cell_type": "markdown",
   "metadata": {
    "id": "izEtpJqnx0Mb"
   },
   "source": [
    "**INTERPRETATION:**"
   ]
  },
  {
   "cell_type": "markdown",
   "metadata": {
    "id": "XnE_CDq0x0Mb"
   },
   "source": [
    "From the three different saliency maps, we can see that, from my point of view, the easier image to interpret is the Grad CAM saliency map. We can see that the model focuses on the front of the oat to make its prediction: it's definitely the prow of the boat that leads our model to make this decision ! "
   ]
  },
  {
   "cell_type": "markdown",
   "metadata": {
    "id": "XwBCiGvfx0Mc"
   },
   "source": [
    "<a id=\"s143\"></a>\n",
    "<div class='exercise-r'>  \n",
    "\n",
    "**[1.4.3:](#q143)**  Repeat 1.4.2, but for an image from the test set that is **incorrectly classified**, indicating both the incorrect label and what the correct label should be, and from the visualizations of network attention, hypothesize why the network arrived at its answer. (Make sure you pass a new loss to the visualizers that uses the **incorrect** class index, because we want to see what caused the network to think the image was in that category!) If you had control over what images go in the training dataset, how could you modify it to avoid this particular network failure?\n",
    "\n",
    "</div>"
   ]
  },
  {
   "cell_type": "markdown",
   "metadata": {},
   "source": [
    "We will work with the second sample of the test set: our model predicted an automobile, whereas the image is a ship."
   ]
  },
  {
   "cell_type": "code",
   "execution_count": 168,
   "metadata": {
    "colab": {
     "base_uri": "https://localhost:8080/",
     "height": 265
    },
    "id": "prHq1ImTx0Mc",
    "outputId": "d184a8ec-b6c9-4d9f-f652-acc8d6a7ca54"
   },
   "outputs": [],
   "source": [
    "# your code here\n",
    "s = 2\n",
    "sample, label = x_test[s], np.array([8])\n",
    "\n",
    "def model_modifier(m):\n",
    "    m.layers[-1].activation = tf.keras.activations.linear\n",
    "    return m\n",
    "\n",
    "def loss(output):\n",
    "    return output[0]\n",
    "\n",
    "expanded = np.expand_dims(sample, axis=0)\n",
    "\n",
    "\n",
    "saliency = Saliency(model, model_modifier=model_modifier, clone=False)\n",
    "saliency_map = saliency(loss, expanded, smooth_samples=20, smooth_noise=0.20) \n",
    "saliency_map = normalize(saliency_map)\n",
    "\n",
    "gradcam = Gradcam(model, model_modifier=model_modifier, clone=False)\n",
    "cam = gradcam(loss, expanded, penultimate_layer=-1)\n",
    "cam = normalize(cam)"
   ]
  },
  {
   "cell_type": "code",
   "execution_count": 169,
   "metadata": {},
   "outputs": [
    {
     "data": {
      "image/png": "[encoded data removed]",
      "text/plain": [
       "<Figure size 1080x720 with 3 Axes>"
      ]
     },
     "metadata": {
      "needs_background": "light"
     },
     "output_type": "display_data"
    }
   ],
   "source": [
    "f, ax = plt.subplots(1, 3, figsize=(15, 10))\n",
    "ax[0].set_title('Initial Image', fontsize=14)\n",
    "ax[0].imshow(sample, cmap='jet')\n",
    "ax[1].set_title('Smooth Grad', fontsize=14)\n",
    "ax[1].imshow(saliency_map[0], cmap='jet')\n",
    "ax[2].set_title('Grad CAM', fontsize=14)\n",
    "ax[2].imshow(cam[0], cmap='jet')\n",
    "plt.tight_layout()\n",
    "plt.show()"
   ]
  },
  {
   "cell_type": "markdown",
   "metadata": {
    "id": "DuDnxvWIx0Md"
   },
   "source": [
    "**INTERPRETATION:**"
   ]
  },
  {
   "cell_type": "markdown",
   "metadata": {
    "id": "bK8N_mbbx0Md"
   },
   "source": [
    "*What happened ?*: ur model focused on the wrong parts of the image in order to classify this boat. In terms of structural element of my network, this is maybe because I don't have enough 'dimensions' before the Flattening, which means that too much information is lost when flowing through the different layers. \n",
    "\n",
    "*Change the training set*: \n"
   ]
  },
  {
   "cell_type": "markdown",
   "metadata": {
    "id": "dRhtb4pMx0Md"
   },
   "source": [
    "<a id=\"part2\"></a>\n",
    "    \n",
    "<!-- <div class=\"alert alert-block alert-danger\" style=\"color:black;background-color:#E7F4FA\"> -->\n",
    "\n",
    "# PART 2 [45 pts]: Regression with CNN \n",
    "\n",
    "[Return to contents](#contents)"
   ]
  },
  {
   "cell_type": "markdown",
   "metadata": {
    "id": "Ic1uIduQx0Me"
   },
   "source": [
    "<a id=\"part2intro\"></a>\n",
    "\n",
    "## Overview\n",
    "\n",
    "[Return to contents](#contents)\n",
    "\n",
    "**In this problem we will construct a neural network to predict how far a face is from being \"upright\"**. \n",
    "\n",
    "**Image orientation estimation**\n",
    "\n",
    "Image orientation estimation with convolutional networks was first implemented in 2015 by Fischer, Dosovitskiy, and Brox in a paper titled [\"Image Orientation Estimation with Convolutional Networks\"](https://lmb.informatik.uni-freiburg.de/Publications/2015/FDB15/image_orientation.pdf). In that paper, the authors trained a network to straighten a wide variety of images using the [Microsoft COCO dataset](https://cocodataset.org/#home). \n",
    "\n",
    "**The modified CelebA dataset**\n",
    "\n",
    "In order to have a reasonable training time for a homework, we will be working on a subset of the problem where we just straighten images of faces. To do this:\n",
    "\n",
    "- We will be using the [CelebA](http://mmlab.ie.cuhk.edu.hk/projects/CelebA.html) dataset of celebrity faces, where we assume that professional photographers have taken level pictures;\n",
    "\n",
    "\n",
    "- The training will be supervised, with a rotated image (up to $\\pm 60^\\circ$) as an input, and the amount (in degrees) that the image has been rotated as a target. "
   ]
  },
  {
   "cell_type": "markdown",
   "metadata": {
    "id": "-V3cWPARx0Mf"
   },
   "source": [
    "<a id=\"part2questions\"></a>\n",
    "\n",
    "### <div class='exercise'>PART 2: Questions</div> \n",
    "\n",
    "[Return to contents](#contents)\n",
    "\n",
    "\n",
    "<a id=\"q21\"></a>\n",
    "\n",
    "**[2.1:](#s21) Data preparation**\n",
    "\n",
    "<a id=\"q211\"></a>\n",
    "\n",
    "- **[2.1.1:](#s211)** **Loading CelebA and Thinking about Datasets.** Run the cells provided to automatically download the CelebA dataset. It is about 2.5GB, which can take 10-20 minutes to download. This happens only once. In the future, when you rerun the cell, it will use the dataset already stored on your machine. Once downloaded, we load the CelebA image data as a TensorFlow Dataset object. [TensorFlow Datasets](https://www.tensorflow.org/api_docs/python/tf/data/Dataset) are objects that behave like Python generators, allowing you to take elements (either input/target tuples or feature dictionaries) until you have gone through the entire dataset. Note how this is different from PART 1 where the entire dataset was loaded in as an array. Datasets also allow you to pipeline transformations to be applied to the elements, resulting in a new transformed Dataset (like `train_rot_ds`).\n",
    "\n",
    "  - **Run the provided code**:\n",
    "\n",
    "    - The creation of the normalization/rotation/resize pipeline has been done for you, resulting in train dataset `train_rot_ds` and test dataset `test_rot_ds`. \n",
    "  \n",
    "  - **Answer this question:**\n",
    "  \n",
    "    - Aside from pipelining, what is an important practical reason to use TensorFlow Dataset objects over simply loading all the data into $X$ and $Y$ `numpy` arrays? \n",
    "\n",
    "<a id=\"q212\"></a>\n",
    "\n",
    "- **[2.1.2:](#s212)** **Taking a look.** In a grid of subplots, plot at least 4 rotated images from `train_rot_ds` with the titles being the amount the images have been rotated. The floating point numbers in the titles should have a reasonable number of digits. **HINT:** one way to get a few image+label tuples from the Dataset is with `train_rot_ds.take(4)`. Check the [TensorFlow Datasets documentation](https://www.tensorflow.org/api_docs/python/tf/data/Dataset) for more information.\n",
    "\n",
    "<a id=\"q213\"></a>\n",
    "\n",
    "- **[2.1.3:](#s213)** **Conceptual Question.** Dropout layers have been shown to work well for regularizing deep neural networks, and can be used with very little computational cost. For our network, is it a good idea to use dropout layers? Explain, in **3-5 sentences**, being sure to explicitly discuss how a dropout layer works, and what that would mean for our model.\n",
    "\n",
    "<a id=\"q22\"></a>\n",
    "\n",
    "**[2.2:](#s22) Building and training your CNN**\n",
    "\n",
    "<a id=\"q221\"></a>\n",
    "\n",
    "- **[2.2.1:](#s221)** **Compiling your model.** Construct a model with multiple Conv layers and any other layers you think would help. Be certain to print your model summary as always. Feel free to experiment with architectures and number of parameters if you wish to get better performance or better training speed. You certainly don't need more than a few million parameters; we have been able to do it with substantially fewer. Any working setup is acceptable as long as you construct the network yourself and do not use a pre-written implementation.\n",
    "\n",
    "<a id=\"q222\"></a>\n",
    "\n",
    "- **[2.2.2:](#s222)** **Training your model.** Train your model. Please note that the `model.fit()` argument syntax is a little different when working with Datasets instead of numpy arrays; take a look at the [tf.keras.Model](https://www.tensorflow.org/api_docs/python/tf/keras/Model#fit) documentation. Be sure to also pass the test data as validation data. When passing `train_rot_ds` to `fit()`, you will find it useful to use pipelines to [batch](https://www.tensorflow.org/api_docs/python/tf/data/Dataset#batch) the data. You can also experiment with [prefetching](https://www.tensorflow.org/api_docs/python/tf/data/Dataset#prefetch) batches/elements from the dataset, which may allow you to speed up iterations by a few percent. Finally, while dry-running and prototyping your model, you may find it useful to [take](https://www.tensorflow.org/api_docs/python/tf/data/Dataset#take) a subset of the data to speed up experimentation. However, your final model MUST be trained on all the available training data! You should achieve validation and test MSEs of less than 9, corresponding roughly to $\\pm 3^\\circ$ accuracy in predicting the rotations on the test set. This can be achieved in just 2-3 epochs, though you are free to train as long as you want.\n",
    "\n",
    "<a id=\"q223\"></a>\n",
    "\n",
    "- **[2.2.3:](#s223)** **Saving and loading your weights.** Save your model weights to the path `model/your_model_name` where `your_model_name` is whatever filename prefix you want. Then reload your weights from that same path.\n",
    "  - **NOTE:** If you don't intend to use it, you may leave your line of code commented out. Nothing should change if you run it after saving it though, since it will load the same weights and everything else about the model will still be in memory. If you close your notebook or restart your kernel in the future, run all the cells required to compile the model, but skip the cells that performs the fit and the save. After running the load weights cell, your previously trained model will be restored.\n",
    "  - **Answer this question in a few sentences:** Suppose you save just the weights after training for a while. If you were to load the weights again and continue training, would it work? How will it be different than continuing from a full-model save?\n",
    "\n",
    "<a id=\"q224\"></a>\n",
    "\n",
    "- **[2.2.4:](#s224)** **Evaluating your model.** Create a subplots grid with 4 rows and 3 columns. Each row will be a separate image from the test set (of your choice) and each column will consist of: Original Image, Predicted Straightened Image, Target Straightened Image. The title of the latter two should be the predicted rotation and the actual rotation. For example, a row should look something like the image shown below. This can be achieved using the provided function `rot_resize` to correct for the rotation predicted by your network.\n",
    "\n",
    "![straightened face](data/straightened.png)\n",
    "\n",
    "\n",
    "<a id=\"q23\"></a>\n",
    "\n",
    "**[2.3:](#s23) Further Analysis**\n",
    "\n",
    "<a id=\"q231\"></a>\n",
    "\n",
    "- **[2.3.1:](#s231)** **Correct an image of your choosing.** Find an image or image(s) (not from the provided test/training sets), or make your own. You may rotate it yourself up to $\\pm60^\\circ$, or the face can already be naturally rotated. Resize and crop the image to 140px by 120px, load it here, and normalize it to [0.,1.] (you may use the provided `normalize_image` function) and use your network to correct it.\n",
    "\n",
    "![Confused Chris](data/chrisprattcorrection.png)"
   ]
  },
  {
   "cell_type": "markdown",
   "metadata": {
    "id": "MLUnwCLHx0Mf"
   },
   "source": [
    "<a id=\"part2solutions\"></a>\n",
    "\n",
    "## PART 2: Solutions\n",
    "\n",
    "[Return to contents](#contents)"
   ]
  },
  {
   "cell_type": "markdown",
   "metadata": {
    "id": "2sRwC2yux0Mi"
   },
   "source": [
    "<a id=\"s21\"></a>\n",
    "<a id=\"s211\"></a>\n",
    "<div class='exercise-r'>  \n",
    "\n",
    "**[2.1:](#q21) Data preparation**\n",
    "\n",
    "- **[2.1.1:](#q211)** **Loading CelebA and Thinking about Datasets.** Run the cells provided to automatically download the CelebA dataset. It is about 2.5GB, which can take 10-20 minutes to download. This happens only once. In the future, when you rerun the cell, it will use the dataset already stored on your machine. Once downloaded, we load the CelebA image data as a TensorFlow Dataset object. [TensorFlow Datasets](https://www.tensorflow.org/api_docs/python/tf/data/Dataset) are objects that behave like Python generators, allowing you to take elements (either input/target tuples or feature dictionaries) until you have gone through the entire dataset. Note how this is different from PART 1 where the entire dataset was loaded in as an array. Datasets also allow you to pipeline transformations to be applied to the elements, resulting in a new transformed Dataset (like `train_rot_ds`).\n",
    "\n",
    "  - **Run the provided code**:\n",
    "\n",
    "    - The creation of the normalization/rotation/resize pipeline has been done for you, resulting in train dataset `train_rot_ds` and test dataset `test_rot_ds`. \n",
    "  \n",
    "  - **Answer this question:**\n",
    "  \n",
    "    - Aside from pipelining, what is an important practical reason to use TensorFlow Dataset objects over simply loading all the data into $X$ and $Y$ `numpy` arrays?\n",
    "\n",
    "</div>"
   ]
  },
  {
   "cell_type": "code",
   "execution_count": null,
   "metadata": {
    "id": "5dvdi1Kpx0Mi"
   },
   "outputs": [],
   "source": [
    "# RUN THESE CELLS\n",
    "\n",
    "# Define our download_celeb function\n",
    "\n",
    "def download_celeb(\n",
    "    url, \n",
    "    filename,\n",
    "    filepath,\n",
    "    dirname,\n",
    "    dirpath,\n",
    "    chunk_size=1204,\n",
    "    overwrite=False,\n",
    "):\n",
    "    \"\"\"Downloads and extracts CelebA dataset from CS109B S3 bucket\"\"\"\n",
    "    \n",
    "    # Do not download if data already exists and overwrite==False\n",
    "    if not overwrite and os.path.isdir(os.path.join(dirpath, \"2.0.1\")):\n",
    "        print(\n",
    "            \"Congratulations...the CelebA dataset already exists \"\n",
    "            \"locally!\\nNo new downloads are required :o)\\n\"\n",
    "        )\n",
    "    # Download and extract CelebA if it doesn't already exist\n",
    "    else:\n",
    "        print(\"Downloading CelebA dataset to {}\\n\".format(filepath))\n",
    "\n",
    "        with requests.get(url, stream=True) as r:\n",
    "            chunk_size = 1024\n",
    "            length = int(r.headers['content-length'])\n",
    "            print(\n",
    "                \"...downloading a {:.2f} GB file.\"\n",
    "                \"This is going to take a while!\".format(length/1e9)\n",
    "            )\n",
    "            time.sleep(0.5)\n",
    "            with open(filepath, 'wb') as f:\n",
    "                for chunk in tqdm.tqdm(\n",
    "                    r.iter_content(chunk_size=chunk_size),\n",
    "                    total=int(length/chunk_size),\n",
    "                    unit=\"KB\"\n",
    "                ):\n",
    "                    f.write(chunk)\n",
    "\n",
    "        print(\"...{} download complete :o)\".format(filename))\n",
    "\n",
    "        if not os.path.isdir(dirpath):\n",
    "            os.makedirs(dirpath)\n",
    "\n",
    "        print(\n",
    "            \"...extracting {}. This will take a while too :o(\\n\"\n",
    "            \"\".format(filename)\n",
    "        )\n",
    "\n",
    "        with zipfile.ZipFile(filepath, 'r') as zipobj:\n",
    "            zipobj.extractall(dirpath)\n",
    "\n",
    "        print(\n",
    "            \"The CelebA dataset has been extracted to:\"\n",
    "            \"\\n\\n\\t{}\\n\".format(dirpath)\n",
    "        )"
   ]
  },
  {
   "cell_type": "code",
   "execution_count": null,
   "metadata": {
    "colab": {
     "base_uri": "https://localhost:8080/"
    },
    "id": "zevnEGhYx0Mj",
    "outputId": "2eb2ebab-0186-4830-edf2-ac6824129b27"
   },
   "outputs": [],
   "source": [
    "%%time\n",
    "# Download the CelebA dataset from the CS109B S3 bucket\n",
    "url = \"https://cs109b-course-data.s3.amazonaws.com/CelebA/2.0.1.zip\"\n",
    "filename = \"2.0.1.zip\"\n",
    "dirname = \"data/celeb_a\"\n",
    "dirpath = os.path.join(working_dir, dirname)\n",
    "filepath = os.path.join(working_dir, filename)\n",
    "\n",
    "download_celeb(url, filename, filepath, dirname, dirpath)"
   ]
  },
  {
   "cell_type": "code",
   "execution_count": null,
   "metadata": {
    "id": "D6grMeNex0Mk"
   },
   "outputs": [],
   "source": [
    "# This command will use the celeb_a dataset that you downloaded,\n",
    "# and load it into train and test \"tensorflow.Datasets\"\n",
    "\n",
    "train_celeb, test_celeb = tfds.load(\n",
    "    \"celeb_a\",\n",
    "    split=[\"train\", \"test\"],\n",
    "    shuffle_files=False,\n",
    "    data_dir = os.path.join(working_dir, \"data\"),\n",
    "    download=False,\n",
    ")"
   ]
  },
  {
   "cell_type": "code",
   "execution_count": null,
   "metadata": {
    "id": "6vrAkTQSx0Ml"
   },
   "outputs": [],
   "source": [
    "# You may use the following two functions\n",
    "def normalize_image(img):\n",
    "    return tf.cast(img, tf.float32)/255.\n",
    "\n",
    "def rot_resize(img, deg):\n",
    "    rotimg = ndimage.rotate(img, deg, reshape=False, order=3)\n",
    "    rotimg = np.clip(rotimg, 0., 1.)\n",
    "    rotimg = tf.image.resize_with_crop_or_pad(rotimg,140,120)\n",
    "    return rotimg\n",
    "\n",
    "################################################################\n",
    "# Don't manually invoke these functions; they are for Dataset \n",
    "# pipelining that is already done for you.\n",
    "################################################################\n",
    "def tf_rot_resize(img, deg):\n",
    "    \"\"\"Dataset pipe that rotates an image and resizes it to 140x120\"\"\"\n",
    "    rotimg = tfa.image.rotate(img, deg/180.*np.pi, interpolation=\"BILINEAR\")\n",
    "    rotimg = tf.image.resize_with_crop_or_pad(rotimg,140,120)\n",
    "    return rotimg\n",
    "\n",
    "def tf_random_rotate_helper(image):\n",
    "    \"\"\"Dataset pipe that normalizes image to [0.,1.] and rotates by a random\n",
    "    amount of degrees in [-60.,60.], returning an (input,target) pair consisting\n",
    "    of the rotated and resized image and the degrees it has been rotated by.\"\"\"\n",
    "    image = normalize_image(image)\n",
    "    deg = tf.random.uniform([],-60.,60.)\n",
    "    return (tf_rot_resize(image,deg), deg)  # (data, label)\n",
    "\n",
    "def tf_random_rotate_image(element):\n",
    "    \"\"\"Given an element drawn from the CelebA dataset, this returns a rotated\n",
    "    image and the amount it has been rotated by, in degrees.\"\"\"\n",
    "    image = element['image']\n",
    "    image, label = tf_random_rotate_helper(image)\n",
    "    image.set_shape((140,120,3))\n",
    "    return image, label\n",
    "################################################################"
   ]
  },
  {
   "cell_type": "code",
   "execution_count": null,
   "metadata": {
    "id": "VYXdRVY8x0Mm"
   },
   "outputs": [],
   "source": [
    "# Pipeline for creating randomly rotated images with their target labels being \n",
    "# the amount they were rotated, in degrees.\n",
    "train_rot_ds = train_celeb.map(tf_random_rotate_image)\n",
    "test_rot_ds = test_celeb.map(tf_random_rotate_image)"
   ]
  },
  {
   "cell_type": "markdown",
   "metadata": {
    "id": "IKhUF5rRx0Mm"
   },
   "source": [
    "**INTERPRETATION:**"
   ]
  },
  {
   "cell_type": "markdown",
   "metadata": {
    "id": "1utW3oPax0Mn"
   },
   "source": [
    "*Your answer here*\n"
   ]
  },
  {
   "cell_type": "markdown",
   "metadata": {
    "id": "1myVWu_vx0Mn"
   },
   "source": [
    "<a id=\"s212\"></a>\n",
    "<div class='exercise-r'>  \n",
    "\n",
    "**[2.1.2:](#q212)** **Taking a look.** In a grid of subplots, plot at least 4 rotated images from `train_rot_ds` with the titles being the amount the images have been rotated. The floating point numbers in the titles should have a reasonable number of digits. **HINT:** one way to get a few image+label tuples from the Dataset is with `train_rot_ds.take(4)`. Check the [TensorFlow Datasets documentation](https://www.tensorflow.org/api_docs/python/tf/data/Dataset) for more information.\n",
    "\n",
    "</div>"
   ]
  },
  {
   "cell_type": "code",
   "execution_count": null,
   "metadata": {
    "colab": {
     "base_uri": "https://localhost:8080/",
     "height": 425
    },
    "id": "VHy76uiox0Mo",
    "outputId": "243ef68a-9a00-4b25-bbc8-11cb81730118"
   },
   "outputs": [],
   "source": [
    "# your code here\n"
   ]
  },
  {
   "cell_type": "markdown",
   "metadata": {
    "id": "a4wqDT6fx0Mp"
   },
   "source": [
    "<a id=\"s213\"></a>\n",
    "<div class='exercise-r'>  \n",
    "\n",
    "**[2.1.3:](#q213)** **Conceptual Question.** Dropout layers have been shown to work well for regularizing deep neural networks, and can be used with very little computational cost. For our network, is it a good idea to use dropout layers? Explain, in **3-5 sentences**, being sure to explicitly discuss how a dropout layer works, and what that would mean for our model.\n",
    "\n",
    "</div>"
   ]
  },
  {
   "cell_type": "markdown",
   "metadata": {
    "id": "ZPB0-yfjx0Mq"
   },
   "source": [
    "**INTERPRETATION:**"
   ]
  },
  {
   "cell_type": "markdown",
   "metadata": {
    "id": "OJsdhEUVx0Mr"
   },
   "source": [
    "*Your answer here*\n"
   ]
  },
  {
   "cell_type": "markdown",
   "metadata": {
    "id": "ofyacpwQx0Mr"
   },
   "source": [
    "<a id=\"s22\"></a>\n",
    "<a id=\"s221\"></a>\n",
    "<div class='exercise-r'>  \n",
    "\n",
    "**[2.2:](#q22) Building and training your CNN**\n",
    "\n",
    "- **[2.2.1:](#q221)** **Compiling your model.** Construct a model with multiple Conv layers and any other layers you think would help. Be certain to print your model summary as always. Feel free to experiment with architectures and number of parameters if you wish to get better performance or better training speed. You certainly don't need more than a few million parameters; we have been able to do it with substantially fewer. Any working setup is acceptable as long as you construct the network yourself and do not use a pre-written implementation.\n",
    "\n",
    "</div>"
   ]
  },
  {
   "cell_type": "code",
   "execution_count": null,
   "metadata": {
    "colab": {
     "base_uri": "https://localhost:8080/"
    },
    "id": "yaD3HlKNx0Mr",
    "outputId": "17a0e1d3-29c7-43fb-adc2-a1dc365ed52f"
   },
   "outputs": [],
   "source": [
    "# your code here\n"
   ]
  },
  {
   "cell_type": "markdown",
   "metadata": {
    "id": "CGPikMe_x0Ms"
   },
   "source": [
    "<a id=\"s222\"></a>\n",
    "<div class='exercise-r'>  \n",
    "\n",
    "**[2.2.2:](#q222)** **Training your model.** Train your model. Please note that the `model.fit()` argument syntax is a little different when working with Datasets instead of numpy arrays; take a look at the [tf.keras.Model](https://www.tensorflow.org/api_docs/python/tf/keras/Model#fit) documentation. Be sure to also pass the test data as validation data. When passing `train_rot_ds` to `fit()`, you will find it useful to use pipelines to [batch](https://www.tensorflow.org/api_docs/python/tf/data/Dataset#batch) the data. You can also experiment with [prefetching](https://www.tensorflow.org/api_docs/python/tf/data/Dataset#prefetch) batches/elements from the dataset, which may allow you to speed up iterations by a few percent. Finally, while dry-running and prototyping your model, you may find it useful to [take](https://www.tensorflow.org/api_docs/python/tf/data/Dataset#take) a subset of the data to speed up experimentation. However, your final model MUST be trained on all the available training data! You should achieve validation and test MSEs of less than 9, corresponding roughly to $\\pm 3^\\circ$ accuracy in predicting the rotations on the test set. This can be achieved in just 2-3 epochs, though you are free to train as long as you want.\n",
    "\n",
    "</div>"
   ]
  },
  {
   "cell_type": "code",
   "execution_count": null,
   "metadata": {
    "id": "9_shHXiHx0Mt"
   },
   "outputs": [],
   "source": [
    "# your code here\n"
   ]
  },
  {
   "cell_type": "markdown",
   "metadata": {
    "id": "QhX0T-Q_x0Mu"
   },
   "source": [
    "<a id=\"s223\"></a>\n",
    "<div class='exercise-r'>  \n",
    "\n",
    "**[2.2.3:](#q223)** **Saving and loading your weights.** Save your model weights to the path `model/your_model_name` where `your_model_name` is whatever filename prefix you want. Then reload your weights from that same path.\n",
    "  - **NOTE:** If you don't intend to use it, you may leave your line of code commented out. Nothing should change if you run it after saving it though, since it will load the same weights and everything else about the model will still be in memory. If you close your notebook or restart your kernel in the future, run all the cells required to compile the model, but skip the cells that performs the fit and the save. After running the load weights cell, your previously trained model will be restored.\n",
    "  - **Answer this question in a few sentences:** Suppose you save just the weights after training for a while. If you were to load the weights again and continue training, would it work? How will it be different than continuing from a full-model save?\n",
    "\n",
    "</div>"
   ]
  },
  {
   "cell_type": "code",
   "execution_count": null,
   "metadata": {
    "colab": {
     "base_uri": "https://localhost:8080/"
    },
    "id": "VFVM_NMbx0Mv",
    "outputId": "552aef1d-9a85-4dfa-e479-5611ffcc24fd"
   },
   "outputs": [],
   "source": [
    "# your code here\n"
   ]
  },
  {
   "cell_type": "markdown",
   "metadata": {
    "id": "FiUsAwc-x0Mw"
   },
   "source": [
    "**INTERPRETATION:**"
   ]
  },
  {
   "cell_type": "markdown",
   "metadata": {
    "id": "6Qw6-MPrx0Mx"
   },
   "source": [
    "*Your answer here*\n"
   ]
  },
  {
   "cell_type": "markdown",
   "metadata": {
    "id": "e1Sb-tyGx0Mx"
   },
   "source": [
    "<a id=\"s224\"></a>\n",
    "<div class='exercise-r'>  \n",
    "\n",
    "**[2.2.4:](#q224)** **Evaluating your model.** Create a subplots grid with 4 rows and 3 columns. Each row will be a separate image from the test set (of your choice) and each column will consist of: Original Image, Predicted Straightened Image, Target Straightened Image. The title of the latter two should be the predicted rotation and the actual rotation. For example, a row should look something like the image shown below. This can be achieved using the provided function `rot_resize` to correct for the rotation predicted by your network.\n",
    "\n",
    "</div>\n",
    "\n",
    "![straightened face](data/straightened.png)"
   ]
  },
  {
   "cell_type": "code",
   "execution_count": null,
   "metadata": {
    "id": "HWsHliY1x0My"
   },
   "outputs": [],
   "source": [
    "# your code here\n"
   ]
  },
  {
   "cell_type": "markdown",
   "metadata": {
    "id": "bDQADV6Mx0M0"
   },
   "source": [
    "<a id=\"s23\"></a>\n",
    "<a id=\"s231\"></a>\n",
    "<div class='exercise-r'>  \n",
    "\n",
    "**[2.3:](#q23) Further analysis**\n",
    "\n",
    "- **[2.3.1:](#q231)** **Correct an image of your choosing.** Find an image or image(s) (not from the provided test/training sets), or make your own. You may rotate it yourself up to $\\pm60^\\circ$, or the face can already be naturally rotated. Resize and crop the image to 140px by 120px, load it here, and normalize it to [0.,1.] (you may use the provided `normalize_image` function) and use your network to correct it.\n",
    "\n",
    "</div>\n",
    "\n",
    "![Confused Chris](data/chrisprattcorrection.png)\n"
   ]
  },
  {
   "cell_type": "code",
   "execution_count": null,
   "metadata": {
    "colab": {
     "base_uri": "https://localhost:8080/",
     "height": 1000
    },
    "id": "ptw3bIJcx0M0",
    "outputId": "c15561ac-4ba2-4cf8-f966-60ca7c127fee",
    "scrolled": false
   },
   "outputs": [],
   "source": [
    "# your code here\n"
   ]
  },
  {
   "cell_type": "code",
   "execution_count": null,
   "metadata": {
    "id": "Ln75ejPkx0M1"
   },
   "outputs": [],
   "source": []
  }
 ],
 "metadata": {
  "accelerator": "GPU",
  "colab": {
   "name": "cs109b-hw4-solutions-colab.ipynb",
   "provenance": [],
   "toc_visible": true
  },
  "kernelspec": {
   "display_name": "python3",
   "language": "python",
   "name": "python3"
  },
  "language_info": {
   "codemirror_mode": {
    "name": "ipython",
    "version": 3
   },
   "file_extension": ".py",
   "mimetype": "text/x-python",
   "name": "python",
   "nbconvert_exporter": "python",
   "pygments_lexer": "ipython3",
   "version": "3.8.5"
  }
 },
 "nbformat": 4,
 "nbformat_minor": 1
}
