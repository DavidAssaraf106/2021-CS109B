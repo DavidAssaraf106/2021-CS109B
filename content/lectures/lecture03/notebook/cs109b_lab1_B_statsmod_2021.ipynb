{
<<<<<<< HEAD
 "cells": [
  {
   "cell_type": "markdown",
   "metadata": {},
   "source": [
    "# <img style=\"float: left; padding-right: 10px; width: 45px\" src=\"https://raw.githubusercontent.com/Harvard-IACS/2018-CS109A/master/content/styles/iacs.png\"> CS109B Data Science 2: Advanced Topics in Data Science \n",
    "## Lecture 3 - Coding Environment Setup and review of `statsmodels`\n",
    "###  Notebook B\n",
    "\n",
    "**Harvard University**<br>\n",
    "**Spring 2021**<br>\n",
    "**Instructors:** Mark Glickman, Pavlos Protopapas, and Chris Tanner<br>\n",
    "**Additional Instructor:** Eleni Kaxiras<br><BR>\n",
    "*Content:* Eleni Kaxiras and Will Claybaugh\n",
    "\n",
    "---"
   ]
  },
  {
   "cell_type": "code",
   "execution_count": 1,
   "metadata": {},
   "outputs": [
    {
     "data": {
      "text/html": [
       "<style>\n",
       "blockquote { background: #AEDE94; }\n",
       "h1 { \n",
       "    padding-top: 25px;\n",
       "    padding-bottom: 25px;\n",
       "    text-align: left; \n",
       "    padding-left: 10px;\n",
       "    background-color: #DDDDDD; \n",
       "    color: black;\n",
       "}\n",
       "h2 { \n",
       "    padding-top: 10px;\n",
       "    padding-bottom: 10px;\n",
       "    text-align: left; \n",
       "    padding-left: 5px;\n",
       "    background-color: #EEEEEE; \n",
       "    color: black;\n",
       "}\n",
       "\n",
       "div.exercise {\n",
       "\tbackground-color: #ffcccc;\n",
       "\tborder-color: #E9967A; \t\n",
       "\tborder-left: 5px solid #800080; \n",
       "\tpadding: 0.5em;\n",
       "}\n",
       "div.discussion {\n",
       "\tbackground-color: #ccffcc;\n",
       "\tborder-color: #88E97A;\n",
       "\tborder-left: 5px solid #0A8000; \n",
       "\tpadding: 0.5em;\n",
       "}\n",
       "div.theme {\n",
       "\tbackground-color: #DDDDDD;\n",
       "\tborder-color: #E9967A; \t\n",
       "\tborder-left: 5px solid #800080; \n",
       "\tpadding: 0.5em;\n",
       "\tfont-size: 18pt;\n",
       "}\n",
       "div.gc { \n",
       "\tbackground-color: #AEDE94;\n",
       "\tborder-color: #E9967A; \t \n",
       "\tborder-left: 5px solid #800080; \n",
       "\tpadding: 0.5em;\n",
       "\tfont-size: 12pt;\n",
       "}\n",
       "p.q1 { \n",
       "    padding-top: 5px;\n",
       "    padding-bottom: 5px;\n",
       "    text-align: left; \n",
       "    padding-left: 5px;\n",
       "    background-color: #EEEEEE; \n",
       "    color: black;\n",
       "}\n",
       "header {\n",
       "   padding-top: 35px;\n",
       "    padding-bottom: 35px;\n",
       "    text-align: left; \n",
       "    padding-left: 10px;\n",
       "    background-color: #DDDDDD; \n",
       "    color: black;\n",
       "}\n",
       "</style>\n",
       "\n"
      ],
      "text/plain": [
       "<IPython.core.display.HTML object>"
      ]
     },
     "execution_count": 1,
     "metadata": {},
     "output_type": "execute_result"
    }
   ],
   "source": [
    "## RUN THIS CELL TO PROPERLY HIGHLIGHT THE EXERCISES\n",
    "import requests\n",
    "from IPython.core.display import HTML\n",
    "styles = requests.get(\"https://raw.githubusercontent.com/Harvard-IACS/2019-CS109B/master/content/styles/cs109.css\").text\n",
    "HTML(styles)"
   ]
  },
  {
   "cell_type": "code",
   "execution_count": 2,
   "metadata": {},
   "outputs": [],
   "source": [
    "import numpy as np\n",
    "from scipy.interpolate import interp1d\n",
    "import matplotlib.pyplot as plt\n",
    "import pandas as pd\n",
    "\n",
    "%matplotlib inline "
   ]
  },
  {
   "cell_type": "markdown",
   "metadata": {},
   "source": [
    "## Learning Goals\n",
    "\n",
    "By the end of this lab, you should be able to:\n",
    "* use `np.linalg.vander`\n",
    "* use the weird R-style formulas in `statsmodels`\n",
    "* practice least-squares regression in `statsmodels`"
   ]
  },
  {
   "cell_type": "markdown",
   "metadata": {},
   "source": [
    "### Basis Functions\n",
    "\n",
    "In our models we can use various types of functions as basis functions. Strictly speaking, in linear algebra where a basis for a subspace S of $\\mathbb{R}^n$ is a set of vectors that spans S and is linearly independent. As a reminder, a set of vectors $\\textbf{v}_1, \\textbf{v}_2, ..., \\textbf{v}_k$ are considered linearly independent if they cannot be written as a linear combination of each other, such that, if: $c_1\\textbf{v}_1+c_2\\textbf{v}_2+ ...+ c_k\\textbf{v}_k = \\textbf{0}$ then $c_1,c_2,...,c_k$ are all zero. <BR>\n",
    "    \n",
    "In data science where we have lots of imperfect data (with errors), as well as imperfect computers (with round-off errors), when we substitute their values into the matrices we almost always get column degeneracy, meaning, some of our columns become linear combinations of each other. Especially so if we use the monomial basis and go beyond ~5,6 degree of the polynomial. <BR>\n",
    "\n",
    "Examples are:\n",
    "\n",
    "- Monomials such as $x,x^2,x^4,x^5$ \n",
    "- Sigmoid/ReLU functions (neural networks)\n",
    "- Fourier functions \n",
    "- Wavelets \n",
    "- Splines\n",
    "    \n",
    "The matrix produced when we substitute the values of our data into the basis functions is called the *design matrix*."
   ]
  },
  {
   "cell_type": "markdown",
   "metadata": {},
   "source": [
    "### Linear/Polynomial Regression\n",
    "\n",
    "We will use the `diabetes` dataset.\n",
    "\n",
    "Variables are:\n",
    "- subject:   subject ID number\n",
    "- age:       age diagnosed with diabetes\n",
    "- acidity:   a measure of acidity called base deficit\n",
    "Response:\n",
    "- y:         natural log of serum C-peptide concentration\n",
    "\n",
    "*Original source is Sockett et al. (1987) mentioned in Hastie and Tibshirani's book \n",
    "\"Generalized Additive Models\".*\n",
    "\n",
    "\n"
   ]
  },
  {
   "cell_type": "markdown",
   "metadata": {},
   "source": [
    "Reading the data in Pandas:"
   ]
  },
  {
   "cell_type": "code",
   "execution_count": 3,
   "metadata": {},
   "outputs": [
    {
     "data": {
      "text/html": [
       "<div>\n",
       "<style scoped>\n",
       "    .dataframe tbody tr th:only-of-type {\n",
       "        vertical-align: middle;\n",
       "    }\n",
       "\n",
       "    .dataframe tbody tr th {\n",
       "        vertical-align: top;\n",
       "    }\n",
       "\n",
       "    .dataframe thead th {\n",
       "        text-align: right;\n",
       "    }\n",
       "</style>\n",
       "<table border=\"1\" class=\"dataframe\">\n",
       "  <thead>\n",
       "    <tr style=\"text-align: right;\">\n",
       "      <th></th>\n",
       "      <th>subject</th>\n",
       "      <th>age</th>\n",
       "      <th>acidity</th>\n",
       "      <th>y</th>\n",
       "    </tr>\n",
       "  </thead>\n",
       "  <tbody>\n",
       "    <tr>\n",
       "      <th>0</th>\n",
       "      <td>1</td>\n",
       "      <td>5.2</td>\n",
       "      <td>-8.1</td>\n",
       "      <td>4.8</td>\n",
       "    </tr>\n",
       "    <tr>\n",
       "      <th>1</th>\n",
       "      <td>2</td>\n",
       "      <td>8.8</td>\n",
       "      <td>-16.1</td>\n",
       "      <td>4.1</td>\n",
       "    </tr>\n",
       "    <tr>\n",
       "      <th>2</th>\n",
       "      <td>3</td>\n",
       "      <td>10.5</td>\n",
       "      <td>-0.9</td>\n",
       "      <td>5.2</td>\n",
       "    </tr>\n",
       "    <tr>\n",
       "      <th>3</th>\n",
       "      <td>4</td>\n",
       "      <td>10.6</td>\n",
       "      <td>-7.8</td>\n",
       "      <td>5.5</td>\n",
       "    </tr>\n",
       "    <tr>\n",
       "      <th>4</th>\n",
       "      <td>5</td>\n",
       "      <td>10.4</td>\n",
       "      <td>-29.0</td>\n",
       "      <td>5.0</td>\n",
       "    </tr>\n",
       "  </tbody>\n",
       "</table>\n",
       "</div>"
      ],
      "text/plain": [
       "   subject   age  acidity    y\n",
       "0        1   5.2     -8.1  4.8\n",
       "1        2   8.8    -16.1  4.1\n",
       "2        3  10.5     -0.9  5.2\n",
       "3        4  10.6     -7.8  5.5\n",
       "4        5  10.4    -29.0  5.0"
      ]
     },
     "execution_count": 3,
     "metadata": {},
     "output_type": "execute_result"
    }
   ],
   "source": [
    "diab = pd.read_csv(\"data/diabetes.csv\")\n",
    "diab.head()"
   ]
  },
  {
   "cell_type": "code",
   "execution_count": 7,
   "metadata": {},
   "outputs": [
    {
     "data": {
      "text/plain": [
       "<AxesSubplot:xlabel='y'>"
      ]
     },
     "execution_count": 7,
     "metadata": {},
     "output_type": "execute_result"
    },
    {
     "data": {
      "image/png": "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\n",
      "text/plain": [
       "<Figure size 432x288 with 1 Axes>"
      ]
     },
     "metadata": {
      "needs_background": "light"
     },
     "output_type": "display_data"
    }
   ],
   "source": [
    "import matplotlib.pyplot as plt\n",
    "import seaborn as sns\n",
    "sns.distplot(diab['y'], kde=True)"
   ]
  },
  {
   "cell_type": "markdown",
   "metadata": {},
   "source": [
    "### Create the design matrix for a fictitious dataset\n",
    "Let's keep just the `age` feature and create some columns of our own. Let's see how good this matrix is before we create the design matrix."
   ]
  },
  {
   "cell_type": "code",
   "execution_count": 8,
   "metadata": {},
   "outputs": [
    {
     "data": {
      "text/html": [
       "<div>\n",
       "<style scoped>\n",
       "    .dataframe tbody tr th:only-of-type {\n",
       "        vertical-align: middle;\n",
       "    }\n",
       "\n",
       "    .dataframe tbody tr th {\n",
       "        vertical-align: top;\n",
       "    }\n",
       "\n",
       "    .dataframe thead th {\n",
       "        text-align: right;\n",
       "    }\n",
       "</style>\n",
       "<table border=\"1\" class=\"dataframe\">\n",
       "  <thead>\n",
       "    <tr style=\"text-align: right;\">\n",
       "      <th></th>\n",
       "      <th>age</th>\n",
       "      <th>age2</th>\n",
       "      <th>random</th>\n",
       "      <th>same</th>\n",
       "    </tr>\n",
       "  </thead>\n",
       "  <tbody>\n",
       "    <tr>\n",
       "      <th>0</th>\n",
       "      <td>5.2</td>\n",
       "      <td>27.04</td>\n",
       "      <td>-0.125236</td>\n",
       "      <td>5.2</td>\n",
       "    </tr>\n",
       "    <tr>\n",
       "      <th>1</th>\n",
       "      <td>8.8</td>\n",
       "      <td>77.44</td>\n",
       "      <td>0.565989</td>\n",
       "      <td>8.8</td>\n",
       "    </tr>\n",
       "    <tr>\n",
       "      <th>2</th>\n",
       "      <td>10.5</td>\n",
       "      <td>110.25</td>\n",
       "      <td>0.423468</td>\n",
       "      <td>10.5</td>\n",
       "    </tr>\n",
       "    <tr>\n",
       "      <th>3</th>\n",
       "      <td>10.6</td>\n",
       "      <td>112.36</td>\n",
       "      <td>0.275158</td>\n",
       "      <td>10.6</td>\n",
       "    </tr>\n",
       "    <tr>\n",
       "      <th>4</th>\n",
       "      <td>10.4</td>\n",
       "      <td>108.16</td>\n",
       "      <td>-0.502305</td>\n",
       "      <td>10.4</td>\n",
       "    </tr>\n",
       "  </tbody>\n",
       "</table>\n",
       "</div>"
      ],
      "text/plain": [
       "    age    age2    random  same\n",
       "0   5.2   27.04 -0.125236   5.2\n",
       "1   8.8   77.44  0.565989   8.8\n",
       "2  10.5  110.25  0.423468  10.5\n",
       "3  10.6  112.36  0.275158  10.6\n",
       "4  10.4  108.16 -0.502305  10.4"
      ]
     },
     "execution_count": 8,
     "metadata": {},
     "output_type": "execute_result"
    }
   ],
   "source": [
    "diab_age = diab[['age']].copy()\n",
    "diab_age['age2'] = diab_age.apply(lambda row: row['age']**2, axis=1)\n",
    "diab_age['random'] = np.random.normal(0,1,len(diab_age)) \n",
    "diab_age['same'] = diab_age['age']\n",
    "diab_age.head()"
   ]
  },
  {
   "cell_type": "code",
   "execution_count": 9,
   "metadata": {},
   "outputs": [
    {
     "data": {
      "text/plain": [
       "array([[  5.2       ,  27.04      ,  -0.12523638,   5.2       ],\n",
       "       [  8.8       ,  77.44      ,   0.56598869,   8.8       ],\n",
       "       [ 10.5       , 110.25      ,   0.42346813,  10.5       ],\n",
       "       [ 10.6       , 112.36      ,   0.27515807,  10.6       ],\n",
       "       [ 10.4       , 108.16      ,  -0.50230513,  10.4       ]])"
      ]
     },
     "execution_count": 9,
     "metadata": {},
     "output_type": "execute_result"
    }
   ],
   "source": [
    "A = diab_age.to_numpy(copy=True)\n",
    "A[:5]"
   ]
  },
  {
   "cell_type": "markdown",
   "metadata": {},
   "source": [
    "Let's check if the columns of A are linearly independent by using some linear algebra methods from `numpy.linalg` and `sympy`. "
   ]
  },
  {
   "cell_type": "code",
   "execution_count": 10,
   "metadata": {},
   "outputs": [
    {
     "data": {
      "text/plain": [
       "3"
      ]
     },
     "execution_count": 10,
     "metadata": {},
     "output_type": "execute_result"
    }
   ],
   "source": [
    "from numpy.linalg import matrix_rank\n",
    "matrix_rank(A)"
   ]
  },
  {
   "cell_type": "code",
   "execution_count": 12,
   "metadata": {},
   "outputs": [
    {
     "data": {
      "text/plain": [
       "(0, 1, 2)"
      ]
     },
     "execution_count": 12,
     "metadata": {},
     "output_type": "execute_result"
    }
   ],
   "source": [
    "# check out which rows are linearly independent\n",
    "import sympy\n",
    "_, inds = sympy.Matrix(A).T.rref() \n",
    "inds"
   ]
  },
  {
   "cell_type": "code",
   "execution_count": 13,
   "metadata": {},
   "outputs": [
    {
     "data": {
      "text/plain": [
       "7.828071911857438e+16"
      ]
     },
     "execution_count": 13,
     "metadata": {},
     "output_type": "execute_result"
    }
   ],
   "source": [
    "np.linalg.cond(A)"
   ]
  },
  {
   "cell_type": "markdown",
   "metadata": {},
   "source": [
    "### Create the design matrix for `age` using a polynomial basis\n",
    "Let's keep just the `age` feature again and create the design matrix using a polynomial of degree `n`. First we will use the basic `numpy` formula `vander()`."
   ]
  },
  {
   "cell_type": "code",
   "execution_count": 14,
   "metadata": {},
   "outputs": [
    {
     "data": {
      "text/plain": [
       "(array([[ 1. ,  5.2],\n",
       "        [ 1. ,  8.8],\n",
       "        [ 1. , 10.5]]),\n",
       " (43, 2))"
      ]
     },
     "execution_count": 14,
     "metadata": {},
     "output_type": "execute_result"
    }
   ],
   "source": [
    "vand = np.vander(diab_age.age, 2, increasing=True)\n",
    "vand[:3], vand.shape"
   ]
  },
  {
   "cell_type": "code",
   "execution_count": 15,
   "metadata": {},
   "outputs": [
    {
     "data": {
      "text/plain": [
       "(24.709088478926237, 2)"
      ]
     },
     "execution_count": 15,
     "metadata": {},
     "output_type": "execute_result"
    }
   ],
   "source": [
    "## To our point why the Vandermonde matrix is usually ill-conditioned, \n",
    "## find the condition number of this matrix\n",
    "np.linalg.cond(vand), matrix_rank(vand)"
   ]
  },
  {
   "cell_type": "markdown",
   "metadata": {},
   "source": [
    "<div class=\"exercise\"><b>Exercise</b>: Vandermonde matrix</div><BR>\n",
    "Change the degree of the polynomial and comment on what happens to the condition and rank of the matrix."
   ]
  },
  {
   "cell_type": "code",
   "execution_count": 16,
   "metadata": {},
   "outputs": [
    {
     "data": {
      "text/plain": [
       "(array([[1.00000000e+00, 5.20000000e+00, 2.70400000e+01, 1.40608000e+02,\n",
       "         7.31161600e+02, 3.80204032e+03, 1.97706097e+04, 1.02807170e+05],\n",
       "        [1.00000000e+00, 8.80000000e+00, 7.74400000e+01, 6.81472000e+02,\n",
       "         5.99695360e+03, 5.27731917e+04, 4.64404087e+05, 4.08675596e+06],\n",
       "        [1.00000000e+00, 1.05000000e+01, 1.10250000e+02, 1.15762500e+03,\n",
       "         1.21550625e+04, 1.27628156e+05, 1.34009564e+06, 1.40710042e+07]]),\n",
       " (43, 8))"
      ]
     },
     "execution_count": 16,
     "metadata": {},
     "output_type": "execute_result"
    }
   ],
   "source": [
    "vand = np.vander(diab_age.age, 8, increasing=True)\n",
    "vand[:3], vand.shape"
   ]
  },
  {
   "cell_type": "code",
   "execution_count": 17,
   "metadata": {},
   "outputs": [
    {
     "data": {
      "text/plain": [
       "(4207821284.7228603, 8)"
      ]
     },
     "execution_count": 17,
     "metadata": {},
     "output_type": "execute_result"
    }
   ],
   "source": [
    "## To our point why the Vandermonde matrix is usually ill-conditioned, \n",
    "## find the condition number of this matrix\n",
    "np.linalg.cond(vand), matrix_rank(vand)"
   ]
  },
  {
   "cell_type": "markdown",
   "metadata": {},
   "source": [
    "### Linear/Polynomial regression with statsmodels. \n",
    "\n",
    "As you remember from 109a, we have two tools for Linear Regression:\n",
    "- `statsmodels` [https://www.statsmodels.org/stable/regression.html](https://www.statsmodels.org/stable/regression.html), and \n",
    "- `sklearn`[https://scikit-learn.org/stable/index.html](https://scikit-learn.org/stable/index.html)\n",
    "\n",
    "Previously, in this notebook, we worked from a vector of target values and a design matrix we built ourself. In 109a we used e.g. `sklearn`'s PolynomialFeatures to build the matrix. Now we will look at `statsmodels` which allows users to fit statistical models using R-style **formulas**. They build the target value and design matrix for you. \n",
    "\n",
    "**Note:** Categorical features (e.g. let's say we had a categorical feature called Region, are designated by `C(Region)`), polynomial features (e.g. age) are entered as `np.power(age, n)` where `n` is the degree of the polynomial **OR** `np.vander(age, n, increasing=True)`.\n",
    "\n",
    "```\n",
    "# Example: if our target variable is 'Lottery', while 'Region' is a categorical predictor and all the others are numerical:\n",
    "df = dta.data[['Lottery', 'Literacy', 'Wealth', 'Region']]\n",
    "\n",
    "formula='Lottery ~ Literacy + Wealth + C(Region) + Literacy * Wealth'\n",
    "```\n",
    "\n",
    "For more on these formulas see:\n",
    "\n",
    "- https://www.statsmodels.org/stable/examples/notebooks/generated/formulas.html\n",
    "- https://patsy.readthedocs.io/en/latest/overview.html "
   ]
  },
  {
   "cell_type": "code",
   "execution_count": 18,
   "metadata": {},
   "outputs": [],
   "source": [
    "import statsmodels.formula.api as smf\n",
    "\n",
    "model1 = smf.ols('y ~ age', data=diab)\n",
    "fit1_lm = model1.fit()"
   ]
  },
  {
   "cell_type": "markdown",
   "metadata": {},
   "source": [
    "Let's build a dataframe to predict values on (sometimes this is just the test or validation set). Very useful for making pretty plots of the model predictions - predict for TONS of values, not just whatever's in the training set."
   ]
  },
  {
   "cell_type": "code",
   "execution_count": 19,
   "metadata": {},
   "outputs": [
    {
     "data": {
      "text/html": [
       "<div>\n",
       "<style scoped>\n",
       "    .dataframe tbody tr th:only-of-type {\n",
       "        vertical-align: middle;\n",
       "    }\n",
       "\n",
       "    .dataframe tbody tr th {\n",
       "        vertical-align: top;\n",
       "    }\n",
       "\n",
       "    .dataframe thead th {\n",
       "        text-align: right;\n",
       "    }\n",
       "</style>\n",
       "<table border=\"1\" class=\"dataframe\">\n",
       "  <thead>\n",
       "    <tr style=\"text-align: right;\">\n",
       "      <th></th>\n",
       "      <th>age</th>\n",
       "    </tr>\n",
       "  </thead>\n",
       "  <tbody>\n",
       "    <tr>\n",
       "      <th>0</th>\n",
       "      <td>0.500000</td>\n",
       "    </tr>\n",
       "    <tr>\n",
       "      <th>1</th>\n",
       "      <td>0.696970</td>\n",
       "    </tr>\n",
       "    <tr>\n",
       "      <th>2</th>\n",
       "      <td>0.893939</td>\n",
       "    </tr>\n",
       "    <tr>\n",
       "      <th>3</th>\n",
       "      <td>1.090909</td>\n",
       "    </tr>\n",
       "    <tr>\n",
       "      <th>4</th>\n",
       "      <td>1.287879</td>\n",
       "    </tr>\n",
       "  </tbody>\n",
       "</table>\n",
       "</div>"
      ],
      "text/plain": [
       "        age\n",
       "0  0.500000\n",
       "1  0.696970\n",
       "2  0.893939\n",
       "3  1.090909\n",
       "4  1.287879"
      ]
     },
     "execution_count": 19,
     "metadata": {},
     "output_type": "execute_result"
    }
   ],
   "source": [
    "x_pred = np.linspace(0.5,20,100)\n",
    "\n",
    "predict_df = pd.DataFrame(data={\"age\":x_pred})\n",
    "predict_df.head()"
   ]
  },
  {
   "cell_type": "markdown",
   "metadata": {},
   "source": [
    "Use `get_prediction(<data>).summary_frame()` to get the model's prediction (and error bars!)"
   ]
  },
  {
   "cell_type": "code",
   "execution_count": 20,
   "metadata": {},
   "outputs": [
    {
     "data": {
      "text/html": [
       "<div>\n",
       "<style scoped>\n",
       "    .dataframe tbody tr th:only-of-type {\n",
       "        vertical-align: middle;\n",
       "    }\n",
       "\n",
       "    .dataframe tbody tr th {\n",
       "        vertical-align: top;\n",
       "    }\n",
       "\n",
       "    .dataframe thead th {\n",
       "        text-align: right;\n",
       "    }\n",
       "</style>\n",
       "<table border=\"1\" class=\"dataframe\">\n",
       "  <thead>\n",
       "    <tr style=\"text-align: right;\">\n",
       "      <th></th>\n",
       "      <th>mean</th>\n",
       "      <th>mean_se</th>\n",
       "      <th>mean_ci_lower</th>\n",
       "      <th>mean_ci_upper</th>\n",
       "      <th>obs_ci_lower</th>\n",
       "      <th>obs_ci_upper</th>\n",
       "    </tr>\n",
       "  </thead>\n",
       "  <tbody>\n",
       "    <tr>\n",
       "      <th>0</th>\n",
       "      <td>4.037574</td>\n",
       "      <td>0.233301</td>\n",
       "      <td>3.566412</td>\n",
       "      <td>4.508736</td>\n",
       "      <td>2.650278</td>\n",
       "      <td>5.424870</td>\n",
       "    </tr>\n",
       "    <tr>\n",
       "      <th>1</th>\n",
       "      <td>4.053940</td>\n",
       "      <td>0.228886</td>\n",
       "      <td>3.591696</td>\n",
       "      <td>4.516184</td>\n",
       "      <td>2.669647</td>\n",
       "      <td>5.438232</td>\n",
       "    </tr>\n",
       "    <tr>\n",
       "      <th>2</th>\n",
       "      <td>4.070305</td>\n",
       "      <td>0.224489</td>\n",
       "      <td>3.616940</td>\n",
       "      <td>4.523670</td>\n",
       "      <td>2.688952</td>\n",
       "      <td>5.451658</td>\n",
       "    </tr>\n",
       "    <tr>\n",
       "      <th>3</th>\n",
       "      <td>4.086671</td>\n",
       "      <td>0.220113</td>\n",
       "      <td>3.642143</td>\n",
       "      <td>4.531198</td>\n",
       "      <td>2.708193</td>\n",
       "      <td>5.465149</td>\n",
       "    </tr>\n",
       "    <tr>\n",
       "      <th>4</th>\n",
       "      <td>4.103036</td>\n",
       "      <td>0.215759</td>\n",
       "      <td>3.667302</td>\n",
       "      <td>4.538770</td>\n",
       "      <td>2.727369</td>\n",
       "      <td>5.478703</td>\n",
       "    </tr>\n",
       "  </tbody>\n",
       "</table>\n",
       "</div>"
      ],
      "text/plain": [
       "       mean   mean_se  mean_ci_lower  mean_ci_upper  obs_ci_lower  \\\n",
       "0  4.037574  0.233301       3.566412       4.508736      2.650278   \n",
       "1  4.053940  0.228886       3.591696       4.516184      2.669647   \n",
       "2  4.070305  0.224489       3.616940       4.523670      2.688952   \n",
       "3  4.086671  0.220113       3.642143       4.531198      2.708193   \n",
       "4  4.103036  0.215759       3.667302       4.538770      2.727369   \n",
       "\n",
       "   obs_ci_upper  \n",
       "0      5.424870  \n",
       "1      5.438232  \n",
       "2      5.451658  \n",
       "3      5.465149  \n",
       "4      5.478703  "
      ]
     },
     "execution_count": 20,
     "metadata": {},
     "output_type": "execute_result"
    }
   ],
   "source": [
    "prediction_output = fit1_lm.get_prediction(predict_df).summary_frame()\n",
    "prediction_output.head()"
   ]
  },
  {
   "cell_type": "markdown",
   "metadata": {},
   "source": [
    "Plot the data, the fitted model, the **confidence intervals**, and the *prediction intervals*. For more on how `statsmodels` calculates these intervals see: https://www.statsmodels.org/stable/_modules/statsmodels/regression/_prediction.html"
   ]
  },
  {
   "cell_type": "code",
   "execution_count": 21,
   "metadata": {
    "scrolled": true
   },
   "outputs": [
    {
     "data": {
      "image/png": "iVBORw0KGgoAAAANSUhEUgAAAXgAAAEWCAYAAABsY4yMAAAAOXRFWHRTb2Z0d2FyZQBNYXRwbG90bGliIHZlcnNpb24zLjMuMSwgaHR0cHM6Ly9tYXRwbG90bGliLm9yZy/d3fzzAAAACXBIWXMAAAsTAAALEwEAmpwYAABbq0lEQVR4nO2dd1hVV9a430UvNsBCEVCxxo6iIqDGkkTTTTc9mbRJJr33+svkm0zNzDeZ5Muk926iSeyKvbfYC1IELCjSpN39+2MfrkAAr3Av9wL7fZ7zcO9pe519Duvus/YqopTCYDAYDK0PL3cLYDAYDAbXYBS8wWAwtFKMgjcYDIZWilHwBoPB0EoxCt5gMBhaKUbBGwwGQyvFKHgXICJvisgzDu67SER+52qZmoKI9BARJSI+7palChFJEZGdDWw/I5lF5D0Redl5EhpE5CYRWVrte6GI9HKnTFWIyF0ikmvJFOZJsjkTo+DPEBFJE5ESESkQkeMislxE7hQRe18qpe5USr3UDLJ43I+DiEwQkUxXt6OUSlVK9avWbpqITHZ1u03B+sHp7W453IVSqp1Sap+75RARX+AvwDmWTEery9aafuyNgm8cFyql2gOxwB+Bx4B33CuSwdB0RNNq9EI9b3DdgADg12YWp9lpNTfSHSil8pVSM4GrgBtFZBDUHAGISIiI/Cgih0XkmPW5e61TxYnIahHJF5HvRSS0aoOIjLHeEo6LyCYRmWCtfwVIAf5pvV7+01rfX0TmikieiOwUkSurnWuaiGyz3j6yROThuq5LRLxF5HUROSIi+4Dza22/WUS2W+fZJyJ3WOuDgZ+ASEumQhGJFJFRIrLCuoZsEfmniPjV0/b7IvKQ9TnKGvX+3vre27ouqf6mICIfAjHAD1abj1Y75bUikm5dy1P13Mq65LhARDZWe0sbUm3b4yKy17r+bSJyabVtvUVksXUvj4jI59b6JdYumywZr6qn3cese1Ng3b9J1vpA67k6ZrX5SPU3pdpvB2fyDIp+E3xFRJYBxUAvZzxHdVybXUZLvn+JyCzrPKtEJK7avg21f76IbBCREyKSISLPV9tWZZq7VUTSgQW1ZOgLVJn2jovIguqyicjtwLXAo9Z9+sGRa/NYlFJmOYMFSAMm17E+HbjL+vwe8LL1OQy4DAgC2gNfAt9VO24RkAUMAoKBr4GPrG1RwFFgGvrHeIr1vUu1Y39X7VzBQAZwM+ADxANHgIHW9mwgxfocAsTXc413AjuAaCAUWAgowMfafj4QBwgwHq0U4q1tE4DMWucbAYyxZOoBbAfur6ftW4AfrM8zgL3A59W2fV9XO7Xvi9WOAt4GAoGhQCkwoJ52q9+zeOAQMBrwBm60zu9vbb8CiLTuyVVAERBhbfsUeMraFgAkV2tDAb0beLb6Wfcvsto1xFmf/wikWvcjGtha6/prnJszfwbTgYHWPeqIc56jm4CldcloyZcHjLLa+Bj4zMHneAIw2OrjIUAucEmt+/6BdZ7AOuSq2senAdledreuccZiRvDO4yD6n68GStv3vlZKFSulCoBX0EqxOh8qpbYqpYqAZ4ArRcQbuA6YrZSarZSyKaXmAmvRCr8uLgDSlFLvKqUqlFLr0T8Yl1vby4GzRKSDUuqYtb0urgT+ppTKUErlAa/WuqZZSqm9SrMYmIN+m6gTpdQ6pdRKS6Y04D919EEVi4EU0WaCccD/AEnWtvHW9jPhBaVUiVJqE7AJrehPx23Af5RSq5RSlUqp99E/DmOs6/lSKXXQuiefA7vRigp0H8eilfRJpdTSuhqoh0rAH32PfJVSaUqpvda2K4FXlFJ5SqkM4B+OntTBZ/A9pdSvSqkK4Dyc8xydjm+UUqutNj8GhlnrG3yOlVKLlFJbrP7fjP5RrX09zyulipRSJY2UrVVgFLzziEKPSGogIkEi8h8ROSAiJ4AlQCdLgVeRUe3zAcAX6IxWFFdYZoLjInIcSAYi6pEhFhhda/9rgXBr+2XoH4cDlhkhsZ7zRNYhU/VrmioiK63X5+PWOTvXcy5EpK9lFsix+uD/1be/pdAK0f/sKcCPwEER6UfjFHxOtc/FQDsHjokFHqrVj9HofkFEbqhmvjmOfvuqup5H0W82q0XkVxG5pb5GROQnOWXKulYptQe4H3geOCQin4lIpLV7g/ekIRrxDDrrOTod9d2bBtsXkdEistAyOeWj3zhrP08ZGIyCdwYikoBW8HWN1h5Cv3qPVkp1QI9KQSuBKqKrfY5Bj5COoB/SD5VSnaotwUqpP1r71k4FmgEsrrV/O6XUXQBKqTVKqYuBrsB3wBf1XFJ2HTJVXas/ejT1OtBNKdUJmF3teupKT/pvtMmnj9UHT9a6/tosRo/W/JRSWdb3G9DmgI31HOPMtKgZ6NFy9X4MUkp9KiKxaLPPPUCYdf1bsa5HKZWjlLpNKRUJ3AH8r9TjOaOUmmrdn3ZKqY+tdZ8opZLRSk4Br1m713tPLIrRJpgqwqt9duQZrN5/znqOGkuD7QOfADOBaKVUR+BNfvs8NeV5aDUpdo2CbwIi0kFELgA+Q9vNt9SxW3ugBD2hEwo8V8c+14nIWSISBLwIfKWUqgQ+Ai4UkXNFT3wGiJ5crJogywWq++7+CPQVketFxNdaEkRkgIj4ici1ItJRKVUOnECbBOriC+BeEekuIiHA49W2+aHNCIeBChGZCpxTbXsuECYiHWv1wQmgUET6A3fRMIvRCrRqYnIR8Ae0Pbc+mWv3RVN4G7jTGimKiARbE3vt0XZdhb5+RORm9Age6/sV1e7PMWvfKpkblFFE+onIROtH9CT6uak69gvgCdETpt3R/VGdjcAM6zk5j5omC0eeweo46zlqLPW2X+168pRSJ0VkFHquxpk481lyK0bBN44fRKQAPdJ4Cu1Te3M9+/4NPcl3BFgJ/FzHPh+iJ3Zy0BNz9wJYttaL0SPew1Z7j3Dqvv0duFy0Z8Q/LPvqOcDV6DmBHPQI0N/a/3ogzXpNvxNt46+Lt4Ff0Dbr9cA3VRusNu5FK5xj6H+umdW270DbRPdZr9eRwMPWfgXWuT+vp90qFqP/iasU/FL06HRJvUfoeYKnrTYd8uqoD6XUWrQd/p/oa9yDnjBEKbUN+DOwAq0IBgPLqh2eAKwSkUJ0v9ynlNpvbXseeN+S8Up+iz96MvUI+t51Rd97gBfQZpn96DmPD2sdex9wIXAcbc74rtq2v3H6Z7D69TvrOWoUDrT/e+BF63/wWZz/BvEOeo7huIh85+RzNyuiVKt5GzEY2gyi3WU/UkrVdrk1GOyYEbzBYDC0UoyCNxgMhlaKMdEYDAZDK8WM4A0Gg6GV4jHpXwE6d+6sevTo4W4xDAaDocWwbt26I0qpLnVt8ygF36NHD9auXetuMQwGg6HFICL1RjUbE43BYDC0UoyCNxgMhlaKUfAGg8HQSjEK3mAwGFopRsEbDAZDK8UoeIPBYGilGAVvMBgMrRSj4A0Gg8FNuDpVjFHwBoPB0EwopdiUs4lXU18l+b/JvJL6ikvbc1kkq1VDs3phh17As0qpv7mqTYPBYPA0CkoLmL9/PrN3z2b27tlkFWQBEB8RT3i78NMc3TRcpuCVUjuxqqRbxX2zgG9d1Z7BYDB4Eu+sf4dPt37KkgNLKLeV096vPefEncP5fc7nvN7nEdE+wuUyNFcumknAXqWUw5XgDQaDoSWxJmsN3+34jpcnvoyIsCR9CTmFOdw3+j7O73s+SdFJ+Hr7NqtMzaXgr0bX6fwNInI7cDtATEztQvEGg8HgmezN28vs3bO5/KzLiWgfwfrs9fxt1d+4K+EuunfoztsXvo2ft59bZXR5wQ8R8UMXzh2olMptaN+RI0cqk03SYDB4IiXlJSw+sJifdv/E7D2z2ZO3B4CPp3/MjMEzKC4vxku8CPAJaFa5RGSdUmpkXduaYwQ/FVh/OuVuMBgMnsaevD38tPsnftrzE4vSFlFSUUKATwBn9zibe0fdy7Q+04gLjQMgyDfIzdL+luZQ8NdQj3nGYDAYPIni8mJyCnPoFdKLorIizvrXWZTbyukT2ofb4m9jap+pjI8dT6BvoLtFdQiXKngRCQKmAHe4sh2DwWBoDEopDhYcJKpDFABTPpwCwLJblhHsF8xnl3/GkG5D6B3a251iNhqXKnilVDEQ5so2DAaD4UwoKC1gYdpCft7zMz/v+ZnswmzyHs0j0DeQp1OexsfrlFqcPmC6GyVtOh5Vss9gMBicjVKKLYe22BX60vSllNvKCfYNZlKvSTya9Cg2ZQNgap+pbpbWuRgFbzAYWi0L9i/g+m+v52DBQQCGdBvC/WPuZ2rvqSTFJLndjdHVGAVvMBhaDUeKj3DBJxfw+4Tfc8PQG+jZqSfJMcmcG3cu5/U+j8j2ke4WsVkxCt5gMLRIMvIz+GXvL/yy9xd6dOzBn875E2GBYXQO6kywbzAAPUN68vnln5/mTK0Xo+ANBkOLoLi8mCUHljBn7xx+3vMz249sByCqfRR9QvsAICL8OONHd4rpURgFbzAYPJpPtnzCuxvfJfVAKqWVpfh7+zMudhy3Dr+V83qfx1ldzkJE3C2mR2IUvMFg8CjWHlzLv9f8m3+d/y8CfALYemgr2QXZ/D7h95wbdy4psSkeGTXqibg8F82ZYHLRGAxti9KKUpZlLGPO3jlcM+gahoYP5cddP3Ljdzey+KbFDOo6iEpbJd5e3u4W1WNxdy4ag8FgALRP+rbD25izdw5z9s1hcdpiSipK8PHyoV9YP4aGD+W83udx6OFDdqVulHvjMQreYGjhnMzLoygri+CoKAJCQ90tzm8oryzni1+/YO6+uczdN9fuk94vrB+/i/8dU3pNYUKPCbT3bw9QI5LU0DRMTxoMLZi0WbNY9eyzePn4YKuoYPRLL9Fj2jR3i8XitMUcKT7CZWddhreXNw/OeZAKWwWTe03mnF7nMCVuCjEdTf0HV2Ns8AZDC+VkXh7fT5lC5cmT9nXeAQFcPHdus47kK22VbMzZyNqDa7ljpM4reOnnl7L98HZ23LMDgLTjaUR3iDbmFhdgbPAGQyukKCsLLx8fKqut8/LxoSgry+UKfv+x/czbN4+5++Yyf/988kryALh0wKV0De7KG1PfICQgxL5/j049XCqPoW6MgjcYWijBUVHYKipqrLNVVBAcFeX0to6fPM68ffPsy95jewGIbB/JhX0vZEqvKUzqNYmuwV0B6N6hu9NlMJw5RsEbDC2UgNBQRr/0EqueeaaGDd4Zo/eyyjIWpy2mT1gfenTqwZIDS7jiyyto79ees3uezX2j72Nyr8n079zfBBl5MMYGbzC0cJzhRVNpq2Rd9jqUUozuPprDRYfp+npXXj77ZZ4a9xSFZYVszt1MQmQCvt6+Tr4CQ1MwNniDoRUTEBp6xopdKcWOIzuYv38+8/bNY1HaIvJL85naeyqzr51Nl+AuLL5pMfER8QC082vH2OixrhDf4EKMgjcY2ggZ+RnM3z9fL/vmk12YDUDPTj254qwrmNRrEhN7TrTvPy52nLtENTgJo+ANhlbKkeIjrM5azbQ+2i/+7tl388OuH+ga3JWJPScyqeckJvWcRM+Qnm6W1OAqjA3eYGglnCg9weK0xYyLHUfHgI78z7L/4bF5j5H9UDbh7cLZkL0BHy8fBnUdZCZGWxFNtsGLyFigR/X9lVIfOEU6g8HQKIrLi1mesZwF+xewYP8C1h5cS6Wq5Osrv2b6gOnMGDyDcbHj6BzUGYDhEcPdLLGhuTmtgheRD4E4YCPYYyoUYBS8wdCMlFeWsyJzBQv2L2Bh2kJWZq6krLIMHy8fRkWN4vHkx5nUcxKJ0YmA9kU3/uhtG0dG8COBs5Qn2XIMhjbCiowVeIkXo7uP5tjJY4x/bzxe4kV8RDz3jb6Ps3ucTUpsCu382rlbVIMH4oiC3wqEA9kulsVgaNNU2CpYn72erBNZXDrgUgBu/O5G+ob15ccZP9I1uCtzrpvDyMiRhASGnOZsBoNjCr4zsE1EVgOlVSuVUhe5TCqDoQ1QlaRrYdpCFqUtIjU9lROlJwgLDOOS/pcgInx++edEd4y2HzMlboobJTa0NBxR8M+7WgiDoa2w88hOZu2exaK0RSw5sIT80nxA50afMWgGE3pMYEKPCXYvFzMxamgKp1XwSqnFItINSLBWrVZKHXKtWAZD6yDzRCafb/2cW4bfQkhgCN/u+JYn5j9Bn9A+XDXwKrtCj2gf4W5RDa0QR7xorgT+BCwCBHhDRB5RSn3lYtkMhhZFha2CDdkbWHxgMeNjx5MQlcD+Y/t5eO7DDOo6iHN7n8utw2/l+iHXE9XB+RkfDS2LykqYPx8++QT++U9o54J5ckdMNE8BCVWjdhHpAswDjII3tGnKK8tZl72OxWmLWXxgMUvTl1JQVgDAq5NeJSEqgTHdx5D1YBaR7SMB6BLcxZ0iGzyA7dvh/ffho48gKws6dYI774QxY5zfliMK3quWSeYo4OV8UQwGz6fSVsmrS19l8YHFLM9YTnF5MQADOg/guiHXMT52PONix9lNLr7evnblbmi7VFaCtzcUF8PIkVBaCuedB3/9K1x4IQQEuKZdRxT8zyLyC/Cp9f0qYLZrxDEYPI83Vr3B0ZKjPD/heby9vHl/0/sE+gRyy7BbGN9DK/SqQhcGQxXl5fDTT3q0npUFK1dCUBB89RUMHw7h4a6XwZFJ1kdE5DIgCW2Df0sp9a3LJTMYmpn8k/ksy1jGkgNL2HpoKz9c8wMiwoacDeQU5tj323LXFgJ8XDTkMrR4tm+H//xH29YPH4YuXeDaa6GsDPz8YOrU5pPFoVw0Sqmvga9dLIvB0KzkFuaSmp5K6oFUlqQvYVPOJhQKXy9fEqISyC/Np1NAJ9656J0aybmMcjfUJjsbAgO1PX31avj3v+Gii+CGG7QpxtdNNVLqzSYpIkuVUskiUoDOPWPfBCilVAdnC2OySRpchVIKhcJLvPhh5w88PPdhdh3dBUCgTyCJ0YmMixnHuNhxjO4+miDfIDdLbPB0Skrgu+/ggw9gzhx4/XV44AG9vqQEXFz33E6jskkqpZKtv+1dJZjB4CpsysbJipME+Qbx66FfOfejc3n7wreZ2mcqYUFh9A3ry63Db2V87HjiI+JNGTqDw9hscNdd8NlncOIEREfD44/ryVLQI/nAQPfKWIVD2SSVUtefbp3B4E5KK0pZl72O1AOpLM1YyrL0ZdydcDcvTXyJHp16kBKbQqeATgCMjR7LD9f84F6BDS2Kfftg+XK47jrw8tImmYsvhhtvhLPP1us8EUds8AOrfxERH2CEIycXkU7A/wGD0GaeW5RSK85QRoPhNxw/eZwVGStITU9lafpSVmetprRSp0rqF9aP6QOmkxKbAkCwXzCfXvZpQ6drlTijGHdbJj8fvvxSe8EsXart6OefDyEh8P330BJqptSr4EXkCeBJIFBETlStBsqAtxw8/9+Bn5VSl4uIH2AMm4ZGkZGfwYH8AyTHJAMw/D/DSTueho+XD/ER8dydcDfJMckkxySbYCIgbdYsVj37LF4+PtgqKhj90kv0mDbN3WK1GL77Dq65Bk6ehH794JVX9Og9xEri2RKUOzhQsk9EXlVKPXHGJxbpAGwCejmaS95MshpABxNtzt3Muux13Dr8VkSEa76+htQDqWQ8kIGI8M32bwgJCGFU1CiC/YLdLbJHcTIvj++nTKHy5En7Ou+AAC6eO9eM5Oth82Y9WTphAlxwAWRkwGuvaS+YhATPVuhNKtmnlHpCREKAPkBAtfVLTnNoL+Aw8K6IDAXWAfcppYpqCXc7cDtATEzM6cQxtEIKSgtYlbWKZenLWJqxlJWZKyksKwTgnLhziOkYwxPJT/Do2Eftx0wfMN1d4no8RVlZePn42MuvAXj5+FCUlWUUfDVycrSv+gcfwKZN2gQTEqIVfHS0zg/T0nFkkvV3wH1Ad3TZvjHACmCiA+eOB/6glFolIn8HHgeeqb6TUuotLJPPyJEjTdWoNsLm3M28te4tlmUsY3PuZmzKhiAM6TaEG4bcQFJMEknRSUR30LnQh3Qb4maJWw7BUVHYKipqrLNVVBAcZRKc2WynJkSnTIGtW2HUKK3Mr7oKOnd2r3zOxpFJ1vvQqYJXKqXOFpH+wAsOHJcJZCqlVlnfv0IreEMbJD0/nYfnPMy9o+8lOSaZ7IJs3tv4HmO6j+HplKdJikliTPcxdPB3enhFmyMgNJTRL73EqmeeqWGDb6ujd5tNT5J+8AHMnQs7dmg3xjfegG7dYMAAd0voOhxR8CeVUidFBBHxV0rtEJF+pztIKZUjIhki0k8ptROYBGxrssQGj+Zw0WFWZK5gecZylmcs54K+F/Bo0qN09O/I2oNryS3MBWBSr0kcf/w4Pl4OBVMbzpAe06YRPmZMm/aiycqCN9/UWRvT0nQ63ssu077rgYHa3t7aceS/K9Nyd/wOmCsix4CDDp7/D8DHlgfNPuDmxghp8EwqbZX8evhXVmSsYHnmclZkrGB33m4AfL18GR4x3O573jGgI/vu22c/1ih21xMQGtrmFPvRo9rzJSpKK/j/9/9g8mR46SW49FIIbmPz8af1oqmxs8h4oCPa9bHM2cIYLxrPJq8kj/T8dIaFDwOg/z/7s/PoTgC6BXcjMTqRxO6JjI0ey4iIEQT6ekg4n6FVU1oKs2bBhx/qvzfdBG+9BUpBbm7zZG10J432ohERL2CzUmoQ6PJ9LpDP4IFUjc435mzkhqE3AHDHj3ew9uBa9t+3H4CHEh8iyDeIxOhEenbqWSMhl8HQHDz1lE7sdeyYVuR/+IOOLgXt2tjalfvpaFDBK6VsIrJJRGKUUunNJZSh+TlcdJhVWatYkbGClVkrWZ212u6qOKXXFCLaR/Bw4sOUVJSglEJEuG3EbW6W2tDW2LtXByE9+KBW4BUVOv3uDTfApEngYyx/NXAk0GkB2otmNWD3YVdKXeRsYYyJpnlZmbmSf67+JyszV7L32F4AvMWbYeHDGNN9jH2JC4kzo3OD28jLgy++0CaY5cu1Yt+4EYYYz1mgiYFOOOYSafBQlFJU2Crw9fZlx5Ed3DrzVl6b/BrJMckcKT7Cgv0LGNN9DHeMuIMx3ccwInKESZVr8BhWrYKUFF0daeBA+OMfYcYMHYhkOD2OKPhpSqnHqq8QkdcAY4/3QE6UnmDtwbWsylzFqiy9/GHUH3gy5Um6BndFEMoq9fz4tD7TyHowy4zODQ7h6uRlSsGyZdqtsU8feOghXdruwQd1ENKwYZ6dMsATcUTBTwEeq7Vuah3rDM2MUoqNORtZnbXarsy3H96Osuqz9A3ry5ReU+xeL6GBoSy9Zan9eC/x0BynBo/DlcnLdu7USr3KXz0oSE+Wgi5x98c/OqWZNklDFZ3uAn6Pzimzt9qm9sBypdS1zhbG2OBPz6xds8gvzWfG4Bkopej2ejcOFx8mLDCM0d1HMzpKL6OiRhESGOJucQ2tAFckLzt27FRmxssu0xOnkybpjI3Tp+ugJINjNNYG/wnwE/AqNVMMFCil8pwon6EOjhQfYU3WGlZnrSY9P513Ln4HgLfXv82+Y/uYMXgGIsKXV3xJdMdo46ZocBnOSl5WVKTzqH/8sS5xt2MHxMXBq6/qtAGRkc6Xva3TUMm+fCAfuEZEvIFu1v7tRKSdcZt0HkVlRazPXs+ag1qhrzm4hn3HdNSnIJzV5SxKyksI9A3krQvfIiTg1Mh8fI/x7hLb0EZoavKy9HR4+mn45hut5KOjtX29qqxd377OltjzKa8sZ332epamLyU1PZX80nwW3rjQ6e04kk3yHuB5IBewWasVYJyUGkFZZRlbcrcwsOtAAnwC+MuKv/DI3EewKd21sR1jSYhK4I4RdzA6ajTxEfG09z9VFrdrcFeXymeqABlqc6bJy5SCdet0hGlSkja3/PKLLqBx3XXaK8ZTS9y5isKyQlZlriI1PZXU9FRWZq6kuLwYgN6hvRkXMw6bsjl9XswRP/g9wGil1FGntlwHrc0GX2mrZPuR7aw9uJbE7on069yPmTtncvFnF7PslmWMjR7LsvRlzNk7h4SoBBIiE+jWrpvb5DVVgAwNcbof/717dX71jz/WE6fjx8OiRXpbZSV4ezevvO7kUNEhlqUvsyv0DdkbqFSVeIkXQ7sNJSUmxV6BLKJ9RJPaasgG74iCXwhMUUpVNLijE2jJCt6mbOzJ28Pag2tZe3Ataw6uYX32evuv9J/P+TMPJj5IXkke8/bNY3KvyYQGes4I2VQBMjSFu+7SmRsBxo3TI/XLLz81kdqaUUqRdjxNK/MDWqFX5Wjy9/ZndPfRpMSkkBKTQmJ0otNTYjc10GkfsEhEZgGlVSuVUn9xknwtDqUUxeXFBPsFc6zkGJd9cRnrstdxolSXrg3wCWBY+DBuHX4rCZEJjIwcSb/OOsNyaGAoVw680p3i14mpAmRwlMJC7fXy+ec6x3pICEycCD16aDNMay/MVmmrZOuhrXb7eWp6KgcLdILdTgGdSIpO4uZhN5MSm8KIiBH4+/i7TVZHFHy6tfhZS5ui6tf5SPEREqISAOj/r/4kRyfzzsXv0CmgEwrFtYOvZUTECBKiEjiry1ktLh2uqQJ0ZjR2rqKlznGUlWnPl48/1p4wJSVake/Zo2uWXnGFuyV0HaUVpaw5uMau0JelLyO/NB+AqPZRjIsdR3J0MimxKQzqOsij4kscqcn6AoCIBNeup9raqFLm67LXse7gOv03ex15JXkM6DyAbXfreiV3jbyLmI56mCIiLpn9bm5MFSDHaexcRUub47DZID9fj9APHIALL4SwMJ2Od8YMGDu2dU6W5p/MZ3nGcrtCX521mtJKbbzo37k/Vw68UptcYlOI7Rjr0e7JjtjgE4F3gHZKqRirgPYdSqnfO1uY5rTBV2VEBHh73dt8se0L1mevJ69Eu/j7evkyqOsgRkSMYETkCEZGjmRkZJ1mrlZFSx1hNheNnatoKXMcSulEXp9+qpfERJ3oC2DxYv3dr5W9x2cXZNewn2/O3YxC4ePlQ3xEvN1+PjZ6LF2Cu7hb3N/QVBv834BzgZkASqlNIjLOeeK5nkpbJbvzdtOzU0/8ffx5a91bPLPwGdLvT8ffx5+9x/ZqW/qAy+wKfXDXwW61nbmLtlgF6Exo7FxFS5jjePNN+NvftAeMj49Ow3vVVae2j28FIRdKKXYd3WUfnS9NX2rPpBrsG0xidCLPjX+O5JhkxnQfQ7Bfyy4B5ZChWCmVUes1pLK+fd1NeWU5249sZ332evuyMWcjReVFrLh1hT397aX9L6WovAh/H3/+ONkkuzA4RmPnKjxxjiMjA776Cu6+W4/KDx6EiAid3Ouyy7Q5pqVTYatgY85GUg+ksjRjKUvTl3Ko6BAAnYM6kxyTzO8Tfk9KTArDwofh6+3rZomdiyMKPkNExgLKqq16L7DdtWKdGbuP7ub15a+zPmc9W3K32O1lwb7BDA0fyi3DbyE+Ip5eIb0AXfB5Uq9J7hTZ0EJp7FyFp8xxHDoEX34Jn30GS628c/HxenT+wgstP1tjcXlxjYCiFRkrKCrXU4c9O/XkvN7n2SdE+4X182j7uTNwxAbfGfg7MBkQYA5wnysCnxprg996aCsp76YQHxFPfHg8wyOGMyJiBL1De+Pt1YaiKwzNRkvyolFKK+4tW3TKXZtN51a/+mq99O7dLGK4hKPFR1mWscxucll3cB3ltnIEYXC3wfaAopSYFKI6tE6PsCYFOjUnjVXwVdfQ2n+NDQZHOXECZs7UI/X+/eH117Vif/VVuPhiGDTI3RI2jgPHD9ht56npqWw7rD3b/Lz9SIhMsHu3jI0eS6eATu4Vtplo0iSriLyPHrEft76HAH9WSt3iVCmbgFHsBoNm5kx47z2YPVvngomJgeRkvc3LSxepbinYlI3th7fbzS2pB1LJOJEBQAf/DoyNHsu1g68lJSaFhKgEAnwC3Cyx5+GIDX5IlXIHUEodE5HhrhPJYDg9xp1TU1QE8+bBRRdpM8zMmbrM3Z13ag+Y0aNbjq96WWUZ6w6uOxVQlLHM7rYc3i6clJgUHol5hJTYFAZ3HWzMrw7giIL3EpEQpdQxABEJdfA4g8EltLSAIWdTVKRH6F9+CbNmQXGxzt4YHw9//jO89VbLUOoFpQWsyFxhV+irMldRUlEC6Gpkl/a/1G4/7xXSy7ypNwJHFPWfgeUi8pX1/QrgFdeJZDDUz8m8PFY9+yyVJ0/afXVXPfMM4WPGtImR/MqVOu9LSQl07Qo33ghXXglDh+rtHTu6V76GyC3MreF/viFngz1F7vDw4dwx4g5SYlNIik5ya1bV1oQjqQo+EJF1wNloL5rpSqltLpfMYKiDlhAw5CxOnIAff9S+6klJukjGkCFw663aTz0lxXNT8Cql2Htsr/Y/t5T67rzdgE7GN6b7GJ5KeYqUmBTGdB9To+aBwXk4amrZARyr2l9EYkxFJ4OrqcvO7gkBQ662/3/8sU4TMHeuTvIVGanzvpzMy6MkK4s/veB58w6Vtkq2HNpiD/dPTU8lpzAHgJCAEJJjkrkt/jaSY5IZETkCP+9Wlu/AQ3HEi+YPwHPoik6V6FG8qehkcCn12dndHTDkCvv/wYM66OhKK4v0p5/C1q06wvTyy2HMGEj/aRbfT/GceYeTFSdZnbXaPjpfnrHcni47pmMMk3pOstvPB3QZ4FEZFtsSpqKTweNwJDGXO7xonJkwbNcu+PZbnVd95Uq9ripVwPHj2pZeNafoCYnKjp88zvKM5fYR+pqDayirLANgYJeBdmWeEptiz7RqaB6ammwsA11822BoFhyxs7sjKVpT7P82G1RU6JwvH30E11+v148YAS+/DNOna+UO0KmT89ptLJknMvXo3MrhsiV3iz3D4sjIkdw3+j6SY5JJik4iLKgVJK1ppZiKTgaPwxPs7HVxpnKdPAkLFmjf9Jkz4cUX4Xe/g0mT4O9/h0sucaz6kav7QynFzqM7a9jP046nAdDOrx2J3RO5bMJlpMSkMLr7aIJ8g5zSrsH1mIpOLYiWEtzTVDndbWdvjFzVr9m7fSiXX1rG/AXeFJV40y5YMXHsCaK7CNCBiAi4997fnr++fnN2f5RXlrMhZ0MNl8UjxUcA6BrclZSYFO4bfR8pMSkMDR/a4qqTGU7hcC4aEWkPKKVUoauEMTb4+mkpwT3OlNNTf9Cqy+UfEsrsN1L54I9bKCWYayL+Qa9LL+Wu11MI8z/M8OAFnBW8msAg7wb7w5F+a2x/FJUVsTJzpV2Zr8xcac+wGBcSR0psij3DYp/QPiagqIXRpGRjIjII+BCoeqKOADcopX51qpQYBV8fnjDJ5ggtRU5nsHgxfPghzPrRRk6uF4KNAUFreDL2lgZT7tbVH87utyPFR+z289T0VNZnr6dSVSIIQ7oNsU+GJsckE9k+8ozPb/AsmjrJ+hbwoFJqoXWyCcDbwFhnCWhomJYS3NNS5DxTlNKpdn/+Ge65B4KCtG39yy/h7DEniNr9Dwb5zqOjz+kdzerqj6b0W1Ud4SpzS2p6KjuO7ADA39ufUVGjeDTpUXvJuY4BHhzq2oopLYXsbD3Z3kuXpeDJJyE9XXtPffzxqUl2Z+KIgg+uUu4ASqlFIuJQHSsRSQMK0P7zFfX9yhgaxlMnHWvTUuR0hPx8ne/ll19gzhz9zwnQr/M+zr2kEw8/HMrTT0NlgY3vp3xfY/TdEHX1x5n0m03Z2Hpoq927JfVAKlkFWQB09O9IUkwSNw69kZSYFEZGjmyTZSebE5sNjhyBrCy9+PjAeefpbTffDBs26PVH9BQHF16oJ9wBPv9cDx4iI3V+IVfgkBeNiDyDNtMAXAfsP4M2zlZKHTljyQx2PHXSsTYtRc66KCnRwUbh4TB4MOzZAzNmQGgoTJkCI8I30W7+Y5T95xjf/+uUjdy3jmvuNX06+775Ro/KS0tRSuETEFBvfzTUb6UVpaw9uLZGhsXjJ48DENk+0l4QOiU2hUFdB5mAIidSUnJKcVctSsGjj+rt06frVBLl5aeOGTbslIJXSntJJSZCVJRW5P37n9p3zx7XV9ByxAYfArwAWFmlWQK8UJVd8jTHpgEjHVXwxgbfMJ466VibliCnUjrAaP58bW5Zvly/Rt91F/zv/+qRWVWGxvL8Mw+8qv4dcKg/TublkZO2k82Syaq8jaSmp7I6a7W9BGX/zv1rVCjq0amHmRBtAmlpsG0bZGaeUuD5+dr0BjqyuOpzFT16wH5rePvGG/qYqKhTS3S0VuTNSaMmWUUkAGivlDpca303IF8pddp3UhHZj85ho4D/KKXeqmOf24HbAWJiYkYcOHDgdKc1GM6YigpYvx4OH4bzz9cKPjpa/4MOHaozNE6ZohN4tWtX89ijW7aw4He/o7zwlAOZb7t2TPy//yNs8OAmyZVTmFPD/3xz7mZsyoa3eBMfEW8fnSdFJ9EluEuT2moLVFbqUbGXF2zeDIsWnVLgVX83b9bzKA89BH+xonlEoFs36N4dVqzQppZ5836rwDt0cOvl1UljJ1n/AfwMfFNr/WT0aP4uB9pOUkodFJGuwFwR2aGUWlJ9B0vpvwV6BO/AOQ0Gh1i/Xk+MLlkCy5ZBYaFW6gcO6H/ob77RE16dOzd8HmfNLSil2J23u4b9fO+xvQAE+QYxpvsYnk55mpRYnWGxnV+705yxbVFRoedCOneGwEB9fz/8UCvuqiU7G7Zvhz599NvZgw/q6OGoKK28ExK06SUoSBdFufxyvT48HHx9a7Y3ebJ7rtOZNDSC36aUOquebb8qpQaeUUMizwOFSqnX69vHmGhcR0swmzSFo0e1mWXpwhIeumEPHWKiePDpUP79b11gevx4vYwbp/+Z66O+fkqbPfs3NvLT+fdX2CrYlLOpRkBRblEuAGGBYTXytwwPH46vt2+D52vpnMzLI2/7dgQIGTCgRv9WVmrlnJkJPXvq0fTmzTr6NzMTMjIgJ0ebzubP129cX32l8+F3765/uLt314r87ru1mSQ/X2fj7NzZ9bZud9LYEXxDXXLamRzL08ZLKVVgfT4HePF0xxmcT0sJkjpT1q6Ff/5Tv1Lv2qXXeYsPkfNeINx3Pzfc9z+89NIkwhxMldJQP/WYNo3wMWMa/JEsKS9hVdYqu0JfkbGCgrICfXynHkyJm2KfFO3fuX+bsZ8rBRs+ncMvz/+Xwyc7E+mXRlRwBpH3/p2n3p1gdxWstPxE33tPK+7ycp1VMzoazjnnlBLv21fvN326zotfXzd6cvGT5qKhEfxi4BGl1Opa6xPQRbfHNXhikV7At9ZXH+ATpVSDlaDMCN75tPTgI6W0r/CaNbB6tV5eeEGPxn/6SSuCxERIGFZMxWd/oIfXBvy89KTkmVxnY/oprySPZenL7KPztQfXUm4rRxAGdR1UY4TevUN353SIB1JaqkfY6el6iYvTcxl5eTqPfXq6oqTklBa+vMs/uLTLfzjhFcFnnX4itpcv0dHYl/j4ht+yDDVp7Aj+EeALEXkPWGetGwncAFx9ukaVUvuAoWcmqsHZtKTgI6X06zjof/S9e7XyPmxN8/v5aTe0Kh187rmQm6tHcEe37GXBz1spL7Tnwzuj63SknzLyM+zKPDU9la2HtgLg6+VLQlQCDyY+aM+wGBIY0tTu8BhOnNDzFlVLRIQePdts2pySXqv0z+23awXfsaM1gT36CMUL3ieEDMJ8s+nmpw8I8T/O1/+7o8kT1Yb6qVfBK6VWi8go4G7gJmv1r+jc8IeaQTaDE/Dk4COl4IsvdDBI1XL4MNx84R7++lchOjqOCy/UKXVHjdLl6vyqpburXli6qdfpExREZVnZqWNRpAcU8Omxuaz85jVS01NJz9eKqb1fe8ZGj+XqgVeTEptCQmQCgb6Bje8IN1NQoF0G9+/Xf4OCdNZL0Ap68+aa+19wgVbwXl7albBdO4iN1UtMjDajgC4n+PnncDLPm+8nf0JlaWmN8yibzSOew9aMw8nGmgNjonENa15+md2ffmr/3mfGDBKeeqrZ2j92TNtSN2/WS7duevIM9Gjw6FE9ERrttZHQg7MYELSa6IA9ZyxnYyZCQdvelz33NPs6FrO943F2dS1lZ1ghhX56PB/eLryG//mQbkPw9vLQYqh1UFamR9n79umlpAQeeEBvmzpVexpVZ8QIPb8B8Oc/a9t4lQKPjdX3z+u0s3A1SZs9m5VPPonNigoSHx8SX321VcwFuZsmJRtrToyCdz7NaYMvKtIuarm52tccYNo0bSuvIiQELrpIT6SBNsN07w4nM/cy66KLfnPO82fOpGNcnMMyOOotVFhWyIqMFSzcOYeZs99kd0gRZT76fyG80J/JQy9k0qDzSY5JJi4kzuMnRI8d0325d682cz30kF5/993w5pvanFJFly5wyHoH/+9/9VtTjx7a3NKzp+u8ThryojE0nqYmGzO0YFxhg8/PP+Wh8MEH+jV82zb9eg86GOT4ca0kLr0UJkyAQYP0635kZE3lUaW7s7ZsqbOto1u2nJGCr6/S06GiQzUyLG7M2UilqsQLL2L9Ajh7Xwj9jgTR70gQXXw6MfGGZz3ONnz0KOzerZcrroCAAPjb3+Cll/SEZnVuu03fhwkTtMLu1UsvPXvWjLS85Zbmkz8gNJTIpKTma9DguIIXkWCllItS4hhcRVNt09u26YRbO3bAzp36b26uVvIdOuhJt8xMXRj61lvhrLO0Mq/ittsck7M+ZdoYJauUYv/x/TUiRHcd1X6UAT4BjI4azRPJT2j/8+B+LDh/eo03HFuA++Yoioq0Ao+Lg/bttfnk+ee1G+ixaslB4uO1Wat3b63se/fWx8TFaUVeFY17xRV6MbRNTqvgRWQs8H9AOyBGRIYCdyilfu9q4QxN53QJwI4f1xGBVSPDXbv032+/1YmRFi/W0YChodCvnza99O+vJ0gBnnlGL02lY1wcfWbMYPcnn9jX9Zkxw6HRe6Wtki2HttgjRJemL+VgwUEAQgJCSIpJ4tbht5ISk8KIyBH4edcsTOaKBGkNmYqU0nZtHx+dcOrvfz/145mRoff56SedtMrfXyvrq67S0ZlVS1W3XHCBXgyGunAk2dgq4HJgplJquLVuq1JqUIMHNgJjg3c+FRV6lL194wm2bygg63goaZmBPPIIJCXBDz9omzjoV/64OB1I8vLLejSen68DTk4Xzu8s8vfu5eiWLYQNHlyvcj9ZcZI1WWvso/PlGcs5UXoCgOgO0TUqFJ3V5SyHMiw6M9K3esDUyTIvbNP/zpGgUWzfrt+Itm2DP/1Jv91s3qzvQ//+eunXTy/jx0PXrk0Sw9BGaLINXimVUWuSqbK+fQ3Nz7Fj2sVt3z79d+9euPhi7SGxdSsMHw7QAehgV+LHj+tjx47VSZX69NGTnbW9I5o7GrBjXNxvFPvxk8dZnrHcPkJfnbWaskrt0jig8wC7u2JKTAqxnWIb1W59tntHycvTRUHWryxi1usnifM7j/GdvqO4oiN3PjsK0JObAwfqNMRVaWMHD9Z+5h4+h2tooTii4DMsM40SET/gXmC7a8UyVKeoSE9gVvdVHjkSrr5aK5baofhhYVqRgB6Nv/POKftsZGRNJR4WBpMmNdOFOMjBgoM17OdbcregUPh4+TAiYgT3jrqXlFhdoahzUDO9WljYbNqsUlCg3QmV0sq6KlUCBBPsPZkOIdpNpb1PPi8OuJ2r3ryfvuN+m9rJKHaDK3FEwd8J/B2IAjKBOejgJ4OTqB4pmJam//booV3clNJ+x9UrvgQE6NJxV1+t3Q7/+lcdYFLlJVF91B0UBDMuscwPQVF4eXmWa5pSip1Hd54qOXcglf3HdcLtYN9gEqMTeX7C86TEpDC6+2iCfIOaXcavv9ZpZ9evh02b9L1ITNTJzUS0fbx9ez0a79P9GGtumIyt9NSkbd/AdcQMqj/23lWJ4Fp7gjnD6TF+8M3A4cN65H3ggA44OXBAK+GXXtLb+/fXk2xV+PvrNKYffaS//+c/2mOlZ08daBIe7vjIz9MSjVXYKtiQvcEe8r80fSmHi3Uugi5BXez28+SYZIaFD2u2DIuVlXqSc80avWRn63TCAJdcojMYDhumzV3Dh+vR+5AhdZ/rTAKuXHV/PO2+G1xHYwt+vIEu1FEnSql7nSPeKVqqgk9L0wq6esKlykqdqxp0IYl5807t3769ztUxa5b+/sUXeqQeG6tH7l27nnmkYF14QqKxorKi32RYLCrXryO9QnqdSsgVk0LfsL7NFlCUnX0qIvP113UCs6p6Hu3bawX+88/6x/b4cf0Deyb3xJHRs6vujyfcd0Pz0dhJ1ipNmwScBXxufb+CU8nH2gRVI7uMjFNLbq7ObCiiw+7ffVfvK6Lt3H36nDr+iSfg3nu1GSUmBjp1qjkCv/JK18jtjkRjR4uPnjK3pKeyPns9FbYKBGFItyHcNOwme9h/VIfm8TWvqNCmlWXLtFllxQr9I7xtGwwYoL1WbrgBRo/WBSH69aupzDt1OvM2HZm0ddX9aUkJ5gyupaFkY+8DiMhN6MLZ5db3N9F2+BZNaan2Q/b21q5qP/10qrBA1d+tW7XnwyefnDKnhIaeSmtaXAzBwTqvx80363VRUb+tDDNxYvNfH7g+0ZhSigP5B+wRokszlrLt8DYA/Lz9GBU1ikfGPkJyTDJjo8fSKaCTU9o9HYWFWon36aPfiGbP1l5FoD2FEhPh/vv1vQRd6f7CC5tFtBq46v54coI5Q/PiyCRrJNAeqAqGbmet81iKi3UtxW7d9Kv1pk3w9tunlHdmps7FUVVUefVqePxxbRevqg4TH3+qAMGdd8K11+ptwcG/bc+TItprmwacGcRjUzZ+PfRrjZS5mSd0ft+O/h1JikniusHXkRKbwsjIkQT4BDjz0uqlrExH2y5Zopd16/S9e+01ePRRbQ779FPtbx4d7Zw2nTGB6ez74+rzGloejgQ63Qw8Dyy0Vo0Hnq8a4TuTxtrgf/0VHnnklPKuCun+7js9cvv5Z62gq6qeV5X2uukmbTIpKtLub+3bO/Vymp36JtYaq4xKK0pZl73OrsyXpS/j2EnduRHtIuy+5ykxKQzqOqjZMiwWFEBqqjZzTZ2qsyNWmVFGj9Zl+VJS9EjdFUWSnT2BabxoDE2hydkkRSQcGG19XaWUynGifHYaq+B37jylwKsr8bPP1n+Vav3+xs6YWDtReoIVGSvs9vPVWas5WaHP1y+sX40KRT079WzWDIvLl2sz2vz5+o2rslIr8SVWCff167U9PdDFadnNBKbB02jUJKuI9FdK7RCReGuVlSWDSBGJVEqtd7agjaVfv1P5q+uitSt3aNzEWk5hTo0Mi5tyN2FTNrzFm+ERw7lr5F0kx2iXxa7BzRc3r5Se/1i3Tr9lAfy//6ffxBIStDlt4kQ9Qq8iPr7OUzkdM4FpaEk0ZIN/ELgd+HMd2xTgpqlDQ12cbmJNKcWevD017Od78vYAEOgTSGJ0Ik+nPE1yTDKJ0Ym082vXrPLn5cGcOdqWPmeOLsIMOrlZly7wxht6UtTdhZQdmcA0phGDp+CIDT5AKXXydOucQUv1g/cUqgfYVFSU0+Hxm9kbo+wRorlFuQCEBYaRFJNkt5/HR8Q3W0BRFTabfuuKi9PpEt56C+64Q0fmTpkC55yjF2dNijqThgKZTICRoblpkg1eRNYrpeJPt84ZGAXfeErKS1idtZqFO38hdd9i1hzbTEG5jtyJ7RhrnxBNjkmmf+f+DmVYdDbHj+sR+qxZ2txy+LBW7LfdBkeO6CRpI0dq11VPp65RurHPG9xBY23w4ej8M4EiMhyosmR3AJo/IYihBsdKjrEsY5nd/3xN1hrKbbre5aCug7hu6PV2hR7d0T3DYKVOxQocPapTLFRUaFPL1Kl6Oe88vW/nzs2XktgZ1BXIZOzzBk+jIRv8ucBNQHfgL9XWFwBPulAmQx1k5GfYbedL05ey9dBWFApfL19GRo7k/jH3kxKTQlJMEqGB7lMmFRU6YnTmTL0MGKD/hoXpAs4jR2pXxpYwSj9TTICRwdM4XSTr+yJymVLq62aUqc2jlGLHkR12d8XUA6kcyD8AQDu/doyNHsuVA68kJSaFUVGjCPR1sW+ggzz/PPzjHzoOwc9Pu6lWRZCCTtfQmjEBRgZPw5FI1kUi8g8gGe09sxR4USl11KWStSHKK8tZn72+RobFoyW6e7sGdyUlJoUHxjxASmwKQ7oNwcfL/bXSc3N1NahZs3Qqh8BA7eFy4YVaqU+Z0vIDxxpDj2nTCB8zxnjRGDwCRzTFZ8AS4DLr+7XoxGOTXSVUa6ewrJCVmSvt/ucrM1dSUlECQO/Q3lzU7yJ7UFHv0N7NGlDUELm5OoXxt9/qwCOldArj/ft1eb8HHnC3hJ5BU6tDGQzOwhEFH6qUeqna95dF5BIXydMqOVx0uIb9fH32eipVJV7ixdBuQ7kt/jZSYlNIik4ion2Eu8W1oxRs366Tp/Xpo3P5PPwwDB0Kzz0Hl16q8/B4yO+PwWCohSMKfqGIXA18YX2/HJjlOpFaNkop9h/fXyNCdOdRXc3D39uf0d1H83jy46TEpJAYnUgHfxckS2kCSsHGjfDVV7qS0c6d2o3xrbd0jvR9+/So3WAweD6O+MEXAMGADW2D9waqCsgppZTTNFRL9IOvtFWy9dBW+4To0vSlHCzQYZidAjrpUP/oZFJiUxgRMQJ/H383S9wwycnaC8bbGyZMgOnT9Ug9wnNeLAyGFolSiswTmWzK3cSmnE1syt3E5tzNvDrpVS4dcGmjz9vYgh9VQrXBqbL6Ka0oZc3BNXb/82Xpy8gvzQcgqn0U42PH2+3nA7sOdEtAkSMoBatWwZdf6r9LlugiF9deq3PbX3xxy/JLNxg8jYLSAr7e/jWbcjaxMXcjm3I22bOxAvTs1JOh4UNdWifhtApe9AzftUBPpdRLIhINRCilVrtMKg8i/2Q+yzOW20foa7LWUFpZCsCAzgPs7oopsSnEdoz1mAnR+ti5U9d4/eorbVP389MpAY4f1wFId93lbgkNhpZFWWUZft5+2JSNW76/haToJG4bcRtllWXc/P3NBPoEMqTbEK446wqGhg9laLehDO42uFnMs47Y4P8XbZ6ZCLwEFAL/AhJcKJfbyC7Itvuep6ansjl3MwqFt3gzInIE94y6x55hsXOQ5w9xldLlBiMidF6XPXvgX//SSv2VV+Cii9yfwMsZtJUEX23lOj0Rm7Kx/9h+NuZs1Euu/juk2xBmzZiFl3ix//h++oTqep1hQWHsumcXvUJ6NVuthNo4ouBHK6XiRWQDgFLqmIj4uViuZkEpxa6ju2p4uOw9theAIN8gErsn8tz450iOSWZM9zEE+9VRzskDUQo2bIDPP9cFvdPS4Kmn4OWXtWLPzW1cnVFPpa0k+Gor1+lJfLP9GxalLWJjzkY25W7iROkJALzFm36d+zE+djzjY8fb91980+Iax/cJ64M7cWSSdRUwFlhjKfouwByl1HBnC+PqSdYKWwUbczbaR+dL05dyuPgwAJ2DOttzt6TEpDAsfFizZ1h0BjYbDB+u68z6+MCkSXDVVXDJJTpTY2ujrST4aivX6Q4KSgto76+nGt9c+yYzd85k9rWzAbj080uZu3cuQ8OHMqzbMIaFD2N4xHAGdhnoMRHkTZpkBf4BfAt0FZFX0G6STztRPpdRXF7MqsxVdmW+InMFhWU6w2LPTj2Z2meq3cOlX1g/j7ef18WePfDZZ9pf/eOP9UTpFVfAPfdoD5iwMHdL6FraSoKvtnKdruZQ0SHWZ69nQ/YGNuToZU/eHrIfyia8XThKKWzKZrerv3vxu3Tw7+CxzhKnwxEvmo9FZB0wCZ1R8hKl1HaXS9YIjhYftWdYTE1PZV32OipsFQjC4G6DuWHIDfa0uVEdWm4CqKwsrdQ//VRXPQJdvq64GIKC4OkW8fPrHNpKgq+2cp3OZseRHXy65VPW56xnffZ6uwsz6EHe8Ijh3Dj0RrxF28jvSriLuxJOeRq40sOlOWgoXfBo4C0gDtgC3KqU2namDYiIN7AWyFJKXdBYQeujtKKU+36+j9T0VLYd1uL5efuREJnAw4kPkxyTTFJMUou/UYcPg7+/LiL90086onTECHj9dbjySs8sjNEctJUEX23lOhtD1Yg7wCeAPXl7+P2s3/Pc+OdIikli99HdvJz6Mv0792diz4kMDx+ul4jhLV4nOEJDI/h/AQ+j89BcBPwVnUL4TLkP2I7OI+90/Lz9WJq+lJiOMVw7+FqSY5JJiEzwGPtYUzhxAr77TifzmjcP/v53uPturdAnTIDevd0toWfQVhJ8tZXrbIhKWyW783az7uA61mevZ132OjbkbOCxpMd4MuVJOgV04kjxEbsp9py4cyh4ooAg37ZZwqLeSdbaVZsaU8VJRLoD7wOvAA+ebgTf2ElWpVSLtJ/XR0UFzJihszWePAmxsXDNNboAdb9+7pbOYGg+Km2VfLLlE9Zlr9PKPHsDReU6kN7f25+h4UOJD4/nsrMuY3Kvtpn/sLGTrJ1EZHp935VS3zjQ9t+AR4F6o2FF5HZ0cW9iYmIcOGWd52jUcZ5CZSUsWgS//qpzpvv46HW33aYV+5gxJqGXoXVTfZD20uKXEBGeHvc0XuLFQ3MeorCskGHhw7h52M2MiBxBfEQ8AzoPaJGebs1JQwp+MXBhPd8V0KCCF5ELgENKqXUiMqG+/ZRSb6Ft/YwcObJhn81G4qzgEGcGmSilJ0g//lhPmObkaI+X22+HgACd6MvdMhoMrsCmbOw6uou1B9ey9uBa1mWv40TpCTbduQmAHUd32L1WRIS1t68lqn2U24KFWjINVXS6uYnnTgIuEpFpQADQQUQ+Ukpd18TznhHOCg5x1nmU0qPxf/wD7r9fpwo4/3xtkjn/fK3cG4sJhDF4Iun56SzPWF5DoVfZyAN9AhkWPowJsROwKRte4sXH0z+ucXxMx8a92RscCHSqsbPIj43xhLFG8A+7ygZfH84KDmnqeXJzdVTpRx/BY4/BZZfBgQMwd67+7IwAJBMIY/AUfj30Kx9u/pBnxz9LkG8Qj897nNeWvYa/tz/DI4YzMmIkIyJHMDJyJP079/eICmUtmaYGOlWnRTndOis4pDHnqazU3i8ff6w9YCorYdgwXTwD9MTp7353xpfkVBkNhqaQW5jLmoNrWJO1hrXZa3lm3DOM6T6Gvcf28pcVf+HqQVczLHwYd4y4g6sHXc3ALgONzbyZOVMFv6ExjSilFgGLGnNsU3BWcIij5ykvh127YOBAHVH6wgtasT/2mE7De9ZZjbsOZ8poMDSG/JP5rMtex5qsNVqpH1xDen46AF7ixYDOAzhWolPhnht3LieeOEGAj7Y39gwxFWLcRUNukl2ALrWDm0RkIHry9LCzhXFFLpq02bN/ExzSKBt8PedRClav1uaXzz/XLo45Odq2npUFkZHN5wHjrGs1tG2UUqw5uIYg3yAGdR1E2vE0ev79lJKOC4kjISqBhEi9DI8YTju/dm6UuG3TkImmIQX/GfBvpdTiWuvPBW5USs1wtqCuSjbmKi+aWbP0ROmePXpy9MIL4brrYNo07eroDowXjeFMqPJoWZ21GkG4fuj1KKXo8qcuXNzvYt65+B2UUry27DWGhw9nZORIwoJaeYKjFkZjbfCDayt3AKXULyLyZ6dJ1ww4q8p9oS2Uz5eEkpwMQ0N1gYzoaHjySZ3YyxPyqjvrWg2tk5zCHFZnrWZV5ipWH1zNmqw19opkIyJGcP3Q6xERvrv6O3p20qN2EeHx5MfdKbahkTSk4BuaDWkzMyUlJfDjj/DhhzoHTEWFtq0PHQqJibBggbslNBjqprSi1F4D+LmFz/HuxnfJOJEBgI+XD4O7DuaaQdcwKmoUo6JG0b9zf/uxyTHJbpHZ4FwaUvC7RWSaUmp29ZUiMhXY51qxPIPiI3kMGNqO9IN+REZqc8z118OQIe6WzGCoiU3Z2HFkB71De+Pn7cdfVvyFZxc+y9FHj+Lv40+gbyBjo8cyKmoUo6NGEx8RT6Bv4CmTnk+ECSRqhTSk4B8AfhSRKwErKS0jgUTA6VkhPYHt2/VIffVqePv+Wax+7lku8L+IkN7Z3PyXi4i70ExYGjyDI8VHWJW5ipWZK1mVtYpVWas4UXqC5bcsJzE6kYTIBO4fcz8nK07i7+Nfp4nFBMa1fhoMdBIRf2AGMMha9SvwiVLqZL0HNQFXV3Sqi8OHtb/6hx/q1AHe3jD57DKuPDSFgIoj9v1M0JDBnRwqOsSXv37JyqyVrMxcyZ68PYAuHTe422BGR41mdNRoLuh7AV2Cu5z2fCYwrvXQ6EAnpVQp8K5LpHIjJSXaZ71DB1i8WJte4uPhr3+Fq68G38M7WfC7k5QXnjrGBA0ZmpOisiJeWPwCE3tO5Lze53G46DD3/HQP4e3CGdN9DLfF38aY7mMYETGiUbWCTWBc26DNxAjbbLBkiR6pf/klPPqornx0wQU6i2P1IKSTfiZoyNA8lFWWsSF7AysyV7AicwV9Qvvw8sSXCfQN5INNHxAaGMp5vc9jQJcBHLj/ANEdop2SPdUExrUN2oSCf/55ePddSE+Hdu3g8sthspU6OiDgtxGmpnqOwVVkF2RrZZ6xguWZy1l3cB2llaUARHeIpkfHHoCODs16MMs+8eklXk5NumWe8bbBGSUbczXOssEfPqzzq19xhf5+6aW6cMb118Mll+i6pY5ggoYMTaHCVsG+Y/voG9YXgIs/u5iZO2cCuhLZiIgRJHZPJDE6kcTuiW6pE2ye8ZZPk5KNicgWdP736uSj66y+rJQ62nQRm05pqfZX/+ADmD1b+6tnZkJUFHz1lZ48PVNM0JDhTMgryWNl5kqm9JqCr7cvj859lDfXvkn+4/n4evtySb9LGB87nrHRYxkePtzuo+5OzDPeunHERPMTUAl8Yn2/2vp7AniPmkVB3MLChTqS9PhxiIjQk6Y33KCVOzROuRsMDaGUYtfRXSzLWMbyjOUsz1jO9iPbAVhz2xpGRo7kuiHXMTpqNDZlA+Dm4U0tsWAwnBmOKPgkpVRSte9bRGSZUipJRJq1eEd9DBqkJ0uvvx4mTTIK3eAask5k8dHmj+xK/WiJfnkNDQxlbPRYrh9yPYnRiQzqqr2K4yPiiY84ozLGBoNTcUTBtxOR0UqpVQAiMgqoSh1XUf9hzUeXLto7xmBwJgWlBby4+EXOiTuHKXFTOFR0iMfnP06/sH5c1O8ikqKTGBs9ln6d+9lLzBkMnoQjCv53wH9FpB0gaNPMrSISDLzqSuEMhuZAKcXOoztZlr6MZRnL6B3amydTniTQN5D3Nr1Ht3bdmBI3hSHdhnD4kcN0DursbpENBoc4rYJXSq0BBotIR7TXzfFqm79wlWAGg6soqyxjffZ6lqYvZWn6UpZlLONIsY5aDgsM48ahNwI6IVf2Q9n2knLeXt5GuRtaFI540XQEngPGWd8XAy8qpfJdLJvB4BSqZ1W8/Yfb+WjzR5RUlADQO7Q3F/S9gKToJJJjkukX1q9GIJGpF2poyTjy9P4X2ApcaX2/Hp2+YLqrhHI3xje4ZZNTmEOXoC54e3nzypJXeH3F6xx55AjeXt70DevLHSPuIDkmmaSYJMLbhbtb3EZjnlPD6XBEwccppS6r9v0FEdnoInncjsmw17JQSrH32F5SD6SSmq6XPXl72HjHRoaGDyUxOpF7K+/lZMVJgv2CeXjsw+4W2SmY59TgCKeNZBWRFcAjSqml1vck4HWlVKKzhXFHNsnqmAx7no9N2diSu8WuzJccWEJOYQ6g7efJMcmkxKQwY/AMItpHuFla12CeU0N1mhTJCtwJfGDZ4gGOATc6SzhPwmTY8zwqbZWsObiGkIAQ+nXux9qDaxn9f6MB6N6hOxN7TiQlJoVxsePo37l/m3BXNM+pwVEc8aLZBAwVkQ7W9xMicj+w2cWyNTsmw577KSkvYXXWasoqy5gSN4VKVcnE9ydy+4jb+dt5f2N4+HA+uOQDUmJTiO0Y65TMii0N85waHKVRycZEJF0p5bzUdhbuNtEApM2e/ZsMe8a26ToKywpZnrGcJQeWsPjAYrtyT4hMYPVtqwFYlLaIs7qcRdfgrm6W1nMwz6mhioZMNI1V8BlKqegmS1YLT1DwYLwTXM2SA0uYtWsWiw8sZl32OipsFXiLNyMiRzA+djzjYseRFJ1ESGCIu0X1aMxzaoCm2+DrwnNyDLsAk2HPuazPXs9X277i5Ykv4yVefLjpQ97f9D6jokbx6NhHGd9jPIndE2nv397dorYozHNqOB31juBFpIC6FbkAgUopp0eAeMoI3tB48kryWHJgCYvSFvGHUX8gLjSO9ze+zx0/3sH2u7fTM6Qnh4oO0c6vHUG+DibmNxgM9dKoEbxSygynDKflaPFRu/18UdoiNuduRqEI8Ang7B5nExcax5UDr+SqQVcR4BMAYGzpBkMzYeKwDWdMXkkeLy5+sYZCD/QJJCkmiRfPfpEJPSaQEJlgTw8Q6BvoZokNhraJUfAGh3h83uN079Cde0bdQ7BvMB9u/pDh4cPtCn1U1Cj8vP3cLabBYKiGUfCGGhSUFpCansrC/QvJL83nrQvfAvREaWFZIQD+Pv4ceviQvSC0wWDwTIyCb+MUlxezLH0ZC9MWsmD/AtYeXEulqsTP249xseOwKRte4sUv1/1SI6jIKHeDwfMxCr6N8u32b/nryr+yMnMl5bZyfLx8GBU1iseTH+fsHmczNnpsDdt5W4wYNRhaOkbBtxE2ZG/g0XmP8u/z/03v0N4UlBVQUlHCA2Me4OyeZ5Mck0w7v3anP5HBYGgxGAXfyrApG1sPbWXB/gUs2L+Aawdfy1WDriLYL5jcwlwOFR2id2hvbhh6AzcMvcHd4hoMBhfiMgUvIgHAEsDfaucrpdRzrmqvLtpCKHdVPvQF+xcwf/98Fu5fyOHiwwD0Ce1jr1zUN6wvm+9qdfnhDAZDA7hyBF8KTFRKFYqIL7BURH5SSq10YZt2WntBBKUUd/54Jz/v/Zn0/HQAotpHMbXPVCb2mMjEnhOJ7uj0dEEGg6EF4TIFr3QOhELrq6+1NEsOm5N5eax69lkqT56058xe9cwzhI8Z06JH8n9d8Ve2HNrCfy/+LyJCdmE2IyNH8ljSY0zqOYm+YX3NZKjBYLDjUhu8iHgD64DewL+UUqvq2Od24HaAmBjnZCBu6QURSitKWZm5knn75pGansov1/2Cv48/+aX5HC4+jFIKEWHmNTPdLarBYPBgXKrglVKVwDAR6QR8KyKDlFJba+3zFvAW6GRjzmi3pRVEsCkbm3I2MW/fPObvn8+SA0soqSjBW7wZFTWKnMIcYjvF8vyE590tqsFgaEE0ixeNUuq4iCwCzgO2nmb3JhMQGsrol176TUEETxu9/3roV15a8hLz98/nSPERAM7qcha3xd/GpF6TGB87no4BHU9zFoPBYKgbV3rRdAHKLeUeCEwGXnNVe7XpMW0a4WPGeJQXTUFpAY/OfZRpfaZxYb8L8fbyJjU9lWl9pjG552Qm9pxIVAfPfMswGAwtD1eO4COA9y07vBfwhVLqRxe29xvcWRChrLKMFRkrmLtvLp0COvHw2IcJ9gvml72/0DesLwD9wvqR+UCmmRg1GAwuwZVeNJuB4a46v6ehlGLb4W3M3TeXufvmsjhtMUXlRXiLN1cMvAIAL/Fi77177QrdKHaDweBKTCRrE/l5z898/uvnzNk7h4MFBwEdYHTj0Bs5J+4cJvSYUMOObpS6wWBoLoyCP0O2H97OB5s+4IWzX8DP24/5++Yzc+dMJvWcxJReUzgn7hxiO8W6W0yDwWCovyarO/C0mqxVZpdf9v7CtD7T6N+5P9/t+I4rv7yS1betZlj4MArLCgn0CTTpcw0Gg1toVE3WtsqR4iPM2zePOXvnMGfvHLIKsgAI8Amgf+f+TO09lbzH8uyZF00GRoPB4Km0eQVvUzZSD6QyZ+8cftn7C+uz16NQhASEMLnXZM6NO5cpcVOI6aijbP19/PHH381SGwwGw+lpkwp+37F9ZJ3IIiU2BaUU07+YTv7JfBKjE3lhwguc2/tcRkSMMGYXg8HQomkTCr6wrJA1WWs4u+fZAPzhpz+w6+gudv9hN95e3vx87c/0DetrokYNBkOrolUqeKUUm3M38/Oen/ll7y8sTV9Kua2cnIdy6NauG69OepUAnwD7/glRCW6U1mAwGFxDq1HwR4uPMnffXLtSzynMAWBItyE8MOYBzu19LiGBIfZ1BoPB0NppFQp+3r55nPPhOfbJ0SlxU5jaeyrnxJ1DZPtId4tnMBgMbqFVKPiRkSN5bvxznNf7PEZGjjSTowaDwUArUfCdAjrx3IRmLfdqMBgMHo+XuwUwGAwGg2swCt5gMBhaKUbBGwwGQyvFKHiDwWBopRgFbzAYDK0Uo+ANBoOhlWIUvMFgMLRSjII3GAyGVopHVXQSkcPAgXo2dwaONKM4Z4KRrXEY2RqHka1xtFbZYpVSXera4FEKviFEZG19ZancjZGtcRjZGoeRrXG0RdmMicZgMBhaKUbBGwwGQyulJSn4t9wtQAMY2RqHka1xGNkaR5uTrcXY4A0Gg8FwZrSkEbzBYDAYzgCj4A0Gg6GV4nEKXkTOE5GdIrJHRB6vY7uIyD+s7ZtFJL6Z5IoWkYUisl1EfhWR++rYZ4KI5IvIRmt5tjlks9pOE5EtVrtr69jurn7rV60/NorICRG5v9Y+zdZvIvJfETkkIlurrQsVkbkistv6G1LPsQ0+my6S7U8issO6Z9+KSKd6jm3w/rtItudFJKvafZtWz7Hu6LfPq8mVJiIb6znW1f1Wp95otmdOKeUxC+AN7AV6AX7AJuCsWvtMA34CBBgDrGom2SKAeOtze2BXHbJNAH50U9+lAZ0b2O6Wfqvj/uagAzPc0m/AOCAe2Fpt3f8Aj1ufHwdeq0f2Bp9NF8l2DuBjfX6tLtkcuf8uku154GEH7nmz91ut7X8GnnVTv9WpN5rrmfO0EfwoYI9Sap9Sqgz4DLi41j4XAx8ozUqgk4hEuFowpVS2Umq99bkA2A5EubpdJ+KWfqvFJGCvUqq+aGWXo5RaAuTVWn0x8L71+X3gkjoOdeTZdLpsSqk5SqkK6+tKoLsz23SUevrNEdzSb1WIiABXAp86s01HaUBvNMsz52kKPgrIqPY9k98qUUf2cSki0gMYDqyqY3OiiGwSkZ9EZGAziqWAOSKyTkRur2O72/sNuJr6/9Hc1W8A3ZRS2aD/IYGudezjCf13C/otrC5Od/9dxT2W+ei/9ZgZ3N1vKUCuUmp3Pdubrd9q6Y1meeY8TcFLHetq+3E6so/LEJF2wNfA/UqpE7U2r0ebH4YCbwDfNZdcQJJSKh6YCtwtIuNqbXd3v/kBFwFf1rHZnf3mKO7uv6eACuDjenY53f13Bf8G4oBhQDbaFFIbt/YbcA0Nj96bpd9OozfqPayOdWfUd56m4DOB6GrfuwMHG7GPSxARX/RN+lgp9U3t7UqpE0qpQuvzbMBXRDo3h2xKqYPW30PAt+jXu+q4rd8spgLrlVK5tTe4s98scqvMVdbfQ3Xs487n7kbgAuBaZRlna+PA/Xc6SqlcpVSlUsoGvF1Pm+7sNx9gOvB5ffs0R7/Vozea5ZnzNAW/BugjIj2tEd/VwMxa+8wEbrC8QsYA+VWvOq7EsuW9A2xXSv2lnn3Crf0QkVHo/j3aDLIFi0j7qs/oibmttXZzS79Vo96RlLv6rRozgRutzzcC39exjyPPptMRkfOAx4CLlFLF9ezjyP13hWzV53AuradNt/SbxWRgh1Iqs66NzdFvDeiN5nnmXDV73IRZ52nomea9wFPWujuBO63PAvzL2r4FGNlMciWjX482AxutZVot2e4BfkXPdq8ExjaTbL2sNjdZ7XtMv1ltB6EVdsdq69zSb+gfmWygHD1CuhUIA+YDu62/oda+kcDshp7NZpBtD9oOW/XMvVlbtvrufzPI9qH1LG1GK54IT+k3a/17Vc9YtX2bu9/q0xvN8syZVAUGg8HQSvE0E43BYDAYnIRR8AaDwdBKMQreYDAYWilGwRsMBkMrxSh4g8FgaKUYBW/wCETkUhFRItK/GdqaICJj69l2k4gcFpENVqa/X6rvKyIvishkV8vYEJ4gg6FlYNwkDR6BiHyBzrw3Xyn1vIvbeh4oVEq9Xse2m9AxAvdY389G+1mfrZTa7kq5DAZnY0bwBrdj5elIQgfPXF1tvZeI/K+VR/tHEZktIpdb20aIyGIrSdQvdWXGFJELRWSVNRqfJyLdrIRPdwIPiM4BntKQbEqpheh6mbdb53yvmgzPisgaEdkqIm9Vi8ZNsBJwrRCdz32rtf4mEflGRH623g7+p5qs14jOS75VRF6z1nlb7W21tj1Qhwx/FJFtVnu/+cEytG2Mgjd4ApcAPyuldgF5cqoYyXSgBzAY+B2QCPbcHm8AlyulRgD/BV6p47xLgTFKqeHoVKuPKqXSgDeBvyqlhimlUh2Qbz1Ql+non0qpBKXUICAQnS8G4F10BGUiUFnrmGHAVdY1XSW6IEQkOtf7RGt7gohcYn2OUkoNUkoNts5rR0RC0SkCBiqlhgAvO3AthjaEUfAGT+AatALG+nuN9TkZ+FIpZVNK5QALrfX9gEHAXNGVep6m7jzp3YFfRGQL8AjQ2DTEdWX1AzjbekPYglbOA0VXXGqvlFpu7fNJrWPmK6XylVIngW1ALJAALFJKHVY69/vH6CIW+4BeIvKGlZOmdhbCE8BJ4P9EZDpQZ64aQ9vFx90CGNo2IhKGVo6DREShq9goEXmU+hWrAL9aI+SGeAP4i1JqpohMQFcgagzD0YUaqssdAPwv2l6fYdn1AxqQuYrSap8r0f+DdR6jlDomIkOBc4G70YUrbqm2vcJKzjYJbdq6B92XBgNgRvAG93M5utJUrFKqh1IqGtiPHr0vBS6zbPHd0KX9AHYCXUTEbrKRuouEdASyrM83VltfgC6fdlpEZDza/v52rU0B1t8j1hzC5aCVMlAgOmMnVJtTaIBVwHgR6Swi3ug3mMWiUyZ7KaW+Bp5Bl6WrLls7dAK32cD9aJOOwWDHjOAN7uYa4I+11n0NzECPWiehU7juQivCfKVUmTXJ+A8R6Yh+jv+GzghYneeBL0UkC52lsqe1/gfgKxG5GPhDHXb4q0QkGZ0Fcz9wWW0PGqXUcRF5G51NMQ2d2rWKW4G3RaQIWATkN9QBSqlsEXkCbYISdDbB763R+7siUjUQe6LWoe2B7623CQEeaKgdQ9vDuEkaPBoRaaeUKrRMOavRFXhy3C1XQ1TJbH1+HJ1G9z43i2Vog5gRvMHT+dGauPQDXvJ05W5xvjUi9wEOADe5VxxDW8WM4A0Gg6GVYiZZDQaDoZViFLzBYDC0UoyCNxgMhlaKUfAGg8HQSjEK3mAwGFop/x8PcTCLOxxkbQAAAABJRU5ErkJggg==\n",
      "text/plain": [
       "<Figure size 432x288 with 1 Axes>"
      ]
     },
     "metadata": {
      "needs_background": "light"
     },
     "output_type": "display_data"
    }
   ],
   "source": [
    "ax1 = diab.plot.scatter(x='age',y='y',c='brown',title=\"Diabetes data with least-squares linear fit\")\n",
    "ax1.set_xlabel(\"Age at Diagnosis\")\n",
    "ax1.set_ylabel(\"Log C-Peptide Concentration\")\n",
    "\n",
    "ax1.plot(predict_df.age, prediction_output['mean'],color=\"green\")\n",
    "ax1.plot(predict_df.age, prediction_output['mean_ci_lower'], color=\"blue\",linestyle=\"dashed\")\n",
    "ax1.plot(predict_df.age, prediction_output['mean_ci_upper'], color=\"blue\",linestyle=\"dashed\")\n",
    "ax1.plot(predict_df.age, prediction_output['obs_ci_lower'], color=\"green\",linestyle=\"dashdot\")\n",
    "ax1.plot(predict_df.age, prediction_output['obs_ci_upper'], color=\"green\",linestyle=\"dashdot\");"
   ]
  },
  {
   "cell_type": "markdown",
   "metadata": {},
   "source": [
    "<div class=\"exercise\"><b>Breakout Room Exercise</b></div>\n",
    "\n",
    "- Fit a 3rd degree polynomial model to predict `y` using only `age` and\n",
    "- Plot the model and its confidence intervals.\n",
    "- Change the degree of your polynomial and see what happens to the fitted curve.\n",
    "- Does our model have an intercept? *Note*: we can discover the existence or not of an intercept in our model by running:\n",
    "```\n",
    "model_name.params\n",
    "```"
   ]
  },
  {
   "cell_type": "code",
   "execution_count": 23,
   "metadata": {},
   "outputs": [
    {
     "data": {
      "text/html": [
       "<div>\n",
       "<style scoped>\n",
       "    .dataframe tbody tr th:only-of-type {\n",
       "        vertical-align: middle;\n",
       "    }\n",
       "\n",
       "    .dataframe tbody tr th {\n",
       "        vertical-align: top;\n",
       "    }\n",
       "\n",
       "    .dataframe thead th {\n",
       "        text-align: right;\n",
       "    }\n",
       "</style>\n",
       "<table border=\"1\" class=\"dataframe\">\n",
       "  <thead>\n",
       "    <tr style=\"text-align: right;\">\n",
       "      <th></th>\n",
       "      <th>mean</th>\n",
       "      <th>mean_se</th>\n",
       "      <th>mean_ci_lower</th>\n",
       "      <th>mean_ci_upper</th>\n",
       "      <th>obs_ci_lower</th>\n",
       "      <th>obs_ci_upper</th>\n",
       "    </tr>\n",
       "  </thead>\n",
       "  <tbody>\n",
       "    <tr>\n",
       "      <th>0</th>\n",
       "      <td>3.057129</td>\n",
       "      <td>0.405478</td>\n",
       "      <td>2.236972</td>\n",
       "      <td>3.877285</td>\n",
       "      <td>1.599098</td>\n",
       "      <td>4.515159</td>\n",
       "    </tr>\n",
       "    <tr>\n",
       "      <th>1</th>\n",
       "      <td>3.173396</td>\n",
       "      <td>0.370403</td>\n",
       "      <td>2.424185</td>\n",
       "      <td>3.922608</td>\n",
       "      <td>1.754061</td>\n",
       "      <td>4.592732</td>\n",
       "    </tr>\n",
       "    <tr>\n",
       "      <th>2</th>\n",
       "      <td>3.285013</td>\n",
       "      <td>0.338413</td>\n",
       "      <td>2.600508</td>\n",
       "      <td>3.969517</td>\n",
       "      <td>1.898743</td>\n",
       "      <td>4.671282</td>\n",
       "    </tr>\n",
       "    <tr>\n",
       "      <th>3</th>\n",
       "      <td>3.392068</td>\n",
       "      <td>0.309541</td>\n",
       "      <td>2.765962</td>\n",
       "      <td>4.018174</td>\n",
       "      <td>2.033685</td>\n",
       "      <td>4.750451</td>\n",
       "    </tr>\n",
       "    <tr>\n",
       "      <th>4</th>\n",
       "      <td>3.494653</td>\n",
       "      <td>0.283823</td>\n",
       "      <td>2.920567</td>\n",
       "      <td>4.068739</td>\n",
       "      <td>2.159449</td>\n",
       "      <td>4.829857</td>\n",
       "    </tr>\n",
       "  </tbody>\n",
       "</table>\n",
       "</div>"
      ],
      "text/plain": [
       "       mean   mean_se  mean_ci_lower  mean_ci_upper  obs_ci_lower  \\\n",
       "0  3.057129  0.405478       2.236972       3.877285      1.599098   \n",
       "1  3.173396  0.370403       2.424185       3.922608      1.754061   \n",
       "2  3.285013  0.338413       2.600508       3.969517      1.898743   \n",
       "3  3.392068  0.309541       2.765962       4.018174      2.033685   \n",
       "4  3.494653  0.283823       2.920567       4.068739      2.159449   \n",
       "\n",
       "   obs_ci_upper  \n",
       "0      4.515159  \n",
       "1      4.592732  \n",
       "2      4.671282  \n",
       "3      4.750451  \n",
       "4      4.829857  "
      ]
     },
     "execution_count": 23,
     "metadata": {},
     "output_type": "execute_result"
    }
   ],
   "source": [
    "# your answer here\n",
    "model1 = smf.ols('y ~ np.vander(age, 4)', data=diab)\n",
    "fit1_lm = model1.fit()\n",
    "x_pred = np.linspace(0.5,20,100)\n",
    "\n",
    "predict_df = pd.DataFrame(data={\"age\":x_pred})\n",
    "prediction_output = fit1_lm.get_prediction(predict_df).summary_frame()\n",
    "prediction_output.head()"
   ]
  },
  {
   "cell_type": "code",
   "execution_count": 26,
   "metadata": {},
   "outputs": [
    {
     "data": {
      "text/plain": [
       "Intercept               1.370241\n",
       "np.vander(age, 4)[0]    0.001976\n",
       "np.vander(age, 4)[1]   -0.064079\n",
       "np.vander(age, 4)[2]    0.664841\n",
       "np.vander(age, 4)[3]    1.370241\n",
       "dtype: float64"
      ]
     },
     "execution_count": 26,
     "metadata": {},
     "output_type": "execute_result"
    }
   ],
   "source": [
    "fit1_lm.params"
   ]
  },
  {
   "cell_type": "code",
   "execution_count": 24,
   "metadata": {},
   "outputs": [
    {
     "data": {
      "image/png": "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\n",
      "text/plain": [
       "<Figure size 432x288 with 1 Axes>"
      ]
     },
     "metadata": {
      "needs_background": "light"
     },
     "output_type": "display_data"
    }
   ],
   "source": [
    "# solution \n",
    "ax1 = diab.plot.scatter(x='age',y='y',c='brown',title=\"Diabetes data with least-squares linear fit\")\n",
    "ax1.set_xlabel(\"Age at Diagnosis\")\n",
    "ax1.set_ylabel(\"Log C-Peptide Concentration\")\n",
    "\n",
    "ax1.plot(predict_df.age, prediction_output['mean'],color=\"green\")\n",
    "ax1.plot(predict_df.age, prediction_output['mean_ci_lower'], color=\"blue\",linestyle=\"dashed\")\n",
    "ax1.plot(predict_df.age, prediction_output['mean_ci_upper'], color=\"blue\",linestyle=\"dashed\")\n",
    "ax1.plot(predict_df.age, prediction_output['obs_ci_lower'], color=\"green\",linestyle=\"dashdot\")\n",
    "ax1.plot(predict_df.age, prediction_output['obs_ci_upper'], color=\"green\",linestyle=\"dashdot\");"
   ]
  },
  {
   "cell_type": "markdown",
   "metadata": {},
   "source": [
    "<div class=\"discussion\"><b>Vandermonde matrix in formulas</b></div>\n",
    "    \n",
    "It's easier to build higher order polynomials using `np.vandrer()`."
   ]
  },
  {
   "cell_type": "code",
   "execution_count": 30,
   "metadata": {},
   "outputs": [
    {
     "data": {
      "text/plain": [
       "0     5.2\n",
       "1     8.8\n",
       "2    10.5\n",
       "3    10.6\n",
       "4    10.4\n",
       "Name: age, dtype: float64"
      ]
     },
     "execution_count": 30,
     "metadata": {},
     "output_type": "execute_result"
    }
   ],
   "source": [
    "diab['age'].head()"
   ]
  },
  {
   "cell_type": "code",
   "execution_count": 32,
   "metadata": {},
   "outputs": [
    {
     "data": {
      "text/plain": [
       "(43, 6)"
      ]
     },
     "execution_count": 32,
     "metadata": {},
     "output_type": "execute_result"
    }
   ],
   "source": [
    "np.vander(diab['age'], 6, increasing=True).shape"
   ]
  },
  {
   "cell_type": "code",
   "execution_count": 27,
   "metadata": {},
   "outputs": [],
   "source": [
    "formula = \"y ~ np.vander(age, 6, increasing=True) -1\" \n",
    "fit3_lm = smf.ols(formula=formula, data=diab).fit()"
   ]
  },
  {
   "cell_type": "code",
   "execution_count": 28,
   "metadata": {
    "scrolled": true
   },
   "outputs": [
    {
     "data": {
      "text/plain": [
       "np.vander(age, 6, increasing=True)[0]    3.147753\n",
       "np.vander(age, 6, increasing=True)[1]    0.130248\n",
       "np.vander(age, 6, increasing=True)[2]    0.136034\n",
       "np.vander(age, 6, increasing=True)[3]   -0.028749\n",
       "np.vander(age, 6, increasing=True)[4]    0.002064\n",
       "np.vander(age, 6, increasing=True)[5]   -0.000050\n",
       "dtype: float64"
      ]
     },
     "execution_count": 28,
     "metadata": {},
     "output_type": "execute_result"
    }
   ],
   "source": [
    "fit3_lm.params"
   ]
  },
  {
   "cell_type": "code",
   "execution_count": 207,
   "metadata": {},
   "outputs": [],
   "source": [
    "## To our point why the Vandermonde matrix is usually ill-conditioned, \n",
    "# find the condition number of this matrix\n",
    "np.linalg.cond(np.vander(predict_df.age, 6, increasing=True))"
   ]
  },
  {
   "cell_type": "code",
   "execution_count": 208,
   "metadata": {},
   "outputs": [],
   "source": [
    "# solution \n",
    "poly_predictions = fit3_lm.get_prediction(predict_df).summary_frame()\n",
    "poly_predictions.head()"
   ]
  },
  {
   "cell_type": "code",
   "execution_count": 209,
   "metadata": {
    "scrolled": true
   },
   "outputs": [],
   "source": [
    "# solution\n",
    "x_pred = np.linspace(0.5,15,100)\n",
    "predict_df = pd.DataFrame(data={\"age\":x_pred})\n",
    "\n",
    "ax2 = diab.plot.scatter(x='age',y='y',c='Red',title=\"Diabetes data with least-squares cubic fit\")\n",
    "ax2.set_xlabel(\"Age at Diagnosis\")\n",
    "ax2.set_ylabel(\"Log C-Peptide Concentration\")\n",
    "\n",
    "ax2.plot(predict_df.age, poly_predictions['mean'],color=\"green\")\n",
    "ax2.plot(predict_df.age, poly_predictions['mean_ci_lower'], color=\"blue\",linestyle=\"dashed\", label='confidence interval')\n",
    "ax2.plot(predict_df.age, poly_predictions['mean_ci_upper'], color=\"blue\",linestyle=\"dashed\");\n",
    "ax2.legend();"
   ]
  },
  {
   "cell_type": "markdown",
   "metadata": {},
   "source": [
    "<div class=\"discussion\"><b>Discussion</b></div>"
   ]
  },
  {
   "cell_type": "markdown",
   "metadata": {},
   "source": [
    "#### QR decomposition (**Beyond the scope of this class**)\n",
    "\n",
    "As you know, to find the parameters of our model, we may try to solve the so-called *normal equations*, which, written in matrix form, are:<BR>\n",
    "\\begin{equation}\n",
    "    (\\boldsymbol{A^T}\\cdot \\boldsymbol{A}) \\cdot \\boldsymbol{b} = \\boldsymbol{A} \\cdot \\boldsymbol{y}\n",
    "\\end{equation}\n",
    "    \n",
    "The direct solution is $\\hat{\\boldsymbol{b}}=(\\boldsymbol{A}^T\\cdot \\boldsymbol{A})^{-1}\\cdot \\boldsymbol{A}^T \\cdot \\boldsymbol{y}$\n",
    "    \n",
    "Solving the least-squares problem directly via the normal equations is susceptible to roundoff error when the condition of the matrix $\\boldsymbol{A}$ is large. An alternative technique involves QR decomposition (details in any good linear algebra book). `statsmodels` lets you use this technique via a parameter in the `.fit`:\n",
    "```\n",
    "   .fit(method='qr') \n",
    "```\n",
    "    \n"
   ]
  },
  {
   "cell_type": "markdown",
   "metadata": {},
   "source": [
    "#### Let's try with QR now"
   ]
  },
  {
   "cell_type": "code",
   "execution_count": 33,
   "metadata": {},
   "outputs": [],
   "source": [
    "formula = \"y ~ np.vander(age, 6, increasing=True) -1\" \n",
    "fit3_lm = smf.ols(formula=formula, data=diab).fit(method='qr')"
   ]
  },
  {
   "cell_type": "code",
   "execution_count": 211,
   "metadata": {
    "scrolled": true
   },
   "outputs": [],
   "source": [
    "fit3_lm.params"
   ]
  },
  {
   "cell_type": "code",
   "execution_count": 34,
   "metadata": {},
   "outputs": [
    {
     "data": {
      "text/html": [
       "<div>\n",
       "<style scoped>\n",
       "    .dataframe tbody tr th:only-of-type {\n",
       "        vertical-align: middle;\n",
       "    }\n",
       "\n",
       "    .dataframe tbody tr th {\n",
       "        vertical-align: top;\n",
       "    }\n",
       "\n",
       "    .dataframe thead th {\n",
       "        text-align: right;\n",
       "    }\n",
       "</style>\n",
       "<table border=\"1\" class=\"dataframe\">\n",
       "  <thead>\n",
       "    <tr style=\"text-align: right;\">\n",
       "      <th></th>\n",
       "      <th>mean</th>\n",
       "      <th>mean_se</th>\n",
       "      <th>mean_ci_lower</th>\n",
       "      <th>mean_ci_upper</th>\n",
       "      <th>obs_ci_lower</th>\n",
       "      <th>obs_ci_upper</th>\n",
       "    </tr>\n",
       "  </thead>\n",
       "  <tbody>\n",
       "    <tr>\n",
       "      <th>0</th>\n",
       "      <td>3.243420</td>\n",
       "      <td>0.734767</td>\n",
       "      <td>1.754641</td>\n",
       "      <td>4.732198</td>\n",
       "      <td>1.308481</td>\n",
       "      <td>5.178358</td>\n",
       "    </tr>\n",
       "    <tr>\n",
       "      <th>1</th>\n",
       "      <td>3.295358</td>\n",
       "      <td>0.568205</td>\n",
       "      <td>2.144066</td>\n",
       "      <td>4.446650</td>\n",
       "      <td>1.606277</td>\n",
       "      <td>4.984440</td>\n",
       "    </tr>\n",
       "    <tr>\n",
       "      <th>2</th>\n",
       "      <td>3.353648</td>\n",
       "      <td>0.438495</td>\n",
       "      <td>2.465173</td>\n",
       "      <td>4.242123</td>\n",
       "      <td>1.831507</td>\n",
       "      <td>4.875789</td>\n",
       "    </tr>\n",
       "    <tr>\n",
       "      <th>3</th>\n",
       "      <td>3.417256</td>\n",
       "      <td>0.347322</td>\n",
       "      <td>2.713515</td>\n",
       "      <td>4.120997</td>\n",
       "      <td>1.995013</td>\n",
       "      <td>4.839499</td>\n",
       "    </tr>\n",
       "    <tr>\n",
       "      <th>4</th>\n",
       "      <td>3.485217</td>\n",
       "      <td>0.295584</td>\n",
       "      <td>2.886306</td>\n",
       "      <td>4.084128</td>\n",
       "      <td>2.111820</td>\n",
       "      <td>4.858614</td>\n",
       "    </tr>\n",
       "  </tbody>\n",
       "</table>\n",
       "</div>"
      ],
      "text/plain": [
       "       mean   mean_se  mean_ci_lower  mean_ci_upper  obs_ci_lower  \\\n",
       "0  3.243420  0.734767       1.754641       4.732198      1.308481   \n",
       "1  3.295358  0.568205       2.144066       4.446650      1.606277   \n",
       "2  3.353648  0.438495       2.465173       4.242123      1.831507   \n",
       "3  3.417256  0.347322       2.713515       4.120997      1.995013   \n",
       "4  3.485217  0.295584       2.886306       4.084128      2.111820   \n",
       "\n",
       "   obs_ci_upper  \n",
       "0      5.178358  \n",
       "1      4.984440  \n",
       "2      4.875789  \n",
       "3      4.839499  \n",
       "4      4.858614  "
      ]
     },
     "execution_count": 34,
     "metadata": {},
     "output_type": "execute_result"
    }
   ],
   "source": [
    "# solution \n",
    "poly_predictions = fit3_lm.get_prediction(predict_df).summary_frame()\n",
    "poly_predictions.head()"
   ]
  },
  {
   "cell_type": "code",
   "execution_count": 35,
   "metadata": {
    "scrolled": true
   },
   "outputs": [
    {
     "data": {
      "image/png": "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\n",
      "text/plain": [
       "<Figure size 432x288 with 1 Axes>"
      ]
     },
     "metadata": {
      "needs_background": "light"
     },
     "output_type": "display_data"
    }
   ],
   "source": [
    "# solution\n",
    "ax2 = diab.plot.scatter(x='age',y='y',c='Red',title=\"Diabetes data with least-squares cubic fit\")\n",
    "ax2.set_xlabel(\"Age at Diagnosis\")\n",
    "ax2.set_ylabel(\"Log C-Peptide Concentration\")\n",
    "\n",
    "ax2.plot(predict_df.age, poly_predictions['mean'],color=\"green\")\n",
    "ax2.plot(predict_df.age, poly_predictions['mean_ci_lower'], color=\"blue\",linestyle=\"dashed\", label='confidence interval')\n",
    "ax2.plot(predict_df.age, poly_predictions['mean_ci_upper'], color=\"blue\",linestyle=\"dashed\");\n",
    "ax2.legend();"
   ]
  }
 ],
 "metadata": {
  "kernelspec": {
   "display_name": "Python 3",
   "language": "python",
   "name": "python3"
  },
  "language_info": {
   "codemirror_mode": {
    "name": "ipython",
    "version": 3
   },
   "file_extension": ".py",
   "mimetype": "text/x-python",
   "name": "python",
   "nbconvert_exporter": "python",
   "pygments_lexer": "ipython3",
   "version": "3.7.8"
  }
 },
 "nbformat": 4,
 "nbformat_minor": 1
=======
    "metadata": {
        "kernelspec": {
            "name": "python3",
            "display_name": "Python 3",
            "language": "python"
        }
    },
    "nbformat": 4,
    "nbformat_minor": 1,
    "cells": [
        {
            "attachments": {},
            "cell_type": "markdown",
            "metadata": {},
            "source": [
                "# \u003cimg style=\"float: left; padding-right: 10px; width: 45px\" src=\"https://raw.githubusercontent.com/Harvard-IACS/2018-CS109A/master/content/styles/iacs.png\"\u003e CS109B Data Science 2: Advanced Topics in Data Science \n",
                "## Lecture 3 - Coding Environment Setup and review of `statsmodels`\n",
                "###  Notebook B\n",
                "\n",
                "**Harvard University**\u003cbr\u003e\n",
                "**Spring 2021**\u003cbr\u003e\n",
                "**Instructors:** Mark Glickman, Pavlos Protopapas, and Chris Tanner\u003cbr\u003e\n",
                "**Additional Instructor:** Eleni Kaxiras\u003cbr\u003e\u003cBR\u003e\n",
                "*Content:* Eleni Kaxiras and Will Claybaugh\n",
                "\n",
                "---"
            ]
        },
        {
            "cell_type": "code",
            "execution_count": 5,
            "metadata": {},
            "outputs": [],
            "source": [
                "## RUN THIS CELL TO PROPERLY HIGHLIGHT THE EXERCISES\n",
                "import requests\n",
                "from IPython.core.display import HTML\n",
                "styles = requests.get(\"https://raw.githubusercontent.com/Harvard-IACS/2019-CS109B/master/content/styles/cs109.css\").text\n",
                "HTML(styles)"
            ]
        },
        {
            "cell_type": "code",
            "execution_count": 9,
            "metadata": {},
            "outputs": [],
            "source": [
                "import numpy as np\n",
                "from scipy.interpolate import interp1d\n",
                "import matplotlib.pyplot as plt\n",
                "import pandas as pd\n",
                "\n",
                "%matplotlib inline "
            ]
        },
        {
            "attachments": {},
            "cell_type": "markdown",
            "metadata": {},
            "source": [
                "## Learning Goals\n",
                "\n",
                "By the end of this lab, you should be able to:\n",
                "* use `np.linalg.vander`\n",
                "* use the weird R-style formulas in `statsmodels`\n",
                "* practice least-squares regression in `statsmodels`"
            ]
        },
        {
            "attachments": {},
            "cell_type": "markdown",
            "metadata": {},
            "source": [
                "### Basis Functions\n",
                "\n",
                "In our models we can use various types of functions as basis functions. Strictly speaking, in linear algebra where a basis for a subspace S of $\\mathbb{R}^n$ is a set of vectors that spans S and is linearly independent. As a reminder, a set of vectors $\\textbf{v}_1, \\textbf{v}_2, ..., \\textbf{v}_k$ are considered linearly independent if they cannot be written as a linear combination of each other, such that, if: $c_1\\textbf{v}_1+c_2\\textbf{v}_2+ ...+ c_k\\textbf{v}_k = \\textbf{0}$ then $c_1,c_2,...,c_k$ are all zero. \u003cBR\u003e\n",
                "    \n",
                "In data science where we have lots of imperfect data (with errors), as well as imperfect computers (with round-off errors), when we substitute their values into the matrices we almost always get column degeneracy, meaning, some of our columns become linear combinations of each other. Especially so if we use the monomial basis and go beyond ~5,6 degree of the polynomial. \u003cBR\u003e\n",
                "\n",
                "Examples are:\n",
                "\n",
                "- Monomials such as $x,x^2,x^4,x^5$ \n",
                "- Sigmoid/ReLU functions (neural networks)\n",
                "- Fourier functions \n",
                "- Wavelets \n",
                "- Splines\n",
                "    \n",
                "The matrix produced when we substitute the values of our data into the basis functions is called the *design matrix*."
            ]
        },
        {
            "attachments": {},
            "cell_type": "markdown",
            "metadata": {},
            "source": [
                "### Linear/Polynomial Regression\n",
                "\n",
                "We will use the `diabetes` dataset.\n",
                "\n",
                "Variables are:\n",
                "- subject:   subject ID number\n",
                "- age:       age diagnosed with diabetes\n",
                "- acidity:   a measure of acidity called base deficit\n",
                "Response:\n",
                "- y:         natural log of serum C-peptide concentration\n",
                "\n",
                "*Original source is Sockett et al. (1987) mentioned in Hastie and Tibshirani's book \n",
                "\"Generalized Additive Models\".*\n",
                "\n",
                "\n",
                ""
            ]
        },
        {
            "attachments": {},
            "cell_type": "markdown",
            "metadata": {},
            "source": [
                "Reading the data in Pandas:"
            ]
        },
        {
            "cell_type": "code",
            "execution_count": 10,
            "metadata": {},
            "outputs": [],
            "source": [
                "diab = pd.read_csv(\"data/diabetes.csv\")\n",
                "diab.head()"
            ]
        },
        {
            "attachments": {},
            "cell_type": "markdown",
            "metadata": {},
            "source": [
                "### Create the design matrix for a fictitious dataset\n",
                "Let's keep just the `age` feature and create some columns of our own. Let's see how good this matrix is before we create the design matrix."
            ]
        },
        {
            "cell_type": "code",
            "execution_count": 11,
            "metadata": {},
            "outputs": [],
            "source": [
                "diab_age = diab[['age']].copy()\n",
                "diab_age['age2'] = diab_age.apply(lambda row: row['age']**2, axis=1)\n",
                "diab_age['random'] = np.random.normal(0,1,len(diab_age)) \n",
                "diab_age['same'] = diab_age['age']\n",
                "diab_age.head()"
            ]
        },
        {
            "cell_type": "code",
            "execution_count": 12,
            "metadata": {},
            "outputs": [],
            "source": [
                "A = diab_age.to_numpy(copy=True)\n",
                "A[:5]"
            ]
        },
        {
            "attachments": {},
            "cell_type": "markdown",
            "metadata": {},
            "source": [
                "Let's check if the columns of A are linearly independent by using some linear algebra methods from `numpy.linalg` and `sympy`. "
            ]
        },
        {
            "cell_type": "code",
            "execution_count": 161,
            "metadata": {},
            "outputs": [],
            "source": [
                "from numpy.linalg import matrix_rank\n",
                "matrix_rank(A)"
            ]
        },
        {
            "cell_type": "code",
            "execution_count": 162,
            "metadata": {},
            "outputs": [],
            "source": [
                "# check out which rows are linearly independent\n",
                "import sympy\n",
                "_, inds = sympy.Matrix(A).T.rref() \n",
                "inds"
            ]
        },
        {
            "cell_type": "code",
            "execution_count": 163,
            "metadata": {},
            "outputs": [],
            "source": [
                "np.linalg.cond(A)"
            ]
        },
        {
            "attachments": {},
            "cell_type": "markdown",
            "metadata": {},
            "source": [
                "### Create the design matrix for `age` using a polynomial basis\n",
                "Let's keep just the `age` feature again and create the design matrix using a polynomial of degree `n`. First we will use the basic `numpy` formula `vander()`."
            ]
        },
        {
            "cell_type": "code",
            "execution_count": 185,
            "metadata": {},
            "outputs": [],
            "source": [
                "vand = np.vander(diab_age.age, 2, increasing=True)\n",
                "vand[:3], vand.shape"
            ]
        },
        {
            "cell_type": "code",
            "execution_count": 186,
            "metadata": {},
            "outputs": [],
            "source": [
                "## To our point why the Vandermonde matrix is usually ill-conditioned, \n",
                "## find the condition number of this matrix\n",
                "np.linalg.cond(vand), matrix_rank(vand)"
            ]
        },
        {
            "attachments": {},
            "cell_type": "markdown",
            "metadata": {},
            "source": [
                "\u003cdiv class=\"exercise\"\u003e\u003cb\u003eExercise\u003c/b\u003e: Vandermonde matrix\u003c/div\u003e\u003cBR\u003e\n",
                "Change the degree of the polynomial and comment on what happens to the condition and rank of the matrix."
            ]
        },
        {
            "cell_type": "code",
            "execution_count": 187,
            "metadata": {},
            "outputs": [],
            "source": [
                "vand = np.vander(diab_age.age, 8, increasing=True)\n",
                "vand[:3], vand.shape"
            ]
        },
        {
            "cell_type": "code",
            "execution_count": 188,
            "metadata": {},
            "outputs": [],
            "source": [
                "## To our point why the Vandermonde matrix is usually ill-conditioned, \n",
                "## find the condition number of this matrix\n",
                "np.linalg.cond(vand), matrix_rank(vand)"
            ]
        },
        {
            "attachments": {},
            "cell_type": "markdown",
            "metadata": {},
            "source": [
                "### Linear/Polynomial regression with statsmodels. \n",
                "\n",
                "As you remember from 109a, we have two tools for Linear Regression:\n",
                "- `statsmodels` [https://www.statsmodels.org/stable/regression.html](https://www.statsmodels.org/stable/regression.html), and \n",
                "- `sklearn`[https://scikit-learn.org/stable/index.html](https://scikit-learn.org/stable/index.html)\n",
                "\n",
                "Previously, in this notebook, we worked from a vector of target values and a design matrix we built ourself. In 109a we used e.g. `sklearn`'s PolynomialFeatures to build the matrix. Now we will look at `statsmodels` which allows users to fit statistical models using R-style **formulas**. They build the target value and design matrix for you. \n",
                "\n",
                "**Note:** Categorical features (e.g. let's say we had a categorical feature called Region, are designated by `C(Region)`), polynomial features (e.g. age) are entered as `np.power(age, n)` where `n` is the degree of the polynomial **OR** `np.vander(age, n, increasing=True)`.\n",
                "\n",
                "```\n",
                "# Example: if our target variable is 'Lottery', while 'Region' is a categorical predictor and all the others are numerical:\n",
                "df = dta.data[['Lottery', 'Literacy', 'Wealth', 'Region']]\n",
                "\n",
                "formula='Lottery ~ Literacy + Wealth + C(Region) + Literacy * Wealth'\n",
                "```\n",
                "\n",
                "For more on these formulas see:\n",
                "\n",
                "- https://www.statsmodels.org/stable/examples/notebooks/generated/formulas.html\n",
                "- https://patsy.readthedocs.io/en/latest/overview.html "
            ]
        },
        {
            "cell_type": "code",
            "execution_count": 191,
            "metadata": {},
            "outputs": [],
            "source": [
                "import statsmodels.formula.api as smf\n",
                "\n",
                "model1 = smf.ols('y ~ age', data=diab)\n",
                "fit1_lm = model1.fit()"
            ]
        },
        {
            "attachments": {},
            "cell_type": "markdown",
            "metadata": {},
            "source": [
                "Let's build a dataframe to predict values on (sometimes this is just the test or validation set). Very useful for making pretty plots of the model predictions - predict for TONS of values, not just whatever's in the training set."
            ]
        },
        {
            "cell_type": "code",
            "execution_count": 194,
            "metadata": {},
            "outputs": [],
            "source": [
                "x_pred = np.linspace(0.5,20,100)\n",
                "\n",
                "predict_df = pd.DataFrame(data={\"age\":x_pred})\n",
                "predict_df.head()"
            ]
        },
        {
            "attachments": {},
            "cell_type": "markdown",
            "metadata": {},
            "source": [
                "Use `get_prediction(\u003cdata\u003e).summary_frame()` to get the model's prediction (and error bars!)"
            ]
        },
        {
            "cell_type": "code",
            "execution_count": 195,
            "metadata": {},
            "outputs": [],
            "source": [
                "prediction_output = fit1_lm.get_prediction(predict_df).summary_frame()\n",
                "prediction_output.head()"
            ]
        },
        {
            "attachments": {},
            "cell_type": "markdown",
            "metadata": {},
            "source": [
                "Plot the data, the fitted model, the **confidence intervals**, and the *prediction intervals*. For more on how `statsmodels` calculates these intervals see: https://www.statsmodels.org/stable/_modules/statsmodels/regression/_prediction.html"
            ]
        },
        {
            "cell_type": "code",
            "execution_count": 196,
            "metadata": {
                "scrolled": true
            },
            "outputs": [],
            "source": [
                "ax1 = diab.plot.scatter(x='age',y='y',c='brown',title=\"Diabetes data with least-squares linear fit\")\n",
                "ax1.set_xlabel(\"Age at Diagnosis\")\n",
                "ax1.set_ylabel(\"Log C-Peptide Concentration\")\n",
                "\n",
                "ax1.plot(predict_df.age, prediction_output['mean'],color=\"green\")\n",
                "ax1.plot(predict_df.age, prediction_output['mean_ci_lower'], color=\"blue\",linestyle=\"dashed\")\n",
                "ax1.plot(predict_df.age, prediction_output['mean_ci_upper'], color=\"blue\",linestyle=\"dashed\")\n",
                "ax1.plot(predict_df.age, prediction_output['obs_ci_lower'], color=\"green\",linestyle=\"dashdot\")\n",
                "ax1.plot(predict_df.age, prediction_output['obs_ci_upper'], color=\"green\",linestyle=\"dashdot\");"
            ]
        },
        {
            "attachments": {},
            "cell_type": "markdown",
            "metadata": {},
            "source": [
                "\u003cdiv class=\"exercise\"\u003e\u003cb\u003eBreakout Room Exercise\u003c/b\u003e\u003c/div\u003e\n",
                "\n",
                "- Fit a 3rd degree polynomial model to predict `y` using only `age` and\n",
                "- Plot the model and its confidence intervals.\n",
                "- Change the degree of your polynomial and see what happens to the fitted curve.\n",
                "- Does our model have an intercept? *Note*: we can discover the existence or not of an intercept in our model by running:\n",
                "```\n",
                "model_name.params\n",
                "```"
            ]
        },
        {
            "cell_type": "code",
            "execution_count": 67,
            "metadata": {},
            "outputs": [],
            "source": [
                "# your answer here\n",
                ""
            ]
        },
        {
            "cell_type": "code",
            "execution_count": 201,
            "metadata": {},
            "outputs": [],
            "source": [
                "# solution \n",
                ""
            ]
        },
        {
            "attachments": {},
            "cell_type": "markdown",
            "metadata": {},
            "source": [
                "\u003cdiv class=\"discussion\"\u003e\u003cb\u003eVandermonde matrix in formulas\u003c/b\u003e\u003c/div\u003e\n",
                "    \n",
                "It's easier to build higher order polynomials using `np.vandrer()`."
            ]
        },
        {
            "cell_type": "code",
            "execution_count": 204,
            "metadata": {},
            "outputs": [],
            "source": [
                "formula = \"y ~ np.vander(age, 6, increasing=True) -1\" \n",
                "fit3_lm = smf.ols(formula=formula, data=diab).fit()"
            ]
        },
        {
            "cell_type": "code",
            "execution_count": 205,
            "metadata": {
                "scrolled": true
            },
            "outputs": [],
            "source": [
                "fit3_lm.params"
            ]
        },
        {
            "cell_type": "code",
            "execution_count": 207,
            "metadata": {},
            "outputs": [],
            "source": [
                "## To our point why the Vandermonde matrix is usually ill-conditioned, \n",
                "# find the condition number of this matrix\n",
                "np.linalg.cond(np.vander(predict_df.age, 6, increasing=True))"
            ]
        },
        {
            "cell_type": "code",
            "execution_count": 208,
            "metadata": {},
            "outputs": [],
            "source": [
                "# solution \n",
                "poly_predictions = fit3_lm.get_prediction(predict_df).summary_frame()\n",
                "poly_predictions.head()"
            ]
        },
        {
            "cell_type": "code",
            "execution_count": 209,
            "metadata": {
                "scrolled": true
            },
            "outputs": [],
            "source": [
                "# solution\n",
                "x_pred = np.linspace(0.5,15,100)\n",
                "predict_df = pd.DataFrame(data={\"age\":x_pred})\n",
                "\n",
                "ax2 = diab.plot.scatter(x='age',y='y',c='Red',title=\"Diabetes data with least-squares cubic fit\")\n",
                "ax2.set_xlabel(\"Age at Diagnosis\")\n",
                "ax2.set_ylabel(\"Log C-Peptide Concentration\")\n",
                "\n",
                "ax2.plot(predict_df.age, poly_predictions['mean'],color=\"green\")\n",
                "ax2.plot(predict_df.age, poly_predictions['mean_ci_lower'], color=\"blue\",linestyle=\"dashed\", label='confidence interval')\n",
                "ax2.plot(predict_df.age, poly_predictions['mean_ci_upper'], color=\"blue\",linestyle=\"dashed\");\n",
                "ax2.legend();"
            ]
        },
        {
            "attachments": {},
            "cell_type": "markdown",
            "metadata": {},
            "source": [
                "\u003cdiv class=\"discussion\"\u003e\u003cb\u003eDiscussion\u003c/b\u003e\u003c/div\u003e"
            ]
        },
        {
            "attachments": {},
            "cell_type": "markdown",
            "metadata": {},
            "source": [
                "#### QR decomposition (**Beyond the scope of this class**)\n",
                "\n",
                "As you know, to find the parameters of our model, we may try to solve the so-called *normal equations*, which, written in matrix form, are:\u003cBR\u003e\n",
                "\\begin{equation}\n",
                "    (\\boldsymbol{A^T}\\cdot \\boldsymbol{A}) \\cdot \\boldsymbol{b} = \\boldsymbol{A} \\cdot \\boldsymbol{y}\n",
                "\\end{equation}\n",
                "    \n",
                "The direct solution is $\\hat{\\boldsymbol{b}}=(\\boldsymbol{A}^T\\cdot \\boldsymbol{A})^{-1}\\cdot \\boldsymbol{A}^T \\cdot \\boldsymbol{y}$\n",
                "    \n",
                "Solving the least-squares problem directly via the normal equations is susceptible to roundoff error when the condition of the matrix $\\boldsymbol{A}$ is large. An alternative technique involves QR decomposition (details in any good linear algebra book). `statsmodels` lets you use this technique via a parameter in the `.fit`:\n",
                "```\n",
                "   .fit(method='qr') \n",
                "```\n",
                "    \n",
                ""
            ]
        },
        {
            "attachments": {},
            "cell_type": "markdown",
            "metadata": {},
            "source": [
                "#### Let's try with QR now"
            ]
        },
        {
            "cell_type": "code",
            "execution_count": 210,
            "metadata": {},
            "outputs": [],
            "source": [
                "formula = \"y ~ np.vander(age, 6, increasing=True) -1\" \n",
                "fit3_lm = smf.ols(formula=formula, data=diab).fit(method='qr')"
            ]
        },
        {
            "cell_type": "code",
            "execution_count": 211,
            "metadata": {
                "scrolled": true
            },
            "outputs": [],
            "source": [
                "fit3_lm.params"
            ]
        },
        {
            "cell_type": "code",
            "execution_count": 212,
            "metadata": {},
            "outputs": [],
            "source": [
                "# solution \n",
                "poly_predictions = fit3_lm.get_prediction(predict_df).summary_frame()\n",
                "poly_predictions.head()"
            ]
        },
        {
            "cell_type": "code",
            "execution_count": 213,
            "metadata": {
                "scrolled": true
            },
            "outputs": [],
            "source": [
                "# solution\n",
                "ax2 = diab.plot.scatter(x='age',y='y',c='Red',title=\"Diabetes data with least-squares cubic fit\")\n",
                "ax2.set_xlabel(\"Age at Diagnosis\")\n",
                "ax2.set_ylabel(\"Log C-Peptide Concentration\")\n",
                "\n",
                "ax2.plot(predict_df.age, poly_predictions['mean'],color=\"green\")\n",
                "ax2.plot(predict_df.age, poly_predictions['mean_ci_lower'], color=\"blue\",linestyle=\"dashed\", label='confidence interval')\n",
                "ax2.plot(predict_df.age, poly_predictions['mean_ci_upper'], color=\"blue\",linestyle=\"dashed\");\n",
                "ax2.legend();"
            ]
        }
    ]
>>>>>>> 5e7ea4a24b37ba59ca79f198f8ff8b416ccbba7e
}
